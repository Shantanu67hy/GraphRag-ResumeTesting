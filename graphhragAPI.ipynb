{
 "cells": [
  {
   "cell_type": "markdown",
   "id": "43a2d8af",
   "metadata": {},
   "source": [
    "# Graph RAG Decoding output files"
   ]
  },
  {
   "cell_type": "code",
   "execution_count": 138,
   "id": "4face3f3",
   "metadata": {},
   "outputs": [],
   "source": [
    "from pathlib import Path\n",
    "from pprint import pprint\n",
    "\n",
    "import pandas as pd\n",
    "\n",
    "import graphrag.api as api\n",
    "from graphrag.config.load_config import load_config\n",
    "from graphrag.index.typing.pipeline_run_result import PipelineRunResult"
   ]
  },
  {
   "cell_type": "code",
   "execution_count": 139,
   "id": "5762b67e",
   "metadata": {},
   "outputs": [],
   "source": [
    "import os\n",
    "PROJECT_DIRECTORY = os.getcwd()\n",
    "\n",
    "\n",
    "\n"
   ]
  },
  {
   "cell_type": "code",
   "execution_count": 140,
   "id": "401b653c",
   "metadata": {},
   "outputs": [
    {
     "data": {
      "text/plain": [
       "False"
      ]
     },
     "execution_count": 140,
     "metadata": {},
     "output_type": "execute_result"
    }
   ],
   "source": [
    "from dotenv import load_dotenv\n",
    "load_dotenv()\n"
   ]
  },
  {
   "cell_type": "code",
   "execution_count": 141,
   "id": "a30d95a5",
   "metadata": {},
   "outputs": [],
   "source": [
    "graphrag_config = load_config(Path(PROJECT_DIRECTORY))"
   ]
  },
  {
   "cell_type": "markdown",
   "id": "e6d847a2",
   "metadata": {},
   "source": [
    "prompt-auto-tune"
   ]
  },
  {
   "cell_type": "code",
   "execution_count": 142,
   "id": "0dd58548",
   "metadata": {},
   "outputs": [
    {
     "name": "stdout",
     "output_type": "stream",
     "text": [
      "2025-08-10 22:11:26.0761 - INFO - graphrag.cli.prompt_tune - Logging enabled at C:\\Users\\shant\\OneDrive\\Desktop\\GraphRAGresume\\logs\\logs.txt\n",
      "2025-08-10 22:11:26.0767 - INFO - graphrag.api.prompt_tune - Chunking documents...\n",
      "2025-08-10 22:11:26.0767 - INFO - graphrag.storage.file_pipeline_storage - Creating file storage at C:\\Users\\shant\\OneDrive\\Desktop\\GraphRAGresume\\input\n",
      "2025-08-10 22:11:26.0767 - INFO - graphrag.index.input.factory - loading input from root_dir=C:\\Users\\shant\\OneDrive\\Desktop\\GraphRAGresume\\input\n",
      "2025-08-10 22:11:26.0767 - INFO - graphrag.index.input.factory - Loading Input InputFileType.text\n",
      "2025-08-10 22:11:26.0767 - INFO - graphrag.storage.file_pipeline_storage - search C:\\Users\\shant\\OneDrive\\Desktop\\GraphRAGresume\\input for files matching .*\\.txt$\n",
      "2025-08-10 22:11:26.0774 - INFO - graphrag.index.input.util - Found 4 InputFileType.text files, loading 4\n",
      "2025-08-10 22:11:26.0774 - INFO - graphrag.index.input.util - Total number of unfiltered InputFileType.text rows: 4\n",
      "2025-08-10 22:11:26.0777 - INFO - graphrag.index.workflows.create_base_text_units - Starting chunking process for 4 documents\n",
      "2025-08-10 22:11:26.0896 - INFO - graphrag.index.workflows.create_base_text_units - chunker progress:  1/4\n",
      "2025-08-10 22:11:26.0896 - INFO - graphrag.index.workflows.create_base_text_units - chunker progress:  2/4\n",
      "2025-08-10 22:11:26.0896 - INFO - graphrag.index.workflows.create_base_text_units - chunker progress:  3/4\n",
      "2025-08-10 22:11:26.0906 - INFO - graphrag.index.workflows.create_base_text_units - chunker progress:  4/4\n",
      "2025-08-10 22:11:26.0907 - INFO - graphrag.api.prompt_tune - Retrieving language model configuration...\n",
      "2025-08-10 22:11:26.0907 - INFO - graphrag.api.prompt_tune - Creating language model...\n",
      "2025-08-10 22:11:27.0153 - INFO - graphrag.api.prompt_tune - Generating persona...\n",
      "2025-08-10 22:11:29.0774 - INFO - graphrag.api.prompt_tune - Generating community report ranking description...\n",
      "2025-08-10 22:11:30.0778 - INFO - graphrag.api.prompt_tune - Generating entity types...\n",
      "2025-08-10 22:11:32.0096 - INFO - graphrag.api.prompt_tune - Generating entity relationship examples...\n",
      "2025-08-10 22:11:46.0371 - INFO - graphrag.api.prompt_tune - Generating entity extraction prompt...\n",
      "2025-08-10 22:11:46.0378 - INFO - graphrag.api.prompt_tune - Generating entity summarization prompt...\n",
      "2025-08-10 22:11:46.0378 - INFO - graphrag.api.prompt_tune - Generating community reporter role...\n",
      "2025-08-10 22:11:48.0774 - INFO - graphrag.api.prompt_tune - Generating community summarization prompt...\n",
      "2025-08-10 22:11:48.0774 - INFO - graphrag.cli.prompt_tune - Writing prompts to C:\\Users\\shant\\OneDrive\\Desktop\\GraphRAGresume\\prompts\n",
      "2025-08-10 22:11:48.0774 - INFO - graphrag.cli.prompt_tune - Prompts written to C:\\Users\\shant\\OneDrive\\Desktop\\GraphRAGresume\\prompts\n"
     ]
    }
   ],
   "source": [
    "!python -m graphrag prompt-tune --root \"C:\\Users\\shant\\OneDrive\\Desktop\\GraphRAGresume\" --config \"C:\\Users\\shant\\OneDrive\\Desktop\\GraphRAGresume\\settings.yaml\" --domain \"Resume\" \\\n",
    "--selection-method random --limit 3 --language English --max-tokens 2450 --chunk-size 600 \\\n",
    "--discover-entity-types --output \"C:\\Users\\shant\\OneDrive\\Desktop\\GraphRAGresume\\prompts\""
   ]
  },
  {
   "cell_type": "markdown",
   "id": "e7fe36f1",
   "metadata": {},
   "source": [
    "indexing-pipeline"
   ]
  },
  {
   "cell_type": "code",
   "execution_count": 143,
   "id": "39086910",
   "metadata": {},
   "outputs": [
    {
     "name": "stdout",
     "output_type": "stream",
     "text": [
      "2025-08-10 22:12:10.0540 - INFO - graphrag.api.index - Initializing indexing pipeline...\n"
     ]
    },
    {
     "name": "stderr",
     "output_type": "stream",
     "text": [
      "INFO:graphrag.api.index:Initializing indexing pipeline...\n"
     ]
    },
    {
     "name": "stdout",
     "output_type": "stream",
     "text": [
      "2025-08-10 22:12:10.0542 - INFO - graphrag.index.workflows.factory - Creating pipeline with workflows: ['load_input_documents', 'create_base_text_units', 'create_final_documents', 'extract_graph', 'finalize_graph', 'extract_covariates', 'create_communities', 'create_final_text_units', 'create_community_reports', 'generate_text_embeddings']\n"
     ]
    },
    {
     "name": "stderr",
     "output_type": "stream",
     "text": [
      "INFO:graphrag.index.workflows.factory:Creating pipeline with workflows: ['load_input_documents', 'create_base_text_units', 'create_final_documents', 'extract_graph', 'finalize_graph', 'extract_covariates', 'create_communities', 'create_final_text_units', 'create_community_reports', 'generate_text_embeddings']\n"
     ]
    },
    {
     "name": "stdout",
     "output_type": "stream",
     "text": [
      "2025-08-10 22:12:10.0543 - INFO - graphrag.storage.file_pipeline_storage - Creating file storage at C:\\Users\\shant\\OneDrive\\Desktop\\GraphRAGresume\\input\n"
     ]
    },
    {
     "name": "stderr",
     "output_type": "stream",
     "text": [
      "INFO:graphrag.storage.file_pipeline_storage:Creating file storage at C:\\Users\\shant\\OneDrive\\Desktop\\GraphRAGresume\\input\n"
     ]
    },
    {
     "name": "stdout",
     "output_type": "stream",
     "text": [
      "2025-08-10 22:12:10.0545 - INFO - graphrag.storage.file_pipeline_storage - Creating file storage at C:\\Users\\shant\\OneDrive\\Desktop\\GraphRAGresume\\output\n"
     ]
    },
    {
     "name": "stderr",
     "output_type": "stream",
     "text": [
      "INFO:graphrag.storage.file_pipeline_storage:Creating file storage at C:\\Users\\shant\\OneDrive\\Desktop\\GraphRAGresume\\output\n"
     ]
    },
    {
     "name": "stdout",
     "output_type": "stream",
     "text": [
      "2025-08-10 22:12:10.0554 - INFO - graphrag.index.run.run_pipeline - Running standard indexing.\n"
     ]
    },
    {
     "name": "stderr",
     "output_type": "stream",
     "text": [
      "INFO:graphrag.index.run.run_pipeline:Running standard indexing.\n"
     ]
    },
    {
     "name": "stdout",
     "output_type": "stream",
     "text": [
      "2025-08-10 22:12:10.0558 - INFO - graphrag.index.run.run_pipeline - Executing pipeline...\n"
     ]
    },
    {
     "name": "stderr",
     "output_type": "stream",
     "text": [
      "INFO:graphrag.index.run.run_pipeline:Executing pipeline...\n"
     ]
    },
    {
     "name": "stdout",
     "output_type": "stream",
     "text": [
      "2025-08-10 22:12:10.0560 - INFO - graphrag.index.input.factory - loading input from root_dir=C:\\Users\\shant\\OneDrive\\Desktop\\GraphRAGresume\\input\n"
     ]
    },
    {
     "name": "stderr",
     "output_type": "stream",
     "text": [
      "INFO:graphrag.index.input.factory:loading input from root_dir=C:\\Users\\shant\\OneDrive\\Desktop\\GraphRAGresume\\input\n"
     ]
    },
    {
     "name": "stdout",
     "output_type": "stream",
     "text": [
      "2025-08-10 22:12:10.0561 - INFO - graphrag.index.input.factory - Loading Input InputFileType.text\n"
     ]
    },
    {
     "name": "stderr",
     "output_type": "stream",
     "text": [
      "INFO:graphrag.index.input.factory:Loading Input InputFileType.text\n"
     ]
    },
    {
     "name": "stdout",
     "output_type": "stream",
     "text": [
      "2025-08-10 22:12:10.0561 - INFO - graphrag.storage.file_pipeline_storage - search C:\\Users\\shant\\OneDrive\\Desktop\\GraphRAGresume\\input for files matching .*\\.txt$\n"
     ]
    },
    {
     "name": "stderr",
     "output_type": "stream",
     "text": [
      "INFO:graphrag.storage.file_pipeline_storage:search C:\\Users\\shant\\OneDrive\\Desktop\\GraphRAGresume\\input for files matching .*\\.txt$\n"
     ]
    },
    {
     "name": "stdout",
     "output_type": "stream",
     "text": [
      "2025-08-10 22:12:10.0573 - INFO - graphrag.index.input.util - Found 4 InputFileType.text files, loading 4\n"
     ]
    },
    {
     "name": "stderr",
     "output_type": "stream",
     "text": [
      "INFO:graphrag.index.input.util:Found 4 InputFileType.text files, loading 4\n"
     ]
    },
    {
     "name": "stdout",
     "output_type": "stream",
     "text": [
      "2025-08-10 22:12:10.0575 - INFO - graphrag.index.input.util - Total number of unfiltered InputFileType.text rows: 4\n"
     ]
    },
    {
     "name": "stderr",
     "output_type": "stream",
     "text": [
      "INFO:graphrag.index.input.util:Total number of unfiltered InputFileType.text rows: 4\n"
     ]
    },
    {
     "name": "stdout",
     "output_type": "stream",
     "text": [
      "2025-08-10 22:12:10.0576 - INFO - graphrag.index.workflows.load_input_documents - Final # of rows loaded: 4\n"
     ]
    },
    {
     "name": "stderr",
     "output_type": "stream",
     "text": [
      "INFO:graphrag.index.workflows.load_input_documents:Final # of rows loaded: 4\n"
     ]
    },
    {
     "name": "stdout",
     "output_type": "stream",
     "text": [
      "2025-08-10 22:12:10.0580 - INFO - graphrag.api.index - Workflow load_input_documents completed successfully\n"
     ]
    },
    {
     "name": "stderr",
     "output_type": "stream",
     "text": [
      "INFO:graphrag.api.index:Workflow load_input_documents completed successfully\n"
     ]
    },
    {
     "name": "stdout",
     "output_type": "stream",
     "text": [
      "2025-08-10 22:12:10.0582 - INFO - graphrag.index.workflows.create_base_text_units - Workflow started: create_base_text_units\n"
     ]
    },
    {
     "name": "stderr",
     "output_type": "stream",
     "text": [
      "INFO:graphrag.index.workflows.create_base_text_units:Workflow started: create_base_text_units\n"
     ]
    },
    {
     "name": "stdout",
     "output_type": "stream",
     "text": [
      "2025-08-10 22:12:10.0584 - INFO - graphrag.utils.storage - reading table from storage: documents.parquet\n"
     ]
    },
    {
     "name": "stderr",
     "output_type": "stream",
     "text": [
      "INFO:graphrag.utils.storage:reading table from storage: documents.parquet\n"
     ]
    },
    {
     "name": "stdout",
     "output_type": "stream",
     "text": [
      "2025-08-10 22:12:10.0609 - INFO - graphrag.index.workflows.create_base_text_units - Starting chunking process for 4 documents\n"
     ]
    },
    {
     "name": "stderr",
     "output_type": "stream",
     "text": [
      "INFO:graphrag.index.workflows.create_base_text_units:Starting chunking process for 4 documents\n"
     ]
    },
    {
     "name": "stdout",
     "output_type": "stream",
     "text": [
      "2025-08-10 22:12:10.0632 - INFO - graphrag.index.workflows.create_base_text_units - chunker progress:  1/4\n"
     ]
    },
    {
     "name": "stderr",
     "output_type": "stream",
     "text": [
      "INFO:graphrag.index.workflows.create_base_text_units:chunker progress:  1/4\n"
     ]
    },
    {
     "name": "stdout",
     "output_type": "stream",
     "text": [
      "2025-08-10 22:12:10.0649 - INFO - graphrag.index.workflows.create_base_text_units - chunker progress:  2/4\n"
     ]
    },
    {
     "name": "stderr",
     "output_type": "stream",
     "text": [
      "INFO:graphrag.index.workflows.create_base_text_units:chunker progress:  2/4\n"
     ]
    },
    {
     "name": "stdout",
     "output_type": "stream",
     "text": [
      "2025-08-10 22:12:10.0655 - INFO - graphrag.index.workflows.create_base_text_units - chunker progress:  3/4\n"
     ]
    },
    {
     "name": "stderr",
     "output_type": "stream",
     "text": [
      "INFO:graphrag.index.workflows.create_base_text_units:chunker progress:  3/4\n"
     ]
    },
    {
     "name": "stdout",
     "output_type": "stream",
     "text": [
      "2025-08-10 22:12:10.0661 - INFO - graphrag.index.workflows.create_base_text_units - chunker progress:  4/4\n"
     ]
    },
    {
     "name": "stderr",
     "output_type": "stream",
     "text": [
      "INFO:graphrag.index.workflows.create_base_text_units:chunker progress:  4/4\n"
     ]
    },
    {
     "name": "stdout",
     "output_type": "stream",
     "text": [
      "2025-08-10 22:12:10.0673 - INFO - graphrag.index.workflows.create_base_text_units - Workflow completed: create_base_text_units\n"
     ]
    },
    {
     "name": "stderr",
     "output_type": "stream",
     "text": [
      "INFO:graphrag.index.workflows.create_base_text_units:Workflow completed: create_base_text_units\n"
     ]
    },
    {
     "name": "stdout",
     "output_type": "stream",
     "text": [
      "2025-08-10 22:12:10.0675 - INFO - graphrag.api.index - Workflow create_base_text_units completed successfully\n"
     ]
    },
    {
     "name": "stderr",
     "output_type": "stream",
     "text": [
      "INFO:graphrag.api.index:Workflow create_base_text_units completed successfully\n"
     ]
    },
    {
     "name": "stdout",
     "output_type": "stream",
     "text": [
      "2025-08-10 22:12:10.0680 - INFO - graphrag.index.workflows.create_final_documents - Workflow started: create_final_documents\n"
     ]
    },
    {
     "name": "stderr",
     "output_type": "stream",
     "text": [
      "INFO:graphrag.index.workflows.create_final_documents:Workflow started: create_final_documents\n"
     ]
    },
    {
     "name": "stdout",
     "output_type": "stream",
     "text": [
      "2025-08-10 22:12:10.0682 - INFO - graphrag.utils.storage - reading table from storage: documents.parquet\n"
     ]
    },
    {
     "name": "stderr",
     "output_type": "stream",
     "text": [
      "INFO:graphrag.utils.storage:reading table from storage: documents.parquet\n"
     ]
    },
    {
     "name": "stdout",
     "output_type": "stream",
     "text": [
      "2025-08-10 22:12:10.0696 - INFO - graphrag.utils.storage - reading table from storage: text_units.parquet\n"
     ]
    },
    {
     "name": "stderr",
     "output_type": "stream",
     "text": [
      "INFO:graphrag.utils.storage:reading table from storage: text_units.parquet\n"
     ]
    },
    {
     "name": "stdout",
     "output_type": "stream",
     "text": [
      "2025-08-10 22:12:10.0738 - INFO - graphrag.index.workflows.create_final_documents - Workflow completed: create_final_documents\n"
     ]
    },
    {
     "name": "stderr",
     "output_type": "stream",
     "text": [
      "INFO:graphrag.index.workflows.create_final_documents:Workflow completed: create_final_documents\n"
     ]
    },
    {
     "name": "stdout",
     "output_type": "stream",
     "text": [
      "2025-08-10 22:12:10.0738 - INFO - graphrag.api.index - Workflow create_final_documents completed successfully\n"
     ]
    },
    {
     "name": "stderr",
     "output_type": "stream",
     "text": [
      "INFO:graphrag.api.index:Workflow create_final_documents completed successfully\n"
     ]
    },
    {
     "name": "stdout",
     "output_type": "stream",
     "text": [
      "2025-08-10 22:12:10.0743 - INFO - graphrag.index.workflows.extract_graph - Workflow started: extract_graph\n"
     ]
    },
    {
     "name": "stderr",
     "output_type": "stream",
     "text": [
      "INFO:graphrag.index.workflows.extract_graph:Workflow started: extract_graph\n"
     ]
    },
    {
     "name": "stdout",
     "output_type": "stream",
     "text": [
      "2025-08-10 22:12:10.0743 - INFO - graphrag.utils.storage - reading table from storage: text_units.parquet\n"
     ]
    },
    {
     "name": "stderr",
     "output_type": "stream",
     "text": [
      "INFO:graphrag.utils.storage:reading table from storage: text_units.parquet\n"
     ]
    },
    {
     "name": "stdout",
     "output_type": "stream",
     "text": [
      "2025-08-10 22:12:21.0341 - INFO - graphrag.logger.progress - extract graph progress: 1/10\n"
     ]
    },
    {
     "name": "stderr",
     "output_type": "stream",
     "text": [
      "INFO:graphrag.logger.progress:extract graph progress: 1/10\n"
     ]
    },
    {
     "name": "stdout",
     "output_type": "stream",
     "text": [
      "2025-08-10 22:12:22.0375 - INFO - graphrag.logger.progress - extract graph progress: 2/10\n"
     ]
    },
    {
     "name": "stderr",
     "output_type": "stream",
     "text": [
      "INFO:graphrag.logger.progress:extract graph progress: 2/10\n"
     ]
    },
    {
     "name": "stdout",
     "output_type": "stream",
     "text": [
      "2025-08-10 22:12:23.0317 - INFO - graphrag.logger.progress - extract graph progress: 3/10\n"
     ]
    },
    {
     "name": "stderr",
     "output_type": "stream",
     "text": [
      "INFO:graphrag.logger.progress:extract graph progress: 3/10\n"
     ]
    },
    {
     "name": "stdout",
     "output_type": "stream",
     "text": [
      "2025-08-10 22:12:23.0388 - INFO - graphrag.logger.progress - extract graph progress: 4/10\n"
     ]
    },
    {
     "name": "stderr",
     "output_type": "stream",
     "text": [
      "INFO:graphrag.logger.progress:extract graph progress: 4/10\n"
     ]
    },
    {
     "name": "stdout",
     "output_type": "stream",
     "text": [
      "2025-08-10 22:12:24.0654 - INFO - graphrag.logger.progress - extract graph progress: 5/10\n"
     ]
    },
    {
     "name": "stderr",
     "output_type": "stream",
     "text": [
      "INFO:graphrag.logger.progress:extract graph progress: 5/10\n"
     ]
    },
    {
     "name": "stdout",
     "output_type": "stream",
     "text": [
      "2025-08-10 22:12:25.0335 - INFO - graphrag.logger.progress - extract graph progress: 6/10\n"
     ]
    },
    {
     "name": "stderr",
     "output_type": "stream",
     "text": [
      "INFO:graphrag.logger.progress:extract graph progress: 6/10\n"
     ]
    },
    {
     "name": "stdout",
     "output_type": "stream",
     "text": [
      "2025-08-10 22:12:25.0450 - INFO - graphrag.logger.progress - extract graph progress: 7/10\n"
     ]
    },
    {
     "name": "stderr",
     "output_type": "stream",
     "text": [
      "INFO:graphrag.logger.progress:extract graph progress: 7/10\n"
     ]
    },
    {
     "name": "stdout",
     "output_type": "stream",
     "text": [
      "2025-08-10 22:12:29.0383 - INFO - graphrag.logger.progress - extract graph progress: 8/10\n"
     ]
    },
    {
     "name": "stderr",
     "output_type": "stream",
     "text": [
      "INFO:graphrag.logger.progress:extract graph progress: 8/10\n"
     ]
    },
    {
     "name": "stdout",
     "output_type": "stream",
     "text": [
      "2025-08-10 22:12:32.0199 - INFO - graphrag.logger.progress - extract graph progress: 9/10\n"
     ]
    },
    {
     "name": "stderr",
     "output_type": "stream",
     "text": [
      "INFO:graphrag.logger.progress:extract graph progress: 9/10\n"
     ]
    },
    {
     "name": "stdout",
     "output_type": "stream",
     "text": [
      "2025-08-10 22:12:37.0153 - INFO - graphrag.logger.progress - extract graph progress: 10/10\n"
     ]
    },
    {
     "name": "stderr",
     "output_type": "stream",
     "text": [
      "INFO:graphrag.logger.progress:extract graph progress: 10/10\n"
     ]
    },
    {
     "name": "stdout",
     "output_type": "stream",
     "text": [
      "2025-08-10 22:12:37.0181 - INFO - graphrag.logger.progress - Summarize entity/relationship description progress: 1/362\n"
     ]
    },
    {
     "name": "stderr",
     "output_type": "stream",
     "text": [
      "INFO:graphrag.logger.progress:Summarize entity/relationship description progress: 1/362\n"
     ]
    },
    {
     "name": "stdout",
     "output_type": "stream",
     "text": [
      "2025-08-10 22:12:37.0186 - INFO - graphrag.logger.progress - Summarize entity/relationship description progress: 2/362\n"
     ]
    },
    {
     "name": "stderr",
     "output_type": "stream",
     "text": [
      "INFO:graphrag.logger.progress:Summarize entity/relationship description progress: 2/362\n"
     ]
    },
    {
     "name": "stdout",
     "output_type": "stream",
     "text": [
      "2025-08-10 22:12:37.0189 - INFO - graphrag.logger.progress - Summarize entity/relationship description progress: 3/362\n"
     ]
    },
    {
     "name": "stderr",
     "output_type": "stream",
     "text": [
      "INFO:graphrag.logger.progress:Summarize entity/relationship description progress: 3/362\n"
     ]
    },
    {
     "name": "stdout",
     "output_type": "stream",
     "text": [
      "2025-08-10 22:12:37.0190 - INFO - graphrag.logger.progress - Summarize entity/relationship description progress: 4/362\n"
     ]
    },
    {
     "name": "stderr",
     "output_type": "stream",
     "text": [
      "INFO:graphrag.logger.progress:Summarize entity/relationship description progress: 4/362\n"
     ]
    },
    {
     "name": "stdout",
     "output_type": "stream",
     "text": [
      "2025-08-10 22:12:37.0190 - INFO - graphrag.logger.progress - Summarize entity/relationship description progress: 5/362\n"
     ]
    },
    {
     "name": "stderr",
     "output_type": "stream",
     "text": [
      "INFO:graphrag.logger.progress:Summarize entity/relationship description progress: 5/362\n"
     ]
    },
    {
     "name": "stdout",
     "output_type": "stream",
     "text": [
      "2025-08-10 22:12:37.0190 - INFO - graphrag.logger.progress - Summarize entity/relationship description progress: 6/362\n"
     ]
    },
    {
     "name": "stderr",
     "output_type": "stream",
     "text": [
      "INFO:graphrag.logger.progress:Summarize entity/relationship description progress: 6/362\n"
     ]
    },
    {
     "name": "stdout",
     "output_type": "stream",
     "text": [
      "2025-08-10 22:12:37.0190 - INFO - graphrag.logger.progress - Summarize entity/relationship description progress: 7/362\n"
     ]
    },
    {
     "name": "stderr",
     "output_type": "stream",
     "text": [
      "INFO:graphrag.logger.progress:Summarize entity/relationship description progress: 7/362\n"
     ]
    },
    {
     "name": "stdout",
     "output_type": "stream",
     "text": [
      "2025-08-10 22:12:37.0190 - INFO - graphrag.logger.progress - Summarize entity/relationship description progress: 8/362\n"
     ]
    },
    {
     "name": "stderr",
     "output_type": "stream",
     "text": [
      "INFO:graphrag.logger.progress:Summarize entity/relationship description progress: 8/362\n"
     ]
    },
    {
     "name": "stdout",
     "output_type": "stream",
     "text": [
      "2025-08-10 22:12:37.0199 - INFO - graphrag.logger.progress - Summarize entity/relationship description progress: 9/362\n"
     ]
    },
    {
     "name": "stderr",
     "output_type": "stream",
     "text": [
      "INFO:graphrag.logger.progress:Summarize entity/relationship description progress: 9/362\n"
     ]
    },
    {
     "name": "stdout",
     "output_type": "stream",
     "text": [
      "2025-08-10 22:12:37.0200 - INFO - graphrag.logger.progress - Summarize entity/relationship description progress: 10/362\n"
     ]
    },
    {
     "name": "stderr",
     "output_type": "stream",
     "text": [
      "INFO:graphrag.logger.progress:Summarize entity/relationship description progress: 10/362\n"
     ]
    },
    {
     "name": "stdout",
     "output_type": "stream",
     "text": [
      "2025-08-10 22:12:37.0202 - INFO - graphrag.logger.progress - Summarize entity/relationship description progress: 11/362\n"
     ]
    },
    {
     "name": "stderr",
     "output_type": "stream",
     "text": [
      "INFO:graphrag.logger.progress:Summarize entity/relationship description progress: 11/362\n"
     ]
    },
    {
     "name": "stdout",
     "output_type": "stream",
     "text": [
      "2025-08-10 22:12:37.0205 - INFO - graphrag.logger.progress - Summarize entity/relationship description progress: 12/362\n"
     ]
    },
    {
     "name": "stderr",
     "output_type": "stream",
     "text": [
      "INFO:graphrag.logger.progress:Summarize entity/relationship description progress: 12/362\n"
     ]
    },
    {
     "name": "stdout",
     "output_type": "stream",
     "text": [
      "2025-08-10 22:12:37.0205 - INFO - graphrag.logger.progress - Summarize entity/relationship description progress: 13/362\n"
     ]
    },
    {
     "name": "stderr",
     "output_type": "stream",
     "text": [
      "INFO:graphrag.logger.progress:Summarize entity/relationship description progress: 13/362\n"
     ]
    },
    {
     "name": "stdout",
     "output_type": "stream",
     "text": [
      "2025-08-10 22:12:37.0205 - INFO - graphrag.logger.progress - Summarize entity/relationship description progress: 14/362\n"
     ]
    },
    {
     "name": "stderr",
     "output_type": "stream",
     "text": [
      "INFO:graphrag.logger.progress:Summarize entity/relationship description progress: 14/362\n"
     ]
    },
    {
     "name": "stdout",
     "output_type": "stream",
     "text": [
      "2025-08-10 22:12:37.0205 - INFO - graphrag.logger.progress - Summarize entity/relationship description progress: 15/362\n"
     ]
    },
    {
     "name": "stderr",
     "output_type": "stream",
     "text": [
      "INFO:graphrag.logger.progress:Summarize entity/relationship description progress: 15/362\n"
     ]
    },
    {
     "name": "stdout",
     "output_type": "stream",
     "text": [
      "2025-08-10 22:12:37.0205 - INFO - graphrag.logger.progress - Summarize entity/relationship description progress: 16/362\n"
     ]
    },
    {
     "name": "stderr",
     "output_type": "stream",
     "text": [
      "INFO:graphrag.logger.progress:Summarize entity/relationship description progress: 16/362\n"
     ]
    },
    {
     "name": "stdout",
     "output_type": "stream",
     "text": [
      "2025-08-10 22:12:37.0205 - INFO - graphrag.logger.progress - Summarize entity/relationship description progress: 17/362\n"
     ]
    },
    {
     "name": "stderr",
     "output_type": "stream",
     "text": [
      "INFO:graphrag.logger.progress:Summarize entity/relationship description progress: 17/362\n"
     ]
    },
    {
     "name": "stdout",
     "output_type": "stream",
     "text": [
      "2025-08-10 22:12:37.0216 - INFO - graphrag.logger.progress - Summarize entity/relationship description progress: 18/362\n"
     ]
    },
    {
     "name": "stderr",
     "output_type": "stream",
     "text": [
      "INFO:graphrag.logger.progress:Summarize entity/relationship description progress: 18/362\n"
     ]
    },
    {
     "name": "stdout",
     "output_type": "stream",
     "text": [
      "2025-08-10 22:12:37.0217 - INFO - graphrag.logger.progress - Summarize entity/relationship description progress: 19/362\n"
     ]
    },
    {
     "name": "stderr",
     "output_type": "stream",
     "text": [
      "INFO:graphrag.logger.progress:Summarize entity/relationship description progress: 19/362\n"
     ]
    },
    {
     "name": "stdout",
     "output_type": "stream",
     "text": [
      "2025-08-10 22:12:37.0219 - INFO - graphrag.logger.progress - Summarize entity/relationship description progress: 20/362\n"
     ]
    },
    {
     "name": "stderr",
     "output_type": "stream",
     "text": [
      "INFO:graphrag.logger.progress:Summarize entity/relationship description progress: 20/362\n"
     ]
    },
    {
     "name": "stdout",
     "output_type": "stream",
     "text": [
      "2025-08-10 22:12:37.0220 - INFO - graphrag.logger.progress - Summarize entity/relationship description progress: 21/362\n"
     ]
    },
    {
     "name": "stderr",
     "output_type": "stream",
     "text": [
      "INFO:graphrag.logger.progress:Summarize entity/relationship description progress: 21/362\n"
     ]
    },
    {
     "name": "stdout",
     "output_type": "stream",
     "text": [
      "2025-08-10 22:12:37.0221 - INFO - graphrag.logger.progress - Summarize entity/relationship description progress: 22/362\n"
     ]
    },
    {
     "name": "stderr",
     "output_type": "stream",
     "text": [
      "INFO:graphrag.logger.progress:Summarize entity/relationship description progress: 22/362\n"
     ]
    },
    {
     "name": "stdout",
     "output_type": "stream",
     "text": [
      "2025-08-10 22:12:37.0223 - INFO - graphrag.logger.progress - Summarize entity/relationship description progress: 23/362\n"
     ]
    },
    {
     "name": "stderr",
     "output_type": "stream",
     "text": [
      "INFO:graphrag.logger.progress:Summarize entity/relationship description progress: 23/362\n"
     ]
    },
    {
     "name": "stdout",
     "output_type": "stream",
     "text": [
      "2025-08-10 22:12:37.0225 - INFO - graphrag.logger.progress - Summarize entity/relationship description progress: 24/362\n"
     ]
    },
    {
     "name": "stderr",
     "output_type": "stream",
     "text": [
      "INFO:graphrag.logger.progress:Summarize entity/relationship description progress: 24/362\n"
     ]
    },
    {
     "name": "stdout",
     "output_type": "stream",
     "text": [
      "2025-08-10 22:12:37.0226 - INFO - graphrag.logger.progress - Summarize entity/relationship description progress: 25/362\n"
     ]
    },
    {
     "name": "stderr",
     "output_type": "stream",
     "text": [
      "INFO:graphrag.logger.progress:Summarize entity/relationship description progress: 25/362\n"
     ]
    },
    {
     "name": "stdout",
     "output_type": "stream",
     "text": [
      "2025-08-10 22:12:37.0227 - INFO - graphrag.logger.progress - Summarize entity/relationship description progress: 26/362\n"
     ]
    },
    {
     "name": "stderr",
     "output_type": "stream",
     "text": [
      "INFO:graphrag.logger.progress:Summarize entity/relationship description progress: 26/362\n"
     ]
    },
    {
     "name": "stdout",
     "output_type": "stream",
     "text": [
      "2025-08-10 22:12:37.0227 - INFO - graphrag.logger.progress - Summarize entity/relationship description progress: 27/362\n"
     ]
    },
    {
     "name": "stderr",
     "output_type": "stream",
     "text": [
      "INFO:graphrag.logger.progress:Summarize entity/relationship description progress: 27/362\n"
     ]
    },
    {
     "name": "stdout",
     "output_type": "stream",
     "text": [
      "2025-08-10 22:12:37.0232 - INFO - graphrag.logger.progress - Summarize entity/relationship description progress: 28/362\n"
     ]
    },
    {
     "name": "stderr",
     "output_type": "stream",
     "text": [
      "INFO:graphrag.logger.progress:Summarize entity/relationship description progress: 28/362\n"
     ]
    },
    {
     "name": "stdout",
     "output_type": "stream",
     "text": [
      "2025-08-10 22:12:37.0233 - INFO - graphrag.logger.progress - Summarize entity/relationship description progress: 29/362\n"
     ]
    },
    {
     "name": "stderr",
     "output_type": "stream",
     "text": [
      "INFO:graphrag.logger.progress:Summarize entity/relationship description progress: 29/362\n"
     ]
    },
    {
     "name": "stdout",
     "output_type": "stream",
     "text": [
      "2025-08-10 22:12:37.0234 - INFO - graphrag.logger.progress - Summarize entity/relationship description progress: 30/362\n"
     ]
    },
    {
     "name": "stderr",
     "output_type": "stream",
     "text": [
      "INFO:graphrag.logger.progress:Summarize entity/relationship description progress: 30/362\n"
     ]
    },
    {
     "name": "stdout",
     "output_type": "stream",
     "text": [
      "2025-08-10 22:12:37.0238 - INFO - graphrag.logger.progress - Summarize entity/relationship description progress: 31/362\n"
     ]
    },
    {
     "name": "stderr",
     "output_type": "stream",
     "text": [
      "INFO:graphrag.logger.progress:Summarize entity/relationship description progress: 31/362\n"
     ]
    },
    {
     "name": "stdout",
     "output_type": "stream",
     "text": [
      "2025-08-10 22:12:37.0240 - INFO - graphrag.logger.progress - Summarize entity/relationship description progress: 32/362\n"
     ]
    },
    {
     "name": "stderr",
     "output_type": "stream",
     "text": [
      "INFO:graphrag.logger.progress:Summarize entity/relationship description progress: 32/362\n"
     ]
    },
    {
     "name": "stdout",
     "output_type": "stream",
     "text": [
      "2025-08-10 22:12:37.0241 - INFO - graphrag.logger.progress - Summarize entity/relationship description progress: 33/362\n"
     ]
    },
    {
     "name": "stderr",
     "output_type": "stream",
     "text": [
      "INFO:graphrag.logger.progress:Summarize entity/relationship description progress: 33/362\n"
     ]
    },
    {
     "name": "stdout",
     "output_type": "stream",
     "text": [
      "2025-08-10 22:12:37.0243 - INFO - graphrag.logger.progress - Summarize entity/relationship description progress: 34/362\n"
     ]
    },
    {
     "name": "stderr",
     "output_type": "stream",
     "text": [
      "INFO:graphrag.logger.progress:Summarize entity/relationship description progress: 34/362\n"
     ]
    },
    {
     "name": "stdout",
     "output_type": "stream",
     "text": [
      "2025-08-10 22:12:37.0245 - INFO - graphrag.logger.progress - Summarize entity/relationship description progress: 35/362\n"
     ]
    },
    {
     "name": "stderr",
     "output_type": "stream",
     "text": [
      "INFO:graphrag.logger.progress:Summarize entity/relationship description progress: 35/362\n"
     ]
    },
    {
     "name": "stdout",
     "output_type": "stream",
     "text": [
      "2025-08-10 22:12:37.0246 - INFO - graphrag.logger.progress - Summarize entity/relationship description progress: 36/362\n"
     ]
    },
    {
     "name": "stderr",
     "output_type": "stream",
     "text": [
      "INFO:graphrag.logger.progress:Summarize entity/relationship description progress: 36/362\n"
     ]
    },
    {
     "name": "stdout",
     "output_type": "stream",
     "text": [
      "2025-08-10 22:12:37.0248 - INFO - graphrag.logger.progress - Summarize entity/relationship description progress: 37/362\n"
     ]
    },
    {
     "name": "stderr",
     "output_type": "stream",
     "text": [
      "INFO:graphrag.logger.progress:Summarize entity/relationship description progress: 37/362\n"
     ]
    },
    {
     "name": "stdout",
     "output_type": "stream",
     "text": [
      "2025-08-10 22:12:37.0250 - INFO - graphrag.logger.progress - Summarize entity/relationship description progress: 38/362\n"
     ]
    },
    {
     "name": "stderr",
     "output_type": "stream",
     "text": [
      "INFO:graphrag.logger.progress:Summarize entity/relationship description progress: 38/362\n"
     ]
    },
    {
     "name": "stdout",
     "output_type": "stream",
     "text": [
      "2025-08-10 22:12:37.0252 - INFO - graphrag.logger.progress - Summarize entity/relationship description progress: 39/362\n"
     ]
    },
    {
     "name": "stderr",
     "output_type": "stream",
     "text": [
      "INFO:graphrag.logger.progress:Summarize entity/relationship description progress: 39/362\n"
     ]
    },
    {
     "name": "stdout",
     "output_type": "stream",
     "text": [
      "2025-08-10 22:12:37.0253 - INFO - graphrag.logger.progress - Summarize entity/relationship description progress: 40/362\n"
     ]
    },
    {
     "name": "stderr",
     "output_type": "stream",
     "text": [
      "INFO:graphrag.logger.progress:Summarize entity/relationship description progress: 40/362\n"
     ]
    },
    {
     "name": "stdout",
     "output_type": "stream",
     "text": [
      "2025-08-10 22:12:37.0254 - INFO - graphrag.logger.progress - Summarize entity/relationship description progress: 41/362\n"
     ]
    },
    {
     "name": "stderr",
     "output_type": "stream",
     "text": [
      "INFO:graphrag.logger.progress:Summarize entity/relationship description progress: 41/362\n"
     ]
    },
    {
     "name": "stdout",
     "output_type": "stream",
     "text": [
      "2025-08-10 22:12:37.0255 - INFO - graphrag.logger.progress - Summarize entity/relationship description progress: 42/362\n"
     ]
    },
    {
     "name": "stderr",
     "output_type": "stream",
     "text": [
      "INFO:graphrag.logger.progress:Summarize entity/relationship description progress: 42/362\n"
     ]
    },
    {
     "name": "stdout",
     "output_type": "stream",
     "text": [
      "2025-08-10 22:12:37.0256 - INFO - graphrag.logger.progress - Summarize entity/relationship description progress: 43/362\n"
     ]
    },
    {
     "name": "stderr",
     "output_type": "stream",
     "text": [
      "INFO:graphrag.logger.progress:Summarize entity/relationship description progress: 43/362\n"
     ]
    },
    {
     "name": "stdout",
     "output_type": "stream",
     "text": [
      "2025-08-10 22:12:37.0257 - INFO - graphrag.logger.progress - Summarize entity/relationship description progress: 44/362\n"
     ]
    },
    {
     "name": "stderr",
     "output_type": "stream",
     "text": [
      "INFO:graphrag.logger.progress:Summarize entity/relationship description progress: 44/362\n"
     ]
    },
    {
     "name": "stdout",
     "output_type": "stream",
     "text": [
      "2025-08-10 22:12:37.0259 - INFO - graphrag.logger.progress - Summarize entity/relationship description progress: 45/362\n"
     ]
    },
    {
     "name": "stderr",
     "output_type": "stream",
     "text": [
      "INFO:graphrag.logger.progress:Summarize entity/relationship description progress: 45/362\n"
     ]
    },
    {
     "name": "stdout",
     "output_type": "stream",
     "text": [
      "2025-08-10 22:12:37.0260 - INFO - graphrag.logger.progress - Summarize entity/relationship description progress: 46/362\n"
     ]
    },
    {
     "name": "stderr",
     "output_type": "stream",
     "text": [
      "INFO:graphrag.logger.progress:Summarize entity/relationship description progress: 46/362\n"
     ]
    },
    {
     "name": "stdout",
     "output_type": "stream",
     "text": [
      "2025-08-10 22:12:37.0262 - INFO - graphrag.logger.progress - Summarize entity/relationship description progress: 47/362\n"
     ]
    },
    {
     "name": "stderr",
     "output_type": "stream",
     "text": [
      "INFO:graphrag.logger.progress:Summarize entity/relationship description progress: 47/362\n"
     ]
    },
    {
     "name": "stdout",
     "output_type": "stream",
     "text": [
      "2025-08-10 22:12:37.0264 - INFO - graphrag.logger.progress - Summarize entity/relationship description progress: 48/362\n"
     ]
    },
    {
     "name": "stderr",
     "output_type": "stream",
     "text": [
      "INFO:graphrag.logger.progress:Summarize entity/relationship description progress: 48/362\n"
     ]
    },
    {
     "name": "stdout",
     "output_type": "stream",
     "text": [
      "2025-08-10 22:12:37.0265 - INFO - graphrag.logger.progress - Summarize entity/relationship description progress: 49/362\n"
     ]
    },
    {
     "name": "stderr",
     "output_type": "stream",
     "text": [
      "INFO:graphrag.logger.progress:Summarize entity/relationship description progress: 49/362\n"
     ]
    },
    {
     "name": "stdout",
     "output_type": "stream",
     "text": [
      "2025-08-10 22:12:37.0268 - INFO - graphrag.logger.progress - Summarize entity/relationship description progress: 50/362\n"
     ]
    },
    {
     "name": "stderr",
     "output_type": "stream",
     "text": [
      "INFO:graphrag.logger.progress:Summarize entity/relationship description progress: 50/362\n"
     ]
    },
    {
     "name": "stdout",
     "output_type": "stream",
     "text": [
      "2025-08-10 22:12:37.0270 - INFO - graphrag.logger.progress - Summarize entity/relationship description progress: 51/362\n"
     ]
    },
    {
     "name": "stderr",
     "output_type": "stream",
     "text": [
      "INFO:graphrag.logger.progress:Summarize entity/relationship description progress: 51/362\n"
     ]
    },
    {
     "name": "stdout",
     "output_type": "stream",
     "text": [
      "2025-08-10 22:12:37.0272 - INFO - graphrag.logger.progress - Summarize entity/relationship description progress: 52/362\n"
     ]
    },
    {
     "name": "stderr",
     "output_type": "stream",
     "text": [
      "INFO:graphrag.logger.progress:Summarize entity/relationship description progress: 52/362\n"
     ]
    },
    {
     "name": "stdout",
     "output_type": "stream",
     "text": [
      "2025-08-10 22:12:37.0273 - INFO - graphrag.logger.progress - Summarize entity/relationship description progress: 53/362\n"
     ]
    },
    {
     "name": "stderr",
     "output_type": "stream",
     "text": [
      "INFO:graphrag.logger.progress:Summarize entity/relationship description progress: 53/362\n"
     ]
    },
    {
     "name": "stdout",
     "output_type": "stream",
     "text": [
      "2025-08-10 22:12:37.0275 - INFO - graphrag.logger.progress - Summarize entity/relationship description progress: 54/362\n"
     ]
    },
    {
     "name": "stderr",
     "output_type": "stream",
     "text": [
      "INFO:graphrag.logger.progress:Summarize entity/relationship description progress: 54/362\n"
     ]
    },
    {
     "name": "stdout",
     "output_type": "stream",
     "text": [
      "2025-08-10 22:12:37.0277 - INFO - graphrag.logger.progress - Summarize entity/relationship description progress: 55/362\n"
     ]
    },
    {
     "name": "stderr",
     "output_type": "stream",
     "text": [
      "INFO:graphrag.logger.progress:Summarize entity/relationship description progress: 55/362\n"
     ]
    },
    {
     "name": "stdout",
     "output_type": "stream",
     "text": [
      "2025-08-10 22:12:37.0279 - INFO - graphrag.logger.progress - Summarize entity/relationship description progress: 56/362\n"
     ]
    },
    {
     "name": "stderr",
     "output_type": "stream",
     "text": [
      "INFO:graphrag.logger.progress:Summarize entity/relationship description progress: 56/362\n"
     ]
    },
    {
     "name": "stdout",
     "output_type": "stream",
     "text": [
      "2025-08-10 22:12:37.0279 - INFO - graphrag.logger.progress - Summarize entity/relationship description progress: 57/362\n"
     ]
    },
    {
     "name": "stderr",
     "output_type": "stream",
     "text": [
      "INFO:graphrag.logger.progress:Summarize entity/relationship description progress: 57/362\n"
     ]
    },
    {
     "name": "stdout",
     "output_type": "stream",
     "text": [
      "2025-08-10 22:12:37.0282 - INFO - graphrag.logger.progress - Summarize entity/relationship description progress: 58/362\n"
     ]
    },
    {
     "name": "stderr",
     "output_type": "stream",
     "text": [
      "INFO:graphrag.logger.progress:Summarize entity/relationship description progress: 58/362\n"
     ]
    },
    {
     "name": "stdout",
     "output_type": "stream",
     "text": [
      "2025-08-10 22:12:37.0283 - INFO - graphrag.logger.progress - Summarize entity/relationship description progress: 59/362\n"
     ]
    },
    {
     "name": "stderr",
     "output_type": "stream",
     "text": [
      "INFO:graphrag.logger.progress:Summarize entity/relationship description progress: 59/362\n"
     ]
    },
    {
     "name": "stdout",
     "output_type": "stream",
     "text": [
      "2025-08-10 22:12:37.0285 - INFO - graphrag.logger.progress - Summarize entity/relationship description progress: 60/362\n"
     ]
    },
    {
     "name": "stderr",
     "output_type": "stream",
     "text": [
      "INFO:graphrag.logger.progress:Summarize entity/relationship description progress: 60/362\n"
     ]
    },
    {
     "name": "stdout",
     "output_type": "stream",
     "text": [
      "2025-08-10 22:12:37.0286 - INFO - graphrag.logger.progress - Summarize entity/relationship description progress: 61/362\n"
     ]
    },
    {
     "name": "stderr",
     "output_type": "stream",
     "text": [
      "INFO:graphrag.logger.progress:Summarize entity/relationship description progress: 61/362\n"
     ]
    },
    {
     "name": "stdout",
     "output_type": "stream",
     "text": [
      "2025-08-10 22:12:37.0287 - INFO - graphrag.logger.progress - Summarize entity/relationship description progress: 62/362\n"
     ]
    },
    {
     "name": "stderr",
     "output_type": "stream",
     "text": [
      "INFO:graphrag.logger.progress:Summarize entity/relationship description progress: 62/362\n"
     ]
    },
    {
     "name": "stdout",
     "output_type": "stream",
     "text": [
      "2025-08-10 22:12:37.0288 - INFO - graphrag.logger.progress - Summarize entity/relationship description progress: 63/362\n"
     ]
    },
    {
     "name": "stderr",
     "output_type": "stream",
     "text": [
      "INFO:graphrag.logger.progress:Summarize entity/relationship description progress: 63/362\n"
     ]
    },
    {
     "name": "stdout",
     "output_type": "stream",
     "text": [
      "2025-08-10 22:12:37.0289 - INFO - graphrag.logger.progress - Summarize entity/relationship description progress: 64/362\n"
     ]
    },
    {
     "name": "stderr",
     "output_type": "stream",
     "text": [
      "INFO:graphrag.logger.progress:Summarize entity/relationship description progress: 64/362\n"
     ]
    },
    {
     "name": "stdout",
     "output_type": "stream",
     "text": [
      "2025-08-10 22:12:37.0290 - INFO - graphrag.logger.progress - Summarize entity/relationship description progress: 65/362\n"
     ]
    },
    {
     "name": "stderr",
     "output_type": "stream",
     "text": [
      "INFO:graphrag.logger.progress:Summarize entity/relationship description progress: 65/362\n"
     ]
    },
    {
     "name": "stdout",
     "output_type": "stream",
     "text": [
      "2025-08-10 22:12:37.0291 - INFO - graphrag.logger.progress - Summarize entity/relationship description progress: 66/362\n"
     ]
    },
    {
     "name": "stderr",
     "output_type": "stream",
     "text": [
      "INFO:graphrag.logger.progress:Summarize entity/relationship description progress: 66/362\n"
     ]
    },
    {
     "name": "stdout",
     "output_type": "stream",
     "text": [
      "2025-08-10 22:12:37.0292 - INFO - graphrag.logger.progress - Summarize entity/relationship description progress: 67/362\n"
     ]
    },
    {
     "name": "stderr",
     "output_type": "stream",
     "text": [
      "INFO:graphrag.logger.progress:Summarize entity/relationship description progress: 67/362\n"
     ]
    },
    {
     "name": "stdout",
     "output_type": "stream",
     "text": [
      "2025-08-10 22:12:37.0293 - INFO - graphrag.logger.progress - Summarize entity/relationship description progress: 68/362\n"
     ]
    },
    {
     "name": "stderr",
     "output_type": "stream",
     "text": [
      "INFO:graphrag.logger.progress:Summarize entity/relationship description progress: 68/362\n"
     ]
    },
    {
     "name": "stdout",
     "output_type": "stream",
     "text": [
      "2025-08-10 22:12:37.0295 - INFO - graphrag.logger.progress - Summarize entity/relationship description progress: 69/362\n"
     ]
    },
    {
     "name": "stderr",
     "output_type": "stream",
     "text": [
      "INFO:graphrag.logger.progress:Summarize entity/relationship description progress: 69/362\n"
     ]
    },
    {
     "name": "stdout",
     "output_type": "stream",
     "text": [
      "2025-08-10 22:12:37.0299 - INFO - graphrag.logger.progress - Summarize entity/relationship description progress: 70/362\n"
     ]
    },
    {
     "name": "stderr",
     "output_type": "stream",
     "text": [
      "INFO:graphrag.logger.progress:Summarize entity/relationship description progress: 70/362\n"
     ]
    },
    {
     "name": "stdout",
     "output_type": "stream",
     "text": [
      "2025-08-10 22:12:37.0300 - INFO - graphrag.logger.progress - Summarize entity/relationship description progress: 71/362\n"
     ]
    },
    {
     "name": "stderr",
     "output_type": "stream",
     "text": [
      "INFO:graphrag.logger.progress:Summarize entity/relationship description progress: 71/362\n"
     ]
    },
    {
     "name": "stdout",
     "output_type": "stream",
     "text": [
      "2025-08-10 22:12:37.0301 - INFO - graphrag.logger.progress - Summarize entity/relationship description progress: 72/362\n"
     ]
    },
    {
     "name": "stderr",
     "output_type": "stream",
     "text": [
      "INFO:graphrag.logger.progress:Summarize entity/relationship description progress: 72/362\n"
     ]
    },
    {
     "name": "stdout",
     "output_type": "stream",
     "text": [
      "2025-08-10 22:12:37.0303 - INFO - graphrag.logger.progress - Summarize entity/relationship description progress: 73/362\n"
     ]
    },
    {
     "name": "stderr",
     "output_type": "stream",
     "text": [
      "INFO:graphrag.logger.progress:Summarize entity/relationship description progress: 73/362\n"
     ]
    },
    {
     "name": "stdout",
     "output_type": "stream",
     "text": [
      "2025-08-10 22:12:37.0304 - INFO - graphrag.logger.progress - Summarize entity/relationship description progress: 74/362\n"
     ]
    },
    {
     "name": "stderr",
     "output_type": "stream",
     "text": [
      "INFO:graphrag.logger.progress:Summarize entity/relationship description progress: 74/362\n"
     ]
    },
    {
     "name": "stdout",
     "output_type": "stream",
     "text": [
      "2025-08-10 22:12:37.0305 - INFO - graphrag.logger.progress - Summarize entity/relationship description progress: 75/362\n"
     ]
    },
    {
     "name": "stderr",
     "output_type": "stream",
     "text": [
      "INFO:graphrag.logger.progress:Summarize entity/relationship description progress: 75/362\n"
     ]
    },
    {
     "name": "stdout",
     "output_type": "stream",
     "text": [
      "2025-08-10 22:12:37.0306 - INFO - graphrag.logger.progress - Summarize entity/relationship description progress: 76/362\n"
     ]
    },
    {
     "name": "stderr",
     "output_type": "stream",
     "text": [
      "INFO:graphrag.logger.progress:Summarize entity/relationship description progress: 76/362\n"
     ]
    },
    {
     "name": "stdout",
     "output_type": "stream",
     "text": [
      "2025-08-10 22:12:37.0307 - INFO - graphrag.logger.progress - Summarize entity/relationship description progress: 77/362\n"
     ]
    },
    {
     "name": "stderr",
     "output_type": "stream",
     "text": [
      "INFO:graphrag.logger.progress:Summarize entity/relationship description progress: 77/362\n"
     ]
    },
    {
     "name": "stdout",
     "output_type": "stream",
     "text": [
      "2025-08-10 22:12:37.0308 - INFO - graphrag.logger.progress - Summarize entity/relationship description progress: 78/362\n"
     ]
    },
    {
     "name": "stderr",
     "output_type": "stream",
     "text": [
      "INFO:graphrag.logger.progress:Summarize entity/relationship description progress: 78/362\n"
     ]
    },
    {
     "name": "stdout",
     "output_type": "stream",
     "text": [
      "2025-08-10 22:12:37.0309 - INFO - graphrag.logger.progress - Summarize entity/relationship description progress: 79/362\n"
     ]
    },
    {
     "name": "stderr",
     "output_type": "stream",
     "text": [
      "INFO:graphrag.logger.progress:Summarize entity/relationship description progress: 79/362\n"
     ]
    },
    {
     "name": "stdout",
     "output_type": "stream",
     "text": [
      "2025-08-10 22:12:37.0310 - INFO - graphrag.logger.progress - Summarize entity/relationship description progress: 80/362\n"
     ]
    },
    {
     "name": "stderr",
     "output_type": "stream",
     "text": [
      "INFO:graphrag.logger.progress:Summarize entity/relationship description progress: 80/362\n"
     ]
    },
    {
     "name": "stdout",
     "output_type": "stream",
     "text": [
      "2025-08-10 22:12:37.0311 - INFO - graphrag.logger.progress - Summarize entity/relationship description progress: 81/362\n"
     ]
    },
    {
     "name": "stderr",
     "output_type": "stream",
     "text": [
      "INFO:graphrag.logger.progress:Summarize entity/relationship description progress: 81/362\n"
     ]
    },
    {
     "name": "stdout",
     "output_type": "stream",
     "text": [
      "2025-08-10 22:12:37.0312 - INFO - graphrag.logger.progress - Summarize entity/relationship description progress: 82/362\n"
     ]
    },
    {
     "name": "stderr",
     "output_type": "stream",
     "text": [
      "INFO:graphrag.logger.progress:Summarize entity/relationship description progress: 82/362\n"
     ]
    },
    {
     "name": "stdout",
     "output_type": "stream",
     "text": [
      "2025-08-10 22:12:37.0314 - INFO - graphrag.logger.progress - Summarize entity/relationship description progress: 83/362\n"
     ]
    },
    {
     "name": "stderr",
     "output_type": "stream",
     "text": [
      "INFO:graphrag.logger.progress:Summarize entity/relationship description progress: 83/362\n"
     ]
    },
    {
     "name": "stdout",
     "output_type": "stream",
     "text": [
      "2025-08-10 22:12:37.0316 - INFO - graphrag.logger.progress - Summarize entity/relationship description progress: 84/362\n"
     ]
    },
    {
     "name": "stderr",
     "output_type": "stream",
     "text": [
      "INFO:graphrag.logger.progress:Summarize entity/relationship description progress: 84/362\n"
     ]
    },
    {
     "name": "stdout",
     "output_type": "stream",
     "text": [
      "2025-08-10 22:12:37.0317 - INFO - graphrag.logger.progress - Summarize entity/relationship description progress: 85/362\n"
     ]
    },
    {
     "name": "stderr",
     "output_type": "stream",
     "text": [
      "INFO:graphrag.logger.progress:Summarize entity/relationship description progress: 85/362\n"
     ]
    },
    {
     "name": "stdout",
     "output_type": "stream",
     "text": [
      "2025-08-10 22:12:37.0318 - INFO - graphrag.logger.progress - Summarize entity/relationship description progress: 86/362\n"
     ]
    },
    {
     "name": "stderr",
     "output_type": "stream",
     "text": [
      "INFO:graphrag.logger.progress:Summarize entity/relationship description progress: 86/362\n"
     ]
    },
    {
     "name": "stdout",
     "output_type": "stream",
     "text": [
      "2025-08-10 22:12:37.0319 - INFO - graphrag.logger.progress - Summarize entity/relationship description progress: 87/362\n"
     ]
    },
    {
     "name": "stderr",
     "output_type": "stream",
     "text": [
      "INFO:graphrag.logger.progress:Summarize entity/relationship description progress: 87/362\n"
     ]
    },
    {
     "name": "stdout",
     "output_type": "stream",
     "text": [
      "2025-08-10 22:12:37.0320 - INFO - graphrag.logger.progress - Summarize entity/relationship description progress: 88/362\n"
     ]
    },
    {
     "name": "stderr",
     "output_type": "stream",
     "text": [
      "INFO:graphrag.logger.progress:Summarize entity/relationship description progress: 88/362\n"
     ]
    },
    {
     "name": "stdout",
     "output_type": "stream",
     "text": [
      "2025-08-10 22:12:37.0321 - INFO - graphrag.logger.progress - Summarize entity/relationship description progress: 89/362\n"
     ]
    },
    {
     "name": "stderr",
     "output_type": "stream",
     "text": [
      "INFO:graphrag.logger.progress:Summarize entity/relationship description progress: 89/362\n"
     ]
    },
    {
     "name": "stdout",
     "output_type": "stream",
     "text": [
      "2025-08-10 22:12:37.0322 - INFO - graphrag.logger.progress - Summarize entity/relationship description progress: 90/362\n"
     ]
    },
    {
     "name": "stderr",
     "output_type": "stream",
     "text": [
      "INFO:graphrag.logger.progress:Summarize entity/relationship description progress: 90/362\n"
     ]
    },
    {
     "name": "stdout",
     "output_type": "stream",
     "text": [
      "2025-08-10 22:12:37.0323 - INFO - graphrag.logger.progress - Summarize entity/relationship description progress: 91/362\n"
     ]
    },
    {
     "name": "stderr",
     "output_type": "stream",
     "text": [
      "INFO:graphrag.logger.progress:Summarize entity/relationship description progress: 91/362\n"
     ]
    },
    {
     "name": "stdout",
     "output_type": "stream",
     "text": [
      "2025-08-10 22:12:37.0325 - INFO - graphrag.logger.progress - Summarize entity/relationship description progress: 92/362\n"
     ]
    },
    {
     "name": "stderr",
     "output_type": "stream",
     "text": [
      "INFO:graphrag.logger.progress:Summarize entity/relationship description progress: 92/362\n"
     ]
    },
    {
     "name": "stdout",
     "output_type": "stream",
     "text": [
      "2025-08-10 22:12:37.0327 - INFO - graphrag.logger.progress - Summarize entity/relationship description progress: 93/362\n"
     ]
    },
    {
     "name": "stderr",
     "output_type": "stream",
     "text": [
      "INFO:graphrag.logger.progress:Summarize entity/relationship description progress: 93/362\n"
     ]
    },
    {
     "name": "stdout",
     "output_type": "stream",
     "text": [
      "2025-08-10 22:12:37.0328 - INFO - graphrag.logger.progress - Summarize entity/relationship description progress: 94/362\n"
     ]
    },
    {
     "name": "stderr",
     "output_type": "stream",
     "text": [
      "INFO:graphrag.logger.progress:Summarize entity/relationship description progress: 94/362\n"
     ]
    },
    {
     "name": "stdout",
     "output_type": "stream",
     "text": [
      "2025-08-10 22:12:37.0332 - INFO - graphrag.logger.progress - Summarize entity/relationship description progress: 95/362\n"
     ]
    },
    {
     "name": "stderr",
     "output_type": "stream",
     "text": [
      "INFO:graphrag.logger.progress:Summarize entity/relationship description progress: 95/362\n"
     ]
    },
    {
     "name": "stdout",
     "output_type": "stream",
     "text": [
      "2025-08-10 22:12:37.0334 - INFO - graphrag.logger.progress - Summarize entity/relationship description progress: 96/362\n"
     ]
    },
    {
     "name": "stderr",
     "output_type": "stream",
     "text": [
      "INFO:graphrag.logger.progress:Summarize entity/relationship description progress: 96/362\n"
     ]
    },
    {
     "name": "stdout",
     "output_type": "stream",
     "text": [
      "2025-08-10 22:12:37.0335 - INFO - graphrag.logger.progress - Summarize entity/relationship description progress: 97/362\n"
     ]
    },
    {
     "name": "stderr",
     "output_type": "stream",
     "text": [
      "INFO:graphrag.logger.progress:Summarize entity/relationship description progress: 97/362\n"
     ]
    },
    {
     "name": "stdout",
     "output_type": "stream",
     "text": [
      "2025-08-10 22:12:37.0336 - INFO - graphrag.logger.progress - Summarize entity/relationship description progress: 98/362\n"
     ]
    },
    {
     "name": "stderr",
     "output_type": "stream",
     "text": [
      "INFO:graphrag.logger.progress:Summarize entity/relationship description progress: 98/362\n"
     ]
    },
    {
     "name": "stdout",
     "output_type": "stream",
     "text": [
      "2025-08-10 22:12:37.0337 - INFO - graphrag.logger.progress - Summarize entity/relationship description progress: 99/362\n"
     ]
    },
    {
     "name": "stderr",
     "output_type": "stream",
     "text": [
      "INFO:graphrag.logger.progress:Summarize entity/relationship description progress: 99/362\n"
     ]
    },
    {
     "name": "stdout",
     "output_type": "stream",
     "text": [
      "2025-08-10 22:12:37.0338 - INFO - graphrag.logger.progress - Summarize entity/relationship description progress: 100/362\n"
     ]
    },
    {
     "name": "stderr",
     "output_type": "stream",
     "text": [
      "INFO:graphrag.logger.progress:Summarize entity/relationship description progress: 100/362\n"
     ]
    },
    {
     "name": "stdout",
     "output_type": "stream",
     "text": [
      "2025-08-10 22:12:37.0339 - INFO - graphrag.logger.progress - Summarize entity/relationship description progress: 101/362\n"
     ]
    },
    {
     "name": "stderr",
     "output_type": "stream",
     "text": [
      "INFO:graphrag.logger.progress:Summarize entity/relationship description progress: 101/362\n"
     ]
    },
    {
     "name": "stdout",
     "output_type": "stream",
     "text": [
      "2025-08-10 22:12:37.0340 - INFO - graphrag.logger.progress - Summarize entity/relationship description progress: 102/362\n"
     ]
    },
    {
     "name": "stderr",
     "output_type": "stream",
     "text": [
      "INFO:graphrag.logger.progress:Summarize entity/relationship description progress: 102/362\n"
     ]
    },
    {
     "name": "stdout",
     "output_type": "stream",
     "text": [
      "2025-08-10 22:12:38.0993 - INFO - graphrag.logger.progress - Summarize entity/relationship description progress: 103/362\n"
     ]
    },
    {
     "name": "stderr",
     "output_type": "stream",
     "text": [
      "INFO:graphrag.logger.progress:Summarize entity/relationship description progress: 103/362\n"
     ]
    },
    {
     "name": "stdout",
     "output_type": "stream",
     "text": [
      "2025-08-10 22:12:38.0993 - INFO - graphrag.logger.progress - Summarize entity/relationship description progress: 104/362\n"
     ]
    },
    {
     "name": "stderr",
     "output_type": "stream",
     "text": [
      "INFO:graphrag.logger.progress:Summarize entity/relationship description progress: 104/362\n"
     ]
    },
    {
     "name": "stdout",
     "output_type": "stream",
     "text": [
      "2025-08-10 22:12:38.0993 - INFO - graphrag.logger.progress - Summarize entity/relationship description progress: 105/362\n"
     ]
    },
    {
     "name": "stderr",
     "output_type": "stream",
     "text": [
      "INFO:graphrag.logger.progress:Summarize entity/relationship description progress: 105/362\n"
     ]
    },
    {
     "name": "stdout",
     "output_type": "stream",
     "text": [
      "2025-08-10 22:12:38.0993 - INFO - graphrag.logger.progress - Summarize entity/relationship description progress: 106/362\n"
     ]
    },
    {
     "name": "stderr",
     "output_type": "stream",
     "text": [
      "INFO:graphrag.logger.progress:Summarize entity/relationship description progress: 106/362\n"
     ]
    },
    {
     "name": "stdout",
     "output_type": "stream",
     "text": [
      "2025-08-10 22:12:39.0000 - INFO - graphrag.logger.progress - Summarize entity/relationship description progress: 107/362\n"
     ]
    },
    {
     "name": "stderr",
     "output_type": "stream",
     "text": [
      "INFO:graphrag.logger.progress:Summarize entity/relationship description progress: 107/362\n"
     ]
    },
    {
     "name": "stdout",
     "output_type": "stream",
     "text": [
      "2025-08-10 22:12:39.0000 - INFO - graphrag.logger.progress - Summarize entity/relationship description progress: 108/362\n"
     ]
    },
    {
     "name": "stderr",
     "output_type": "stream",
     "text": [
      "INFO:graphrag.logger.progress:Summarize entity/relationship description progress: 108/362\n"
     ]
    },
    {
     "name": "stdout",
     "output_type": "stream",
     "text": [
      "2025-08-10 22:12:39.0000 - INFO - graphrag.logger.progress - Summarize entity/relationship description progress: 109/362\n"
     ]
    },
    {
     "name": "stderr",
     "output_type": "stream",
     "text": [
      "INFO:graphrag.logger.progress:Summarize entity/relationship description progress: 109/362\n"
     ]
    },
    {
     "name": "stdout",
     "output_type": "stream",
     "text": [
      "2025-08-10 22:12:39.0000 - INFO - graphrag.logger.progress - Summarize entity/relationship description progress: 110/362\n"
     ]
    },
    {
     "name": "stderr",
     "output_type": "stream",
     "text": [
      "INFO:graphrag.logger.progress:Summarize entity/relationship description progress: 110/362\n"
     ]
    },
    {
     "name": "stdout",
     "output_type": "stream",
     "text": [
      "2025-08-10 22:12:39.0000 - INFO - graphrag.logger.progress - Summarize entity/relationship description progress: 111/362\n"
     ]
    },
    {
     "name": "stderr",
     "output_type": "stream",
     "text": [
      "INFO:graphrag.logger.progress:Summarize entity/relationship description progress: 111/362\n"
     ]
    },
    {
     "name": "stdout",
     "output_type": "stream",
     "text": [
      "2025-08-10 22:12:39.0000 - INFO - graphrag.logger.progress - Summarize entity/relationship description progress: 112/362\n"
     ]
    },
    {
     "name": "stderr",
     "output_type": "stream",
     "text": [
      "INFO:graphrag.logger.progress:Summarize entity/relationship description progress: 112/362\n"
     ]
    },
    {
     "name": "stdout",
     "output_type": "stream",
     "text": [
      "2025-08-10 22:12:39.0000 - INFO - graphrag.logger.progress - Summarize entity/relationship description progress: 113/362\n"
     ]
    },
    {
     "name": "stderr",
     "output_type": "stream",
     "text": [
      "INFO:graphrag.logger.progress:Summarize entity/relationship description progress: 113/362\n"
     ]
    },
    {
     "name": "stdout",
     "output_type": "stream",
     "text": [
      "2025-08-10 22:12:39.0000 - INFO - graphrag.logger.progress - Summarize entity/relationship description progress: 114/362\n"
     ]
    },
    {
     "name": "stderr",
     "output_type": "stream",
     "text": [
      "INFO:graphrag.logger.progress:Summarize entity/relationship description progress: 114/362\n"
     ]
    },
    {
     "name": "stdout",
     "output_type": "stream",
     "text": [
      "2025-08-10 22:12:39.0010 - INFO - graphrag.logger.progress - Summarize entity/relationship description progress: 115/362\n"
     ]
    },
    {
     "name": "stderr",
     "output_type": "stream",
     "text": [
      "INFO:graphrag.logger.progress:Summarize entity/relationship description progress: 115/362\n"
     ]
    },
    {
     "name": "stdout",
     "output_type": "stream",
     "text": [
      "2025-08-10 22:12:39.0121 - INFO - graphrag.logger.progress - Summarize entity/relationship description progress: 116/362\n"
     ]
    },
    {
     "name": "stderr",
     "output_type": "stream",
     "text": [
      "INFO:graphrag.logger.progress:Summarize entity/relationship description progress: 116/362\n"
     ]
    },
    {
     "name": "stdout",
     "output_type": "stream",
     "text": [
      "2025-08-10 22:12:39.0123 - INFO - graphrag.logger.progress - Summarize entity/relationship description progress: 117/362\n"
     ]
    },
    {
     "name": "stderr",
     "output_type": "stream",
     "text": [
      "INFO:graphrag.logger.progress:Summarize entity/relationship description progress: 117/362\n"
     ]
    },
    {
     "name": "stdout",
     "output_type": "stream",
     "text": [
      "2025-08-10 22:12:39.0125 - INFO - graphrag.logger.progress - Summarize entity/relationship description progress: 118/362\n"
     ]
    },
    {
     "name": "stderr",
     "output_type": "stream",
     "text": [
      "INFO:graphrag.logger.progress:Summarize entity/relationship description progress: 118/362\n"
     ]
    },
    {
     "name": "stdout",
     "output_type": "stream",
     "text": [
      "2025-08-10 22:12:39.0127 - INFO - graphrag.logger.progress - Summarize entity/relationship description progress: 119/362\n"
     ]
    },
    {
     "name": "stderr",
     "output_type": "stream",
     "text": [
      "INFO:graphrag.logger.progress:Summarize entity/relationship description progress: 119/362\n"
     ]
    },
    {
     "name": "stdout",
     "output_type": "stream",
     "text": [
      "2025-08-10 22:12:39.0128 - INFO - graphrag.logger.progress - Summarize entity/relationship description progress: 120/362\n"
     ]
    },
    {
     "name": "stderr",
     "output_type": "stream",
     "text": [
      "INFO:graphrag.logger.progress:Summarize entity/relationship description progress: 120/362\n"
     ]
    },
    {
     "name": "stdout",
     "output_type": "stream",
     "text": [
      "2025-08-10 22:12:39.0130 - INFO - graphrag.logger.progress - Summarize entity/relationship description progress: 121/362\n"
     ]
    },
    {
     "name": "stderr",
     "output_type": "stream",
     "text": [
      "INFO:graphrag.logger.progress:Summarize entity/relationship description progress: 121/362\n"
     ]
    },
    {
     "name": "stdout",
     "output_type": "stream",
     "text": [
      "2025-08-10 22:12:39.0133 - INFO - graphrag.logger.progress - Summarize entity/relationship description progress: 122/362\n"
     ]
    },
    {
     "name": "stderr",
     "output_type": "stream",
     "text": [
      "INFO:graphrag.logger.progress:Summarize entity/relationship description progress: 122/362\n"
     ]
    },
    {
     "name": "stdout",
     "output_type": "stream",
     "text": [
      "2025-08-10 22:12:39.0137 - INFO - graphrag.logger.progress - Summarize entity/relationship description progress: 123/362\n"
     ]
    },
    {
     "name": "stderr",
     "output_type": "stream",
     "text": [
      "INFO:graphrag.logger.progress:Summarize entity/relationship description progress: 123/362\n"
     ]
    },
    {
     "name": "stdout",
     "output_type": "stream",
     "text": [
      "2025-08-10 22:12:39.0185 - INFO - graphrag.logger.progress - Summarize entity/relationship description progress: 124/362\n"
     ]
    },
    {
     "name": "stderr",
     "output_type": "stream",
     "text": [
      "INFO:graphrag.logger.progress:Summarize entity/relationship description progress: 124/362\n"
     ]
    },
    {
     "name": "stdout",
     "output_type": "stream",
     "text": [
      "2025-08-10 22:12:39.0187 - INFO - graphrag.logger.progress - Summarize entity/relationship description progress: 125/362\n"
     ]
    },
    {
     "name": "stderr",
     "output_type": "stream",
     "text": [
      "INFO:graphrag.logger.progress:Summarize entity/relationship description progress: 125/362\n"
     ]
    },
    {
     "name": "stdout",
     "output_type": "stream",
     "text": [
      "2025-08-10 22:12:39.0243 - INFO - graphrag.logger.progress - Summarize entity/relationship description progress: 126/362\n"
     ]
    },
    {
     "name": "stderr",
     "output_type": "stream",
     "text": [
      "INFO:graphrag.logger.progress:Summarize entity/relationship description progress: 126/362\n"
     ]
    },
    {
     "name": "stdout",
     "output_type": "stream",
     "text": [
      "2025-08-10 22:12:39.0306 - INFO - graphrag.logger.progress - Summarize entity/relationship description progress: 127/362\n"
     ]
    },
    {
     "name": "stderr",
     "output_type": "stream",
     "text": [
      "INFO:graphrag.logger.progress:Summarize entity/relationship description progress: 127/362\n"
     ]
    },
    {
     "name": "stdout",
     "output_type": "stream",
     "text": [
      "2025-08-10 22:12:39.0315 - INFO - graphrag.logger.progress - Summarize entity/relationship description progress: 128/362\n"
     ]
    },
    {
     "name": "stderr",
     "output_type": "stream",
     "text": [
      "INFO:graphrag.logger.progress:Summarize entity/relationship description progress: 128/362\n"
     ]
    },
    {
     "name": "stdout",
     "output_type": "stream",
     "text": [
      "2025-08-10 22:12:39.0316 - INFO - graphrag.logger.progress - Summarize entity/relationship description progress: 129/362\n"
     ]
    },
    {
     "name": "stderr",
     "output_type": "stream",
     "text": [
      "INFO:graphrag.logger.progress:Summarize entity/relationship description progress: 129/362\n"
     ]
    },
    {
     "name": "stdout",
     "output_type": "stream",
     "text": [
      "2025-08-10 22:12:39.0318 - INFO - graphrag.logger.progress - Summarize entity/relationship description progress: 130/362\n"
     ]
    },
    {
     "name": "stderr",
     "output_type": "stream",
     "text": [
      "INFO:graphrag.logger.progress:Summarize entity/relationship description progress: 130/362\n"
     ]
    },
    {
     "name": "stdout",
     "output_type": "stream",
     "text": [
      "2025-08-10 22:12:39.0320 - INFO - graphrag.logger.progress - Summarize entity/relationship description progress: 131/362\n"
     ]
    },
    {
     "name": "stderr",
     "output_type": "stream",
     "text": [
      "INFO:graphrag.logger.progress:Summarize entity/relationship description progress: 131/362\n"
     ]
    },
    {
     "name": "stdout",
     "output_type": "stream",
     "text": [
      "2025-08-10 22:12:39.0326 - INFO - graphrag.logger.progress - Summarize entity/relationship description progress: 132/362\n"
     ]
    },
    {
     "name": "stderr",
     "output_type": "stream",
     "text": [
      "INFO:graphrag.logger.progress:Summarize entity/relationship description progress: 132/362\n"
     ]
    },
    {
     "name": "stdout",
     "output_type": "stream",
     "text": [
      "2025-08-10 22:12:39.0327 - INFO - graphrag.logger.progress - Summarize entity/relationship description progress: 133/362\n"
     ]
    },
    {
     "name": "stderr",
     "output_type": "stream",
     "text": [
      "INFO:graphrag.logger.progress:Summarize entity/relationship description progress: 133/362\n"
     ]
    },
    {
     "name": "stdout",
     "output_type": "stream",
     "text": [
      "2025-08-10 22:12:39.0328 - INFO - graphrag.logger.progress - Summarize entity/relationship description progress: 134/362\n"
     ]
    },
    {
     "name": "stderr",
     "output_type": "stream",
     "text": [
      "INFO:graphrag.logger.progress:Summarize entity/relationship description progress: 134/362\n"
     ]
    },
    {
     "name": "stdout",
     "output_type": "stream",
     "text": [
      "2025-08-10 22:12:39.0331 - INFO - graphrag.logger.progress - Summarize entity/relationship description progress: 135/362\n"
     ]
    },
    {
     "name": "stderr",
     "output_type": "stream",
     "text": [
      "INFO:graphrag.logger.progress:Summarize entity/relationship description progress: 135/362\n"
     ]
    },
    {
     "name": "stdout",
     "output_type": "stream",
     "text": [
      "2025-08-10 22:12:39.0356 - INFO - graphrag.logger.progress - Summarize entity/relationship description progress: 136/362\n"
     ]
    },
    {
     "name": "stderr",
     "output_type": "stream",
     "text": [
      "INFO:graphrag.logger.progress:Summarize entity/relationship description progress: 136/362\n"
     ]
    },
    {
     "name": "stdout",
     "output_type": "stream",
     "text": [
      "2025-08-10 22:12:39.0394 - INFO - graphrag.logger.progress - Summarize entity/relationship description progress: 137/362\n"
     ]
    },
    {
     "name": "stderr",
     "output_type": "stream",
     "text": [
      "INFO:graphrag.logger.progress:Summarize entity/relationship description progress: 137/362\n"
     ]
    },
    {
     "name": "stdout",
     "output_type": "stream",
     "text": [
      "2025-08-10 22:12:39.0396 - INFO - graphrag.logger.progress - Summarize entity/relationship description progress: 138/362\n"
     ]
    },
    {
     "name": "stderr",
     "output_type": "stream",
     "text": [
      "INFO:graphrag.logger.progress:Summarize entity/relationship description progress: 138/362\n"
     ]
    },
    {
     "name": "stdout",
     "output_type": "stream",
     "text": [
      "2025-08-10 22:12:39.0398 - INFO - graphrag.logger.progress - Summarize entity/relationship description progress: 139/362\n"
     ]
    },
    {
     "name": "stderr",
     "output_type": "stream",
     "text": [
      "INFO:graphrag.logger.progress:Summarize entity/relationship description progress: 139/362\n"
     ]
    },
    {
     "name": "stdout",
     "output_type": "stream",
     "text": [
      "2025-08-10 22:12:39.0399 - INFO - graphrag.logger.progress - Summarize entity/relationship description progress: 140/362\n"
     ]
    },
    {
     "name": "stderr",
     "output_type": "stream",
     "text": [
      "INFO:graphrag.logger.progress:Summarize entity/relationship description progress: 140/362\n"
     ]
    },
    {
     "name": "stdout",
     "output_type": "stream",
     "text": [
      "2025-08-10 22:12:39.0400 - INFO - graphrag.logger.progress - Summarize entity/relationship description progress: 141/362\n"
     ]
    },
    {
     "name": "stderr",
     "output_type": "stream",
     "text": [
      "INFO:graphrag.logger.progress:Summarize entity/relationship description progress: 141/362\n"
     ]
    },
    {
     "name": "stdout",
     "output_type": "stream",
     "text": [
      "2025-08-10 22:12:39.0402 - INFO - graphrag.logger.progress - Summarize entity/relationship description progress: 142/362\n"
     ]
    },
    {
     "name": "stderr",
     "output_type": "stream",
     "text": [
      "INFO:graphrag.logger.progress:Summarize entity/relationship description progress: 142/362\n"
     ]
    },
    {
     "name": "stdout",
     "output_type": "stream",
     "text": [
      "2025-08-10 22:12:39.0404 - INFO - graphrag.logger.progress - Summarize entity/relationship description progress: 143/362\n"
     ]
    },
    {
     "name": "stderr",
     "output_type": "stream",
     "text": [
      "INFO:graphrag.logger.progress:Summarize entity/relationship description progress: 143/362\n"
     ]
    },
    {
     "name": "stdout",
     "output_type": "stream",
     "text": [
      "2025-08-10 22:12:39.0406 - INFO - graphrag.logger.progress - Summarize entity/relationship description progress: 144/362\n"
     ]
    },
    {
     "name": "stderr",
     "output_type": "stream",
     "text": [
      "INFO:graphrag.logger.progress:Summarize entity/relationship description progress: 144/362\n"
     ]
    },
    {
     "name": "stdout",
     "output_type": "stream",
     "text": [
      "2025-08-10 22:12:39.0408 - INFO - graphrag.logger.progress - Summarize entity/relationship description progress: 145/362\n"
     ]
    },
    {
     "name": "stderr",
     "output_type": "stream",
     "text": [
      "INFO:graphrag.logger.progress:Summarize entity/relationship description progress: 145/362\n"
     ]
    },
    {
     "name": "stdout",
     "output_type": "stream",
     "text": [
      "2025-08-10 22:12:39.0409 - INFO - graphrag.logger.progress - Summarize entity/relationship description progress: 146/362\n"
     ]
    },
    {
     "name": "stderr",
     "output_type": "stream",
     "text": [
      "INFO:graphrag.logger.progress:Summarize entity/relationship description progress: 146/362\n"
     ]
    },
    {
     "name": "stdout",
     "output_type": "stream",
     "text": [
      "2025-08-10 22:12:39.0486 - INFO - graphrag.logger.progress - Summarize entity/relationship description progress: 147/362\n"
     ]
    },
    {
     "name": "stderr",
     "output_type": "stream",
     "text": [
      "INFO:graphrag.logger.progress:Summarize entity/relationship description progress: 147/362\n"
     ]
    },
    {
     "name": "stdout",
     "output_type": "stream",
     "text": [
      "2025-08-10 22:12:39.0488 - INFO - graphrag.logger.progress - Summarize entity/relationship description progress: 148/362\n"
     ]
    },
    {
     "name": "stderr",
     "output_type": "stream",
     "text": [
      "INFO:graphrag.logger.progress:Summarize entity/relationship description progress: 148/362\n"
     ]
    },
    {
     "name": "stdout",
     "output_type": "stream",
     "text": [
      "2025-08-10 22:12:39.0490 - INFO - graphrag.logger.progress - Summarize entity/relationship description progress: 149/362\n"
     ]
    },
    {
     "name": "stderr",
     "output_type": "stream",
     "text": [
      "INFO:graphrag.logger.progress:Summarize entity/relationship description progress: 149/362\n"
     ]
    },
    {
     "name": "stdout",
     "output_type": "stream",
     "text": [
      "2025-08-10 22:12:39.0494 - INFO - graphrag.logger.progress - Summarize entity/relationship description progress: 150/362\n"
     ]
    },
    {
     "name": "stderr",
     "output_type": "stream",
     "text": [
      "INFO:graphrag.logger.progress:Summarize entity/relationship description progress: 150/362\n"
     ]
    },
    {
     "name": "stdout",
     "output_type": "stream",
     "text": [
      "2025-08-10 22:12:39.0496 - INFO - graphrag.logger.progress - Summarize entity/relationship description progress: 151/362\n"
     ]
    },
    {
     "name": "stderr",
     "output_type": "stream",
     "text": [
      "INFO:graphrag.logger.progress:Summarize entity/relationship description progress: 151/362\n"
     ]
    },
    {
     "name": "stdout",
     "output_type": "stream",
     "text": [
      "2025-08-10 22:12:39.0498 - INFO - graphrag.logger.progress - Summarize entity/relationship description progress: 152/362\n"
     ]
    },
    {
     "name": "stderr",
     "output_type": "stream",
     "text": [
      "INFO:graphrag.logger.progress:Summarize entity/relationship description progress: 152/362\n"
     ]
    },
    {
     "name": "stdout",
     "output_type": "stream",
     "text": [
      "2025-08-10 22:12:39.0500 - INFO - graphrag.logger.progress - Summarize entity/relationship description progress: 153/362\n"
     ]
    },
    {
     "name": "stderr",
     "output_type": "stream",
     "text": [
      "INFO:graphrag.logger.progress:Summarize entity/relationship description progress: 153/362\n"
     ]
    },
    {
     "name": "stdout",
     "output_type": "stream",
     "text": [
      "2025-08-10 22:12:39.0502 - INFO - graphrag.logger.progress - Summarize entity/relationship description progress: 154/362\n"
     ]
    },
    {
     "name": "stderr",
     "output_type": "stream",
     "text": [
      "INFO:graphrag.logger.progress:Summarize entity/relationship description progress: 154/362\n"
     ]
    },
    {
     "name": "stdout",
     "output_type": "stream",
     "text": [
      "2025-08-10 22:12:39.0504 - INFO - graphrag.logger.progress - Summarize entity/relationship description progress: 155/362\n"
     ]
    },
    {
     "name": "stderr",
     "output_type": "stream",
     "text": [
      "INFO:graphrag.logger.progress:Summarize entity/relationship description progress: 155/362\n"
     ]
    },
    {
     "name": "stdout",
     "output_type": "stream",
     "text": [
      "2025-08-10 22:12:39.0506 - INFO - graphrag.logger.progress - Summarize entity/relationship description progress: 156/362\n"
     ]
    },
    {
     "name": "stderr",
     "output_type": "stream",
     "text": [
      "INFO:graphrag.logger.progress:Summarize entity/relationship description progress: 156/362\n"
     ]
    },
    {
     "name": "stdout",
     "output_type": "stream",
     "text": [
      "2025-08-10 22:12:39.0507 - INFO - graphrag.logger.progress - Summarize entity/relationship description progress: 157/362\n"
     ]
    },
    {
     "name": "stderr",
     "output_type": "stream",
     "text": [
      "INFO:graphrag.logger.progress:Summarize entity/relationship description progress: 157/362\n"
     ]
    },
    {
     "name": "stdout",
     "output_type": "stream",
     "text": [
      "2025-08-10 22:12:39.0510 - INFO - graphrag.logger.progress - Summarize entity/relationship description progress: 158/362\n"
     ]
    },
    {
     "name": "stderr",
     "output_type": "stream",
     "text": [
      "INFO:graphrag.logger.progress:Summarize entity/relationship description progress: 158/362\n"
     ]
    },
    {
     "name": "stdout",
     "output_type": "stream",
     "text": [
      "2025-08-10 22:12:39.0512 - INFO - graphrag.logger.progress - Summarize entity/relationship description progress: 159/362\n"
     ]
    },
    {
     "name": "stderr",
     "output_type": "stream",
     "text": [
      "INFO:graphrag.logger.progress:Summarize entity/relationship description progress: 159/362\n"
     ]
    },
    {
     "name": "stdout",
     "output_type": "stream",
     "text": [
      "2025-08-10 22:12:39.0515 - INFO - graphrag.logger.progress - Summarize entity/relationship description progress: 160/362\n"
     ]
    },
    {
     "name": "stderr",
     "output_type": "stream",
     "text": [
      "INFO:graphrag.logger.progress:Summarize entity/relationship description progress: 160/362\n"
     ]
    },
    {
     "name": "stdout",
     "output_type": "stream",
     "text": [
      "2025-08-10 22:12:39.0517 - INFO - graphrag.logger.progress - Summarize entity/relationship description progress: 161/362\n"
     ]
    },
    {
     "name": "stderr",
     "output_type": "stream",
     "text": [
      "INFO:graphrag.logger.progress:Summarize entity/relationship description progress: 161/362\n"
     ]
    },
    {
     "name": "stdout",
     "output_type": "stream",
     "text": [
      "2025-08-10 22:12:39.0518 - INFO - graphrag.logger.progress - Summarize entity/relationship description progress: 162/362\n"
     ]
    },
    {
     "name": "stderr",
     "output_type": "stream",
     "text": [
      "INFO:graphrag.logger.progress:Summarize entity/relationship description progress: 162/362\n"
     ]
    },
    {
     "name": "stdout",
     "output_type": "stream",
     "text": [
      "2025-08-10 22:12:39.0520 - INFO - graphrag.logger.progress - Summarize entity/relationship description progress: 163/362\n"
     ]
    },
    {
     "name": "stderr",
     "output_type": "stream",
     "text": [
      "INFO:graphrag.logger.progress:Summarize entity/relationship description progress: 163/362\n"
     ]
    },
    {
     "name": "stdout",
     "output_type": "stream",
     "text": [
      "2025-08-10 22:12:39.0521 - INFO - graphrag.logger.progress - Summarize entity/relationship description progress: 164/362\n"
     ]
    },
    {
     "name": "stderr",
     "output_type": "stream",
     "text": [
      "INFO:graphrag.logger.progress:Summarize entity/relationship description progress: 164/362\n"
     ]
    },
    {
     "name": "stdout",
     "output_type": "stream",
     "text": [
      "2025-08-10 22:12:39.0522 - INFO - graphrag.logger.progress - Summarize entity/relationship description progress: 165/362\n"
     ]
    },
    {
     "name": "stderr",
     "output_type": "stream",
     "text": [
      "INFO:graphrag.logger.progress:Summarize entity/relationship description progress: 165/362\n"
     ]
    },
    {
     "name": "stdout",
     "output_type": "stream",
     "text": [
      "2025-08-10 22:12:39.0524 - INFO - graphrag.logger.progress - Summarize entity/relationship description progress: 166/362\n"
     ]
    },
    {
     "name": "stderr",
     "output_type": "stream",
     "text": [
      "INFO:graphrag.logger.progress:Summarize entity/relationship description progress: 166/362\n"
     ]
    },
    {
     "name": "stdout",
     "output_type": "stream",
     "text": [
      "2025-08-10 22:12:39.0525 - INFO - graphrag.logger.progress - Summarize entity/relationship description progress: 167/362\n"
     ]
    },
    {
     "name": "stderr",
     "output_type": "stream",
     "text": [
      "INFO:graphrag.logger.progress:Summarize entity/relationship description progress: 167/362\n"
     ]
    },
    {
     "name": "stdout",
     "output_type": "stream",
     "text": [
      "2025-08-10 22:12:39.0531 - INFO - graphrag.logger.progress - Summarize entity/relationship description progress: 168/362\n"
     ]
    },
    {
     "name": "stderr",
     "output_type": "stream",
     "text": [
      "INFO:graphrag.logger.progress:Summarize entity/relationship description progress: 168/362\n"
     ]
    },
    {
     "name": "stdout",
     "output_type": "stream",
     "text": [
      "2025-08-10 22:12:39.0536 - INFO - graphrag.logger.progress - Summarize entity/relationship description progress: 169/362\n"
     ]
    },
    {
     "name": "stderr",
     "output_type": "stream",
     "text": [
      "INFO:graphrag.logger.progress:Summarize entity/relationship description progress: 169/362\n"
     ]
    },
    {
     "name": "stdout",
     "output_type": "stream",
     "text": [
      "2025-08-10 22:12:39.0541 - INFO - graphrag.logger.progress - Summarize entity/relationship description progress: 170/362\n"
     ]
    },
    {
     "name": "stderr",
     "output_type": "stream",
     "text": [
      "INFO:graphrag.logger.progress:Summarize entity/relationship description progress: 170/362\n"
     ]
    },
    {
     "name": "stdout",
     "output_type": "stream",
     "text": [
      "2025-08-10 22:12:39.0555 - INFO - graphrag.logger.progress - Summarize entity/relationship description progress: 171/362\n"
     ]
    },
    {
     "name": "stderr",
     "output_type": "stream",
     "text": [
      "INFO:graphrag.logger.progress:Summarize entity/relationship description progress: 171/362\n"
     ]
    },
    {
     "name": "stdout",
     "output_type": "stream",
     "text": [
      "2025-08-10 22:12:39.0656 - INFO - graphrag.logger.progress - Summarize entity/relationship description progress: 172/362\n"
     ]
    },
    {
     "name": "stderr",
     "output_type": "stream",
     "text": [
      "INFO:graphrag.logger.progress:Summarize entity/relationship description progress: 172/362\n"
     ]
    },
    {
     "name": "stdout",
     "output_type": "stream",
     "text": [
      "2025-08-10 22:12:39.0739 - INFO - graphrag.logger.progress - Summarize entity/relationship description progress: 173/362\n"
     ]
    },
    {
     "name": "stderr",
     "output_type": "stream",
     "text": [
      "INFO:graphrag.logger.progress:Summarize entity/relationship description progress: 173/362\n"
     ]
    },
    {
     "name": "stdout",
     "output_type": "stream",
     "text": [
      "2025-08-10 22:12:39.0771 - INFO - graphrag.logger.progress - Summarize entity/relationship description progress: 174/362\n"
     ]
    },
    {
     "name": "stderr",
     "output_type": "stream",
     "text": [
      "INFO:graphrag.logger.progress:Summarize entity/relationship description progress: 174/362\n"
     ]
    },
    {
     "name": "stdout",
     "output_type": "stream",
     "text": [
      "2025-08-10 22:12:39.0775 - INFO - graphrag.logger.progress - Summarize entity/relationship description progress: 175/362\n"
     ]
    },
    {
     "name": "stderr",
     "output_type": "stream",
     "text": [
      "INFO:graphrag.logger.progress:Summarize entity/relationship description progress: 175/362\n"
     ]
    },
    {
     "name": "stdout",
     "output_type": "stream",
     "text": [
      "2025-08-10 22:12:39.0777 - INFO - graphrag.logger.progress - Summarize entity/relationship description progress: 176/362\n"
     ]
    },
    {
     "name": "stderr",
     "output_type": "stream",
     "text": [
      "INFO:graphrag.logger.progress:Summarize entity/relationship description progress: 176/362\n"
     ]
    },
    {
     "name": "stdout",
     "output_type": "stream",
     "text": [
      "2025-08-10 22:12:39.0854 - INFO - graphrag.logger.progress - Summarize entity/relationship description progress: 177/362\n"
     ]
    },
    {
     "name": "stderr",
     "output_type": "stream",
     "text": [
      "INFO:graphrag.logger.progress:Summarize entity/relationship description progress: 177/362\n"
     ]
    },
    {
     "name": "stdout",
     "output_type": "stream",
     "text": [
      "2025-08-10 22:12:39.0921 - INFO - graphrag.logger.progress - Summarize entity/relationship description progress: 178/362\n"
     ]
    },
    {
     "name": "stderr",
     "output_type": "stream",
     "text": [
      "INFO:graphrag.logger.progress:Summarize entity/relationship description progress: 178/362\n"
     ]
    },
    {
     "name": "stdout",
     "output_type": "stream",
     "text": [
      "2025-08-10 22:12:39.0998 - INFO - graphrag.logger.progress - Summarize entity/relationship description progress: 179/362\n"
     ]
    },
    {
     "name": "stderr",
     "output_type": "stream",
     "text": [
      "INFO:graphrag.logger.progress:Summarize entity/relationship description progress: 179/362\n"
     ]
    },
    {
     "name": "stdout",
     "output_type": "stream",
     "text": [
      "2025-08-10 22:12:40.0072 - INFO - graphrag.logger.progress - Summarize entity/relationship description progress: 180/362\n"
     ]
    },
    {
     "name": "stderr",
     "output_type": "stream",
     "text": [
      "INFO:graphrag.logger.progress:Summarize entity/relationship description progress: 180/362\n"
     ]
    },
    {
     "name": "stdout",
     "output_type": "stream",
     "text": [
      "2025-08-10 22:12:40.0088 - INFO - graphrag.logger.progress - Summarize entity/relationship description progress: 181/362\n"
     ]
    },
    {
     "name": "stderr",
     "output_type": "stream",
     "text": [
      "INFO:graphrag.logger.progress:Summarize entity/relationship description progress: 181/362\n"
     ]
    },
    {
     "name": "stdout",
     "output_type": "stream",
     "text": [
      "2025-08-10 22:12:40.0223 - INFO - graphrag.logger.progress - Summarize entity/relationship description progress: 182/362\n"
     ]
    },
    {
     "name": "stderr",
     "output_type": "stream",
     "text": [
      "INFO:graphrag.logger.progress:Summarize entity/relationship description progress: 182/362\n"
     ]
    },
    {
     "name": "stdout",
     "output_type": "stream",
     "text": [
      "2025-08-10 22:12:40.0234 - INFO - graphrag.logger.progress - Summarize entity/relationship description progress: 183/362\n"
     ]
    },
    {
     "name": "stderr",
     "output_type": "stream",
     "text": [
      "INFO:graphrag.logger.progress:Summarize entity/relationship description progress: 183/362\n"
     ]
    },
    {
     "name": "stdout",
     "output_type": "stream",
     "text": [
      "2025-08-10 22:12:40.0243 - INFO - graphrag.logger.progress - Summarize entity/relationship description progress: 184/362\n"
     ]
    },
    {
     "name": "stderr",
     "output_type": "stream",
     "text": [
      "INFO:graphrag.logger.progress:Summarize entity/relationship description progress: 184/362\n"
     ]
    },
    {
     "name": "stdout",
     "output_type": "stream",
     "text": [
      "2025-08-10 22:12:40.0245 - INFO - graphrag.logger.progress - Summarize entity/relationship description progress: 185/362\n"
     ]
    },
    {
     "name": "stderr",
     "output_type": "stream",
     "text": [
      "INFO:graphrag.logger.progress:Summarize entity/relationship description progress: 185/362\n"
     ]
    },
    {
     "name": "stdout",
     "output_type": "stream",
     "text": [
      "2025-08-10 22:12:40.0296 - INFO - graphrag.logger.progress - Summarize entity/relationship description progress: 186/362\n"
     ]
    },
    {
     "name": "stderr",
     "output_type": "stream",
     "text": [
      "INFO:graphrag.logger.progress:Summarize entity/relationship description progress: 186/362\n"
     ]
    },
    {
     "name": "stdout",
     "output_type": "stream",
     "text": [
      "2025-08-10 22:12:40.0303 - INFO - graphrag.logger.progress - Summarize entity/relationship description progress: 187/362\n"
     ]
    },
    {
     "name": "stderr",
     "output_type": "stream",
     "text": [
      "INFO:graphrag.logger.progress:Summarize entity/relationship description progress: 187/362\n"
     ]
    },
    {
     "name": "stdout",
     "output_type": "stream",
     "text": [
      "2025-08-10 22:12:40.0468 - INFO - graphrag.logger.progress - Summarize entity/relationship description progress: 188/362\n"
     ]
    },
    {
     "name": "stderr",
     "output_type": "stream",
     "text": [
      "INFO:graphrag.logger.progress:Summarize entity/relationship description progress: 188/362\n"
     ]
    },
    {
     "name": "stdout",
     "output_type": "stream",
     "text": [
      "2025-08-10 22:12:40.0782 - INFO - graphrag.logger.progress - Summarize entity/relationship description progress: 189/362\n"
     ]
    },
    {
     "name": "stderr",
     "output_type": "stream",
     "text": [
      "INFO:graphrag.logger.progress:Summarize entity/relationship description progress: 189/362\n"
     ]
    },
    {
     "name": "stdout",
     "output_type": "stream",
     "text": [
      "2025-08-10 22:12:40.0798 - INFO - graphrag.logger.progress - Summarize entity/relationship description progress: 190/362\n"
     ]
    },
    {
     "name": "stderr",
     "output_type": "stream",
     "text": [
      "INFO:graphrag.logger.progress:Summarize entity/relationship description progress: 190/362\n"
     ]
    },
    {
     "name": "stdout",
     "output_type": "stream",
     "text": [
      "2025-08-10 22:12:40.0798 - INFO - graphrag.logger.progress - Summarize entity/relationship description progress: 191/362\n"
     ]
    },
    {
     "name": "stderr",
     "output_type": "stream",
     "text": [
      "INFO:graphrag.logger.progress:Summarize entity/relationship description progress: 191/362\n"
     ]
    },
    {
     "name": "stdout",
     "output_type": "stream",
     "text": [
      "2025-08-10 22:12:40.0798 - INFO - graphrag.logger.progress - Summarize entity/relationship description progress: 192/362\n"
     ]
    },
    {
     "name": "stderr",
     "output_type": "stream",
     "text": [
      "INFO:graphrag.logger.progress:Summarize entity/relationship description progress: 192/362\n"
     ]
    },
    {
     "name": "stdout",
     "output_type": "stream",
     "text": [
      "2025-08-10 22:12:40.0798 - INFO - graphrag.logger.progress - Summarize entity/relationship description progress: 193/362\n"
     ]
    },
    {
     "name": "stderr",
     "output_type": "stream",
     "text": [
      "INFO:graphrag.logger.progress:Summarize entity/relationship description progress: 193/362\n"
     ]
    },
    {
     "name": "stdout",
     "output_type": "stream",
     "text": [
      "2025-08-10 22:12:40.0798 - INFO - graphrag.logger.progress - Summarize entity/relationship description progress: 194/362\n"
     ]
    },
    {
     "name": "stderr",
     "output_type": "stream",
     "text": [
      "INFO:graphrag.logger.progress:Summarize entity/relationship description progress: 194/362\n"
     ]
    },
    {
     "name": "stdout",
     "output_type": "stream",
     "text": [
      "2025-08-10 22:12:40.0798 - INFO - graphrag.logger.progress - Summarize entity/relationship description progress: 195/362\n"
     ]
    },
    {
     "name": "stderr",
     "output_type": "stream",
     "text": [
      "INFO:graphrag.logger.progress:Summarize entity/relationship description progress: 195/362\n"
     ]
    },
    {
     "name": "stdout",
     "output_type": "stream",
     "text": [
      "2025-08-10 22:12:40.0798 - INFO - graphrag.logger.progress - Summarize entity/relationship description progress: 196/362\n"
     ]
    },
    {
     "name": "stderr",
     "output_type": "stream",
     "text": [
      "INFO:graphrag.logger.progress:Summarize entity/relationship description progress: 196/362\n"
     ]
    },
    {
     "name": "stdout",
     "output_type": "stream",
     "text": [
      "2025-08-10 22:12:40.0798 - INFO - graphrag.logger.progress - Summarize entity/relationship description progress: 197/362\n"
     ]
    },
    {
     "name": "stderr",
     "output_type": "stream",
     "text": [
      "INFO:graphrag.logger.progress:Summarize entity/relationship description progress: 197/362\n"
     ]
    },
    {
     "name": "stdout",
     "output_type": "stream",
     "text": [
      "2025-08-10 22:12:40.0798 - INFO - graphrag.logger.progress - Summarize entity/relationship description progress: 198/362\n"
     ]
    },
    {
     "name": "stderr",
     "output_type": "stream",
     "text": [
      "INFO:graphrag.logger.progress:Summarize entity/relationship description progress: 198/362\n"
     ]
    },
    {
     "name": "stdout",
     "output_type": "stream",
     "text": [
      "2025-08-10 22:12:40.0798 - INFO - graphrag.logger.progress - Summarize entity/relationship description progress: 199/362\n"
     ]
    },
    {
     "name": "stderr",
     "output_type": "stream",
     "text": [
      "INFO:graphrag.logger.progress:Summarize entity/relationship description progress: 199/362\n"
     ]
    },
    {
     "name": "stdout",
     "output_type": "stream",
     "text": [
      "2025-08-10 22:12:40.0798 - INFO - graphrag.logger.progress - Summarize entity/relationship description progress: 200/362\n"
     ]
    },
    {
     "name": "stderr",
     "output_type": "stream",
     "text": [
      "INFO:graphrag.logger.progress:Summarize entity/relationship description progress: 200/362\n"
     ]
    },
    {
     "name": "stdout",
     "output_type": "stream",
     "text": [
      "2025-08-10 22:12:40.0812 - INFO - graphrag.logger.progress - Summarize entity/relationship description progress: 201/362\n"
     ]
    },
    {
     "name": "stderr",
     "output_type": "stream",
     "text": [
      "INFO:graphrag.logger.progress:Summarize entity/relationship description progress: 201/362\n"
     ]
    },
    {
     "name": "stdout",
     "output_type": "stream",
     "text": [
      "2025-08-10 22:12:40.0815 - INFO - graphrag.logger.progress - Summarize entity/relationship description progress: 202/362\n"
     ]
    },
    {
     "name": "stderr",
     "output_type": "stream",
     "text": [
      "INFO:graphrag.logger.progress:Summarize entity/relationship description progress: 202/362\n"
     ]
    },
    {
     "name": "stdout",
     "output_type": "stream",
     "text": [
      "2025-08-10 22:12:40.0816 - INFO - graphrag.logger.progress - Summarize entity/relationship description progress: 203/362\n"
     ]
    },
    {
     "name": "stderr",
     "output_type": "stream",
     "text": [
      "INFO:graphrag.logger.progress:Summarize entity/relationship description progress: 203/362\n"
     ]
    },
    {
     "name": "stdout",
     "output_type": "stream",
     "text": [
      "2025-08-10 22:12:40.0817 - INFO - graphrag.logger.progress - Summarize entity/relationship description progress: 204/362\n"
     ]
    },
    {
     "name": "stderr",
     "output_type": "stream",
     "text": [
      "INFO:graphrag.logger.progress:Summarize entity/relationship description progress: 204/362\n"
     ]
    },
    {
     "name": "stdout",
     "output_type": "stream",
     "text": [
      "2025-08-10 22:12:40.0818 - INFO - graphrag.logger.progress - Summarize entity/relationship description progress: 205/362\n"
     ]
    },
    {
     "name": "stderr",
     "output_type": "stream",
     "text": [
      "INFO:graphrag.logger.progress:Summarize entity/relationship description progress: 205/362\n"
     ]
    },
    {
     "name": "stdout",
     "output_type": "stream",
     "text": [
      "2025-08-10 22:12:40.0819 - INFO - graphrag.logger.progress - Summarize entity/relationship description progress: 206/362\n"
     ]
    },
    {
     "name": "stderr",
     "output_type": "stream",
     "text": [
      "INFO:graphrag.logger.progress:Summarize entity/relationship description progress: 206/362\n"
     ]
    },
    {
     "name": "stdout",
     "output_type": "stream",
     "text": [
      "2025-08-10 22:12:40.0821 - INFO - graphrag.logger.progress - Summarize entity/relationship description progress: 207/362\n"
     ]
    },
    {
     "name": "stderr",
     "output_type": "stream",
     "text": [
      "INFO:graphrag.logger.progress:Summarize entity/relationship description progress: 207/362\n"
     ]
    },
    {
     "name": "stdout",
     "output_type": "stream",
     "text": [
      "2025-08-10 22:12:40.0822 - INFO - graphrag.logger.progress - Summarize entity/relationship description progress: 208/362\n"
     ]
    },
    {
     "name": "stderr",
     "output_type": "stream",
     "text": [
      "INFO:graphrag.logger.progress:Summarize entity/relationship description progress: 208/362\n"
     ]
    },
    {
     "name": "stdout",
     "output_type": "stream",
     "text": [
      "2025-08-10 22:12:40.0823 - INFO - graphrag.logger.progress - Summarize entity/relationship description progress: 209/362\n"
     ]
    },
    {
     "name": "stderr",
     "output_type": "stream",
     "text": [
      "INFO:graphrag.logger.progress:Summarize entity/relationship description progress: 209/362\n"
     ]
    },
    {
     "name": "stdout",
     "output_type": "stream",
     "text": [
      "2025-08-10 22:12:40.0824 - INFO - graphrag.logger.progress - Summarize entity/relationship description progress: 210/362\n"
     ]
    },
    {
     "name": "stderr",
     "output_type": "stream",
     "text": [
      "INFO:graphrag.logger.progress:Summarize entity/relationship description progress: 210/362\n"
     ]
    },
    {
     "name": "stdout",
     "output_type": "stream",
     "text": [
      "2025-08-10 22:12:40.0825 - INFO - graphrag.logger.progress - Summarize entity/relationship description progress: 211/362\n"
     ]
    },
    {
     "name": "stderr",
     "output_type": "stream",
     "text": [
      "INFO:graphrag.logger.progress:Summarize entity/relationship description progress: 211/362\n"
     ]
    },
    {
     "name": "stdout",
     "output_type": "stream",
     "text": [
      "2025-08-10 22:12:40.0826 - INFO - graphrag.logger.progress - Summarize entity/relationship description progress: 212/362\n"
     ]
    },
    {
     "name": "stderr",
     "output_type": "stream",
     "text": [
      "INFO:graphrag.logger.progress:Summarize entity/relationship description progress: 212/362\n"
     ]
    },
    {
     "name": "stdout",
     "output_type": "stream",
     "text": [
      "2025-08-10 22:12:40.0827 - INFO - graphrag.logger.progress - Summarize entity/relationship description progress: 213/362\n"
     ]
    },
    {
     "name": "stderr",
     "output_type": "stream",
     "text": [
      "INFO:graphrag.logger.progress:Summarize entity/relationship description progress: 213/362\n"
     ]
    },
    {
     "name": "stdout",
     "output_type": "stream",
     "text": [
      "2025-08-10 22:12:40.0828 - INFO - graphrag.logger.progress - Summarize entity/relationship description progress: 214/362\n"
     ]
    },
    {
     "name": "stderr",
     "output_type": "stream",
     "text": [
      "INFO:graphrag.logger.progress:Summarize entity/relationship description progress: 214/362\n"
     ]
    },
    {
     "name": "stdout",
     "output_type": "stream",
     "text": [
      "2025-08-10 22:12:40.0829 - INFO - graphrag.logger.progress - Summarize entity/relationship description progress: 215/362\n"
     ]
    },
    {
     "name": "stderr",
     "output_type": "stream",
     "text": [
      "INFO:graphrag.logger.progress:Summarize entity/relationship description progress: 215/362\n"
     ]
    },
    {
     "name": "stdout",
     "output_type": "stream",
     "text": [
      "2025-08-10 22:12:40.0831 - INFO - graphrag.logger.progress - Summarize entity/relationship description progress: 216/362\n"
     ]
    },
    {
     "name": "stderr",
     "output_type": "stream",
     "text": [
      "INFO:graphrag.logger.progress:Summarize entity/relationship description progress: 216/362\n"
     ]
    },
    {
     "name": "stdout",
     "output_type": "stream",
     "text": [
      "2025-08-10 22:12:40.0833 - INFO - graphrag.logger.progress - Summarize entity/relationship description progress: 217/362\n"
     ]
    },
    {
     "name": "stderr",
     "output_type": "stream",
     "text": [
      "INFO:graphrag.logger.progress:Summarize entity/relationship description progress: 217/362\n"
     ]
    },
    {
     "name": "stdout",
     "output_type": "stream",
     "text": [
      "2025-08-10 22:12:40.0834 - INFO - graphrag.logger.progress - Summarize entity/relationship description progress: 218/362\n"
     ]
    },
    {
     "name": "stderr",
     "output_type": "stream",
     "text": [
      "INFO:graphrag.logger.progress:Summarize entity/relationship description progress: 218/362\n"
     ]
    },
    {
     "name": "stdout",
     "output_type": "stream",
     "text": [
      "2025-08-10 22:12:40.0835 - INFO - graphrag.logger.progress - Summarize entity/relationship description progress: 219/362\n"
     ]
    },
    {
     "name": "stderr",
     "output_type": "stream",
     "text": [
      "INFO:graphrag.logger.progress:Summarize entity/relationship description progress: 219/362\n"
     ]
    },
    {
     "name": "stdout",
     "output_type": "stream",
     "text": [
      "2025-08-10 22:12:40.0836 - INFO - graphrag.logger.progress - Summarize entity/relationship description progress: 220/362\n"
     ]
    },
    {
     "name": "stderr",
     "output_type": "stream",
     "text": [
      "INFO:graphrag.logger.progress:Summarize entity/relationship description progress: 220/362\n"
     ]
    },
    {
     "name": "stdout",
     "output_type": "stream",
     "text": [
      "2025-08-10 22:12:40.0837 - INFO - graphrag.logger.progress - Summarize entity/relationship description progress: 221/362\n"
     ]
    },
    {
     "name": "stderr",
     "output_type": "stream",
     "text": [
      "INFO:graphrag.logger.progress:Summarize entity/relationship description progress: 221/362\n"
     ]
    },
    {
     "name": "stdout",
     "output_type": "stream",
     "text": [
      "2025-08-10 22:12:40.0838 - INFO - graphrag.logger.progress - Summarize entity/relationship description progress: 222/362\n"
     ]
    },
    {
     "name": "stderr",
     "output_type": "stream",
     "text": [
      "INFO:graphrag.logger.progress:Summarize entity/relationship description progress: 222/362\n"
     ]
    },
    {
     "name": "stdout",
     "output_type": "stream",
     "text": [
      "2025-08-10 22:12:40.0839 - INFO - graphrag.logger.progress - Summarize entity/relationship description progress: 223/362\n"
     ]
    },
    {
     "name": "stderr",
     "output_type": "stream",
     "text": [
      "INFO:graphrag.logger.progress:Summarize entity/relationship description progress: 223/362\n"
     ]
    },
    {
     "name": "stdout",
     "output_type": "stream",
     "text": [
      "2025-08-10 22:12:40.0840 - INFO - graphrag.logger.progress - Summarize entity/relationship description progress: 224/362\n"
     ]
    },
    {
     "name": "stderr",
     "output_type": "stream",
     "text": [
      "INFO:graphrag.logger.progress:Summarize entity/relationship description progress: 224/362\n"
     ]
    },
    {
     "name": "stdout",
     "output_type": "stream",
     "text": [
      "2025-08-10 22:12:40.0841 - INFO - graphrag.logger.progress - Summarize entity/relationship description progress: 225/362\n"
     ]
    },
    {
     "name": "stderr",
     "output_type": "stream",
     "text": [
      "INFO:graphrag.logger.progress:Summarize entity/relationship description progress: 225/362\n"
     ]
    },
    {
     "name": "stdout",
     "output_type": "stream",
     "text": [
      "2025-08-10 22:12:40.0843 - INFO - graphrag.logger.progress - Summarize entity/relationship description progress: 226/362\n"
     ]
    },
    {
     "name": "stderr",
     "output_type": "stream",
     "text": [
      "INFO:graphrag.logger.progress:Summarize entity/relationship description progress: 226/362\n"
     ]
    },
    {
     "name": "stdout",
     "output_type": "stream",
     "text": [
      "2025-08-10 22:12:40.0844 - INFO - graphrag.logger.progress - Summarize entity/relationship description progress: 227/362\n"
     ]
    },
    {
     "name": "stderr",
     "output_type": "stream",
     "text": [
      "INFO:graphrag.logger.progress:Summarize entity/relationship description progress: 227/362\n"
     ]
    },
    {
     "name": "stdout",
     "output_type": "stream",
     "text": [
      "2025-08-10 22:12:40.0845 - INFO - graphrag.logger.progress - Summarize entity/relationship description progress: 228/362\n"
     ]
    },
    {
     "name": "stderr",
     "output_type": "stream",
     "text": [
      "INFO:graphrag.logger.progress:Summarize entity/relationship description progress: 228/362\n"
     ]
    },
    {
     "name": "stdout",
     "output_type": "stream",
     "text": [
      "2025-08-10 22:12:40.0847 - INFO - graphrag.logger.progress - Summarize entity/relationship description progress: 229/362\n"
     ]
    },
    {
     "name": "stderr",
     "output_type": "stream",
     "text": [
      "INFO:graphrag.logger.progress:Summarize entity/relationship description progress: 229/362\n"
     ]
    },
    {
     "name": "stdout",
     "output_type": "stream",
     "text": [
      "2025-08-10 22:12:40.0848 - INFO - graphrag.logger.progress - Summarize entity/relationship description progress: 230/362\n"
     ]
    },
    {
     "name": "stderr",
     "output_type": "stream",
     "text": [
      "INFO:graphrag.logger.progress:Summarize entity/relationship description progress: 230/362\n"
     ]
    },
    {
     "name": "stdout",
     "output_type": "stream",
     "text": [
      "2025-08-10 22:12:40.0849 - INFO - graphrag.logger.progress - Summarize entity/relationship description progress: 231/362\n"
     ]
    },
    {
     "name": "stderr",
     "output_type": "stream",
     "text": [
      "INFO:graphrag.logger.progress:Summarize entity/relationship description progress: 231/362\n"
     ]
    },
    {
     "name": "stdout",
     "output_type": "stream",
     "text": [
      "2025-08-10 22:12:40.0850 - INFO - graphrag.logger.progress - Summarize entity/relationship description progress: 232/362\n"
     ]
    },
    {
     "name": "stderr",
     "output_type": "stream",
     "text": [
      "INFO:graphrag.logger.progress:Summarize entity/relationship description progress: 232/362\n"
     ]
    },
    {
     "name": "stdout",
     "output_type": "stream",
     "text": [
      "2025-08-10 22:12:40.0852 - INFO - graphrag.logger.progress - Summarize entity/relationship description progress: 233/362\n"
     ]
    },
    {
     "name": "stderr",
     "output_type": "stream",
     "text": [
      "INFO:graphrag.logger.progress:Summarize entity/relationship description progress: 233/362\n"
     ]
    },
    {
     "name": "stdout",
     "output_type": "stream",
     "text": [
      "2025-08-10 22:12:40.0853 - INFO - graphrag.logger.progress - Summarize entity/relationship description progress: 234/362\n"
     ]
    },
    {
     "name": "stderr",
     "output_type": "stream",
     "text": [
      "INFO:graphrag.logger.progress:Summarize entity/relationship description progress: 234/362\n"
     ]
    },
    {
     "name": "stdout",
     "output_type": "stream",
     "text": [
      "2025-08-10 22:12:40.0854 - INFO - graphrag.logger.progress - Summarize entity/relationship description progress: 235/362\n"
     ]
    },
    {
     "name": "stderr",
     "output_type": "stream",
     "text": [
      "INFO:graphrag.logger.progress:Summarize entity/relationship description progress: 235/362\n"
     ]
    },
    {
     "name": "stdout",
     "output_type": "stream",
     "text": [
      "2025-08-10 22:12:40.0856 - INFO - graphrag.logger.progress - Summarize entity/relationship description progress: 236/362\n"
     ]
    },
    {
     "name": "stderr",
     "output_type": "stream",
     "text": [
      "INFO:graphrag.logger.progress:Summarize entity/relationship description progress: 236/362\n"
     ]
    },
    {
     "name": "stdout",
     "output_type": "stream",
     "text": [
      "2025-08-10 22:12:40.0856 - INFO - graphrag.logger.progress - Summarize entity/relationship description progress: 237/362\n"
     ]
    },
    {
     "name": "stderr",
     "output_type": "stream",
     "text": [
      "INFO:graphrag.logger.progress:Summarize entity/relationship description progress: 237/362\n"
     ]
    },
    {
     "name": "stdout",
     "output_type": "stream",
     "text": [
      "2025-08-10 22:12:40.0858 - INFO - graphrag.logger.progress - Summarize entity/relationship description progress: 238/362\n"
     ]
    },
    {
     "name": "stderr",
     "output_type": "stream",
     "text": [
      "INFO:graphrag.logger.progress:Summarize entity/relationship description progress: 238/362\n"
     ]
    },
    {
     "name": "stdout",
     "output_type": "stream",
     "text": [
      "2025-08-10 22:12:40.0859 - INFO - graphrag.logger.progress - Summarize entity/relationship description progress: 239/362\n"
     ]
    },
    {
     "name": "stderr",
     "output_type": "stream",
     "text": [
      "INFO:graphrag.logger.progress:Summarize entity/relationship description progress: 239/362\n"
     ]
    },
    {
     "name": "stdout",
     "output_type": "stream",
     "text": [
      "2025-08-10 22:12:40.0860 - INFO - graphrag.logger.progress - Summarize entity/relationship description progress: 240/362\n"
     ]
    },
    {
     "name": "stderr",
     "output_type": "stream",
     "text": [
      "INFO:graphrag.logger.progress:Summarize entity/relationship description progress: 240/362\n"
     ]
    },
    {
     "name": "stdout",
     "output_type": "stream",
     "text": [
      "2025-08-10 22:12:40.0862 - INFO - graphrag.logger.progress - Summarize entity/relationship description progress: 241/362\n"
     ]
    },
    {
     "name": "stderr",
     "output_type": "stream",
     "text": [
      "INFO:graphrag.logger.progress:Summarize entity/relationship description progress: 241/362\n"
     ]
    },
    {
     "name": "stdout",
     "output_type": "stream",
     "text": [
      "2025-08-10 22:12:40.0863 - INFO - graphrag.logger.progress - Summarize entity/relationship description progress: 242/362\n"
     ]
    },
    {
     "name": "stderr",
     "output_type": "stream",
     "text": [
      "INFO:graphrag.logger.progress:Summarize entity/relationship description progress: 242/362\n"
     ]
    },
    {
     "name": "stdout",
     "output_type": "stream",
     "text": [
      "2025-08-10 22:12:40.0865 - INFO - graphrag.logger.progress - Summarize entity/relationship description progress: 243/362\n"
     ]
    },
    {
     "name": "stderr",
     "output_type": "stream",
     "text": [
      "INFO:graphrag.logger.progress:Summarize entity/relationship description progress: 243/362\n"
     ]
    },
    {
     "name": "stdout",
     "output_type": "stream",
     "text": [
      "2025-08-10 22:12:40.0866 - INFO - graphrag.logger.progress - Summarize entity/relationship description progress: 244/362\n"
     ]
    },
    {
     "name": "stderr",
     "output_type": "stream",
     "text": [
      "INFO:graphrag.logger.progress:Summarize entity/relationship description progress: 244/362\n"
     ]
    },
    {
     "name": "stdout",
     "output_type": "stream",
     "text": [
      "2025-08-10 22:12:40.0867 - INFO - graphrag.logger.progress - Summarize entity/relationship description progress: 245/362\n"
     ]
    },
    {
     "name": "stderr",
     "output_type": "stream",
     "text": [
      "INFO:graphrag.logger.progress:Summarize entity/relationship description progress: 245/362\n"
     ]
    },
    {
     "name": "stdout",
     "output_type": "stream",
     "text": [
      "2025-08-10 22:12:40.0869 - INFO - graphrag.logger.progress - Summarize entity/relationship description progress: 246/362\n"
     ]
    },
    {
     "name": "stderr",
     "output_type": "stream",
     "text": [
      "INFO:graphrag.logger.progress:Summarize entity/relationship description progress: 246/362\n"
     ]
    },
    {
     "name": "stdout",
     "output_type": "stream",
     "text": [
      "2025-08-10 22:12:40.0870 - INFO - graphrag.logger.progress - Summarize entity/relationship description progress: 247/362\n"
     ]
    },
    {
     "name": "stderr",
     "output_type": "stream",
     "text": [
      "INFO:graphrag.logger.progress:Summarize entity/relationship description progress: 247/362\n"
     ]
    },
    {
     "name": "stdout",
     "output_type": "stream",
     "text": [
      "2025-08-10 22:12:40.0871 - INFO - graphrag.logger.progress - Summarize entity/relationship description progress: 248/362\n"
     ]
    },
    {
     "name": "stderr",
     "output_type": "stream",
     "text": [
      "INFO:graphrag.logger.progress:Summarize entity/relationship description progress: 248/362\n"
     ]
    },
    {
     "name": "stdout",
     "output_type": "stream",
     "text": [
      "2025-08-10 22:12:40.0873 - INFO - graphrag.logger.progress - Summarize entity/relationship description progress: 249/362\n"
     ]
    },
    {
     "name": "stderr",
     "output_type": "stream",
     "text": [
      "INFO:graphrag.logger.progress:Summarize entity/relationship description progress: 249/362\n"
     ]
    },
    {
     "name": "stdout",
     "output_type": "stream",
     "text": [
      "2025-08-10 22:12:40.0874 - INFO - graphrag.logger.progress - Summarize entity/relationship description progress: 250/362\n"
     ]
    },
    {
     "name": "stderr",
     "output_type": "stream",
     "text": [
      "INFO:graphrag.logger.progress:Summarize entity/relationship description progress: 250/362\n"
     ]
    },
    {
     "name": "stdout",
     "output_type": "stream",
     "text": [
      "2025-08-10 22:12:40.0875 - INFO - graphrag.logger.progress - Summarize entity/relationship description progress: 251/362\n"
     ]
    },
    {
     "name": "stderr",
     "output_type": "stream",
     "text": [
      "INFO:graphrag.logger.progress:Summarize entity/relationship description progress: 251/362\n"
     ]
    },
    {
     "name": "stdout",
     "output_type": "stream",
     "text": [
      "2025-08-10 22:12:40.0876 - INFO - graphrag.logger.progress - Summarize entity/relationship description progress: 252/362\n"
     ]
    },
    {
     "name": "stderr",
     "output_type": "stream",
     "text": [
      "INFO:graphrag.logger.progress:Summarize entity/relationship description progress: 252/362\n"
     ]
    },
    {
     "name": "stdout",
     "output_type": "stream",
     "text": [
      "2025-08-10 22:12:40.0878 - INFO - graphrag.logger.progress - Summarize entity/relationship description progress: 253/362\n"
     ]
    },
    {
     "name": "stderr",
     "output_type": "stream",
     "text": [
      "INFO:graphrag.logger.progress:Summarize entity/relationship description progress: 253/362\n"
     ]
    },
    {
     "name": "stdout",
     "output_type": "stream",
     "text": [
      "2025-08-10 22:12:40.0879 - INFO - graphrag.logger.progress - Summarize entity/relationship description progress: 254/362\n"
     ]
    },
    {
     "name": "stderr",
     "output_type": "stream",
     "text": [
      "INFO:graphrag.logger.progress:Summarize entity/relationship description progress: 254/362\n"
     ]
    },
    {
     "name": "stdout",
     "output_type": "stream",
     "text": [
      "2025-08-10 22:12:40.0881 - INFO - graphrag.logger.progress - Summarize entity/relationship description progress: 255/362\n"
     ]
    },
    {
     "name": "stderr",
     "output_type": "stream",
     "text": [
      "INFO:graphrag.logger.progress:Summarize entity/relationship description progress: 255/362\n"
     ]
    },
    {
     "name": "stdout",
     "output_type": "stream",
     "text": [
      "2025-08-10 22:12:40.0882 - INFO - graphrag.logger.progress - Summarize entity/relationship description progress: 256/362\n"
     ]
    },
    {
     "name": "stderr",
     "output_type": "stream",
     "text": [
      "INFO:graphrag.logger.progress:Summarize entity/relationship description progress: 256/362\n"
     ]
    },
    {
     "name": "stdout",
     "output_type": "stream",
     "text": [
      "2025-08-10 22:12:40.0883 - INFO - graphrag.logger.progress - Summarize entity/relationship description progress: 257/362\n"
     ]
    },
    {
     "name": "stderr",
     "output_type": "stream",
     "text": [
      "INFO:graphrag.logger.progress:Summarize entity/relationship description progress: 257/362\n"
     ]
    },
    {
     "name": "stdout",
     "output_type": "stream",
     "text": [
      "2025-08-10 22:12:40.0886 - INFO - graphrag.logger.progress - Summarize entity/relationship description progress: 258/362\n"
     ]
    },
    {
     "name": "stderr",
     "output_type": "stream",
     "text": [
      "INFO:graphrag.logger.progress:Summarize entity/relationship description progress: 258/362\n"
     ]
    },
    {
     "name": "stdout",
     "output_type": "stream",
     "text": [
      "2025-08-10 22:12:40.0888 - INFO - graphrag.logger.progress - Summarize entity/relationship description progress: 259/362\n"
     ]
    },
    {
     "name": "stderr",
     "output_type": "stream",
     "text": [
      "INFO:graphrag.logger.progress:Summarize entity/relationship description progress: 259/362\n"
     ]
    },
    {
     "name": "stdout",
     "output_type": "stream",
     "text": [
      "2025-08-10 22:12:40.0891 - INFO - graphrag.logger.progress - Summarize entity/relationship description progress: 260/362\n"
     ]
    },
    {
     "name": "stderr",
     "output_type": "stream",
     "text": [
      "INFO:graphrag.logger.progress:Summarize entity/relationship description progress: 260/362\n"
     ]
    },
    {
     "name": "stdout",
     "output_type": "stream",
     "text": [
      "2025-08-10 22:12:40.0892 - INFO - graphrag.logger.progress - Summarize entity/relationship description progress: 261/362\n"
     ]
    },
    {
     "name": "stderr",
     "output_type": "stream",
     "text": [
      "INFO:graphrag.logger.progress:Summarize entity/relationship description progress: 261/362\n"
     ]
    },
    {
     "name": "stdout",
     "output_type": "stream",
     "text": [
      "2025-08-10 22:12:40.0895 - INFO - graphrag.logger.progress - Summarize entity/relationship description progress: 262/362\n"
     ]
    },
    {
     "name": "stderr",
     "output_type": "stream",
     "text": [
      "INFO:graphrag.logger.progress:Summarize entity/relationship description progress: 262/362\n"
     ]
    },
    {
     "name": "stdout",
     "output_type": "stream",
     "text": [
      "2025-08-10 22:12:40.0895 - INFO - graphrag.logger.progress - Summarize entity/relationship description progress: 263/362\n"
     ]
    },
    {
     "name": "stderr",
     "output_type": "stream",
     "text": [
      "INFO:graphrag.logger.progress:Summarize entity/relationship description progress: 263/362\n"
     ]
    },
    {
     "name": "stdout",
     "output_type": "stream",
     "text": [
      "2025-08-10 22:12:40.0899 - INFO - graphrag.logger.progress - Summarize entity/relationship description progress: 264/362\n"
     ]
    },
    {
     "name": "stderr",
     "output_type": "stream",
     "text": [
      "INFO:graphrag.logger.progress:Summarize entity/relationship description progress: 264/362\n"
     ]
    },
    {
     "name": "stdout",
     "output_type": "stream",
     "text": [
      "2025-08-10 22:12:40.0900 - INFO - graphrag.logger.progress - Summarize entity/relationship description progress: 265/362\n"
     ]
    },
    {
     "name": "stderr",
     "output_type": "stream",
     "text": [
      "INFO:graphrag.logger.progress:Summarize entity/relationship description progress: 265/362\n"
     ]
    },
    {
     "name": "stdout",
     "output_type": "stream",
     "text": [
      "2025-08-10 22:12:40.0901 - INFO - graphrag.logger.progress - Summarize entity/relationship description progress: 266/362\n"
     ]
    },
    {
     "name": "stderr",
     "output_type": "stream",
     "text": [
      "INFO:graphrag.logger.progress:Summarize entity/relationship description progress: 266/362\n"
     ]
    },
    {
     "name": "stdout",
     "output_type": "stream",
     "text": [
      "2025-08-10 22:12:40.0903 - INFO - graphrag.logger.progress - Summarize entity/relationship description progress: 267/362\n"
     ]
    },
    {
     "name": "stderr",
     "output_type": "stream",
     "text": [
      "INFO:graphrag.logger.progress:Summarize entity/relationship description progress: 267/362\n"
     ]
    },
    {
     "name": "stdout",
     "output_type": "stream",
     "text": [
      "2025-08-10 22:12:40.0904 - INFO - graphrag.logger.progress - Summarize entity/relationship description progress: 268/362\n"
     ]
    },
    {
     "name": "stderr",
     "output_type": "stream",
     "text": [
      "INFO:graphrag.logger.progress:Summarize entity/relationship description progress: 268/362\n"
     ]
    },
    {
     "name": "stdout",
     "output_type": "stream",
     "text": [
      "2025-08-10 22:12:40.0905 - INFO - graphrag.logger.progress - Summarize entity/relationship description progress: 269/362\n"
     ]
    },
    {
     "name": "stderr",
     "output_type": "stream",
     "text": [
      "INFO:graphrag.logger.progress:Summarize entity/relationship description progress: 269/362\n"
     ]
    },
    {
     "name": "stdout",
     "output_type": "stream",
     "text": [
      "2025-08-10 22:12:40.0906 - INFO - graphrag.logger.progress - Summarize entity/relationship description progress: 270/362\n"
     ]
    },
    {
     "name": "stderr",
     "output_type": "stream",
     "text": [
      "INFO:graphrag.logger.progress:Summarize entity/relationship description progress: 270/362\n"
     ]
    },
    {
     "name": "stdout",
     "output_type": "stream",
     "text": [
      "2025-08-10 22:12:40.0909 - INFO - graphrag.logger.progress - Summarize entity/relationship description progress: 271/362\n"
     ]
    },
    {
     "name": "stderr",
     "output_type": "stream",
     "text": [
      "INFO:graphrag.logger.progress:Summarize entity/relationship description progress: 271/362\n"
     ]
    },
    {
     "name": "stdout",
     "output_type": "stream",
     "text": [
      "2025-08-10 22:12:40.0911 - INFO - graphrag.logger.progress - Summarize entity/relationship description progress: 272/362\n"
     ]
    },
    {
     "name": "stderr",
     "output_type": "stream",
     "text": [
      "INFO:graphrag.logger.progress:Summarize entity/relationship description progress: 272/362\n"
     ]
    },
    {
     "name": "stdout",
     "output_type": "stream",
     "text": [
      "2025-08-10 22:12:40.0912 - INFO - graphrag.logger.progress - Summarize entity/relationship description progress: 273/362\n"
     ]
    },
    {
     "name": "stderr",
     "output_type": "stream",
     "text": [
      "INFO:graphrag.logger.progress:Summarize entity/relationship description progress: 273/362\n"
     ]
    },
    {
     "name": "stdout",
     "output_type": "stream",
     "text": [
      "2025-08-10 22:12:40.0915 - INFO - graphrag.logger.progress - Summarize entity/relationship description progress: 274/362\n"
     ]
    },
    {
     "name": "stderr",
     "output_type": "stream",
     "text": [
      "INFO:graphrag.logger.progress:Summarize entity/relationship description progress: 274/362\n"
     ]
    },
    {
     "name": "stdout",
     "output_type": "stream",
     "text": [
      "2025-08-10 22:12:40.0916 - INFO - graphrag.logger.progress - Summarize entity/relationship description progress: 275/362\n"
     ]
    },
    {
     "name": "stderr",
     "output_type": "stream",
     "text": [
      "INFO:graphrag.logger.progress:Summarize entity/relationship description progress: 275/362\n"
     ]
    },
    {
     "name": "stdout",
     "output_type": "stream",
     "text": [
      "2025-08-10 22:12:40.0918 - INFO - graphrag.logger.progress - Summarize entity/relationship description progress: 276/362\n"
     ]
    },
    {
     "name": "stderr",
     "output_type": "stream",
     "text": [
      "INFO:graphrag.logger.progress:Summarize entity/relationship description progress: 276/362\n"
     ]
    },
    {
     "name": "stdout",
     "output_type": "stream",
     "text": [
      "2025-08-10 22:12:40.0919 - INFO - graphrag.logger.progress - Summarize entity/relationship description progress: 277/362\n"
     ]
    },
    {
     "name": "stderr",
     "output_type": "stream",
     "text": [
      "INFO:graphrag.logger.progress:Summarize entity/relationship description progress: 277/362\n"
     ]
    },
    {
     "name": "stdout",
     "output_type": "stream",
     "text": [
      "2025-08-10 22:12:40.0920 - INFO - graphrag.logger.progress - Summarize entity/relationship description progress: 278/362\n"
     ]
    },
    {
     "name": "stderr",
     "output_type": "stream",
     "text": [
      "INFO:graphrag.logger.progress:Summarize entity/relationship description progress: 278/362\n"
     ]
    },
    {
     "name": "stdout",
     "output_type": "stream",
     "text": [
      "2025-08-10 22:12:40.0921 - INFO - graphrag.logger.progress - Summarize entity/relationship description progress: 279/362\n"
     ]
    },
    {
     "name": "stderr",
     "output_type": "stream",
     "text": [
      "INFO:graphrag.logger.progress:Summarize entity/relationship description progress: 279/362\n"
     ]
    },
    {
     "name": "stdout",
     "output_type": "stream",
     "text": [
      "2025-08-10 22:12:40.0923 - INFO - graphrag.logger.progress - Summarize entity/relationship description progress: 280/362\n"
     ]
    },
    {
     "name": "stderr",
     "output_type": "stream",
     "text": [
      "INFO:graphrag.logger.progress:Summarize entity/relationship description progress: 280/362\n"
     ]
    },
    {
     "name": "stdout",
     "output_type": "stream",
     "text": [
      "2025-08-10 22:12:40.0924 - INFO - graphrag.logger.progress - Summarize entity/relationship description progress: 281/362\n"
     ]
    },
    {
     "name": "stderr",
     "output_type": "stream",
     "text": [
      "INFO:graphrag.logger.progress:Summarize entity/relationship description progress: 281/362\n"
     ]
    },
    {
     "name": "stdout",
     "output_type": "stream",
     "text": [
      "2025-08-10 22:12:40.0925 - INFO - graphrag.logger.progress - Summarize entity/relationship description progress: 282/362\n"
     ]
    },
    {
     "name": "stderr",
     "output_type": "stream",
     "text": [
      "INFO:graphrag.logger.progress:Summarize entity/relationship description progress: 282/362\n"
     ]
    },
    {
     "name": "stdout",
     "output_type": "stream",
     "text": [
      "2025-08-10 22:12:40.0927 - INFO - graphrag.logger.progress - Summarize entity/relationship description progress: 283/362\n"
     ]
    },
    {
     "name": "stderr",
     "output_type": "stream",
     "text": [
      "INFO:graphrag.logger.progress:Summarize entity/relationship description progress: 283/362\n"
     ]
    },
    {
     "name": "stdout",
     "output_type": "stream",
     "text": [
      "2025-08-10 22:12:40.0928 - INFO - graphrag.logger.progress - Summarize entity/relationship description progress: 284/362\n"
     ]
    },
    {
     "name": "stderr",
     "output_type": "stream",
     "text": [
      "INFO:graphrag.logger.progress:Summarize entity/relationship description progress: 284/362\n"
     ]
    },
    {
     "name": "stdout",
     "output_type": "stream",
     "text": [
      "2025-08-10 22:12:40.0929 - INFO - graphrag.logger.progress - Summarize entity/relationship description progress: 285/362\n"
     ]
    },
    {
     "name": "stderr",
     "output_type": "stream",
     "text": [
      "INFO:graphrag.logger.progress:Summarize entity/relationship description progress: 285/362\n"
     ]
    },
    {
     "name": "stdout",
     "output_type": "stream",
     "text": [
      "2025-08-10 22:12:40.0931 - INFO - graphrag.logger.progress - Summarize entity/relationship description progress: 286/362\n"
     ]
    },
    {
     "name": "stderr",
     "output_type": "stream",
     "text": [
      "INFO:graphrag.logger.progress:Summarize entity/relationship description progress: 286/362\n"
     ]
    },
    {
     "name": "stdout",
     "output_type": "stream",
     "text": [
      "2025-08-10 22:12:40.0932 - INFO - graphrag.logger.progress - Summarize entity/relationship description progress: 287/362\n"
     ]
    },
    {
     "name": "stderr",
     "output_type": "stream",
     "text": [
      "INFO:graphrag.logger.progress:Summarize entity/relationship description progress: 287/362\n"
     ]
    },
    {
     "name": "stdout",
     "output_type": "stream",
     "text": [
      "2025-08-10 22:12:40.0933 - INFO - graphrag.logger.progress - Summarize entity/relationship description progress: 288/362\n"
     ]
    },
    {
     "name": "stderr",
     "output_type": "stream",
     "text": [
      "INFO:graphrag.logger.progress:Summarize entity/relationship description progress: 288/362\n"
     ]
    },
    {
     "name": "stdout",
     "output_type": "stream",
     "text": [
      "2025-08-10 22:12:40.0934 - INFO - graphrag.logger.progress - Summarize entity/relationship description progress: 289/362\n"
     ]
    },
    {
     "name": "stderr",
     "output_type": "stream",
     "text": [
      "INFO:graphrag.logger.progress:Summarize entity/relationship description progress: 289/362\n"
     ]
    },
    {
     "name": "stdout",
     "output_type": "stream",
     "text": [
      "2025-08-10 22:12:40.0935 - INFO - graphrag.logger.progress - Summarize entity/relationship description progress: 290/362\n"
     ]
    },
    {
     "name": "stderr",
     "output_type": "stream",
     "text": [
      "INFO:graphrag.logger.progress:Summarize entity/relationship description progress: 290/362\n"
     ]
    },
    {
     "name": "stdout",
     "output_type": "stream",
     "text": [
      "2025-08-10 22:12:40.0937 - INFO - graphrag.logger.progress - Summarize entity/relationship description progress: 291/362\n"
     ]
    },
    {
     "name": "stderr",
     "output_type": "stream",
     "text": [
      "INFO:graphrag.logger.progress:Summarize entity/relationship description progress: 291/362\n"
     ]
    },
    {
     "name": "stdout",
     "output_type": "stream",
     "text": [
      "2025-08-10 22:12:40.0937 - INFO - graphrag.logger.progress - Summarize entity/relationship description progress: 292/362\n"
     ]
    },
    {
     "name": "stderr",
     "output_type": "stream",
     "text": [
      "INFO:graphrag.logger.progress:Summarize entity/relationship description progress: 292/362\n"
     ]
    },
    {
     "name": "stdout",
     "output_type": "stream",
     "text": [
      "2025-08-10 22:12:40.0939 - INFO - graphrag.logger.progress - Summarize entity/relationship description progress: 293/362\n"
     ]
    },
    {
     "name": "stderr",
     "output_type": "stream",
     "text": [
      "INFO:graphrag.logger.progress:Summarize entity/relationship description progress: 293/362\n"
     ]
    },
    {
     "name": "stdout",
     "output_type": "stream",
     "text": [
      "2025-08-10 22:12:40.0940 - INFO - graphrag.logger.progress - Summarize entity/relationship description progress: 294/362\n"
     ]
    },
    {
     "name": "stderr",
     "output_type": "stream",
     "text": [
      "INFO:graphrag.logger.progress:Summarize entity/relationship description progress: 294/362\n"
     ]
    },
    {
     "name": "stdout",
     "output_type": "stream",
     "text": [
      "2025-08-10 22:12:40.0942 - INFO - graphrag.logger.progress - Summarize entity/relationship description progress: 295/362\n"
     ]
    },
    {
     "name": "stderr",
     "output_type": "stream",
     "text": [
      "INFO:graphrag.logger.progress:Summarize entity/relationship description progress: 295/362\n"
     ]
    },
    {
     "name": "stdout",
     "output_type": "stream",
     "text": [
      "2025-08-10 22:12:40.0943 - INFO - graphrag.logger.progress - Summarize entity/relationship description progress: 296/362\n"
     ]
    },
    {
     "name": "stderr",
     "output_type": "stream",
     "text": [
      "INFO:graphrag.logger.progress:Summarize entity/relationship description progress: 296/362\n"
     ]
    },
    {
     "name": "stdout",
     "output_type": "stream",
     "text": [
      "2025-08-10 22:12:40.0944 - INFO - graphrag.logger.progress - Summarize entity/relationship description progress: 297/362\n"
     ]
    },
    {
     "name": "stderr",
     "output_type": "stream",
     "text": [
      "INFO:graphrag.logger.progress:Summarize entity/relationship description progress: 297/362\n"
     ]
    },
    {
     "name": "stdout",
     "output_type": "stream",
     "text": [
      "2025-08-10 22:12:40.0946 - INFO - graphrag.logger.progress - Summarize entity/relationship description progress: 298/362\n"
     ]
    },
    {
     "name": "stderr",
     "output_type": "stream",
     "text": [
      "INFO:graphrag.logger.progress:Summarize entity/relationship description progress: 298/362\n"
     ]
    },
    {
     "name": "stdout",
     "output_type": "stream",
     "text": [
      "2025-08-10 22:12:40.0947 - INFO - graphrag.logger.progress - Summarize entity/relationship description progress: 299/362\n"
     ]
    },
    {
     "name": "stderr",
     "output_type": "stream",
     "text": [
      "INFO:graphrag.logger.progress:Summarize entity/relationship description progress: 299/362\n"
     ]
    },
    {
     "name": "stdout",
     "output_type": "stream",
     "text": [
      "2025-08-10 22:12:40.0949 - INFO - graphrag.logger.progress - Summarize entity/relationship description progress: 300/362\n"
     ]
    },
    {
     "name": "stderr",
     "output_type": "stream",
     "text": [
      "INFO:graphrag.logger.progress:Summarize entity/relationship description progress: 300/362\n"
     ]
    },
    {
     "name": "stdout",
     "output_type": "stream",
     "text": [
      "2025-08-10 22:12:40.0950 - INFO - graphrag.logger.progress - Summarize entity/relationship description progress: 301/362\n"
     ]
    },
    {
     "name": "stderr",
     "output_type": "stream",
     "text": [
      "INFO:graphrag.logger.progress:Summarize entity/relationship description progress: 301/362\n"
     ]
    },
    {
     "name": "stdout",
     "output_type": "stream",
     "text": [
      "2025-08-10 22:12:40.0951 - INFO - graphrag.logger.progress - Summarize entity/relationship description progress: 302/362\n"
     ]
    },
    {
     "name": "stderr",
     "output_type": "stream",
     "text": [
      "INFO:graphrag.logger.progress:Summarize entity/relationship description progress: 302/362\n"
     ]
    },
    {
     "name": "stdout",
     "output_type": "stream",
     "text": [
      "2025-08-10 22:12:40.0952 - INFO - graphrag.logger.progress - Summarize entity/relationship description progress: 303/362\n"
     ]
    },
    {
     "name": "stderr",
     "output_type": "stream",
     "text": [
      "INFO:graphrag.logger.progress:Summarize entity/relationship description progress: 303/362\n"
     ]
    },
    {
     "name": "stdout",
     "output_type": "stream",
     "text": [
      "2025-08-10 22:12:40.0953 - INFO - graphrag.logger.progress - Summarize entity/relationship description progress: 304/362\n"
     ]
    },
    {
     "name": "stderr",
     "output_type": "stream",
     "text": [
      "INFO:graphrag.logger.progress:Summarize entity/relationship description progress: 304/362\n"
     ]
    },
    {
     "name": "stdout",
     "output_type": "stream",
     "text": [
      "2025-08-10 22:12:40.0954 - INFO - graphrag.logger.progress - Summarize entity/relationship description progress: 305/362\n"
     ]
    },
    {
     "name": "stderr",
     "output_type": "stream",
     "text": [
      "INFO:graphrag.logger.progress:Summarize entity/relationship description progress: 305/362\n"
     ]
    },
    {
     "name": "stdout",
     "output_type": "stream",
     "text": [
      "2025-08-10 22:12:40.0956 - INFO - graphrag.logger.progress - Summarize entity/relationship description progress: 306/362\n"
     ]
    },
    {
     "name": "stderr",
     "output_type": "stream",
     "text": [
      "INFO:graphrag.logger.progress:Summarize entity/relationship description progress: 306/362\n"
     ]
    },
    {
     "name": "stdout",
     "output_type": "stream",
     "text": [
      "2025-08-10 22:12:40.0957 - INFO - graphrag.logger.progress - Summarize entity/relationship description progress: 307/362\n"
     ]
    },
    {
     "name": "stderr",
     "output_type": "stream",
     "text": [
      "INFO:graphrag.logger.progress:Summarize entity/relationship description progress: 307/362\n"
     ]
    },
    {
     "name": "stdout",
     "output_type": "stream",
     "text": [
      "2025-08-10 22:12:40.0958 - INFO - graphrag.logger.progress - Summarize entity/relationship description progress: 308/362\n"
     ]
    },
    {
     "name": "stderr",
     "output_type": "stream",
     "text": [
      "INFO:graphrag.logger.progress:Summarize entity/relationship description progress: 308/362\n"
     ]
    },
    {
     "name": "stdout",
     "output_type": "stream",
     "text": [
      "2025-08-10 22:12:40.0961 - INFO - graphrag.logger.progress - Summarize entity/relationship description progress: 309/362\n"
     ]
    },
    {
     "name": "stderr",
     "output_type": "stream",
     "text": [
      "INFO:graphrag.logger.progress:Summarize entity/relationship description progress: 309/362\n"
     ]
    },
    {
     "name": "stdout",
     "output_type": "stream",
     "text": [
      "2025-08-10 22:12:40.0962 - INFO - graphrag.logger.progress - Summarize entity/relationship description progress: 310/362\n"
     ]
    },
    {
     "name": "stderr",
     "output_type": "stream",
     "text": [
      "INFO:graphrag.logger.progress:Summarize entity/relationship description progress: 310/362\n"
     ]
    },
    {
     "name": "stdout",
     "output_type": "stream",
     "text": [
      "2025-08-10 22:12:40.0964 - INFO - graphrag.logger.progress - Summarize entity/relationship description progress: 311/362\n"
     ]
    },
    {
     "name": "stderr",
     "output_type": "stream",
     "text": [
      "INFO:graphrag.logger.progress:Summarize entity/relationship description progress: 311/362\n"
     ]
    },
    {
     "name": "stdout",
     "output_type": "stream",
     "text": [
      "2025-08-10 22:12:40.0965 - INFO - graphrag.logger.progress - Summarize entity/relationship description progress: 312/362\n"
     ]
    },
    {
     "name": "stderr",
     "output_type": "stream",
     "text": [
      "INFO:graphrag.logger.progress:Summarize entity/relationship description progress: 312/362\n"
     ]
    },
    {
     "name": "stdout",
     "output_type": "stream",
     "text": [
      "2025-08-10 22:12:40.0967 - INFO - graphrag.logger.progress - Summarize entity/relationship description progress: 313/362\n"
     ]
    },
    {
     "name": "stderr",
     "output_type": "stream",
     "text": [
      "INFO:graphrag.logger.progress:Summarize entity/relationship description progress: 313/362\n"
     ]
    },
    {
     "name": "stdout",
     "output_type": "stream",
     "text": [
      "2025-08-10 22:12:40.0968 - INFO - graphrag.logger.progress - Summarize entity/relationship description progress: 314/362\n"
     ]
    },
    {
     "name": "stderr",
     "output_type": "stream",
     "text": [
      "INFO:graphrag.logger.progress:Summarize entity/relationship description progress: 314/362\n"
     ]
    },
    {
     "name": "stdout",
     "output_type": "stream",
     "text": [
      "2025-08-10 22:12:40.0969 - INFO - graphrag.logger.progress - Summarize entity/relationship description progress: 315/362\n"
     ]
    },
    {
     "name": "stderr",
     "output_type": "stream",
     "text": [
      "INFO:graphrag.logger.progress:Summarize entity/relationship description progress: 315/362\n"
     ]
    },
    {
     "name": "stdout",
     "output_type": "stream",
     "text": [
      "2025-08-10 22:12:40.0970 - INFO - graphrag.logger.progress - Summarize entity/relationship description progress: 316/362\n"
     ]
    },
    {
     "name": "stderr",
     "output_type": "stream",
     "text": [
      "INFO:graphrag.logger.progress:Summarize entity/relationship description progress: 316/362\n"
     ]
    },
    {
     "name": "stdout",
     "output_type": "stream",
     "text": [
      "2025-08-10 22:12:40.0972 - INFO - graphrag.logger.progress - Summarize entity/relationship description progress: 317/362\n"
     ]
    },
    {
     "name": "stderr",
     "output_type": "stream",
     "text": [
      "INFO:graphrag.logger.progress:Summarize entity/relationship description progress: 317/362\n"
     ]
    },
    {
     "name": "stdout",
     "output_type": "stream",
     "text": [
      "2025-08-10 22:12:40.0973 - INFO - graphrag.logger.progress - Summarize entity/relationship description progress: 318/362\n"
     ]
    },
    {
     "name": "stderr",
     "output_type": "stream",
     "text": [
      "INFO:graphrag.logger.progress:Summarize entity/relationship description progress: 318/362\n"
     ]
    },
    {
     "name": "stdout",
     "output_type": "stream",
     "text": [
      "2025-08-10 22:12:40.0974 - INFO - graphrag.logger.progress - Summarize entity/relationship description progress: 319/362\n"
     ]
    },
    {
     "name": "stderr",
     "output_type": "stream",
     "text": [
      "INFO:graphrag.logger.progress:Summarize entity/relationship description progress: 319/362\n"
     ]
    },
    {
     "name": "stdout",
     "output_type": "stream",
     "text": [
      "2025-08-10 22:12:40.0976 - INFO - graphrag.logger.progress - Summarize entity/relationship description progress: 320/362\n"
     ]
    },
    {
     "name": "stderr",
     "output_type": "stream",
     "text": [
      "INFO:graphrag.logger.progress:Summarize entity/relationship description progress: 320/362\n"
     ]
    },
    {
     "name": "stdout",
     "output_type": "stream",
     "text": [
      "2025-08-10 22:12:40.0977 - INFO - graphrag.logger.progress - Summarize entity/relationship description progress: 321/362\n"
     ]
    },
    {
     "name": "stderr",
     "output_type": "stream",
     "text": [
      "INFO:graphrag.logger.progress:Summarize entity/relationship description progress: 321/362\n"
     ]
    },
    {
     "name": "stdout",
     "output_type": "stream",
     "text": [
      "2025-08-10 22:12:40.0978 - INFO - graphrag.logger.progress - Summarize entity/relationship description progress: 322/362\n"
     ]
    },
    {
     "name": "stderr",
     "output_type": "stream",
     "text": [
      "INFO:graphrag.logger.progress:Summarize entity/relationship description progress: 322/362\n"
     ]
    },
    {
     "name": "stdout",
     "output_type": "stream",
     "text": [
      "2025-08-10 22:12:40.0979 - INFO - graphrag.logger.progress - Summarize entity/relationship description progress: 323/362\n"
     ]
    },
    {
     "name": "stderr",
     "output_type": "stream",
     "text": [
      "INFO:graphrag.logger.progress:Summarize entity/relationship description progress: 323/362\n"
     ]
    },
    {
     "name": "stdout",
     "output_type": "stream",
     "text": [
      "2025-08-10 22:12:40.0981 - INFO - graphrag.logger.progress - Summarize entity/relationship description progress: 324/362\n"
     ]
    },
    {
     "name": "stderr",
     "output_type": "stream",
     "text": [
      "INFO:graphrag.logger.progress:Summarize entity/relationship description progress: 324/362\n"
     ]
    },
    {
     "name": "stdout",
     "output_type": "stream",
     "text": [
      "2025-08-10 22:12:40.0982 - INFO - graphrag.logger.progress - Summarize entity/relationship description progress: 325/362\n"
     ]
    },
    {
     "name": "stderr",
     "output_type": "stream",
     "text": [
      "INFO:graphrag.logger.progress:Summarize entity/relationship description progress: 325/362\n"
     ]
    },
    {
     "name": "stdout",
     "output_type": "stream",
     "text": [
      "2025-08-10 22:12:40.0983 - INFO - graphrag.logger.progress - Summarize entity/relationship description progress: 326/362\n"
     ]
    },
    {
     "name": "stderr",
     "output_type": "stream",
     "text": [
      "INFO:graphrag.logger.progress:Summarize entity/relationship description progress: 326/362\n"
     ]
    },
    {
     "name": "stdout",
     "output_type": "stream",
     "text": [
      "2025-08-10 22:12:40.0984 - INFO - graphrag.logger.progress - Summarize entity/relationship description progress: 327/362\n"
     ]
    },
    {
     "name": "stderr",
     "output_type": "stream",
     "text": [
      "INFO:graphrag.logger.progress:Summarize entity/relationship description progress: 327/362\n"
     ]
    },
    {
     "name": "stdout",
     "output_type": "stream",
     "text": [
      "2025-08-10 22:12:40.0986 - INFO - graphrag.logger.progress - Summarize entity/relationship description progress: 328/362\n"
     ]
    },
    {
     "name": "stderr",
     "output_type": "stream",
     "text": [
      "INFO:graphrag.logger.progress:Summarize entity/relationship description progress: 328/362\n"
     ]
    },
    {
     "name": "stdout",
     "output_type": "stream",
     "text": [
      "2025-08-10 22:12:40.0986 - INFO - graphrag.logger.progress - Summarize entity/relationship description progress: 329/362\n"
     ]
    },
    {
     "name": "stderr",
     "output_type": "stream",
     "text": [
      "INFO:graphrag.logger.progress:Summarize entity/relationship description progress: 329/362\n"
     ]
    },
    {
     "name": "stdout",
     "output_type": "stream",
     "text": [
      "2025-08-10 22:12:40.0986 - INFO - graphrag.logger.progress - Summarize entity/relationship description progress: 330/362\n"
     ]
    },
    {
     "name": "stderr",
     "output_type": "stream",
     "text": [
      "INFO:graphrag.logger.progress:Summarize entity/relationship description progress: 330/362\n"
     ]
    },
    {
     "name": "stdout",
     "output_type": "stream",
     "text": [
      "2025-08-10 22:12:40.0986 - INFO - graphrag.logger.progress - Summarize entity/relationship description progress: 331/362\n"
     ]
    },
    {
     "name": "stderr",
     "output_type": "stream",
     "text": [
      "INFO:graphrag.logger.progress:Summarize entity/relationship description progress: 331/362\n"
     ]
    },
    {
     "name": "stdout",
     "output_type": "stream",
     "text": [
      "2025-08-10 22:12:40.0986 - INFO - graphrag.logger.progress - Summarize entity/relationship description progress: 332/362\n"
     ]
    },
    {
     "name": "stderr",
     "output_type": "stream",
     "text": [
      "INFO:graphrag.logger.progress:Summarize entity/relationship description progress: 332/362\n"
     ]
    },
    {
     "name": "stdout",
     "output_type": "stream",
     "text": [
      "2025-08-10 22:12:40.0986 - INFO - graphrag.logger.progress - Summarize entity/relationship description progress: 333/362\n"
     ]
    },
    {
     "name": "stderr",
     "output_type": "stream",
     "text": [
      "INFO:graphrag.logger.progress:Summarize entity/relationship description progress: 333/362\n"
     ]
    },
    {
     "name": "stdout",
     "output_type": "stream",
     "text": [
      "2025-08-10 22:12:40.0986 - INFO - graphrag.logger.progress - Summarize entity/relationship description progress: 334/362\n"
     ]
    },
    {
     "name": "stderr",
     "output_type": "stream",
     "text": [
      "INFO:graphrag.logger.progress:Summarize entity/relationship description progress: 334/362\n"
     ]
    },
    {
     "name": "stdout",
     "output_type": "stream",
     "text": [
      "2025-08-10 22:12:40.0986 - INFO - graphrag.logger.progress - Summarize entity/relationship description progress: 335/362\n"
     ]
    },
    {
     "name": "stderr",
     "output_type": "stream",
     "text": [
      "INFO:graphrag.logger.progress:Summarize entity/relationship description progress: 335/362\n"
     ]
    },
    {
     "name": "stdout",
     "output_type": "stream",
     "text": [
      "2025-08-10 22:12:40.0998 - INFO - graphrag.logger.progress - Summarize entity/relationship description progress: 336/362\n"
     ]
    },
    {
     "name": "stderr",
     "output_type": "stream",
     "text": [
      "INFO:graphrag.logger.progress:Summarize entity/relationship description progress: 336/362\n"
     ]
    },
    {
     "name": "stdout",
     "output_type": "stream",
     "text": [
      "2025-08-10 22:12:40.0999 - INFO - graphrag.logger.progress - Summarize entity/relationship description progress: 337/362\n"
     ]
    },
    {
     "name": "stderr",
     "output_type": "stream",
     "text": [
      "INFO:graphrag.logger.progress:Summarize entity/relationship description progress: 337/362\n"
     ]
    },
    {
     "name": "stdout",
     "output_type": "stream",
     "text": [
      "2025-08-10 22:12:41.0001 - INFO - graphrag.logger.progress - Summarize entity/relationship description progress: 338/362\n"
     ]
    },
    {
     "name": "stderr",
     "output_type": "stream",
     "text": [
      "INFO:graphrag.logger.progress:Summarize entity/relationship description progress: 338/362\n"
     ]
    },
    {
     "name": "stdout",
     "output_type": "stream",
     "text": [
      "2025-08-10 22:12:41.0002 - INFO - graphrag.logger.progress - Summarize entity/relationship description progress: 339/362\n"
     ]
    },
    {
     "name": "stderr",
     "output_type": "stream",
     "text": [
      "INFO:graphrag.logger.progress:Summarize entity/relationship description progress: 339/362\n"
     ]
    },
    {
     "name": "stdout",
     "output_type": "stream",
     "text": [
      "2025-08-10 22:12:41.0003 - INFO - graphrag.logger.progress - Summarize entity/relationship description progress: 340/362\n"
     ]
    },
    {
     "name": "stderr",
     "output_type": "stream",
     "text": [
      "INFO:graphrag.logger.progress:Summarize entity/relationship description progress: 340/362\n"
     ]
    },
    {
     "name": "stdout",
     "output_type": "stream",
     "text": [
      "2025-08-10 22:12:41.0040 - INFO - graphrag.logger.progress - Summarize entity/relationship description progress: 341/362\n"
     ]
    },
    {
     "name": "stderr",
     "output_type": "stream",
     "text": [
      "INFO:graphrag.logger.progress:Summarize entity/relationship description progress: 341/362\n"
     ]
    },
    {
     "name": "stdout",
     "output_type": "stream",
     "text": [
      "2025-08-10 22:12:41.0045 - INFO - graphrag.logger.progress - Summarize entity/relationship description progress: 342/362\n"
     ]
    },
    {
     "name": "stderr",
     "output_type": "stream",
     "text": [
      "INFO:graphrag.logger.progress:Summarize entity/relationship description progress: 342/362\n"
     ]
    },
    {
     "name": "stdout",
     "output_type": "stream",
     "text": [
      "2025-08-10 22:12:41.0048 - INFO - graphrag.logger.progress - Summarize entity/relationship description progress: 343/362\n"
     ]
    },
    {
     "name": "stderr",
     "output_type": "stream",
     "text": [
      "INFO:graphrag.logger.progress:Summarize entity/relationship description progress: 343/362\n"
     ]
    },
    {
     "name": "stdout",
     "output_type": "stream",
     "text": [
      "2025-08-10 22:12:41.0050 - INFO - graphrag.logger.progress - Summarize entity/relationship description progress: 344/362\n"
     ]
    },
    {
     "name": "stderr",
     "output_type": "stream",
     "text": [
      "INFO:graphrag.logger.progress:Summarize entity/relationship description progress: 344/362\n"
     ]
    },
    {
     "name": "stdout",
     "output_type": "stream",
     "text": [
      "2025-08-10 22:12:41.0052 - INFO - graphrag.logger.progress - Summarize entity/relationship description progress: 345/362\n"
     ]
    },
    {
     "name": "stderr",
     "output_type": "stream",
     "text": [
      "INFO:graphrag.logger.progress:Summarize entity/relationship description progress: 345/362\n"
     ]
    },
    {
     "name": "stdout",
     "output_type": "stream",
     "text": [
      "2025-08-10 22:12:41.0053 - INFO - graphrag.logger.progress - Summarize entity/relationship description progress: 346/362\n"
     ]
    },
    {
     "name": "stderr",
     "output_type": "stream",
     "text": [
      "INFO:graphrag.logger.progress:Summarize entity/relationship description progress: 346/362\n"
     ]
    },
    {
     "name": "stdout",
     "output_type": "stream",
     "text": [
      "2025-08-10 22:12:41.0054 - INFO - graphrag.logger.progress - Summarize entity/relationship description progress: 347/362\n"
     ]
    },
    {
     "name": "stderr",
     "output_type": "stream",
     "text": [
      "INFO:graphrag.logger.progress:Summarize entity/relationship description progress: 347/362\n"
     ]
    },
    {
     "name": "stdout",
     "output_type": "stream",
     "text": [
      "2025-08-10 22:12:41.0056 - INFO - graphrag.logger.progress - Summarize entity/relationship description progress: 348/362\n"
     ]
    },
    {
     "name": "stderr",
     "output_type": "stream",
     "text": [
      "INFO:graphrag.logger.progress:Summarize entity/relationship description progress: 348/362\n"
     ]
    },
    {
     "name": "stdout",
     "output_type": "stream",
     "text": [
      "2025-08-10 22:12:41.0057 - INFO - graphrag.logger.progress - Summarize entity/relationship description progress: 349/362\n"
     ]
    },
    {
     "name": "stderr",
     "output_type": "stream",
     "text": [
      "INFO:graphrag.logger.progress:Summarize entity/relationship description progress: 349/362\n"
     ]
    },
    {
     "name": "stdout",
     "output_type": "stream",
     "text": [
      "2025-08-10 22:12:41.0059 - INFO - graphrag.logger.progress - Summarize entity/relationship description progress: 350/362\n"
     ]
    },
    {
     "name": "stderr",
     "output_type": "stream",
     "text": [
      "INFO:graphrag.logger.progress:Summarize entity/relationship description progress: 350/362\n"
     ]
    },
    {
     "name": "stdout",
     "output_type": "stream",
     "text": [
      "2025-08-10 22:12:41.0061 - INFO - graphrag.logger.progress - Summarize entity/relationship description progress: 351/362\n"
     ]
    },
    {
     "name": "stderr",
     "output_type": "stream",
     "text": [
      "INFO:graphrag.logger.progress:Summarize entity/relationship description progress: 351/362\n"
     ]
    },
    {
     "name": "stdout",
     "output_type": "stream",
     "text": [
      "2025-08-10 22:12:41.0062 - INFO - graphrag.logger.progress - Summarize entity/relationship description progress: 352/362\n"
     ]
    },
    {
     "name": "stderr",
     "output_type": "stream",
     "text": [
      "INFO:graphrag.logger.progress:Summarize entity/relationship description progress: 352/362\n"
     ]
    },
    {
     "name": "stdout",
     "output_type": "stream",
     "text": [
      "2025-08-10 22:12:41.0065 - INFO - graphrag.logger.progress - Summarize entity/relationship description progress: 353/362\n"
     ]
    },
    {
     "name": "stderr",
     "output_type": "stream",
     "text": [
      "INFO:graphrag.logger.progress:Summarize entity/relationship description progress: 353/362\n"
     ]
    },
    {
     "name": "stdout",
     "output_type": "stream",
     "text": [
      "2025-08-10 22:12:41.0066 - INFO - graphrag.logger.progress - Summarize entity/relationship description progress: 354/362\n"
     ]
    },
    {
     "name": "stderr",
     "output_type": "stream",
     "text": [
      "INFO:graphrag.logger.progress:Summarize entity/relationship description progress: 354/362\n"
     ]
    },
    {
     "name": "stdout",
     "output_type": "stream",
     "text": [
      "2025-08-10 22:12:41.0068 - INFO - graphrag.logger.progress - Summarize entity/relationship description progress: 355/362\n"
     ]
    },
    {
     "name": "stderr",
     "output_type": "stream",
     "text": [
      "INFO:graphrag.logger.progress:Summarize entity/relationship description progress: 355/362\n"
     ]
    },
    {
     "name": "stdout",
     "output_type": "stream",
     "text": [
      "2025-08-10 22:12:41.0068 - INFO - graphrag.logger.progress - Summarize entity/relationship description progress: 356/362\n"
     ]
    },
    {
     "name": "stderr",
     "output_type": "stream",
     "text": [
      "INFO:graphrag.logger.progress:Summarize entity/relationship description progress: 356/362\n"
     ]
    },
    {
     "name": "stdout",
     "output_type": "stream",
     "text": [
      "2025-08-10 22:12:41.0070 - INFO - graphrag.logger.progress - Summarize entity/relationship description progress: 357/362\n"
     ]
    },
    {
     "name": "stderr",
     "output_type": "stream",
     "text": [
      "INFO:graphrag.logger.progress:Summarize entity/relationship description progress: 357/362\n"
     ]
    },
    {
     "name": "stdout",
     "output_type": "stream",
     "text": [
      "2025-08-10 22:12:41.0071 - INFO - graphrag.logger.progress - Summarize entity/relationship description progress: 358/362\n"
     ]
    },
    {
     "name": "stderr",
     "output_type": "stream",
     "text": [
      "INFO:graphrag.logger.progress:Summarize entity/relationship description progress: 358/362\n"
     ]
    },
    {
     "name": "stdout",
     "output_type": "stream",
     "text": [
      "2025-08-10 22:12:41.0072 - INFO - graphrag.logger.progress - Summarize entity/relationship description progress: 359/362\n"
     ]
    },
    {
     "name": "stderr",
     "output_type": "stream",
     "text": [
      "INFO:graphrag.logger.progress:Summarize entity/relationship description progress: 359/362\n"
     ]
    },
    {
     "name": "stdout",
     "output_type": "stream",
     "text": [
      "2025-08-10 22:12:41.0074 - INFO - graphrag.logger.progress - Summarize entity/relationship description progress: 360/362\n"
     ]
    },
    {
     "name": "stderr",
     "output_type": "stream",
     "text": [
      "INFO:graphrag.logger.progress:Summarize entity/relationship description progress: 360/362\n"
     ]
    },
    {
     "name": "stdout",
     "output_type": "stream",
     "text": [
      "2025-08-10 22:12:41.0915 - INFO - graphrag.logger.progress - Summarize entity/relationship description progress: 361/362\n"
     ]
    },
    {
     "name": "stderr",
     "output_type": "stream",
     "text": [
      "INFO:graphrag.logger.progress:Summarize entity/relationship description progress: 361/362\n"
     ]
    },
    {
     "name": "stdout",
     "output_type": "stream",
     "text": [
      "2025-08-10 22:12:42.0046 - INFO - graphrag.logger.progress - Summarize entity/relationship description progress: 362/362\n"
     ]
    },
    {
     "name": "stderr",
     "output_type": "stream",
     "text": [
      "INFO:graphrag.logger.progress:Summarize entity/relationship description progress: 362/362\n"
     ]
    },
    {
     "name": "stdout",
     "output_type": "stream",
     "text": [
      "2025-08-10 22:12:42.0061 - INFO - graphrag.index.workflows.extract_graph - Workflow completed: extract_graph\n"
     ]
    },
    {
     "name": "stderr",
     "output_type": "stream",
     "text": [
      "INFO:graphrag.index.workflows.extract_graph:Workflow completed: extract_graph\n"
     ]
    },
    {
     "name": "stdout",
     "output_type": "stream",
     "text": [
      "2025-08-10 22:12:42.0061 - INFO - graphrag.api.index - Workflow extract_graph completed successfully\n"
     ]
    },
    {
     "name": "stderr",
     "output_type": "stream",
     "text": [
      "INFO:graphrag.api.index:Workflow extract_graph completed successfully\n"
     ]
    },
    {
     "name": "stdout",
     "output_type": "stream",
     "text": [
      "2025-08-10 22:12:42.0067 - INFO - graphrag.index.workflows.finalize_graph - Workflow started: finalize_graph\n"
     ]
    },
    {
     "name": "stderr",
     "output_type": "stream",
     "text": [
      "INFO:graphrag.index.workflows.finalize_graph:Workflow started: finalize_graph\n"
     ]
    },
    {
     "name": "stdout",
     "output_type": "stream",
     "text": [
      "2025-08-10 22:12:42.0067 - INFO - graphrag.utils.storage - reading table from storage: entities.parquet\n"
     ]
    },
    {
     "name": "stderr",
     "output_type": "stream",
     "text": [
      "INFO:graphrag.utils.storage:reading table from storage: entities.parquet\n"
     ]
    },
    {
     "name": "stdout",
     "output_type": "stream",
     "text": [
      "2025-08-10 22:12:42.0085 - INFO - graphrag.utils.storage - reading table from storage: relationships.parquet\n"
     ]
    },
    {
     "name": "stderr",
     "output_type": "stream",
     "text": [
      "INFO:graphrag.utils.storage:reading table from storage: relationships.parquet\n"
     ]
    },
    {
     "name": "stdout",
     "output_type": "stream",
     "text": [
      "2025-08-10 22:12:42.0432 - INFO - graphrag.index.workflows.finalize_graph - Workflow completed: finalize_graph\n"
     ]
    },
    {
     "name": "stderr",
     "output_type": "stream",
     "text": [
      "c:\\Users\\shant\\OneDrive\\Desktop\\GraphRAGresume\\venv\\Lib\\site-packages\\umap\\umap_.py:1952: UserWarning: n_jobs value 1 overridden to 1 by setting random_state. Use no seed for parallelism.\n",
      "  warn(\n",
      "INFO:graphrag.index.workflows.finalize_graph:Workflow completed: finalize_graph\n"
     ]
    },
    {
     "name": "stdout",
     "output_type": "stream",
     "text": [
      "2025-08-10 22:12:42.0432 - INFO - graphrag.api.index - Workflow finalize_graph completed successfully\n"
     ]
    },
    {
     "name": "stderr",
     "output_type": "stream",
     "text": [
      "INFO:graphrag.api.index:Workflow finalize_graph completed successfully\n"
     ]
    },
    {
     "name": "stdout",
     "output_type": "stream",
     "text": [
      "2025-08-10 22:12:42.0448 - INFO - graphrag.index.workflows.extract_covariates - Workflow started: extract_covariates\n"
     ]
    },
    {
     "name": "stderr",
     "output_type": "stream",
     "text": [
      "INFO:graphrag.index.workflows.extract_covariates:Workflow started: extract_covariates\n"
     ]
    },
    {
     "name": "stdout",
     "output_type": "stream",
     "text": [
      "2025-08-10 22:12:42.0448 - INFO - graphrag.utils.storage - reading table from storage: text_units.parquet\n"
     ]
    },
    {
     "name": "stderr",
     "output_type": "stream",
     "text": [
      "INFO:graphrag.utils.storage:reading table from storage: text_units.parquet\n"
     ]
    },
    {
     "name": "stdout",
     "output_type": "stream",
     "text": [
      "2025-08-10 22:13:16.0010 - INFO - graphrag.logger.progress - extract covariates progress: 1/10\n"
     ]
    },
    {
     "name": "stderr",
     "output_type": "stream",
     "text": [
      "INFO:graphrag.logger.progress:extract covariates progress: 1/10\n"
     ]
    },
    {
     "name": "stdout",
     "output_type": "stream",
     "text": [
      "2025-08-10 22:13:16.0227 - INFO - graphrag.logger.progress - extract covariates progress: 2/10\n"
     ]
    },
    {
     "name": "stderr",
     "output_type": "stream",
     "text": [
      "INFO:graphrag.logger.progress:extract covariates progress: 2/10\n"
     ]
    },
    {
     "name": "stdout",
     "output_type": "stream",
     "text": [
      "2025-08-10 22:13:16.0476 - INFO - graphrag.logger.progress - extract covariates progress: 3/10\n"
     ]
    },
    {
     "name": "stderr",
     "output_type": "stream",
     "text": [
      "INFO:graphrag.logger.progress:extract covariates progress: 3/10\n"
     ]
    },
    {
     "name": "stdout",
     "output_type": "stream",
     "text": [
      "2025-08-10 22:13:16.0861 - INFO - graphrag.logger.progress - extract covariates progress: 4/10\n"
     ]
    },
    {
     "name": "stderr",
     "output_type": "stream",
     "text": [
      "INFO:graphrag.logger.progress:extract covariates progress: 4/10\n"
     ]
    },
    {
     "name": "stdout",
     "output_type": "stream",
     "text": [
      "2025-08-10 22:13:17.0026 - INFO - graphrag.logger.progress - extract covariates progress: 5/10\n"
     ]
    },
    {
     "name": "stderr",
     "output_type": "stream",
     "text": [
      "INFO:graphrag.logger.progress:extract covariates progress: 5/10\n"
     ]
    },
    {
     "name": "stdout",
     "output_type": "stream",
     "text": [
      "2025-08-10 22:13:17.0610 - INFO - graphrag.logger.progress - extract covariates progress: 6/10\n"
     ]
    },
    {
     "name": "stderr",
     "output_type": "stream",
     "text": [
      "INFO:graphrag.logger.progress:extract covariates progress: 6/10\n"
     ]
    },
    {
     "name": "stdout",
     "output_type": "stream",
     "text": [
      "2025-08-10 22:13:17.0727 - INFO - graphrag.logger.progress - extract covariates progress: 7/10\n"
     ]
    },
    {
     "name": "stderr",
     "output_type": "stream",
     "text": [
      "INFO:graphrag.logger.progress:extract covariates progress: 7/10\n"
     ]
    },
    {
     "name": "stdout",
     "output_type": "stream",
     "text": [
      "2025-08-10 22:13:17.0816 - INFO - graphrag.logger.progress - extract covariates progress: 8/10\n"
     ]
    },
    {
     "name": "stderr",
     "output_type": "stream",
     "text": [
      "INFO:graphrag.logger.progress:extract covariates progress: 8/10\n"
     ]
    },
    {
     "name": "stdout",
     "output_type": "stream",
     "text": [
      "2025-08-10 22:13:18.0077 - INFO - graphrag.logger.progress - extract covariates progress: 9/10\n"
     ]
    },
    {
     "name": "stderr",
     "output_type": "stream",
     "text": [
      "INFO:graphrag.logger.progress:extract covariates progress: 9/10\n"
     ]
    },
    {
     "name": "stdout",
     "output_type": "stream",
     "text": [
      "2025-08-10 22:13:18.0803 - INFO - graphrag.logger.progress - extract covariates progress: 10/10\n"
     ]
    },
    {
     "name": "stderr",
     "output_type": "stream",
     "text": [
      "INFO:graphrag.logger.progress:extract covariates progress: 10/10\n"
     ]
    },
    {
     "name": "stdout",
     "output_type": "stream",
     "text": [
      "2025-08-10 22:13:18.0813 - INFO - graphrag.index.workflows.extract_covariates - Workflow completed: extract_covariates\n"
     ]
    },
    {
     "name": "stderr",
     "output_type": "stream",
     "text": [
      "INFO:graphrag.index.workflows.extract_covariates:Workflow completed: extract_covariates\n"
     ]
    },
    {
     "name": "stdout",
     "output_type": "stream",
     "text": [
      "2025-08-10 22:13:18.0813 - INFO - graphrag.api.index - Workflow extract_covariates completed successfully\n"
     ]
    },
    {
     "name": "stderr",
     "output_type": "stream",
     "text": [
      "INFO:graphrag.api.index:Workflow extract_covariates completed successfully\n"
     ]
    },
    {
     "name": "stdout",
     "output_type": "stream",
     "text": [
      "2025-08-10 22:13:18.0813 - INFO - graphrag.index.workflows.create_communities - Workflow started: create_communities\n"
     ]
    },
    {
     "name": "stderr",
     "output_type": "stream",
     "text": [
      "INFO:graphrag.index.workflows.create_communities:Workflow started: create_communities\n"
     ]
    },
    {
     "name": "stdout",
     "output_type": "stream",
     "text": [
      "2025-08-10 22:13:18.0813 - INFO - graphrag.utils.storage - reading table from storage: entities.parquet\n"
     ]
    },
    {
     "name": "stderr",
     "output_type": "stream",
     "text": [
      "INFO:graphrag.utils.storage:reading table from storage: entities.parquet\n"
     ]
    },
    {
     "name": "stdout",
     "output_type": "stream",
     "text": [
      "2025-08-10 22:13:18.0843 - INFO - graphrag.utils.storage - reading table from storage: relationships.parquet\n"
     ]
    },
    {
     "name": "stderr",
     "output_type": "stream",
     "text": [
      "INFO:graphrag.utils.storage:reading table from storage: relationships.parquet\n"
     ]
    },
    {
     "name": "stdout",
     "output_type": "stream",
     "text": [
      "2025-08-10 22:13:18.0894 - INFO - graphrag.index.workflows.create_communities - Workflow completed: create_communities\n"
     ]
    },
    {
     "name": "stderr",
     "output_type": "stream",
     "text": [
      "INFO:graphrag.index.workflows.create_communities:Workflow completed: create_communities\n"
     ]
    },
    {
     "name": "stdout",
     "output_type": "stream",
     "text": [
      "2025-08-10 22:13:18.0894 - INFO - graphrag.api.index - Workflow create_communities completed successfully\n"
     ]
    },
    {
     "name": "stderr",
     "output_type": "stream",
     "text": [
      "INFO:graphrag.api.index:Workflow create_communities completed successfully\n"
     ]
    },
    {
     "name": "stdout",
     "output_type": "stream",
     "text": [
      "2025-08-10 22:13:18.0909 - INFO - graphrag.index.workflows.create_final_text_units - Workflow started: create_final_text_units\n"
     ]
    },
    {
     "name": "stderr",
     "output_type": "stream",
     "text": [
      "INFO:graphrag.index.workflows.create_final_text_units:Workflow started: create_final_text_units\n"
     ]
    },
    {
     "name": "stdout",
     "output_type": "stream",
     "text": [
      "2025-08-10 22:13:18.0909 - INFO - graphrag.utils.storage - reading table from storage: text_units.parquet\n"
     ]
    },
    {
     "name": "stderr",
     "output_type": "stream",
     "text": [
      "INFO:graphrag.utils.storage:reading table from storage: text_units.parquet\n"
     ]
    },
    {
     "name": "stdout",
     "output_type": "stream",
     "text": [
      "2025-08-10 22:13:18.0909 - INFO - graphrag.utils.storage - reading table from storage: entities.parquet\n"
     ]
    },
    {
     "name": "stderr",
     "output_type": "stream",
     "text": [
      "INFO:graphrag.utils.storage:reading table from storage: entities.parquet\n"
     ]
    },
    {
     "name": "stdout",
     "output_type": "stream",
     "text": [
      "2025-08-10 22:13:18.0909 - INFO - graphrag.utils.storage - reading table from storage: relationships.parquet\n"
     ]
    },
    {
     "name": "stderr",
     "output_type": "stream",
     "text": [
      "INFO:graphrag.utils.storage:reading table from storage: relationships.parquet\n"
     ]
    },
    {
     "name": "stdout",
     "output_type": "stream",
     "text": [
      "2025-08-10 22:13:18.0927 - INFO - graphrag.utils.storage - reading table from storage: covariates.parquet\n"
     ]
    },
    {
     "name": "stderr",
     "output_type": "stream",
     "text": [
      "INFO:graphrag.utils.storage:reading table from storage: covariates.parquet\n"
     ]
    },
    {
     "name": "stdout",
     "output_type": "stream",
     "text": [
      "2025-08-10 22:13:18.0961 - INFO - graphrag.index.workflows.create_final_text_units - Workflow completed: create_final_text_units\n"
     ]
    },
    {
     "name": "stderr",
     "output_type": "stream",
     "text": [
      "INFO:graphrag.index.workflows.create_final_text_units:Workflow completed: create_final_text_units\n"
     ]
    },
    {
     "name": "stdout",
     "output_type": "stream",
     "text": [
      "2025-08-10 22:13:18.0963 - INFO - graphrag.api.index - Workflow create_final_text_units completed successfully\n"
     ]
    },
    {
     "name": "stderr",
     "output_type": "stream",
     "text": [
      "INFO:graphrag.api.index:Workflow create_final_text_units completed successfully\n"
     ]
    },
    {
     "name": "stdout",
     "output_type": "stream",
     "text": [
      "2025-08-10 22:13:18.0967 - INFO - graphrag.index.workflows.create_community_reports - Workflow started: create_community_reports\n"
     ]
    },
    {
     "name": "stderr",
     "output_type": "stream",
     "text": [
      "INFO:graphrag.index.workflows.create_community_reports:Workflow started: create_community_reports\n"
     ]
    },
    {
     "name": "stdout",
     "output_type": "stream",
     "text": [
      "2025-08-10 22:13:18.0970 - INFO - graphrag.utils.storage - reading table from storage: relationships.parquet\n"
     ]
    },
    {
     "name": "stderr",
     "output_type": "stream",
     "text": [
      "INFO:graphrag.utils.storage:reading table from storage: relationships.parquet\n"
     ]
    },
    {
     "name": "stdout",
     "output_type": "stream",
     "text": [
      "2025-08-10 22:13:18.0975 - INFO - graphrag.utils.storage - reading table from storage: entities.parquet\n"
     ]
    },
    {
     "name": "stderr",
     "output_type": "stream",
     "text": [
      "INFO:graphrag.utils.storage:reading table from storage: entities.parquet\n"
     ]
    },
    {
     "name": "stdout",
     "output_type": "stream",
     "text": [
      "2025-08-10 22:13:18.0976 - INFO - graphrag.utils.storage - reading table from storage: communities.parquet\n"
     ]
    },
    {
     "name": "stderr",
     "output_type": "stream",
     "text": [
      "INFO:graphrag.utils.storage:reading table from storage: communities.parquet\n"
     ]
    },
    {
     "name": "stdout",
     "output_type": "stream",
     "text": [
      "2025-08-10 22:13:18.0994 - INFO - graphrag.utils.storage - reading table from storage: covariates.parquet\n"
     ]
    },
    {
     "name": "stderr",
     "output_type": "stream",
     "text": [
      "INFO:graphrag.utils.storage:reading table from storage: covariates.parquet\n"
     ]
    },
    {
     "name": "stdout",
     "output_type": "stream",
     "text": [
      "2025-08-10 22:13:19.0009 - INFO - graphrag.index.operations.summarize_communities.graph_context.context_builder - Number of nodes at level=1 => 98\n"
     ]
    },
    {
     "name": "stderr",
     "output_type": "stream",
     "text": [
      "INFO:graphrag.index.operations.summarize_communities.graph_context.context_builder:Number of nodes at level=1 => 98\n"
     ]
    },
    {
     "name": "stdout",
     "output_type": "stream",
     "text": [
      "2025-08-10 22:13:19.0126 - INFO - graphrag.index.operations.summarize_communities.graph_context.context_builder - Number of nodes at level=0 => 135\n"
     ]
    },
    {
     "name": "stderr",
     "output_type": "stream",
     "text": [
      "INFO:graphrag.index.operations.summarize_communities.graph_context.context_builder:Number of nodes at level=0 => 135\n"
     ]
    },
    {
     "name": "stdout",
     "output_type": "stream",
     "text": [
      "2025-08-10 22:13:24.0842 - INFO - graphrag.logger.progress - level 1 summarize communities progress: 1/19\n"
     ]
    },
    {
     "name": "stderr",
     "output_type": "stream",
     "text": [
      "INFO:graphrag.logger.progress:level 1 summarize communities progress: 1/19\n"
     ]
    },
    {
     "name": "stdout",
     "output_type": "stream",
     "text": [
      "2025-08-10 22:13:25.0115 - INFO - graphrag.logger.progress - level 1 summarize communities progress: 2/19\n"
     ]
    },
    {
     "name": "stderr",
     "output_type": "stream",
     "text": [
      "INFO:graphrag.logger.progress:level 1 summarize communities progress: 2/19\n"
     ]
    },
    {
     "name": "stdout",
     "output_type": "stream",
     "text": [
      "2025-08-10 22:13:25.0542 - INFO - graphrag.logger.progress - level 1 summarize communities progress: 3/19\n"
     ]
    },
    {
     "name": "stderr",
     "output_type": "stream",
     "text": [
      "INFO:graphrag.logger.progress:level 1 summarize communities progress: 3/19\n"
     ]
    },
    {
     "name": "stdout",
     "output_type": "stream",
     "text": [
      "2025-08-10 22:13:25.0792 - INFO - graphrag.logger.progress - level 1 summarize communities progress: 4/19\n"
     ]
    },
    {
     "name": "stderr",
     "output_type": "stream",
     "text": [
      "INFO:graphrag.logger.progress:level 1 summarize communities progress: 4/19\n"
     ]
    },
    {
     "name": "stdout",
     "output_type": "stream",
     "text": [
      "2025-08-10 22:13:26.0292 - INFO - graphrag.logger.progress - level 1 summarize communities progress: 5/19\n"
     ]
    },
    {
     "name": "stderr",
     "output_type": "stream",
     "text": [
      "INFO:graphrag.logger.progress:level 1 summarize communities progress: 5/19\n"
     ]
    },
    {
     "name": "stdout",
     "output_type": "stream",
     "text": [
      "2025-08-10 22:13:26.0508 - INFO - graphrag.logger.progress - level 1 summarize communities progress: 6/19\n"
     ]
    },
    {
     "name": "stderr",
     "output_type": "stream",
     "text": [
      "INFO:graphrag.logger.progress:level 1 summarize communities progress: 6/19\n"
     ]
    },
    {
     "name": "stdout",
     "output_type": "stream",
     "text": [
      "2025-08-10 22:13:26.0508 - INFO - graphrag.logger.progress - level 1 summarize communities progress: 7/19\n"
     ]
    },
    {
     "name": "stderr",
     "output_type": "stream",
     "text": [
      "INFO:graphrag.logger.progress:level 1 summarize communities progress: 7/19\n"
     ]
    },
    {
     "name": "stdout",
     "output_type": "stream",
     "text": [
      "2025-08-10 22:13:26.0951 - INFO - graphrag.logger.progress - level 1 summarize communities progress: 8/19\n"
     ]
    },
    {
     "name": "stderr",
     "output_type": "stream",
     "text": [
      "INFO:graphrag.logger.progress:level 1 summarize communities progress: 8/19\n"
     ]
    },
    {
     "name": "stdout",
     "output_type": "stream",
     "text": [
      "2025-08-10 22:13:26.0991 - INFO - graphrag.logger.progress - level 1 summarize communities progress: 9/19\n"
     ]
    },
    {
     "name": "stderr",
     "output_type": "stream",
     "text": [
      "INFO:graphrag.logger.progress:level 1 summarize communities progress: 9/19\n"
     ]
    },
    {
     "name": "stdout",
     "output_type": "stream",
     "text": [
      "2025-08-10 22:13:27.0225 - INFO - graphrag.logger.progress - level 1 summarize communities progress: 10/19\n"
     ]
    },
    {
     "name": "stderr",
     "output_type": "stream",
     "text": [
      "INFO:graphrag.logger.progress:level 1 summarize communities progress: 10/19\n"
     ]
    },
    {
     "name": "stdout",
     "output_type": "stream",
     "text": [
      "2025-08-10 22:13:27.0475 - INFO - graphrag.logger.progress - level 1 summarize communities progress: 11/19\n"
     ]
    },
    {
     "name": "stderr",
     "output_type": "stream",
     "text": [
      "INFO:graphrag.logger.progress:level 1 summarize communities progress: 11/19\n"
     ]
    },
    {
     "name": "stdout",
     "output_type": "stream",
     "text": [
      "2025-08-10 22:13:27.0527 - INFO - graphrag.logger.progress - level 1 summarize communities progress: 12/19\n"
     ]
    },
    {
     "name": "stderr",
     "output_type": "stream",
     "text": [
      "INFO:graphrag.logger.progress:level 1 summarize communities progress: 12/19\n"
     ]
    },
    {
     "name": "stdout",
     "output_type": "stream",
     "text": [
      "2025-08-10 22:13:27.0527 - INFO - graphrag.logger.progress - level 1 summarize communities progress: 13/19\n"
     ]
    },
    {
     "name": "stderr",
     "output_type": "stream",
     "text": [
      "INFO:graphrag.logger.progress:level 1 summarize communities progress: 13/19\n"
     ]
    },
    {
     "name": "stdout",
     "output_type": "stream",
     "text": [
      "2025-08-10 22:13:27.0665 - INFO - graphrag.logger.progress - level 1 summarize communities progress: 14/19\n"
     ]
    },
    {
     "name": "stderr",
     "output_type": "stream",
     "text": [
      "INFO:graphrag.logger.progress:level 1 summarize communities progress: 14/19\n"
     ]
    },
    {
     "name": "stdout",
     "output_type": "stream",
     "text": [
      "2025-08-10 22:13:27.0792 - INFO - graphrag.logger.progress - level 1 summarize communities progress: 15/19\n"
     ]
    },
    {
     "name": "stderr",
     "output_type": "stream",
     "text": [
      "INFO:graphrag.logger.progress:level 1 summarize communities progress: 15/19\n"
     ]
    },
    {
     "name": "stdout",
     "output_type": "stream",
     "text": [
      "2025-08-10 22:13:27.0925 - INFO - graphrag.logger.progress - level 1 summarize communities progress: 16/19\n"
     ]
    },
    {
     "name": "stderr",
     "output_type": "stream",
     "text": [
      "INFO:graphrag.logger.progress:level 1 summarize communities progress: 16/19\n"
     ]
    },
    {
     "name": "stdout",
     "output_type": "stream",
     "text": [
      "2025-08-10 22:13:28.0208 - INFO - graphrag.logger.progress - level 1 summarize communities progress: 17/19\n"
     ]
    },
    {
     "name": "stderr",
     "output_type": "stream",
     "text": [
      "INFO:graphrag.logger.progress:level 1 summarize communities progress: 17/19\n"
     ]
    },
    {
     "name": "stdout",
     "output_type": "stream",
     "text": [
      "2025-08-10 22:13:28.0477 - INFO - graphrag.logger.progress - level 1 summarize communities progress: 18/19\n"
     ]
    },
    {
     "name": "stderr",
     "output_type": "stream",
     "text": [
      "INFO:graphrag.logger.progress:level 1 summarize communities progress: 18/19\n"
     ]
    },
    {
     "name": "stdout",
     "output_type": "stream",
     "text": [
      "2025-08-10 22:13:28.0762 - INFO - graphrag.logger.progress - level 1 summarize communities progress: 19/19\n"
     ]
    },
    {
     "name": "stderr",
     "output_type": "stream",
     "text": [
      "INFO:graphrag.logger.progress:level 1 summarize communities progress: 19/19\n"
     ]
    },
    {
     "name": "stdout",
     "output_type": "stream",
     "text": [
      "2025-08-10 22:13:34.0662 - INFO - graphrag.logger.progress - level 0 summarize communities progress: 1/11\n"
     ]
    },
    {
     "name": "stderr",
     "output_type": "stream",
     "text": [
      "INFO:graphrag.logger.progress:level 0 summarize communities progress: 1/11\n"
     ]
    },
    {
     "name": "stdout",
     "output_type": "stream",
     "text": [
      "2025-08-10 22:13:35.0507 - INFO - graphrag.logger.progress - level 0 summarize communities progress: 2/11\n"
     ]
    },
    {
     "name": "stderr",
     "output_type": "stream",
     "text": [
      "INFO:graphrag.logger.progress:level 0 summarize communities progress: 2/11\n"
     ]
    },
    {
     "name": "stdout",
     "output_type": "stream",
     "text": [
      "2025-08-10 22:13:35.0591 - INFO - graphrag.logger.progress - level 0 summarize communities progress: 3/11\n"
     ]
    },
    {
     "name": "stderr",
     "output_type": "stream",
     "text": [
      "INFO:graphrag.logger.progress:level 0 summarize communities progress: 3/11\n"
     ]
    },
    {
     "name": "stdout",
     "output_type": "stream",
     "text": [
      "2025-08-10 22:13:35.0696 - INFO - graphrag.logger.progress - level 0 summarize communities progress: 4/11\n"
     ]
    },
    {
     "name": "stderr",
     "output_type": "stream",
     "text": [
      "INFO:graphrag.logger.progress:level 0 summarize communities progress: 4/11\n"
     ]
    },
    {
     "name": "stdout",
     "output_type": "stream",
     "text": [
      "2025-08-10 22:13:35.0729 - INFO - graphrag.logger.progress - level 0 summarize communities progress: 5/11\n"
     ]
    },
    {
     "name": "stderr",
     "output_type": "stream",
     "text": [
      "INFO:graphrag.logger.progress:level 0 summarize communities progress: 5/11\n"
     ]
    },
    {
     "name": "stdout",
     "output_type": "stream",
     "text": [
      "2025-08-10 22:13:35.0942 - INFO - graphrag.logger.progress - level 0 summarize communities progress: 6/11\n"
     ]
    },
    {
     "name": "stderr",
     "output_type": "stream",
     "text": [
      "INFO:graphrag.logger.progress:level 0 summarize communities progress: 6/11\n"
     ]
    },
    {
     "name": "stdout",
     "output_type": "stream",
     "text": [
      "2025-08-10 22:13:35.0995 - INFO - graphrag.logger.progress - level 0 summarize communities progress: 7/11\n"
     ]
    },
    {
     "name": "stderr",
     "output_type": "stream",
     "text": [
      "INFO:graphrag.logger.progress:level 0 summarize communities progress: 7/11\n"
     ]
    },
    {
     "name": "stdout",
     "output_type": "stream",
     "text": [
      "2025-08-10 22:13:36.0407 - INFO - graphrag.logger.progress - level 0 summarize communities progress: 8/11\n"
     ]
    },
    {
     "name": "stderr",
     "output_type": "stream",
     "text": [
      "INFO:graphrag.logger.progress:level 0 summarize communities progress: 8/11\n"
     ]
    },
    {
     "name": "stdout",
     "output_type": "stream",
     "text": [
      "2025-08-10 22:13:36.0740 - INFO - graphrag.logger.progress - level 0 summarize communities progress: 9/11\n"
     ]
    },
    {
     "name": "stderr",
     "output_type": "stream",
     "text": [
      "INFO:graphrag.logger.progress:level 0 summarize communities progress: 9/11\n"
     ]
    },
    {
     "name": "stdout",
     "output_type": "stream",
     "text": [
      "2025-08-10 22:13:36.0757 - INFO - graphrag.logger.progress - level 0 summarize communities progress: 10/11\n"
     ]
    },
    {
     "name": "stderr",
     "output_type": "stream",
     "text": [
      "INFO:graphrag.logger.progress:level 0 summarize communities progress: 10/11\n"
     ]
    },
    {
     "name": "stdout",
     "output_type": "stream",
     "text": [
      "2025-08-10 22:13:36.0808 - INFO - graphrag.logger.progress - level 0 summarize communities progress: 11/11\n"
     ]
    },
    {
     "name": "stderr",
     "output_type": "stream",
     "text": [
      "INFO:graphrag.logger.progress:level 0 summarize communities progress: 11/11\n"
     ]
    },
    {
     "name": "stdout",
     "output_type": "stream",
     "text": [
      "2025-08-10 22:13:36.0823 - INFO - graphrag.index.workflows.create_community_reports - Workflow completed: create_community_reports\n"
     ]
    },
    {
     "name": "stderr",
     "output_type": "stream",
     "text": [
      "INFO:graphrag.index.workflows.create_community_reports:Workflow completed: create_community_reports\n"
     ]
    },
    {
     "name": "stdout",
     "output_type": "stream",
     "text": [
      "2025-08-10 22:13:36.0823 - INFO - graphrag.api.index - Workflow create_community_reports completed successfully\n"
     ]
    },
    {
     "name": "stderr",
     "output_type": "stream",
     "text": [
      "INFO:graphrag.api.index:Workflow create_community_reports completed successfully\n"
     ]
    },
    {
     "name": "stdout",
     "output_type": "stream",
     "text": [
      "2025-08-10 22:13:36.0844 - INFO - graphrag.index.workflows.generate_text_embeddings - Workflow started: generate_text_embeddings\n"
     ]
    },
    {
     "name": "stderr",
     "output_type": "stream",
     "text": [
      "INFO:graphrag.index.workflows.generate_text_embeddings:Workflow started: generate_text_embeddings\n"
     ]
    },
    {
     "name": "stdout",
     "output_type": "stream",
     "text": [
      "2025-08-10 22:13:36.0844 - INFO - graphrag.utils.storage - reading table from storage: documents.parquet\n"
     ]
    },
    {
     "name": "stderr",
     "output_type": "stream",
     "text": [
      "INFO:graphrag.utils.storage:reading table from storage: documents.parquet\n"
     ]
    },
    {
     "name": "stdout",
     "output_type": "stream",
     "text": [
      "2025-08-10 22:13:36.0867 - INFO - graphrag.utils.storage - reading table from storage: relationships.parquet\n"
     ]
    },
    {
     "name": "stderr",
     "output_type": "stream",
     "text": [
      "INFO:graphrag.utils.storage:reading table from storage: relationships.parquet\n"
     ]
    },
    {
     "name": "stdout",
     "output_type": "stream",
     "text": [
      "2025-08-10 22:13:36.0875 - INFO - graphrag.utils.storage - reading table from storage: text_units.parquet\n"
     ]
    },
    {
     "name": "stderr",
     "output_type": "stream",
     "text": [
      "INFO:graphrag.utils.storage:reading table from storage: text_units.parquet\n"
     ]
    },
    {
     "name": "stdout",
     "output_type": "stream",
     "text": [
      "2025-08-10 22:13:36.0890 - INFO - graphrag.utils.storage - reading table from storage: entities.parquet\n"
     ]
    },
    {
     "name": "stderr",
     "output_type": "stream",
     "text": [
      "INFO:graphrag.utils.storage:reading table from storage: entities.parquet\n"
     ]
    },
    {
     "name": "stdout",
     "output_type": "stream",
     "text": [
      "2025-08-10 22:13:36.0890 - INFO - graphrag.utils.storage - reading table from storage: community_reports.parquet\n"
     ]
    },
    {
     "name": "stderr",
     "output_type": "stream",
     "text": [
      "INFO:graphrag.utils.storage:reading table from storage: community_reports.parquet\n"
     ]
    },
    {
     "name": "stdout",
     "output_type": "stream",
     "text": [
      "2025-08-10 22:13:36.0924 - INFO - graphrag.index.workflows.generate_text_embeddings - Creating embeddings\n"
     ]
    },
    {
     "name": "stderr",
     "output_type": "stream",
     "text": [
      "INFO:graphrag.index.workflows.generate_text_embeddings:Creating embeddings\n"
     ]
    },
    {
     "name": "stdout",
     "output_type": "stream",
     "text": [
      "2025-08-10 22:13:36.0924 - INFO - graphrag.index.operations.embed_text.embed_text - using vector store lancedb with container_name default for embedding entity.description: default-entity-description\n"
     ]
    },
    {
     "name": "stderr",
     "output_type": "stream",
     "text": [
      "INFO:graphrag.index.operations.embed_text.embed_text:using vector store lancedb with container_name default for embedding entity.description: default-entity-description\n"
     ]
    },
    {
     "name": "stdout",
     "output_type": "stream",
     "text": [
      "2025-08-10 22:13:36.0924 - INFO - graphrag.index.operations.embed_text.embed_text - uploading text embeddings batch 1/1 of size 500 to vector store\n"
     ]
    },
    {
     "name": "stderr",
     "output_type": "stream",
     "text": [
      "INFO:graphrag.index.operations.embed_text.embed_text:uploading text embeddings batch 1/1 of size 500 to vector store\n"
     ]
    },
    {
     "name": "stdout",
     "output_type": "stream",
     "text": [
      "2025-08-10 22:13:36.0944 - INFO - graphrag.index.operations.embed_text.strategies.openai - embedding 186 inputs via 186 snippets using 12 batches. max_batch_size=16, batch_max_tokens=8191\n"
     ]
    },
    {
     "name": "stderr",
     "output_type": "stream",
     "text": [
      "INFO:graphrag.index.operations.embed_text.strategies.openai:embedding 186 inputs via 186 snippets using 12 batches. max_batch_size=16, batch_max_tokens=8191\n"
     ]
    },
    {
     "name": "stdout",
     "output_type": "stream",
     "text": [
      "2025-08-10 22:13:38.0956 - INFO - graphrag.logger.progress - generate embeddings progress: 1/12\n"
     ]
    },
    {
     "name": "stderr",
     "output_type": "stream",
     "text": [
      "INFO:graphrag.logger.progress:generate embeddings progress: 1/12\n"
     ]
    },
    {
     "name": "stdout",
     "output_type": "stream",
     "text": [
      "2025-08-10 22:14:40.0149 - INFO - graphrag.logger.progress - generate embeddings progress: 2/12\n"
     ]
    },
    {
     "name": "stderr",
     "output_type": "stream",
     "text": [
      "INFO:graphrag.logger.progress:generate embeddings progress: 2/12\n"
     ]
    },
    {
     "name": "stdout",
     "output_type": "stream",
     "text": [
      "2025-08-10 22:15:39.0892 - INFO - graphrag.logger.progress - generate embeddings progress: 3/12\n"
     ]
    },
    {
     "name": "stderr",
     "output_type": "stream",
     "text": [
      "INFO:graphrag.logger.progress:generate embeddings progress: 3/12\n"
     ]
    },
    {
     "name": "stdout",
     "output_type": "stream",
     "text": [
      "2025-08-10 22:16:39.0651 - INFO - graphrag.logger.progress - generate embeddings progress: 4/12\n"
     ]
    },
    {
     "name": "stderr",
     "output_type": "stream",
     "text": [
      "INFO:graphrag.logger.progress:generate embeddings progress: 4/12\n"
     ]
    },
    {
     "name": "stdout",
     "output_type": "stream",
     "text": [
      "2025-08-10 22:17:39.0861 - INFO - graphrag.logger.progress - generate embeddings progress: 5/12\n"
     ]
    },
    {
     "name": "stderr",
     "output_type": "stream",
     "text": [
      "INFO:graphrag.logger.progress:generate embeddings progress: 5/12\n"
     ]
    },
    {
     "name": "stdout",
     "output_type": "stream",
     "text": [
      "2025-08-10 22:25:42.0757 - INFO - graphrag.logger.progress - generate embeddings progress: 6/12\n"
     ]
    },
    {
     "name": "stderr",
     "output_type": "stream",
     "text": [
      "INFO:graphrag.logger.progress:generate embeddings progress: 6/12\n"
     ]
    },
    {
     "name": "stdout",
     "output_type": "stream",
     "text": [
      "2025-08-10 22:26:45.0055 - INFO - graphrag.logger.progress - generate embeddings progress: 7/12\n"
     ]
    },
    {
     "name": "stderr",
     "output_type": "stream",
     "text": [
      "INFO:graphrag.logger.progress:generate embeddings progress: 7/12\n"
     ]
    },
    {
     "name": "stdout",
     "output_type": "stream",
     "text": [
      "2025-08-10 22:27:43.0131 - INFO - graphrag.logger.progress - generate embeddings progress: 8/12\n"
     ]
    },
    {
     "name": "stderr",
     "output_type": "stream",
     "text": [
      "INFO:graphrag.logger.progress:generate embeddings progress: 8/12\n"
     ]
    },
    {
     "name": "stdout",
     "output_type": "stream",
     "text": [
      "2025-08-10 22:28:43.0962 - INFO - graphrag.logger.progress - generate embeddings progress: 9/12\n"
     ]
    },
    {
     "name": "stderr",
     "output_type": "stream",
     "text": [
      "INFO:graphrag.logger.progress:generate embeddings progress: 9/12\n"
     ]
    },
    {
     "name": "stdout",
     "output_type": "stream",
     "text": [
      "2025-08-10 22:31:22.0168 - INFO - graphrag.logger.progress - generate embeddings progress: 10/12\n"
     ]
    },
    {
     "name": "stderr",
     "output_type": "stream",
     "text": [
      "INFO:graphrag.logger.progress:generate embeddings progress: 10/12\n"
     ]
    },
    {
     "name": "stdout",
     "output_type": "stream",
     "text": [
      "2025-08-10 22:32:22.0686 - INFO - graphrag.logger.progress - generate embeddings progress: 11/12\n"
     ]
    },
    {
     "name": "stderr",
     "output_type": "stream",
     "text": [
      "INFO:graphrag.logger.progress:generate embeddings progress: 11/12\n"
     ]
    },
    {
     "name": "stdout",
     "output_type": "stream",
     "text": [
      "2025-08-10 22:33:21.0012 - INFO - graphrag.logger.progress - generate embeddings progress: 12/12\n"
     ]
    },
    {
     "name": "stderr",
     "output_type": "stream",
     "text": [
      "INFO:graphrag.logger.progress:generate embeddings progress: 12/12\n"
     ]
    },
    {
     "name": "stdout",
     "output_type": "stream",
     "text": [
      "2025-08-10 22:33:21.0098 - INFO - graphrag.index.operations.embed_text.embed_text - using vector store lancedb with container_name default for embedding community.full_content: default-community-full_content\n"
     ]
    },
    {
     "name": "stderr",
     "output_type": "stream",
     "text": [
      "INFO:graphrag.index.operations.embed_text.embed_text:using vector store lancedb with container_name default for embedding community.full_content: default-community-full_content\n"
     ]
    },
    {
     "name": "stdout",
     "output_type": "stream",
     "text": [
      "2025-08-10 22:33:21.0112 - INFO - graphrag.index.operations.embed_text.embed_text - uploading text embeddings batch 1/1 of size 500 to vector store\n"
     ]
    },
    {
     "name": "stderr",
     "output_type": "stream",
     "text": [
      "INFO:graphrag.index.operations.embed_text.embed_text:uploading text embeddings batch 1/1 of size 500 to vector store\n"
     ]
    },
    {
     "name": "stdout",
     "output_type": "stream",
     "text": [
      "2025-08-10 22:33:21.0139 - INFO - graphrag.index.operations.embed_text.strategies.openai - embedding 30 inputs via 30 snippets using 2 batches. max_batch_size=16, batch_max_tokens=8191\n"
     ]
    },
    {
     "name": "stderr",
     "output_type": "stream",
     "text": [
      "INFO:graphrag.index.operations.embed_text.strategies.openai:embedding 30 inputs via 30 snippets using 2 batches. max_batch_size=16, batch_max_tokens=8191\n"
     ]
    },
    {
     "name": "stdout",
     "output_type": "stream",
     "text": [
      "2025-08-10 22:34:21.0170 - INFO - graphrag.logger.progress - generate embeddings progress: 1/2\n"
     ]
    },
    {
     "name": "stderr",
     "output_type": "stream",
     "text": [
      "INFO:graphrag.logger.progress:generate embeddings progress: 1/2\n"
     ]
    },
    {
     "name": "stdout",
     "output_type": "stream",
     "text": [
      "2025-08-10 22:35:20.0982 - INFO - graphrag.logger.progress - generate embeddings progress: 2/2\n"
     ]
    },
    {
     "name": "stderr",
     "output_type": "stream",
     "text": [
      "INFO:graphrag.logger.progress:generate embeddings progress: 2/2\n"
     ]
    },
    {
     "name": "stdout",
     "output_type": "stream",
     "text": [
      "2025-08-10 22:35:21.0027 - INFO - graphrag.index.operations.embed_text.embed_text - using vector store lancedb with container_name default for embedding text_unit.text: default-text_unit-text\n"
     ]
    },
    {
     "name": "stderr",
     "output_type": "stream",
     "text": [
      "INFO:graphrag.index.operations.embed_text.embed_text:using vector store lancedb with container_name default for embedding text_unit.text: default-text_unit-text\n"
     ]
    },
    {
     "name": "stdout",
     "output_type": "stream",
     "text": [
      "2025-08-10 22:35:21.0034 - INFO - graphrag.index.operations.embed_text.embed_text - uploading text embeddings batch 1/1 of size 500 to vector store\n"
     ]
    },
    {
     "name": "stderr",
     "output_type": "stream",
     "text": [
      "INFO:graphrag.index.operations.embed_text.embed_text:uploading text embeddings batch 1/1 of size 500 to vector store\n"
     ]
    },
    {
     "name": "stdout",
     "output_type": "stream",
     "text": [
      "2025-08-10 22:35:21.0049 - INFO - graphrag.index.operations.embed_text.strategies.openai - embedding 10 inputs via 10 snippets using 1 batches. max_batch_size=16, batch_max_tokens=8191\n"
     ]
    },
    {
     "name": "stderr",
     "output_type": "stream",
     "text": [
      "INFO:graphrag.index.operations.embed_text.strategies.openai:embedding 10 inputs via 10 snippets using 1 batches. max_batch_size=16, batch_max_tokens=8191\n"
     ]
    },
    {
     "name": "stdout",
     "output_type": "stream",
     "text": [
      "2025-08-10 22:36:20.0672 - INFO - graphrag.logger.progress - generate embeddings progress: 1/1\n"
     ]
    },
    {
     "name": "stderr",
     "output_type": "stream",
     "text": [
      "INFO:graphrag.logger.progress:generate embeddings progress: 1/1\n"
     ]
    },
    {
     "name": "stdout",
     "output_type": "stream",
     "text": [
      "2025-08-10 22:36:20.0762 - INFO - graphrag.index.workflows.generate_text_embeddings - Workflow completed: generate_text_embeddings\n"
     ]
    },
    {
     "name": "stderr",
     "output_type": "stream",
     "text": [
      "INFO:graphrag.index.workflows.generate_text_embeddings:Workflow completed: generate_text_embeddings\n"
     ]
    },
    {
     "name": "stdout",
     "output_type": "stream",
     "text": [
      "2025-08-10 22:36:20.0762 - INFO - graphrag.api.index - Workflow generate_text_embeddings completed successfully\n"
     ]
    },
    {
     "name": "stderr",
     "output_type": "stream",
     "text": [
      "INFO:graphrag.api.index:Workflow generate_text_embeddings completed successfully\n"
     ]
    },
    {
     "name": "stdout",
     "output_type": "stream",
     "text": [
      "2025-08-10 22:36:20.0785 - INFO - graphrag.index.run.run_pipeline - Indexing pipeline complete.\n"
     ]
    },
    {
     "name": "stderr",
     "output_type": "stream",
     "text": [
      "INFO:graphrag.index.run.run_pipeline:Indexing pipeline complete.\n"
     ]
    },
    {
     "name": "stdout",
     "output_type": "stream",
     "text": [
      "Workflow Name: load_input_documents\tStatus: success\n",
      "Workflow Name: create_base_text_units\tStatus: success\n",
      "Workflow Name: create_final_documents\tStatus: success\n",
      "Workflow Name: extract_graph\tStatus: success\n",
      "Workflow Name: finalize_graph\tStatus: success\n",
      "Workflow Name: extract_covariates\tStatus: success\n",
      "Workflow Name: create_communities\tStatus: success\n",
      "Workflow Name: create_final_text_units\tStatus: success\n",
      "Workflow Name: create_community_reports\tStatus: success\n",
      "Workflow Name: generate_text_embeddings\tStatus: success\n"
     ]
    }
   ],
   "source": [
    "index_result: list[PipelineRunResult] = await api.build_index(config=graphrag_config)\n",
    "\n",
    "# index_result is a list of workflows that make up the indexing pipeline that was run\n",
    "for workflow_result in index_result:\n",
    "    status = f\"error\\n{workflow_result.errors}\" if workflow_result.errors else \"success\"\n",
    "    print(f\"Workflow Name: {workflow_result.workflow}\\tStatus: {status}\")"
   ]
  },
  {
   "cell_type": "code",
   "execution_count": 144,
   "id": "f4f6ec4b",
   "metadata": {},
   "outputs": [
    {
     "data": {
      "text/html": [
       "<div>\n",
       "<style scoped>\n",
       "    .dataframe tbody tr th:only-of-type {\n",
       "        vertical-align: middle;\n",
       "    }\n",
       "\n",
       "    .dataframe tbody tr th {\n",
       "        vertical-align: top;\n",
       "    }\n",
       "\n",
       "    .dataframe thead th {\n",
       "        text-align: right;\n",
       "    }\n",
       "</style>\n",
       "<table border=\"1\" class=\"dataframe\">\n",
       "  <thead>\n",
       "    <tr style=\"text-align: right;\">\n",
       "      <th></th>\n",
       "      <th>id</th>\n",
       "      <th>human_readable_id</th>\n",
       "      <th>text</th>\n",
       "      <th>n_tokens</th>\n",
       "      <th>document_ids</th>\n",
       "      <th>entity_ids</th>\n",
       "      <th>relationship_ids</th>\n",
       "      <th>covariate_ids</th>\n",
       "    </tr>\n",
       "  </thead>\n",
       "  <tbody>\n",
       "    <tr>\n",
       "      <th>0</th>\n",
       "      <td>af16e1630a5910964a6625f67207c6f9fa5b9107ef2d55...</td>\n",
       "      <td>1</td>\n",
       "      <td>C2 GeneralNIRAV GANDHI\\nAI Manager\\nPROFILE\\n•...</td>\n",
       "      <td>600</td>\n",
       "      <td>[14c6a4dd01b4dbf65a4d8f105a539f4e14715b4fccf9a...</td>\n",
       "      <td>[bba7b7ba-7ec8-41c9-a502-792b9c8ed189, 4dbbb16...</td>\n",
       "      <td>[da7b74ce-a9a8-4b08-bf14-157f2b073709, f0279d3...</td>\n",
       "      <td>[95f62f00-7662-4b9d-b19e-47ab5733257e, 1e98d1d...</td>\n",
       "    </tr>\n",
       "    <tr>\n",
       "      <th>1</th>\n",
       "      <td>0efa6a8097ecc06199b6e1bbd72ca7de95fef7d39a67e4...</td>\n",
       "      <td>2</td>\n",
       "      <td>•Unified Data Platform &amp; Feature Store : Desig...</td>\n",
       "      <td>600</td>\n",
       "      <td>[14c6a4dd01b4dbf65a4d8f105a539f4e14715b4fccf9a...</td>\n",
       "      <td>[bba7b7ba-7ec8-41c9-a502-792b9c8ed189, 1766537...</td>\n",
       "      <td>[49b174a5-add4-4d94-8384-38693d394fff, eaf4e4e...</td>\n",
       "      <td>[bb79ed5c-4f16-4e0f-9d12-e87b63a3bb77, a1b4e76...</td>\n",
       "    </tr>\n",
       "    <tr>\n",
       "      <th>2</th>\n",
       "      <td>6cbe124c1781a368fdf7fabc5cdf6e46c08dd2f66d7439...</td>\n",
       "      <td>3</td>\n",
       "      <td>Analyst Consultant\\nTata Consultancy Service ...</td>\n",
       "      <td>550</td>\n",
       "      <td>[14c6a4dd01b4dbf65a4d8f105a539f4e14715b4fccf9a...</td>\n",
       "      <td>[bba7b7ba-7ec8-41c9-a502-792b9c8ed189, 8111e3b...</td>\n",
       "      <td>[d32eedb4-be03-49e5-a84e-abdb646d80e6, 0ac2234...</td>\n",
       "      <td>[2c766623-896c-4e22-b88a-421c658c9734, f562bb1...</td>\n",
       "    </tr>\n",
       "    <tr>\n",
       "      <th>3</th>\n",
       "      <td>611f5dfd2a5ec417c0e33ab853f937bc1debf4b834e62e...</td>\n",
       "      <td>4</td>\n",
       "      <td>Mamta Shinde   \\n+91-8999946751  | shindemamta...</td>\n",
       "      <td>600</td>\n",
       "      <td>[581fe65ba9c7f6ddbe362b58b9a350224e0ba26501e55...</td>\n",
       "      <td>[ea8405a3-a897-4d68-a94c-1158b4deac9d, 058749e...</td>\n",
       "      <td>[6d6ce96b-3fa5-4a9e-8ade-b07daaffc31b, 664cf4f...</td>\n",
       "      <td>[de81b611-10da-44f3-8713-c2ff404459a1, 7f0f682...</td>\n",
       "    </tr>\n",
       "    <tr>\n",
       "      <th>4</th>\n",
       "      <td>a32a6a9a1dc9a5996ef6a1342de9884bee8bdc0d672546...</td>\n",
       "      <td>5</td>\n",
       "      <td>o Refined NLP Metrics:  Leveraged NLP methodol...</td>\n",
       "      <td>600</td>\n",
       "      <td>[581fe65ba9c7f6ddbe362b58b9a350224e0ba26501e55...</td>\n",
       "      <td>[72693e3a-3b6c-40cb-9b56-44aa57c559ea, 600946f...</td>\n",
       "      <td>[eb036f76-e747-4df5-b3af-d95e644b976f, 10c4d05...</td>\n",
       "      <td>[5ffe0269-a258-4aaf-9505-0c92e3b9f421, c1c32a8...</td>\n",
       "    </tr>\n",
       "    <tr>\n",
       "      <th>5</th>\n",
       "      <td>59938d11b476c4dda15b0f37c73e5abb566f99c9a731bc...</td>\n",
       "      <td>6</td>\n",
       "      <td>resolution.  \\no Data -Driven Decision -Makin...</td>\n",
       "      <td>526</td>\n",
       "      <td>[581fe65ba9c7f6ddbe362b58b9a350224e0ba26501e55...</td>\n",
       "      <td>[04632ec6-48a2-4505-9c0d-4123046024bc, ad66a1c...</td>\n",
       "      <td>[818e9714-70d6-46f0-8877-294e6656b325, d95c8d4...</td>\n",
       "      <td>[12cda7f6-7414-4144-9f8c-f50432aabaee, 9da2d03...</td>\n",
       "    </tr>\n",
       "    <tr>\n",
       "      <th>6</th>\n",
       "      <td>a299f2f8f668c3ef46e7ab04c9551f2523748d72115753...</td>\n",
       "      <td>7</td>\n",
       "      <td>\\n \\n \\nEducation    AISHWARYA GABA  \\naishga...</td>\n",
       "      <td>600</td>\n",
       "      <td>[9bc5e1fa5c4dfe543b4c48f97e5ee58f76ab92b45fc1c...</td>\n",
       "      <td>[53da91ea-7a89-49b8-a003-3dfc51c41b40, 72693e3...</td>\n",
       "      <td>[0a469fb7-4e2e-4f5e-8cb4-63d0e9470cc9, 2603eaf...</td>\n",
       "      <td>[eadb660b-71d7-4716-a8e2-990a3d5e9732, d219047...</td>\n",
       "    </tr>\n",
       "    <tr>\n",
       "      <th>7</th>\n",
       "      <td>f19eb50bfaefd309b7ebda4c106c8e292f04b67c501357...</td>\n",
       "      <td>8</td>\n",
       "      <td>This initiative \\nreduced reporting time by ...</td>\n",
       "      <td>567</td>\n",
       "      <td>[9bc5e1fa5c4dfe543b4c48f97e5ee58f76ab92b45fc1c...</td>\n",
       "      <td>[53da91ea-7a89-49b8-a003-3dfc51c41b40, 72693e3...</td>\n",
       "      <td>[e1e677ad-ca67-48b2-bab6-ee1dbea9ee8f, d4b5735...</td>\n",
       "      <td>[190226ff-9b6a-4c2b-b298-e646babef624]</td>\n",
       "    </tr>\n",
       "    <tr>\n",
       "      <th>8</th>\n",
       "      <td>990ef6c1d3f7342da31a3477839a12d578fa9becb0f0d5...</td>\n",
       "      <td>9</td>\n",
       "      <td>Nrutya Doshi\\nnrutyad@gmail.com |+91 810817129...</td>\n",
       "      <td>600</td>\n",
       "      <td>[9d973974b126e3a80c0695ab34124855c53af64814b8a...</td>\n",
       "      <td>[a372d4a0-c10c-4d3f-897d-b914fff612ce, 772cfca...</td>\n",
       "      <td>[4f861cf7-134a-4bce-906c-3c885a9807c2, 7725e3b...</td>\n",
       "      <td>[f81b23c9-36c4-4588-8b1f-013f279b1bd3]</td>\n",
       "    </tr>\n",
       "    <tr>\n",
       "      <th>9</th>\n",
       "      <td>ecbcb5e890848e4fed114e2870531697a42c7449a2d83f...</td>\n",
       "      <td>10</td>\n",
       "      <td>Applied HDBSCAN and the Haversine metric to de...</td>\n",
       "      <td>186</td>\n",
       "      <td>[9d973974b126e3a80c0695ab34124855c53af64814b8a...</td>\n",
       "      <td>[772cfca2-b377-404f-8cfb-41566f1aab09, daeeaf4...</td>\n",
       "      <td>[00ceddc1-8aa0-48cb-8fdb-73b8c747a5fd, e1de271...</td>\n",
       "      <td>[c396a643-8694-4bc6-b80f-414e3acf746f]</td>\n",
       "    </tr>\n",
       "  </tbody>\n",
       "</table>\n",
       "</div>"
      ],
      "text/plain": [
       "                                                  id  human_readable_id  \\\n",
       "0  af16e1630a5910964a6625f67207c6f9fa5b9107ef2d55...                  1   \n",
       "1  0efa6a8097ecc06199b6e1bbd72ca7de95fef7d39a67e4...                  2   \n",
       "2  6cbe124c1781a368fdf7fabc5cdf6e46c08dd2f66d7439...                  3   \n",
       "3  611f5dfd2a5ec417c0e33ab853f937bc1debf4b834e62e...                  4   \n",
       "4  a32a6a9a1dc9a5996ef6a1342de9884bee8bdc0d672546...                  5   \n",
       "5  59938d11b476c4dda15b0f37c73e5abb566f99c9a731bc...                  6   \n",
       "6  a299f2f8f668c3ef46e7ab04c9551f2523748d72115753...                  7   \n",
       "7  f19eb50bfaefd309b7ebda4c106c8e292f04b67c501357...                  8   \n",
       "8  990ef6c1d3f7342da31a3477839a12d578fa9becb0f0d5...                  9   \n",
       "9  ecbcb5e890848e4fed114e2870531697a42c7449a2d83f...                 10   \n",
       "\n",
       "                                                text  n_tokens  \\\n",
       "0  C2 GeneralNIRAV GANDHI\\nAI Manager\\nPROFILE\\n•...       600   \n",
       "1  •Unified Data Platform & Feature Store : Desig...       600   \n",
       "2   Analyst Consultant\\nTata Consultancy Service ...       550   \n",
       "3  Mamta Shinde   \\n+91-8999946751  | shindemamta...       600   \n",
       "4  o Refined NLP Metrics:  Leveraged NLP methodol...       600   \n",
       "5   resolution.  \\no Data -Driven Decision -Makin...       526   \n",
       "6   \\n \\n \\nEducation    AISHWARYA GABA  \\naishga...       600   \n",
       "7    This initiative \\nreduced reporting time by ...       567   \n",
       "8  Nrutya Doshi\\nnrutyad@gmail.com |+91 810817129...       600   \n",
       "9  Applied HDBSCAN and the Haversine metric to de...       186   \n",
       "\n",
       "                                        document_ids  \\\n",
       "0  [14c6a4dd01b4dbf65a4d8f105a539f4e14715b4fccf9a...   \n",
       "1  [14c6a4dd01b4dbf65a4d8f105a539f4e14715b4fccf9a...   \n",
       "2  [14c6a4dd01b4dbf65a4d8f105a539f4e14715b4fccf9a...   \n",
       "3  [581fe65ba9c7f6ddbe362b58b9a350224e0ba26501e55...   \n",
       "4  [581fe65ba9c7f6ddbe362b58b9a350224e0ba26501e55...   \n",
       "5  [581fe65ba9c7f6ddbe362b58b9a350224e0ba26501e55...   \n",
       "6  [9bc5e1fa5c4dfe543b4c48f97e5ee58f76ab92b45fc1c...   \n",
       "7  [9bc5e1fa5c4dfe543b4c48f97e5ee58f76ab92b45fc1c...   \n",
       "8  [9d973974b126e3a80c0695ab34124855c53af64814b8a...   \n",
       "9  [9d973974b126e3a80c0695ab34124855c53af64814b8a...   \n",
       "\n",
       "                                          entity_ids  \\\n",
       "0  [bba7b7ba-7ec8-41c9-a502-792b9c8ed189, 4dbbb16...   \n",
       "1  [bba7b7ba-7ec8-41c9-a502-792b9c8ed189, 1766537...   \n",
       "2  [bba7b7ba-7ec8-41c9-a502-792b9c8ed189, 8111e3b...   \n",
       "3  [ea8405a3-a897-4d68-a94c-1158b4deac9d, 058749e...   \n",
       "4  [72693e3a-3b6c-40cb-9b56-44aa57c559ea, 600946f...   \n",
       "5  [04632ec6-48a2-4505-9c0d-4123046024bc, ad66a1c...   \n",
       "6  [53da91ea-7a89-49b8-a003-3dfc51c41b40, 72693e3...   \n",
       "7  [53da91ea-7a89-49b8-a003-3dfc51c41b40, 72693e3...   \n",
       "8  [a372d4a0-c10c-4d3f-897d-b914fff612ce, 772cfca...   \n",
       "9  [772cfca2-b377-404f-8cfb-41566f1aab09, daeeaf4...   \n",
       "\n",
       "                                    relationship_ids  \\\n",
       "0  [da7b74ce-a9a8-4b08-bf14-157f2b073709, f0279d3...   \n",
       "1  [49b174a5-add4-4d94-8384-38693d394fff, eaf4e4e...   \n",
       "2  [d32eedb4-be03-49e5-a84e-abdb646d80e6, 0ac2234...   \n",
       "3  [6d6ce96b-3fa5-4a9e-8ade-b07daaffc31b, 664cf4f...   \n",
       "4  [eb036f76-e747-4df5-b3af-d95e644b976f, 10c4d05...   \n",
       "5  [818e9714-70d6-46f0-8877-294e6656b325, d95c8d4...   \n",
       "6  [0a469fb7-4e2e-4f5e-8cb4-63d0e9470cc9, 2603eaf...   \n",
       "7  [e1e677ad-ca67-48b2-bab6-ee1dbea9ee8f, d4b5735...   \n",
       "8  [4f861cf7-134a-4bce-906c-3c885a9807c2, 7725e3b...   \n",
       "9  [00ceddc1-8aa0-48cb-8fdb-73b8c747a5fd, e1de271...   \n",
       "\n",
       "                                       covariate_ids  \n",
       "0  [95f62f00-7662-4b9d-b19e-47ab5733257e, 1e98d1d...  \n",
       "1  [bb79ed5c-4f16-4e0f-9d12-e87b63a3bb77, a1b4e76...  \n",
       "2  [2c766623-896c-4e22-b88a-421c658c9734, f562bb1...  \n",
       "3  [de81b611-10da-44f3-8713-c2ff404459a1, 7f0f682...  \n",
       "4  [5ffe0269-a258-4aaf-9505-0c92e3b9f421, c1c32a8...  \n",
       "5  [12cda7f6-7414-4144-9f8c-f50432aabaee, 9da2d03...  \n",
       "6  [eadb660b-71d7-4716-a8e2-990a3d5e9732, d219047...  \n",
       "7             [190226ff-9b6a-4c2b-b298-e646babef624]  \n",
       "8             [f81b23c9-36c4-4588-8b1f-013f279b1bd3]  \n",
       "9             [c396a643-8694-4bc6-b80f-414e3acf746f]  "
      ]
     },
     "execution_count": 144,
     "metadata": {},
     "output_type": "execute_result"
    }
   ],
   "source": [
    "chunks = pd.read_parquet(\"output/text_units.parquet\")\n",
    "\n",
    "chunks\n",
    "\n",
    "\n"
   ]
  },
  {
   "cell_type": "code",
   "execution_count": 145,
   "id": "be4534b4",
   "metadata": {},
   "outputs": [
    {
     "data": {
      "text/html": [
       "<div>\n",
       "<style scoped>\n",
       "    .dataframe tbody tr th:only-of-type {\n",
       "        vertical-align: middle;\n",
       "    }\n",
       "\n",
       "    .dataframe tbody tr th {\n",
       "        vertical-align: top;\n",
       "    }\n",
       "\n",
       "    .dataframe thead th {\n",
       "        text-align: right;\n",
       "    }\n",
       "</style>\n",
       "<table border=\"1\" class=\"dataframe\">\n",
       "  <thead>\n",
       "    <tr style=\"text-align: right;\">\n",
       "      <th></th>\n",
       "      <th>id</th>\n",
       "      <th>human_readable_id</th>\n",
       "      <th>title</th>\n",
       "      <th>type</th>\n",
       "      <th>description</th>\n",
       "      <th>text_unit_ids</th>\n",
       "      <th>frequency</th>\n",
       "      <th>degree</th>\n",
       "      <th>x</th>\n",
       "      <th>y</th>\n",
       "    </tr>\n",
       "  </thead>\n",
       "  <tbody>\n",
       "    <tr>\n",
       "      <th>0</th>\n",
       "      <td>bba7b7ba-7ec8-41c9-a502-792b9c8ed189</td>\n",
       "      <td>0</td>\n",
       "      <td>NIRAV GANDHI</td>\n",
       "      <td>PERSONAL DETAIL</td>\n",
       "      <td>Nirav Gandhi is an accomplished professional w...</td>\n",
       "      <td>[af16e1630a5910964a6625f67207c6f9fa5b9107ef2d5...</td>\n",
       "      <td>3</td>\n",
       "      <td>9</td>\n",
       "      <td>-0.095694</td>\n",
       "      <td>13.538926</td>\n",
       "    </tr>\n",
       "    <tr>\n",
       "      <th>1</th>\n",
       "      <td>4dbbb16f-f177-427b-ab76-e6b59e85203c</td>\n",
       "      <td>1</td>\n",
       "      <td>AI MANAGER</td>\n",
       "      <td>ROLE</td>\n",
       "      <td>A position held by Nirav Gandhi, specializing ...</td>\n",
       "      <td>[af16e1630a5910964a6625f67207c6f9fa5b9107ef2d5...</td>\n",
       "      <td>1</td>\n",
       "      <td>1</td>\n",
       "      <td>-0.377320</td>\n",
       "      <td>12.851553</td>\n",
       "    </tr>\n",
       "    <tr>\n",
       "      <th>2</th>\n",
       "      <td>a372d4a0-c10c-4d3f-897d-b914fff612ce</td>\n",
       "      <td>2</td>\n",
       "      <td>SENIOR DATA SCIENTIST</td>\n",
       "      <td>ROLE</td>\n",
       "      <td>The \"SENIOR DATA SCIENTIST\" position is held b...</td>\n",
       "      <td>[af16e1630a5910964a6625f67207c6f9fa5b9107ef2d5...</td>\n",
       "      <td>2</td>\n",
       "      <td>4</td>\n",
       "      <td>-11.811598</td>\n",
       "      <td>-8.795559</td>\n",
       "    </tr>\n",
       "    <tr>\n",
       "      <th>3</th>\n",
       "      <td>8111e3b5-3a42-40f8-bbfb-396d72a0e878</td>\n",
       "      <td>3</td>\n",
       "      <td>VOIS</td>\n",
       "      <td>ORGANIZATION</td>\n",
       "      <td>VOIS is an organization where Nirav Gandhi has...</td>\n",
       "      <td>[af16e1630a5910964a6625f67207c6f9fa5b9107ef2d5...</td>\n",
       "      <td>2</td>\n",
       "      <td>4</td>\n",
       "      <td>0.302781</td>\n",
       "      <td>13.517496</td>\n",
       "    </tr>\n",
       "    <tr>\n",
       "      <th>4</th>\n",
       "      <td>1766537e-823c-4630-9348-35828c36ae37</td>\n",
       "      <td>4</td>\n",
       "      <td>ACCENTURE</td>\n",
       "      <td>ORGANIZATION</td>\n",
       "      <td>ACCENTURE is a company known for its collabora...</td>\n",
       "      <td>[af16e1630a5910964a6625f67207c6f9fa5b9107ef2d5...</td>\n",
       "      <td>3</td>\n",
       "      <td>8</td>\n",
       "      <td>1.177900</td>\n",
       "      <td>13.653461</td>\n",
       "    </tr>\n",
       "    <tr>\n",
       "      <th>...</th>\n",
       "      <td>...</td>\n",
       "      <td>...</td>\n",
       "      <td>...</td>\n",
       "      <td>...</td>\n",
       "      <td>...</td>\n",
       "      <td>...</td>\n",
       "      <td>...</td>\n",
       "      <td>...</td>\n",
       "      <td>...</td>\n",
       "      <td>...</td>\n",
       "    </tr>\n",
       "    <tr>\n",
       "      <th>181</th>\n",
       "      <td>6a96ad5a-ae58-4275-bfda-a884001ac507</td>\n",
       "      <td>181</td>\n",
       "      <td>ASSISTANTSAPI</td>\n",
       "      <td>TECHNOLOGY</td>\n",
       "      <td>An API for building conversational assistants</td>\n",
       "      <td>[ecbcb5e890848e4fed114e2870531697a42c7449a2d83...</td>\n",
       "      <td>1</td>\n",
       "      <td>1</td>\n",
       "      <td>20.248610</td>\n",
       "      <td>4.222757</td>\n",
       "    </tr>\n",
       "    <tr>\n",
       "      <th>182</th>\n",
       "      <td>e0582fc5-ad42-48de-b0a0-993d738d54a5</td>\n",
       "      <td>182</td>\n",
       "      <td>PROGRAMMING</td>\n",
       "      <td>SKILL</td>\n",
       "      <td>The ability to write code in various languages...</td>\n",
       "      <td>[ecbcb5e890848e4fed114e2870531697a42c7449a2d83...</td>\n",
       "      <td>1</td>\n",
       "      <td>1</td>\n",
       "      <td>-23.357494</td>\n",
       "      <td>0.374003</td>\n",
       "    </tr>\n",
       "    <tr>\n",
       "      <th>183</th>\n",
       "      <td>d6559b23-247a-424f-a347-04fbb8a2095c</td>\n",
       "      <td>183</td>\n",
       "      <td>LIBRARIES AND TECHNOLOGIES</td>\n",
       "      <td>SKILL</td>\n",
       "      <td>Proficiency in using libraries and technologie...</td>\n",
       "      <td>[ecbcb5e890848e4fed114e2870531697a42c7449a2d83...</td>\n",
       "      <td>1</td>\n",
       "      <td>1</td>\n",
       "      <td>-22.359612</td>\n",
       "      <td>0.339331</td>\n",
       "    </tr>\n",
       "    <tr>\n",
       "      <th>184</th>\n",
       "      <td>1a1ef10d-b708-491c-b8af-2f0e30730d3d</td>\n",
       "      <td>184</td>\n",
       "      <td>TOOLS AND PLATFORMS</td>\n",
       "      <td>SKILL</td>\n",
       "      <td>Experience with tools and platforms such as Vi...</td>\n",
       "      <td>[ecbcb5e890848e4fed114e2870531697a42c7449a2d83...</td>\n",
       "      <td>1</td>\n",
       "      <td>1</td>\n",
       "      <td>20.263702</td>\n",
       "      <td>5.500136</td>\n",
       "    </tr>\n",
       "    <tr>\n",
       "      <th>185</th>\n",
       "      <td>c546da9a-1541-4b01-95fb-aabc5a695d95</td>\n",
       "      <td>185</td>\n",
       "      <td>SPEAKER PROGRAM</td>\n",
       "      <td></td>\n",
       "      <td></td>\n",
       "      <td>[ecbcb5e890848e4fed114e2870531697a42c7449a2d83...</td>\n",
       "      <td>1</td>\n",
       "      <td>1</td>\n",
       "      <td>18.899652</td>\n",
       "      <td>7.766074</td>\n",
       "    </tr>\n",
       "  </tbody>\n",
       "</table>\n",
       "<p>186 rows × 10 columns</p>\n",
       "</div>"
      ],
      "text/plain": [
       "                                       id  human_readable_id  \\\n",
       "0    bba7b7ba-7ec8-41c9-a502-792b9c8ed189                  0   \n",
       "1    4dbbb16f-f177-427b-ab76-e6b59e85203c                  1   \n",
       "2    a372d4a0-c10c-4d3f-897d-b914fff612ce                  2   \n",
       "3    8111e3b5-3a42-40f8-bbfb-396d72a0e878                  3   \n",
       "4    1766537e-823c-4630-9348-35828c36ae37                  4   \n",
       "..                                    ...                ...   \n",
       "181  6a96ad5a-ae58-4275-bfda-a884001ac507                181   \n",
       "182  e0582fc5-ad42-48de-b0a0-993d738d54a5                182   \n",
       "183  d6559b23-247a-424f-a347-04fbb8a2095c                183   \n",
       "184  1a1ef10d-b708-491c-b8af-2f0e30730d3d                184   \n",
       "185  c546da9a-1541-4b01-95fb-aabc5a695d95                185   \n",
       "\n",
       "                          title             type  \\\n",
       "0                  NIRAV GANDHI  PERSONAL DETAIL   \n",
       "1                    AI MANAGER             ROLE   \n",
       "2         SENIOR DATA SCIENTIST             ROLE   \n",
       "3                          VOIS     ORGANIZATION   \n",
       "4                     ACCENTURE     ORGANIZATION   \n",
       "..                          ...              ...   \n",
       "181               ASSISTANTSAPI       TECHNOLOGY   \n",
       "182                 PROGRAMMING            SKILL   \n",
       "183  LIBRARIES AND TECHNOLOGIES            SKILL   \n",
       "184         TOOLS AND PLATFORMS            SKILL   \n",
       "185             SPEAKER PROGRAM                    \n",
       "\n",
       "                                           description  \\\n",
       "0    Nirav Gandhi is an accomplished professional w...   \n",
       "1    A position held by Nirav Gandhi, specializing ...   \n",
       "2    The \"SENIOR DATA SCIENTIST\" position is held b...   \n",
       "3    VOIS is an organization where Nirav Gandhi has...   \n",
       "4    ACCENTURE is a company known for its collabora...   \n",
       "..                                                 ...   \n",
       "181      An API for building conversational assistants   \n",
       "182  The ability to write code in various languages...   \n",
       "183  Proficiency in using libraries and technologie...   \n",
       "184  Experience with tools and platforms such as Vi...   \n",
       "185                                                      \n",
       "\n",
       "                                         text_unit_ids  frequency  degree  \\\n",
       "0    [af16e1630a5910964a6625f67207c6f9fa5b9107ef2d5...          3       9   \n",
       "1    [af16e1630a5910964a6625f67207c6f9fa5b9107ef2d5...          1       1   \n",
       "2    [af16e1630a5910964a6625f67207c6f9fa5b9107ef2d5...          2       4   \n",
       "3    [af16e1630a5910964a6625f67207c6f9fa5b9107ef2d5...          2       4   \n",
       "4    [af16e1630a5910964a6625f67207c6f9fa5b9107ef2d5...          3       8   \n",
       "..                                                 ...        ...     ...   \n",
       "181  [ecbcb5e890848e4fed114e2870531697a42c7449a2d83...          1       1   \n",
       "182  [ecbcb5e890848e4fed114e2870531697a42c7449a2d83...          1       1   \n",
       "183  [ecbcb5e890848e4fed114e2870531697a42c7449a2d83...          1       1   \n",
       "184  [ecbcb5e890848e4fed114e2870531697a42c7449a2d83...          1       1   \n",
       "185  [ecbcb5e890848e4fed114e2870531697a42c7449a2d83...          1       1   \n",
       "\n",
       "             x          y  \n",
       "0    -0.095694  13.538926  \n",
       "1    -0.377320  12.851553  \n",
       "2   -11.811598  -8.795559  \n",
       "3     0.302781  13.517496  \n",
       "4     1.177900  13.653461  \n",
       "..         ...        ...  \n",
       "181  20.248610   4.222757  \n",
       "182 -23.357494   0.374003  \n",
       "183 -22.359612   0.339331  \n",
       "184  20.263702   5.500136  \n",
       "185  18.899652   7.766074  \n",
       "\n",
       "[186 rows x 10 columns]"
      ]
     },
     "execution_count": 145,
     "metadata": {},
     "output_type": "execute_result"
    }
   ],
   "source": [
    "entities = pd.read_parquet(\"output/entities.parquet\")\n",
    "entities"
   ]
  },
  {
   "cell_type": "code",
   "execution_count": 146,
   "id": "9f00bfd4",
   "metadata": {},
   "outputs": [
    {
     "data": {
      "text/plain": [
       "(186, 10)"
      ]
     },
     "execution_count": 146,
     "metadata": {},
     "output_type": "execute_result"
    }
   ],
   "source": [
    "entities.shape"
   ]
  },
  {
   "cell_type": "code",
   "execution_count": 147,
   "id": "68c7e950",
   "metadata": {},
   "outputs": [
    {
     "data": {
      "text/html": [
       "<div>\n",
       "<style scoped>\n",
       "    .dataframe tbody tr th:only-of-type {\n",
       "        vertical-align: middle;\n",
       "    }\n",
       "\n",
       "    .dataframe tbody tr th {\n",
       "        vertical-align: top;\n",
       "    }\n",
       "\n",
       "    .dataframe thead th {\n",
       "        text-align: right;\n",
       "    }\n",
       "</style>\n",
       "<table border=\"1\" class=\"dataframe\">\n",
       "  <thead>\n",
       "    <tr style=\"text-align: right;\">\n",
       "      <th></th>\n",
       "      <th>id</th>\n",
       "      <th>human_readable_id</th>\n",
       "      <th>source</th>\n",
       "      <th>target</th>\n",
       "      <th>description</th>\n",
       "      <th>weight</th>\n",
       "      <th>combined_degree</th>\n",
       "      <th>text_unit_ids</th>\n",
       "    </tr>\n",
       "  </thead>\n",
       "  <tbody>\n",
       "    <tr>\n",
       "      <th>0</th>\n",
       "      <td>da7b74ce-a9a8-4b08-bf14-157f2b073709</td>\n",
       "      <td>0</td>\n",
       "      <td>NIRAV GANDHI</td>\n",
       "      <td>AI MANAGER</td>\n",
       "      <td>Nirav Gandhi holds the role of AI Manager</td>\n",
       "      <td>9.0</td>\n",
       "      <td>10</td>\n",
       "      <td>[af16e1630a5910964a6625f67207c6f9fa5b9107ef2d5...</td>\n",
       "    </tr>\n",
       "    <tr>\n",
       "      <th>1</th>\n",
       "      <td>f0279d3c-069e-424b-8da7-58c0388bbc48</td>\n",
       "      <td>1</td>\n",
       "      <td>NIRAV GANDHI</td>\n",
       "      <td>SENIOR DATA SCIENTIST</td>\n",
       "      <td>Nirav Gandhi holds the role of Senior Data Sci...</td>\n",
       "      <td>9.0</td>\n",
       "      <td>13</td>\n",
       "      <td>[af16e1630a5910964a6625f67207c6f9fa5b9107ef2d5...</td>\n",
       "    </tr>\n",
       "    <tr>\n",
       "      <th>2</th>\n",
       "      <td>a71a2e81-4568-4521-ac36-53af88da3c69</td>\n",
       "      <td>2</td>\n",
       "      <td>NIRAV GANDHI</td>\n",
       "      <td>VOIS</td>\n",
       "      <td>Nirav Gandhi works at VOIS</td>\n",
       "      <td>9.0</td>\n",
       "      <td>13</td>\n",
       "      <td>[af16e1630a5910964a6625f67207c6f9fa5b9107ef2d5...</td>\n",
       "    </tr>\n",
       "    <tr>\n",
       "      <th>3</th>\n",
       "      <td>55040f7f-83fe-43e7-a5f7-d12ddb597323</td>\n",
       "      <td>3</td>\n",
       "      <td>VOIS</td>\n",
       "      <td>ACCENTURE</td>\n",
       "      <td>VOIS collaborates with Accenture to incubate i...</td>\n",
       "      <td>8.0</td>\n",
       "      <td>12</td>\n",
       "      <td>[af16e1630a5910964a6625f67207c6f9fa5b9107ef2d5...</td>\n",
       "    </tr>\n",
       "    <tr>\n",
       "      <th>4</th>\n",
       "      <td>052b026f-2568-49f9-8068-8b3d07ff9e78</td>\n",
       "      <td>4</td>\n",
       "      <td>VOIS</td>\n",
       "      <td>DIGITAL JOURNEY OPTIMIZATION</td>\n",
       "      <td>The project was delivered during Nirav Gandhi'...</td>\n",
       "      <td>1.0</td>\n",
       "      <td>9</td>\n",
       "      <td>[af16e1630a5910964a6625f67207c6f9fa5b9107ef2d5...</td>\n",
       "    </tr>\n",
       "  </tbody>\n",
       "</table>\n",
       "</div>"
      ],
      "text/plain": [
       "                                     id  human_readable_id        source  \\\n",
       "0  da7b74ce-a9a8-4b08-bf14-157f2b073709                  0  NIRAV GANDHI   \n",
       "1  f0279d3c-069e-424b-8da7-58c0388bbc48                  1  NIRAV GANDHI   \n",
       "2  a71a2e81-4568-4521-ac36-53af88da3c69                  2  NIRAV GANDHI   \n",
       "3  55040f7f-83fe-43e7-a5f7-d12ddb597323                  3          VOIS   \n",
       "4  052b026f-2568-49f9-8068-8b3d07ff9e78                  4          VOIS   \n",
       "\n",
       "                         target  \\\n",
       "0                    AI MANAGER   \n",
       "1         SENIOR DATA SCIENTIST   \n",
       "2                          VOIS   \n",
       "3                     ACCENTURE   \n",
       "4  DIGITAL JOURNEY OPTIMIZATION   \n",
       "\n",
       "                                         description  weight  combined_degree  \\\n",
       "0          Nirav Gandhi holds the role of AI Manager     9.0               10   \n",
       "1  Nirav Gandhi holds the role of Senior Data Sci...     9.0               13   \n",
       "2                         Nirav Gandhi works at VOIS     9.0               13   \n",
       "3  VOIS collaborates with Accenture to incubate i...     8.0               12   \n",
       "4  The project was delivered during Nirav Gandhi'...     1.0                9   \n",
       "\n",
       "                                       text_unit_ids  \n",
       "0  [af16e1630a5910964a6625f67207c6f9fa5b9107ef2d5...  \n",
       "1  [af16e1630a5910964a6625f67207c6f9fa5b9107ef2d5...  \n",
       "2  [af16e1630a5910964a6625f67207c6f9fa5b9107ef2d5...  \n",
       "3  [af16e1630a5910964a6625f67207c6f9fa5b9107ef2d5...  \n",
       "4  [af16e1630a5910964a6625f67207c6f9fa5b9107ef2d5...  "
      ]
     },
     "execution_count": 147,
     "metadata": {},
     "output_type": "execute_result"
    }
   ],
   "source": [
    "relationships = pd.read_parquet(\"output/relationships.parquet\")\n",
    "relationships.head()"
   ]
  },
  {
   "cell_type": "code",
   "execution_count": 148,
   "id": "e27544db",
   "metadata": {},
   "outputs": [
    {
     "data": {
      "text/plain": [
       "(173, 8)"
      ]
     },
     "execution_count": 148,
     "metadata": {},
     "output_type": "execute_result"
    }
   ],
   "source": [
    "relationships.shape"
   ]
  },
  {
   "cell_type": "code",
   "execution_count": 149,
   "id": "8b591012",
   "metadata": {},
   "outputs": [],
   "source": [
    "embed_community = pd.read_parquet(\"output/embeddings.community.full_content.parquet\")"
   ]
  },
  {
   "cell_type": "code",
   "execution_count": 150,
   "id": "b349b6e6",
   "metadata": {},
   "outputs": [
    {
     "data": {
      "text/plain": [
       "(30, 2)"
      ]
     },
     "execution_count": 150,
     "metadata": {},
     "output_type": "execute_result"
    }
   ],
   "source": [
    "embed_community.shape"
   ]
  },
  {
   "cell_type": "code",
   "execution_count": 151,
   "id": "902bafb1",
   "metadata": {},
   "outputs": [
    {
     "data": {
      "text/html": [
       "<div>\n",
       "<style scoped>\n",
       "    .dataframe tbody tr th:only-of-type {\n",
       "        vertical-align: middle;\n",
       "    }\n",
       "\n",
       "    .dataframe tbody tr th {\n",
       "        vertical-align: top;\n",
       "    }\n",
       "\n",
       "    .dataframe thead th {\n",
       "        text-align: right;\n",
       "    }\n",
       "</style>\n",
       "<table border=\"1\" class=\"dataframe\">\n",
       "  <thead>\n",
       "    <tr style=\"text-align: right;\">\n",
       "      <th></th>\n",
       "      <th>id</th>\n",
       "      <th>human_readable_id</th>\n",
       "      <th>community</th>\n",
       "      <th>level</th>\n",
       "      <th>parent</th>\n",
       "      <th>children</th>\n",
       "      <th>title</th>\n",
       "      <th>entity_ids</th>\n",
       "      <th>relationship_ids</th>\n",
       "      <th>text_unit_ids</th>\n",
       "      <th>period</th>\n",
       "      <th>size</th>\n",
       "    </tr>\n",
       "  </thead>\n",
       "  <tbody>\n",
       "    <tr>\n",
       "      <th>0</th>\n",
       "      <td>06b642ba-0299-4a2f-8c73-a9c2d7945d8e</td>\n",
       "      <td>0</td>\n",
       "      <td>0</td>\n",
       "      <td>0</td>\n",
       "      <td>-1</td>\n",
       "      <td>[11, 12, 13]</td>\n",
       "      <td>Community 0</td>\n",
       "      <td>[1766537e-823c-4630-9348-35828c36ae37, de6b642...</td>\n",
       "      <td>[066421c1-ff08-4e69-a07f-024e6772ec6a, 5ca7dae...</td>\n",
       "      <td>[0efa6a8097ecc06199b6e1bbd72ca7de95fef7d39a67e...</td>\n",
       "      <td>2025-08-10</td>\n",
       "      <td>11</td>\n",
       "    </tr>\n",
       "    <tr>\n",
       "      <th>1</th>\n",
       "      <td>708b9f5a-6a78-4f4c-8a9c-c7cb6df655d6</td>\n",
       "      <td>1</td>\n",
       "      <td>1</td>\n",
       "      <td>0</td>\n",
       "      <td>-1</td>\n",
       "      <td>[]</td>\n",
       "      <td>Community 1</td>\n",
       "      <td>[5a2cc029-dff5-4f81-92c1-8c3ac4733039, afaaa0a...</td>\n",
       "      <td>[004830ed-d0fa-47a4-97ee-7fd993a983f6, 0ac2234...</td>\n",
       "      <td>[0efa6a8097ecc06199b6e1bbd72ca7de95fef7d39a67e...</td>\n",
       "      <td>2025-08-10</td>\n",
       "      <td>5</td>\n",
       "    </tr>\n",
       "    <tr>\n",
       "      <th>2</th>\n",
       "      <td>57c79f4e-63ad-4439-99c2-bce5dbc04f91</td>\n",
       "      <td>2</td>\n",
       "      <td>2</td>\n",
       "      <td>0</td>\n",
       "      <td>-1</td>\n",
       "      <td>[]</td>\n",
       "      <td>Community 2</td>\n",
       "      <td>[686aa8f2-ed78-4aa4-a0e9-fe324a647515, e8c2281...</td>\n",
       "      <td>[12c4f0eb-74e1-4e0d-b9f7-bf7b4f516c84, 27db0fe...</td>\n",
       "      <td>[990ef6c1d3f7342da31a3477839a12d578fa9becb0f0d...</td>\n",
       "      <td>2025-08-10</td>\n",
       "      <td>13</td>\n",
       "    </tr>\n",
       "    <tr>\n",
       "      <th>3</th>\n",
       "      <td>bf972d39-96d4-47d2-a60e-b726aa1d382d</td>\n",
       "      <td>3</td>\n",
       "      <td>3</td>\n",
       "      <td>0</td>\n",
       "      <td>-1</td>\n",
       "      <td>[14, 15, 16, 17]</td>\n",
       "      <td>Community 3</td>\n",
       "      <td>[fbcce787-cb56-4639-9f4d-084e16ae511c, 63ec73d...</td>\n",
       "      <td>[00ceddc1-8aa0-48cb-8fdb-73b8c747a5fd, 04f45bf...</td>\n",
       "      <td>[990ef6c1d3f7342da31a3477839a12d578fa9becb0f0d...</td>\n",
       "      <td>2025-08-10</td>\n",
       "      <td>17</td>\n",
       "    </tr>\n",
       "    <tr>\n",
       "      <th>4</th>\n",
       "      <td>714eb14f-274a-4c95-8f0a-6c0476c60657</td>\n",
       "      <td>4</td>\n",
       "      <td>4</td>\n",
       "      <td>0</td>\n",
       "      <td>-1</td>\n",
       "      <td>[]</td>\n",
       "      <td>Community 4</td>\n",
       "      <td>[503e0156-f5c5-4365-afc4-de74ae71220b, 492dcbe...</td>\n",
       "      <td>[118a67f1-1bf0-4bdc-a5d0-794173a4ffef, 211ddd9...</td>\n",
       "      <td>[f19eb50bfaefd309b7ebda4c106c8e292f04b67c50135...</td>\n",
       "      <td>2025-08-10</td>\n",
       "      <td>6</td>\n",
       "    </tr>\n",
       "  </tbody>\n",
       "</table>\n",
       "</div>"
      ],
      "text/plain": [
       "                                     id  human_readable_id  community  level  \\\n",
       "0  06b642ba-0299-4a2f-8c73-a9c2d7945d8e                  0          0      0   \n",
       "1  708b9f5a-6a78-4f4c-8a9c-c7cb6df655d6                  1          1      0   \n",
       "2  57c79f4e-63ad-4439-99c2-bce5dbc04f91                  2          2      0   \n",
       "3  bf972d39-96d4-47d2-a60e-b726aa1d382d                  3          3      0   \n",
       "4  714eb14f-274a-4c95-8f0a-6c0476c60657                  4          4      0   \n",
       "\n",
       "   parent          children        title  \\\n",
       "0      -1      [11, 12, 13]  Community 0   \n",
       "1      -1                []  Community 1   \n",
       "2      -1                []  Community 2   \n",
       "3      -1  [14, 15, 16, 17]  Community 3   \n",
       "4      -1                []  Community 4   \n",
       "\n",
       "                                          entity_ids  \\\n",
       "0  [1766537e-823c-4630-9348-35828c36ae37, de6b642...   \n",
       "1  [5a2cc029-dff5-4f81-92c1-8c3ac4733039, afaaa0a...   \n",
       "2  [686aa8f2-ed78-4aa4-a0e9-fe324a647515, e8c2281...   \n",
       "3  [fbcce787-cb56-4639-9f4d-084e16ae511c, 63ec73d...   \n",
       "4  [503e0156-f5c5-4365-afc4-de74ae71220b, 492dcbe...   \n",
       "\n",
       "                                    relationship_ids  \\\n",
       "0  [066421c1-ff08-4e69-a07f-024e6772ec6a, 5ca7dae...   \n",
       "1  [004830ed-d0fa-47a4-97ee-7fd993a983f6, 0ac2234...   \n",
       "2  [12c4f0eb-74e1-4e0d-b9f7-bf7b4f516c84, 27db0fe...   \n",
       "3  [00ceddc1-8aa0-48cb-8fdb-73b8c747a5fd, 04f45bf...   \n",
       "4  [118a67f1-1bf0-4bdc-a5d0-794173a4ffef, 211ddd9...   \n",
       "\n",
       "                                       text_unit_ids      period  size  \n",
       "0  [0efa6a8097ecc06199b6e1bbd72ca7de95fef7d39a67e...  2025-08-10    11  \n",
       "1  [0efa6a8097ecc06199b6e1bbd72ca7de95fef7d39a67e...  2025-08-10     5  \n",
       "2  [990ef6c1d3f7342da31a3477839a12d578fa9becb0f0d...  2025-08-10    13  \n",
       "3  [990ef6c1d3f7342da31a3477839a12d578fa9becb0f0d...  2025-08-10    17  \n",
       "4  [f19eb50bfaefd309b7ebda4c106c8e292f04b67c50135...  2025-08-10     6  "
      ]
     },
     "execution_count": 151,
     "metadata": {},
     "output_type": "execute_result"
    }
   ],
   "source": [
    "community_df = pd.read_parquet('output/communities.parquet')\n",
    "community_df.head()"
   ]
  },
  {
   "cell_type": "code",
   "execution_count": 152,
   "id": "d14ac57f",
   "metadata": {},
   "outputs": [
    {
     "data": {
      "text/html": [
       "<div>\n",
       "<style scoped>\n",
       "    .dataframe tbody tr th:only-of-type {\n",
       "        vertical-align: middle;\n",
       "    }\n",
       "\n",
       "    .dataframe tbody tr th {\n",
       "        vertical-align: top;\n",
       "    }\n",
       "\n",
       "    .dataframe thead th {\n",
       "        text-align: right;\n",
       "    }\n",
       "</style>\n",
       "<table border=\"1\" class=\"dataframe\">\n",
       "  <thead>\n",
       "    <tr style=\"text-align: right;\">\n",
       "      <th></th>\n",
       "      <th>id</th>\n",
       "      <th>embedding</th>\n",
       "    </tr>\n",
       "  </thead>\n",
       "  <tbody>\n",
       "    <tr>\n",
       "      <th>0</th>\n",
       "      <td>bba7b7ba-7ec8-41c9-a502-792b9c8ed189</td>\n",
       "      <td>[-0.016104066744446754, 0.027985548600554466, ...</td>\n",
       "    </tr>\n",
       "    <tr>\n",
       "      <th>1</th>\n",
       "      <td>4dbbb16f-f177-427b-ab76-e6b59e85203c</td>\n",
       "      <td>[-0.026435762643814087, 0.012286711484193802, ...</td>\n",
       "    </tr>\n",
       "    <tr>\n",
       "      <th>2</th>\n",
       "      <td>a372d4a0-c10c-4d3f-897d-b914fff612ce</td>\n",
       "      <td>[-0.005304750055074692, 0.021163489669561386, ...</td>\n",
       "    </tr>\n",
       "    <tr>\n",
       "      <th>3</th>\n",
       "      <td>8111e3b5-3a42-40f8-bbfb-396d72a0e878</td>\n",
       "      <td>[-0.03872256353497505, 0.0444834865629673, -0....</td>\n",
       "    </tr>\n",
       "    <tr>\n",
       "      <th>4</th>\n",
       "      <td>1766537e-823c-4630-9348-35828c36ae37</td>\n",
       "      <td>[-0.034324418753385544, 0.04162880405783653, -...</td>\n",
       "    </tr>\n",
       "  </tbody>\n",
       "</table>\n",
       "</div>"
      ],
      "text/plain": [
       "                                     id  \\\n",
       "0  bba7b7ba-7ec8-41c9-a502-792b9c8ed189   \n",
       "1  4dbbb16f-f177-427b-ab76-e6b59e85203c   \n",
       "2  a372d4a0-c10c-4d3f-897d-b914fff612ce   \n",
       "3  8111e3b5-3a42-40f8-bbfb-396d72a0e878   \n",
       "4  1766537e-823c-4630-9348-35828c36ae37   \n",
       "\n",
       "                                           embedding  \n",
       "0  [-0.016104066744446754, 0.027985548600554466, ...  \n",
       "1  [-0.026435762643814087, 0.012286711484193802, ...  \n",
       "2  [-0.005304750055074692, 0.021163489669561386, ...  \n",
       "3  [-0.03872256353497505, 0.0444834865629673, -0....  \n",
       "4  [-0.034324418753385544, 0.04162880405783653, -...  "
      ]
     },
     "execution_count": 152,
     "metadata": {},
     "output_type": "execute_result"
    }
   ],
   "source": [
    "embed_entity_des = pd.read_parquet('output/embeddings.entity.description.parquet')\n",
    "embed_entity_des.head()\n"
   ]
  },
  {
   "cell_type": "code",
   "execution_count": 153,
   "id": "6d62b5a5",
   "metadata": {},
   "outputs": [
    {
     "data": {
      "text/html": [
       "<div>\n",
       "<style scoped>\n",
       "    .dataframe tbody tr th:only-of-type {\n",
       "        vertical-align: middle;\n",
       "    }\n",
       "\n",
       "    .dataframe tbody tr th {\n",
       "        vertical-align: top;\n",
       "    }\n",
       "\n",
       "    .dataframe thead th {\n",
       "        text-align: right;\n",
       "    }\n",
       "</style>\n",
       "<table border=\"1\" class=\"dataframe\">\n",
       "  <thead>\n",
       "    <tr style=\"text-align: right;\">\n",
       "      <th></th>\n",
       "      <th>id</th>\n",
       "      <th>embedding</th>\n",
       "    </tr>\n",
       "  </thead>\n",
       "  <tbody>\n",
       "    <tr>\n",
       "      <th>0</th>\n",
       "      <td>af16e1630a5910964a6625f67207c6f9fa5b9107ef2d55...</td>\n",
       "      <td>[-0.0071774255484342575, 0.002467614132910967,...</td>\n",
       "    </tr>\n",
       "    <tr>\n",
       "      <th>1</th>\n",
       "      <td>0efa6a8097ecc06199b6e1bbd72ca7de95fef7d39a67e4...</td>\n",
       "      <td>[-0.039475876837968826, 0.023618286475539207, ...</td>\n",
       "    </tr>\n",
       "    <tr>\n",
       "      <th>2</th>\n",
       "      <td>6cbe124c1781a368fdf7fabc5cdf6e46c08dd2f66d7439...</td>\n",
       "      <td>[-0.024434514343738556, 0.029229786247015, -0....</td>\n",
       "    </tr>\n",
       "    <tr>\n",
       "      <th>3</th>\n",
       "      <td>611f5dfd2a5ec417c0e33ab853f937bc1debf4b834e62e...</td>\n",
       "      <td>[-0.03961146995425224, -0.00195736950263381, -...</td>\n",
       "    </tr>\n",
       "    <tr>\n",
       "      <th>4</th>\n",
       "      <td>a32a6a9a1dc9a5996ef6a1342de9884bee8bdc0d672546...</td>\n",
       "      <td>[-0.03012634441256523, 0.02552734687924385, -0...</td>\n",
       "    </tr>\n",
       "  </tbody>\n",
       "</table>\n",
       "</div>"
      ],
      "text/plain": [
       "                                                  id  \\\n",
       "0  af16e1630a5910964a6625f67207c6f9fa5b9107ef2d55...   \n",
       "1  0efa6a8097ecc06199b6e1bbd72ca7de95fef7d39a67e4...   \n",
       "2  6cbe124c1781a368fdf7fabc5cdf6e46c08dd2f66d7439...   \n",
       "3  611f5dfd2a5ec417c0e33ab853f937bc1debf4b834e62e...   \n",
       "4  a32a6a9a1dc9a5996ef6a1342de9884bee8bdc0d672546...   \n",
       "\n",
       "                                           embedding  \n",
       "0  [-0.0071774255484342575, 0.002467614132910967,...  \n",
       "1  [-0.039475876837968826, 0.023618286475539207, ...  \n",
       "2  [-0.024434514343738556, 0.029229786247015, -0....  \n",
       "3  [-0.03961146995425224, -0.00195736950263381, -...  \n",
       "4  [-0.03012634441256523, 0.02552734687924385, -0...  "
      ]
     },
     "execution_count": 153,
     "metadata": {},
     "output_type": "execute_result"
    }
   ],
   "source": [
    "embed_chunks = pd.read_parquet('output/embeddings.text_unit.text.parquet')\n",
    "embed_chunks.head()"
   ]
  },
  {
   "cell_type": "code",
   "execution_count": 154,
   "id": "36388f1e",
   "metadata": {},
   "outputs": [
    {
     "data": {
      "text/html": [
       "<div>\n",
       "<style scoped>\n",
       "    .dataframe tbody tr th:only-of-type {\n",
       "        vertical-align: middle;\n",
       "    }\n",
       "\n",
       "    .dataframe tbody tr th {\n",
       "        vertical-align: top;\n",
       "    }\n",
       "\n",
       "    .dataframe thead th {\n",
       "        text-align: right;\n",
       "    }\n",
       "</style>\n",
       "<table border=\"1\" class=\"dataframe\">\n",
       "  <thead>\n",
       "    <tr style=\"text-align: right;\">\n",
       "      <th></th>\n",
       "      <th>id</th>\n",
       "      <th>human_readable_id</th>\n",
       "      <th>covariate_type</th>\n",
       "      <th>type</th>\n",
       "      <th>description</th>\n",
       "      <th>subject_id</th>\n",
       "      <th>object_id</th>\n",
       "      <th>status</th>\n",
       "      <th>start_date</th>\n",
       "      <th>end_date</th>\n",
       "      <th>source_text</th>\n",
       "      <th>text_unit_id</th>\n",
       "    </tr>\n",
       "  </thead>\n",
       "  <tbody>\n",
       "    <tr>\n",
       "      <th>0</th>\n",
       "      <td>95f62f00-7662-4b9d-b19e-47ab5733257e</td>\n",
       "      <td>1</td>\n",
       "      <td>claim</td>\n",
       "      <td>AI AND ANALYTICS LEADERSHIP</td>\n",
       "      <td>Nirav Gandhi is described as an astute AI and ...</td>\n",
       "      <td>NIRAV GANDHI</td>\n",
       "      <td>NONE</td>\n",
       "      <td>TRUE</td>\n",
       "      <td>NONE</td>\n",
       "      <td>NONE</td>\n",
       "      <td>An astute AI and Analytics lead with over 9 ye...</td>\n",
       "      <td>af16e1630a5910964a6625f67207c6f9fa5b9107ef2d55...</td>\n",
       "    </tr>\n",
       "    <tr>\n",
       "      <th>1</th>\n",
       "      <td>1e98d1d7-ac86-42de-a3fe-b5e2033ff3c5</td>\n",
       "      <td>2</td>\n",
       "      <td>claim</td>\n",
       "      <td>CONSULTING AND PRODUCT DEVELOPMENT</td>\n",
       "      <td>Nirav Gandhi is proficient in delivering consu...</td>\n",
       "      <td>NIRAV GANDHI</td>\n",
       "      <td>NONE</td>\n",
       "      <td>TRUE</td>\n",
       "      <td>NONE</td>\n",
       "      <td>NONE</td>\n",
       "      <td>Proficient in delivering consulting services, ...</td>\n",
       "      <td>af16e1630a5910964a6625f67207c6f9fa5b9107ef2d55...</td>\n",
       "    </tr>\n",
       "    <tr>\n",
       "      <th>2</th>\n",
       "      <td>375631e1-9443-4e45-81a9-4fc2ff88ce84</td>\n",
       "      <td>3</td>\n",
       "      <td>claim</td>\n",
       "      <td>STRATEGIC PROGRAM PARTNERSHIP</td>\n",
       "      <td>Vodafone Group collaborated with Accenture as ...</td>\n",
       "      <td>VODAFONE GROUP</td>\n",
       "      <td>ACCENTURE</td>\n",
       "      <td>TRUE</td>\n",
       "      <td>NONE</td>\n",
       "      <td>NONE</td>\n",
       "      <td>Part of a strategic program partnership group ...</td>\n",
       "      <td>af16e1630a5910964a6625f67207c6f9fa5b9107ef2d55...</td>\n",
       "    </tr>\n",
       "    <tr>\n",
       "      <th>3</th>\n",
       "      <td>2e969c4c-513e-49ff-a28f-4506cf24511f</td>\n",
       "      <td>4</td>\n",
       "      <td>claim</td>\n",
       "      <td>GENAI CONTRACT INTELLIGENCE</td>\n",
       "      <td>Vodafone Group built an AI agent-based solutio...</td>\n",
       "      <td>VODAFONE GROUP</td>\n",
       "      <td>NONE</td>\n",
       "      <td>TRUE</td>\n",
       "      <td>NONE</td>\n",
       "      <td>NONE</td>\n",
       "      <td>GenAI Contract Intelligence: Built AI agent-ba...</td>\n",
       "      <td>af16e1630a5910964a6625f67207c6f9fa5b9107ef2d55...</td>\n",
       "    </tr>\n",
       "    <tr>\n",
       "      <th>4</th>\n",
       "      <td>fa4b4773-d49c-4511-a640-dcc7054a40f6</td>\n",
       "      <td>5</td>\n",
       "      <td>claim</td>\n",
       "      <td>RMA WISE-VARIANCE</td>\n",
       "      <td>Vodafone Group developed RMA Wise-Variance, a ...</td>\n",
       "      <td>VODAFONE GROUP</td>\n",
       "      <td>NONE</td>\n",
       "      <td>TRUE</td>\n",
       "      <td>NONE</td>\n",
       "      <td>NONE</td>\n",
       "      <td>RMA Wise-Variance, a GenAI-powered financial a...</td>\n",
       "      <td>af16e1630a5910964a6625f67207c6f9fa5b9107ef2d55...</td>\n",
       "    </tr>\n",
       "  </tbody>\n",
       "</table>\n",
       "</div>"
      ],
      "text/plain": [
       "                                     id  human_readable_id covariate_type  \\\n",
       "0  95f62f00-7662-4b9d-b19e-47ab5733257e                  1          claim   \n",
       "1  1e98d1d7-ac86-42de-a3fe-b5e2033ff3c5                  2          claim   \n",
       "2  375631e1-9443-4e45-81a9-4fc2ff88ce84                  3          claim   \n",
       "3  2e969c4c-513e-49ff-a28f-4506cf24511f                  4          claim   \n",
       "4  fa4b4773-d49c-4511-a640-dcc7054a40f6                  5          claim   \n",
       "\n",
       "                                 type  \\\n",
       "0         AI AND ANALYTICS LEADERSHIP   \n",
       "1  CONSULTING AND PRODUCT DEVELOPMENT   \n",
       "2       STRATEGIC PROGRAM PARTNERSHIP   \n",
       "3         GENAI CONTRACT INTELLIGENCE   \n",
       "4                   RMA WISE-VARIANCE   \n",
       "\n",
       "                                         description      subject_id  \\\n",
       "0  Nirav Gandhi is described as an astute AI and ...    NIRAV GANDHI   \n",
       "1  Nirav Gandhi is proficient in delivering consu...    NIRAV GANDHI   \n",
       "2  Vodafone Group collaborated with Accenture as ...  VODAFONE GROUP   \n",
       "3  Vodafone Group built an AI agent-based solutio...  VODAFONE GROUP   \n",
       "4  Vodafone Group developed RMA Wise-Variance, a ...  VODAFONE GROUP   \n",
       "\n",
       "   object_id status start_date end_date  \\\n",
       "0       NONE   TRUE       NONE     NONE   \n",
       "1       NONE   TRUE       NONE     NONE   \n",
       "2  ACCENTURE   TRUE       NONE     NONE   \n",
       "3       NONE   TRUE       NONE     NONE   \n",
       "4       NONE   TRUE       NONE     NONE   \n",
       "\n",
       "                                         source_text  \\\n",
       "0  An astute AI and Analytics lead with over 9 ye...   \n",
       "1  Proficient in delivering consulting services, ...   \n",
       "2  Part of a strategic program partnership group ...   \n",
       "3  GenAI Contract Intelligence: Built AI agent-ba...   \n",
       "4  RMA Wise-Variance, a GenAI-powered financial a...   \n",
       "\n",
       "                                        text_unit_id  \n",
       "0  af16e1630a5910964a6625f67207c6f9fa5b9107ef2d55...  \n",
       "1  af16e1630a5910964a6625f67207c6f9fa5b9107ef2d55...  \n",
       "2  af16e1630a5910964a6625f67207c6f9fa5b9107ef2d55...  \n",
       "3  af16e1630a5910964a6625f67207c6f9fa5b9107ef2d55...  \n",
       "4  af16e1630a5910964a6625f67207c6f9fa5b9107ef2d55...  "
      ]
     },
     "execution_count": 154,
     "metadata": {},
     "output_type": "execute_result"
    }
   ],
   "source": [
    "covariates = pd.read_parquet('output/covariates.parquet')\n",
    "covariates.head()"
   ]
  },
  {
   "cell_type": "code",
   "execution_count": 155,
   "id": "bdfd4210",
   "metadata": {},
   "outputs": [
    {
     "data": {
      "text/html": [
       "<div>\n",
       "<style scoped>\n",
       "    .dataframe tbody tr th:only-of-type {\n",
       "        vertical-align: middle;\n",
       "    }\n",
       "\n",
       "    .dataframe tbody tr th {\n",
       "        vertical-align: top;\n",
       "    }\n",
       "\n",
       "    .dataframe thead th {\n",
       "        text-align: right;\n",
       "    }\n",
       "</style>\n",
       "<table border=\"1\" class=\"dataframe\">\n",
       "  <thead>\n",
       "    <tr style=\"text-align: right;\">\n",
       "      <th></th>\n",
       "      <th>id</th>\n",
       "      <th>human_readable_id</th>\n",
       "      <th>title</th>\n",
       "      <th>text</th>\n",
       "      <th>text_unit_ids</th>\n",
       "      <th>creation_date</th>\n",
       "      <th>metadata</th>\n",
       "    </tr>\n",
       "  </thead>\n",
       "  <tbody>\n",
       "    <tr>\n",
       "      <th>0</th>\n",
       "      <td>9bc5e1fa5c4dfe543b4c48f97e5ee58f76ab92b45fc1c0...</td>\n",
       "      <td>1</td>\n",
       "      <td>Aishwarya Gaba_ DataScientist 1 1.txt</td>\n",
       "      <td>\\n \\n \\nEducation    AISHWARYA GABA  \\naishga...</td>\n",
       "      <td>[a299f2f8f668c3ef46e7ab04c9551f2523748d7211575...</td>\n",
       "      <td>2025-08-08 13:57:29 +0530</td>\n",
       "      <td>None</td>\n",
       "    </tr>\n",
       "    <tr>\n",
       "      <th>1</th>\n",
       "      <td>581fe65ba9c7f6ddbe362b58b9a350224e0ba26501e550...</td>\n",
       "      <td>2</td>\n",
       "      <td>Mamta_Resume 0429.txt</td>\n",
       "      <td>Mamta Shinde   \\n+91-8999946751  | shindemamta...</td>\n",
       "      <td>[611f5dfd2a5ec417c0e33ab853f937bc1debf4b834e62...</td>\n",
       "      <td>2025-08-07 16:52:29 +0530</td>\n",
       "      <td>None</td>\n",
       "    </tr>\n",
       "    <tr>\n",
       "      <th>2</th>\n",
       "      <td>14c6a4dd01b4dbf65a4d8f105a539f4e14715b4fccf9a4...</td>\n",
       "      <td>3</td>\n",
       "      <td>Nirav_Gandhi (1).txt</td>\n",
       "      <td>C2 GeneralNIRAV GANDHI\\nAI Manager\\nPROFILE\\n•...</td>\n",
       "      <td>[af16e1630a5910964a6625f67207c6f9fa5b9107ef2d5...</td>\n",
       "      <td>2025-08-07 16:52:30 +0530</td>\n",
       "      <td>None</td>\n",
       "    </tr>\n",
       "    <tr>\n",
       "      <th>3</th>\n",
       "      <td>9d973974b126e3a80c0695ab34124855c53af64814b8ac...</td>\n",
       "      <td>4</td>\n",
       "      <td>Nrutya_Doshi_Resume.txt</td>\n",
       "      <td>Nrutya Doshi\\nnrutyad@gmail.com |+91 810817129...</td>\n",
       "      <td>[990ef6c1d3f7342da31a3477839a12d578fa9becb0f0d...</td>\n",
       "      <td>2025-08-08 13:57:33 +0530</td>\n",
       "      <td>None</td>\n",
       "    </tr>\n",
       "  </tbody>\n",
       "</table>\n",
       "</div>"
      ],
      "text/plain": [
       "                                                  id  human_readable_id  \\\n",
       "0  9bc5e1fa5c4dfe543b4c48f97e5ee58f76ab92b45fc1c0...                  1   \n",
       "1  581fe65ba9c7f6ddbe362b58b9a350224e0ba26501e550...                  2   \n",
       "2  14c6a4dd01b4dbf65a4d8f105a539f4e14715b4fccf9a4...                  3   \n",
       "3  9d973974b126e3a80c0695ab34124855c53af64814b8ac...                  4   \n",
       "\n",
       "                                   title  \\\n",
       "0  Aishwarya Gaba_ DataScientist 1 1.txt   \n",
       "1                  Mamta_Resume 0429.txt   \n",
       "2                   Nirav_Gandhi (1).txt   \n",
       "3                Nrutya_Doshi_Resume.txt   \n",
       "\n",
       "                                                text  \\\n",
       "0   \\n \\n \\nEducation    AISHWARYA GABA  \\naishga...   \n",
       "1  Mamta Shinde   \\n+91-8999946751  | shindemamta...   \n",
       "2  C2 GeneralNIRAV GANDHI\\nAI Manager\\nPROFILE\\n•...   \n",
       "3  Nrutya Doshi\\nnrutyad@gmail.com |+91 810817129...   \n",
       "\n",
       "                                       text_unit_ids  \\\n",
       "0  [a299f2f8f668c3ef46e7ab04c9551f2523748d7211575...   \n",
       "1  [611f5dfd2a5ec417c0e33ab853f937bc1debf4b834e62...   \n",
       "2  [af16e1630a5910964a6625f67207c6f9fa5b9107ef2d5...   \n",
       "3  [990ef6c1d3f7342da31a3477839a12d578fa9becb0f0d...   \n",
       "\n",
       "               creation_date metadata  \n",
       "0  2025-08-08 13:57:29 +0530     None  \n",
       "1  2025-08-07 16:52:29 +0530     None  \n",
       "2  2025-08-07 16:52:30 +0530     None  \n",
       "3  2025-08-08 13:57:33 +0530     None  "
      ]
     },
     "execution_count": 155,
     "metadata": {},
     "output_type": "execute_result"
    }
   ],
   "source": [
    "documents = pd.read_parquet('output/documents.parquet')\n",
    "documents"
   ]
  },
  {
   "cell_type": "code",
   "execution_count": 156,
   "id": "e0e7d047",
   "metadata": {},
   "outputs": [
    {
     "name": "stdout",
     "output_type": "stream",
     "text": [
      "id: string\n",
      "text: string\n",
      "vector: fixed_size_list<item: float>[3072]\n",
      "  child 0, item: float\n",
      "attributes: string\n"
     ]
    },
    {
     "data": {
      "text/html": [
       "<div>\n",
       "<style scoped>\n",
       "    .dataframe tbody tr th:only-of-type {\n",
       "        vertical-align: middle;\n",
       "    }\n",
       "\n",
       "    .dataframe tbody tr th {\n",
       "        vertical-align: top;\n",
       "    }\n",
       "\n",
       "    .dataframe thead th {\n",
       "        text-align: right;\n",
       "    }\n",
       "</style>\n",
       "<table border=\"1\" class=\"dataframe\">\n",
       "  <thead>\n",
       "    <tr style=\"text-align: right;\">\n",
       "      <th></th>\n",
       "      <th>id</th>\n",
       "      <th>text</th>\n",
       "      <th>vector</th>\n",
       "      <th>attributes</th>\n",
       "    </tr>\n",
       "  </thead>\n",
       "  <tbody>\n",
       "    <tr>\n",
       "      <th>0</th>\n",
       "      <td>a6e4c63b9e704d45b100d630666b7bc9</td>\n",
       "      <td># Accenture and Technological Innovation\\n\\nTh...</td>\n",
       "      <td>[-0.014588612, 0.030710265, -0.021512022, -0.0...</td>\n",
       "      <td>{\"title\": \"# Accenture and Technological Innov...</td>\n",
       "    </tr>\n",
       "    <tr>\n",
       "      <th>1</th>\n",
       "      <td>bd3d1af013a74648a567ca0637a40391</td>\n",
       "      <td># Accenture and Recommendation Product Technol...</td>\n",
       "      <td>[-0.022642164, 0.016420448, -0.021763803, 0.00...</td>\n",
       "      <td>{\"title\": \"# Accenture and Recommendation Prod...</td>\n",
       "    </tr>\n",
       "    <tr>\n",
       "      <th>2</th>\n",
       "      <td>560cb9108b064324ac2785c7b18e960d</td>\n",
       "      <td># Digital Journey Optimization and ANN\\n\\nThe ...</td>\n",
       "      <td>[-0.011868543, 0.022085113, -0.022309653, -0.0...</td>\n",
       "      <td>{\"title\": \"# Digital Journey Optimization and ...</td>\n",
       "    </tr>\n",
       "    <tr>\n",
       "      <th>3</th>\n",
       "      <td>274d548e63a143fdaef918ff7e0cad6a</td>\n",
       "      <td># Aishwarya Gaba's Professional Network\\n\\nThe...</td>\n",
       "      <td>[-0.012314904, 0.008066496, -0.016336415, -0.0...</td>\n",
       "      <td>{\"title\": \"# Aishwarya Gaba's Professional Net...</td>\n",
       "    </tr>\n",
       "    <tr>\n",
       "      <th>4</th>\n",
       "      <td>94b820ac5e724ef2ba886f5301e66037</td>\n",
       "      <td># Data Scientist Role and Recommendation Valid...</td>\n",
       "      <td>[-0.03623731, -0.020387122, -0.023208166, -0.0...</td>\n",
       "      <td>{\"title\": \"# Data Scientist Role and Recommend...</td>\n",
       "    </tr>\n",
       "  </tbody>\n",
       "</table>\n",
       "</div>"
      ],
      "text/plain": [
       "                                 id  \\\n",
       "0  a6e4c63b9e704d45b100d630666b7bc9   \n",
       "1  bd3d1af013a74648a567ca0637a40391   \n",
       "2  560cb9108b064324ac2785c7b18e960d   \n",
       "3  274d548e63a143fdaef918ff7e0cad6a   \n",
       "4  94b820ac5e724ef2ba886f5301e66037   \n",
       "\n",
       "                                                text  \\\n",
       "0  # Accenture and Technological Innovation\\n\\nTh...   \n",
       "1  # Accenture and Recommendation Product Technol...   \n",
       "2  # Digital Journey Optimization and ANN\\n\\nThe ...   \n",
       "3  # Aishwarya Gaba's Professional Network\\n\\nThe...   \n",
       "4  # Data Scientist Role and Recommendation Valid...   \n",
       "\n",
       "                                              vector  \\\n",
       "0  [-0.014588612, 0.030710265, -0.021512022, -0.0...   \n",
       "1  [-0.022642164, 0.016420448, -0.021763803, 0.00...   \n",
       "2  [-0.011868543, 0.022085113, -0.022309653, -0.0...   \n",
       "3  [-0.012314904, 0.008066496, -0.016336415, -0.0...   \n",
       "4  [-0.03623731, -0.020387122, -0.023208166, -0.0...   \n",
       "\n",
       "                                          attributes  \n",
       "0  {\"title\": \"# Accenture and Technological Innov...  \n",
       "1  {\"title\": \"# Accenture and Recommendation Prod...  \n",
       "2  {\"title\": \"# Digital Journey Optimization and ...  \n",
       "3  {\"title\": \"# Aishwarya Gaba's Professional Net...  \n",
       "4  {\"title\": \"# Data Scientist Role and Recommend...  "
      ]
     },
     "execution_count": 156,
     "metadata": {},
     "output_type": "execute_result"
    }
   ],
   "source": [
    "import lancedb\n",
    "\n",
    "\n",
    "db = lancedb.connect(\"output/lancedb\")\n",
    "table = db.open_table(\"default-community-full_content\")\n",
    "\n",
    "\n",
    "print(table.schema)\n",
    "\n",
    "\n",
    "df = table.to_pandas()\n",
    "df.head()\n"
   ]
  },
  {
   "cell_type": "code",
   "execution_count": 157,
   "id": "1392850c",
   "metadata": {},
   "outputs": [
    {
     "name": "stdout",
     "output_type": "stream",
     "text": [
      "id: string\n",
      "text: string\n",
      "vector: fixed_size_list<item: float>[3072]\n",
      "  child 0, item: float\n",
      "attributes: string\n"
     ]
    },
    {
     "data": {
      "text/html": [
       "<div>\n",
       "<style scoped>\n",
       "    .dataframe tbody tr th:only-of-type {\n",
       "        vertical-align: middle;\n",
       "    }\n",
       "\n",
       "    .dataframe tbody tr th {\n",
       "        vertical-align: top;\n",
       "    }\n",
       "\n",
       "    .dataframe thead th {\n",
       "        text-align: right;\n",
       "    }\n",
       "</style>\n",
       "<table border=\"1\" class=\"dataframe\">\n",
       "  <thead>\n",
       "    <tr style=\"text-align: right;\">\n",
       "      <th></th>\n",
       "      <th>id</th>\n",
       "      <th>text</th>\n",
       "      <th>vector</th>\n",
       "      <th>attributes</th>\n",
       "    </tr>\n",
       "  </thead>\n",
       "  <tbody>\n",
       "    <tr>\n",
       "      <th>0</th>\n",
       "      <td>bba7b7ba-7ec8-41c9-a502-792b9c8ed189</td>\n",
       "      <td>NIRAV GANDHI:Nirav Gandhi is an accomplished p...</td>\n",
       "      <td>[-0.016104067, 0.027985549, -0.005485721, -0.0...</td>\n",
       "      <td>{\"title\": \"NIRAV GANDHI:Nirav Gandhi is an acc...</td>\n",
       "    </tr>\n",
       "    <tr>\n",
       "      <th>1</th>\n",
       "      <td>4dbbb16f-f177-427b-ab76-e6b59e85203c</td>\n",
       "      <td>AI MANAGER:A position held by Nirav Gandhi, sp...</td>\n",
       "      <td>[-0.026435763, 0.0122867115, -0.021322219, -0....</td>\n",
       "      <td>{\"title\": \"AI MANAGER:A position held by Nirav...</td>\n",
       "    </tr>\n",
       "    <tr>\n",
       "      <th>2</th>\n",
       "      <td>a372d4a0-c10c-4d3f-897d-b914fff612ce</td>\n",
       "      <td>SENIOR DATA SCIENTIST:The \"SENIOR DATA SCIENTI...</td>\n",
       "      <td>[-0.00530475, 0.02116349, -0.01422464, 0.02456...</td>\n",
       "      <td>{\"title\": \"SENIOR DATA SCIENTIST:The \\\"SENIOR ...</td>\n",
       "    </tr>\n",
       "    <tr>\n",
       "      <th>3</th>\n",
       "      <td>8111e3b5-3a42-40f8-bbfb-396d72a0e878</td>\n",
       "      <td>VOIS:VOIS is an organization where Nirav Gandh...</td>\n",
       "      <td>[-0.038722564, 0.044483487, -0.025154935, 0.01...</td>\n",
       "      <td>{\"title\": \"VOIS:VOIS is an organization where ...</td>\n",
       "    </tr>\n",
       "    <tr>\n",
       "      <th>4</th>\n",
       "      <td>1766537e-823c-4630-9348-35828c36ae37</td>\n",
       "      <td>ACCENTURE:ACCENTURE is a company known for its...</td>\n",
       "      <td>[-0.03432442, 0.041628804, -0.01951447, -0.012...</td>\n",
       "      <td>{\"title\": \"ACCENTURE:ACCENTURE is a company kn...</td>\n",
       "    </tr>\n",
       "  </tbody>\n",
       "</table>\n",
       "</div>"
      ],
      "text/plain": [
       "                                     id  \\\n",
       "0  bba7b7ba-7ec8-41c9-a502-792b9c8ed189   \n",
       "1  4dbbb16f-f177-427b-ab76-e6b59e85203c   \n",
       "2  a372d4a0-c10c-4d3f-897d-b914fff612ce   \n",
       "3  8111e3b5-3a42-40f8-bbfb-396d72a0e878   \n",
       "4  1766537e-823c-4630-9348-35828c36ae37   \n",
       "\n",
       "                                                text  \\\n",
       "0  NIRAV GANDHI:Nirav Gandhi is an accomplished p...   \n",
       "1  AI MANAGER:A position held by Nirav Gandhi, sp...   \n",
       "2  SENIOR DATA SCIENTIST:The \"SENIOR DATA SCIENTI...   \n",
       "3  VOIS:VOIS is an organization where Nirav Gandh...   \n",
       "4  ACCENTURE:ACCENTURE is a company known for its...   \n",
       "\n",
       "                                              vector  \\\n",
       "0  [-0.016104067, 0.027985549, -0.005485721, -0.0...   \n",
       "1  [-0.026435763, 0.0122867115, -0.021322219, -0....   \n",
       "2  [-0.00530475, 0.02116349, -0.01422464, 0.02456...   \n",
       "3  [-0.038722564, 0.044483487, -0.025154935, 0.01...   \n",
       "4  [-0.03432442, 0.041628804, -0.01951447, -0.012...   \n",
       "\n",
       "                                          attributes  \n",
       "0  {\"title\": \"NIRAV GANDHI:Nirav Gandhi is an acc...  \n",
       "1  {\"title\": \"AI MANAGER:A position held by Nirav...  \n",
       "2  {\"title\": \"SENIOR DATA SCIENTIST:The \\\"SENIOR ...  \n",
       "3  {\"title\": \"VOIS:VOIS is an organization where ...  \n",
       "4  {\"title\": \"ACCENTURE:ACCENTURE is a company kn...  "
      ]
     },
     "execution_count": 157,
     "metadata": {},
     "output_type": "execute_result"
    }
   ],
   "source": [
    "import lancedb\n",
    "\n",
    "\n",
    "db2 = lancedb.connect(\"output/lancedb\")\n",
    "table2 = db.open_table(\"default-entity-description\")\n",
    "\n",
    "\n",
    "print(table2.schema)\n",
    "\n",
    "\n",
    "df2 = table2.to_pandas()\n",
    "df2.head()\n"
   ]
  },
  {
   "cell_type": "code",
   "execution_count": 158,
   "id": "4936c240",
   "metadata": {},
   "outputs": [
    {
     "data": {
      "text/html": [
       "<div>\n",
       "<style scoped>\n",
       "    .dataframe tbody tr th:only-of-type {\n",
       "        vertical-align: middle;\n",
       "    }\n",
       "\n",
       "    .dataframe tbody tr th {\n",
       "        vertical-align: top;\n",
       "    }\n",
       "\n",
       "    .dataframe thead th {\n",
       "        text-align: right;\n",
       "    }\n",
       "</style>\n",
       "<table border=\"1\" class=\"dataframe\">\n",
       "  <thead>\n",
       "    <tr style=\"text-align: right;\">\n",
       "      <th></th>\n",
       "      <th>id</th>\n",
       "      <th>text</th>\n",
       "      <th>vector</th>\n",
       "      <th>attributes</th>\n",
       "    </tr>\n",
       "  </thead>\n",
       "  <tbody>\n",
       "    <tr>\n",
       "      <th>0</th>\n",
       "      <td>bba7b7ba-7ec8-41c9-a502-792b9c8ed189</td>\n",
       "      <td>NIRAV GANDHI:Nirav Gandhi is an accomplished p...</td>\n",
       "      <td>[-0.016104067, 0.027985549, -0.005485721, -0.0...</td>\n",
       "      <td>{\"title\": \"NIRAV GANDHI:Nirav Gandhi is an acc...</td>\n",
       "    </tr>\n",
       "    <tr>\n",
       "      <th>1</th>\n",
       "      <td>4dbbb16f-f177-427b-ab76-e6b59e85203c</td>\n",
       "      <td>AI MANAGER:A position held by Nirav Gandhi, sp...</td>\n",
       "      <td>[-0.026435763, 0.0122867115, -0.021322219, -0....</td>\n",
       "      <td>{\"title\": \"AI MANAGER:A position held by Nirav...</td>\n",
       "    </tr>\n",
       "    <tr>\n",
       "      <th>2</th>\n",
       "      <td>a372d4a0-c10c-4d3f-897d-b914fff612ce</td>\n",
       "      <td>SENIOR DATA SCIENTIST:The \"SENIOR DATA SCIENTI...</td>\n",
       "      <td>[-0.00530475, 0.02116349, -0.01422464, 0.02456...</td>\n",
       "      <td>{\"title\": \"SENIOR DATA SCIENTIST:The \\\"SENIOR ...</td>\n",
       "    </tr>\n",
       "    <tr>\n",
       "      <th>3</th>\n",
       "      <td>8111e3b5-3a42-40f8-bbfb-396d72a0e878</td>\n",
       "      <td>VOIS:VOIS is an organization where Nirav Gandh...</td>\n",
       "      <td>[-0.038722564, 0.044483487, -0.025154935, 0.01...</td>\n",
       "      <td>{\"title\": \"VOIS:VOIS is an organization where ...</td>\n",
       "    </tr>\n",
       "    <tr>\n",
       "      <th>4</th>\n",
       "      <td>1766537e-823c-4630-9348-35828c36ae37</td>\n",
       "      <td>ACCENTURE:ACCENTURE is a company known for its...</td>\n",
       "      <td>[-0.03432442, 0.041628804, -0.01951447, -0.012...</td>\n",
       "      <td>{\"title\": \"ACCENTURE:ACCENTURE is a company kn...</td>\n",
       "    </tr>\n",
       "    <tr>\n",
       "      <th>...</th>\n",
       "      <td>...</td>\n",
       "      <td>...</td>\n",
       "      <td>...</td>\n",
       "      <td>...</td>\n",
       "    </tr>\n",
       "    <tr>\n",
       "      <th>181</th>\n",
       "      <td>6a96ad5a-ae58-4275-bfda-a884001ac507</td>\n",
       "      <td>ASSISTANTSAPI:An API for building conversation...</td>\n",
       "      <td>[-0.020003486, -0.004583128, -0.027426466, -0....</td>\n",
       "      <td>{\"title\": \"ASSISTANTSAPI:An API for building c...</td>\n",
       "    </tr>\n",
       "    <tr>\n",
       "      <th>182</th>\n",
       "      <td>e0582fc5-ad42-48de-b0a0-993d738d54a5</td>\n",
       "      <td>PROGRAMMING:The ability to write code in vario...</td>\n",
       "      <td>[-0.021018516, 0.0224558, -0.02793456, 0.03332...</td>\n",
       "      <td>{\"title\": \"PROGRAMMING:The ability to write co...</td>\n",
       "    </tr>\n",
       "    <tr>\n",
       "      <th>183</th>\n",
       "      <td>d6559b23-247a-424f-a347-04fbb8a2095c</td>\n",
       "      <td>LIBRARIES AND TECHNOLOGIES:Proficiency in usin...</td>\n",
       "      <td>[-0.0025822818, -0.0124064535, -0.024741028, -...</td>\n",
       "      <td>{\"title\": \"LIBRARIES AND TECHNOLOGIES:Proficie...</td>\n",
       "    </tr>\n",
       "    <tr>\n",
       "      <th>184</th>\n",
       "      <td>1a1ef10d-b708-491c-b8af-2f0e30730d3d</td>\n",
       "      <td>TOOLS AND PLATFORMS:Experience with tools and ...</td>\n",
       "      <td>[-0.02892567, -0.023565592, -0.028144319, -0.0...</td>\n",
       "      <td>{\"title\": \"TOOLS AND PLATFORMS:Experience with...</td>\n",
       "    </tr>\n",
       "    <tr>\n",
       "      <th>185</th>\n",
       "      <td>c546da9a-1541-4b01-95fb-aabc5a695d95</td>\n",
       "      <td>SPEAKER PROGRAM:</td>\n",
       "      <td>[-0.009270005, -0.0072564385, -0.041828997, -0...</td>\n",
       "      <td>{\"title\": \"SPEAKER PROGRAM:\"}</td>\n",
       "    </tr>\n",
       "  </tbody>\n",
       "</table>\n",
       "<p>186 rows × 4 columns</p>\n",
       "</div>"
      ],
      "text/plain": [
       "                                       id  \\\n",
       "0    bba7b7ba-7ec8-41c9-a502-792b9c8ed189   \n",
       "1    4dbbb16f-f177-427b-ab76-e6b59e85203c   \n",
       "2    a372d4a0-c10c-4d3f-897d-b914fff612ce   \n",
       "3    8111e3b5-3a42-40f8-bbfb-396d72a0e878   \n",
       "4    1766537e-823c-4630-9348-35828c36ae37   \n",
       "..                                    ...   \n",
       "181  6a96ad5a-ae58-4275-bfda-a884001ac507   \n",
       "182  e0582fc5-ad42-48de-b0a0-993d738d54a5   \n",
       "183  d6559b23-247a-424f-a347-04fbb8a2095c   \n",
       "184  1a1ef10d-b708-491c-b8af-2f0e30730d3d   \n",
       "185  c546da9a-1541-4b01-95fb-aabc5a695d95   \n",
       "\n",
       "                                                  text  \\\n",
       "0    NIRAV GANDHI:Nirav Gandhi is an accomplished p...   \n",
       "1    AI MANAGER:A position held by Nirav Gandhi, sp...   \n",
       "2    SENIOR DATA SCIENTIST:The \"SENIOR DATA SCIENTI...   \n",
       "3    VOIS:VOIS is an organization where Nirav Gandh...   \n",
       "4    ACCENTURE:ACCENTURE is a company known for its...   \n",
       "..                                                 ...   \n",
       "181  ASSISTANTSAPI:An API for building conversation...   \n",
       "182  PROGRAMMING:The ability to write code in vario...   \n",
       "183  LIBRARIES AND TECHNOLOGIES:Proficiency in usin...   \n",
       "184  TOOLS AND PLATFORMS:Experience with tools and ...   \n",
       "185                                   SPEAKER PROGRAM:   \n",
       "\n",
       "                                                vector  \\\n",
       "0    [-0.016104067, 0.027985549, -0.005485721, -0.0...   \n",
       "1    [-0.026435763, 0.0122867115, -0.021322219, -0....   \n",
       "2    [-0.00530475, 0.02116349, -0.01422464, 0.02456...   \n",
       "3    [-0.038722564, 0.044483487, -0.025154935, 0.01...   \n",
       "4    [-0.03432442, 0.041628804, -0.01951447, -0.012...   \n",
       "..                                                 ...   \n",
       "181  [-0.020003486, -0.004583128, -0.027426466, -0....   \n",
       "182  [-0.021018516, 0.0224558, -0.02793456, 0.03332...   \n",
       "183  [-0.0025822818, -0.0124064535, -0.024741028, -...   \n",
       "184  [-0.02892567, -0.023565592, -0.028144319, -0.0...   \n",
       "185  [-0.009270005, -0.0072564385, -0.041828997, -0...   \n",
       "\n",
       "                                            attributes  \n",
       "0    {\"title\": \"NIRAV GANDHI:Nirav Gandhi is an acc...  \n",
       "1    {\"title\": \"AI MANAGER:A position held by Nirav...  \n",
       "2    {\"title\": \"SENIOR DATA SCIENTIST:The \\\"SENIOR ...  \n",
       "3    {\"title\": \"VOIS:VOIS is an organization where ...  \n",
       "4    {\"title\": \"ACCENTURE:ACCENTURE is a company kn...  \n",
       "..                                                 ...  \n",
       "181  {\"title\": \"ASSISTANTSAPI:An API for building c...  \n",
       "182  {\"title\": \"PROGRAMMING:The ability to write co...  \n",
       "183  {\"title\": \"LIBRARIES AND TECHNOLOGIES:Proficie...  \n",
       "184  {\"title\": \"TOOLS AND PLATFORMS:Experience with...  \n",
       "185                      {\"title\": \"SPEAKER PROGRAM:\"}  \n",
       "\n",
       "[186 rows x 4 columns]"
      ]
     },
     "execution_count": 158,
     "metadata": {},
     "output_type": "execute_result"
    }
   ],
   "source": [
    "\n",
    "df2"
   ]
  },
  {
   "cell_type": "markdown",
   "id": "343e89fd",
   "metadata": {},
   "source": [
    "# Local Search Flow and retrieval Process"
   ]
  },
  {
   "cell_type": "code",
   "execution_count": 159,
   "id": "a9fe2c98",
   "metadata": {},
   "outputs": [],
   "source": [
    "import os\n",
    "\n",
    "import pandas as pd\n",
    "import tiktoken\n",
    "\n",
    "from graphrag.query.context_builder.entity_extraction import EntityVectorStoreKey\n",
    "from graphrag.query.indexer_adapters import (\n",
    "    read_indexer_covariates,\n",
    "    read_indexer_entities,\n",
    "    read_indexer_relationships,\n",
    "    read_indexer_reports,\n",
    "    read_indexer_text_units,\n",
    ")\n",
    "from graphrag.query.question_gen.local_gen import LocalQuestionGen\n",
    "from graphrag.query.structured_search.local_search.mixed_context import (\n",
    "    LocalSearchMixedContext,\n",
    ")\n",
    "from graphrag.query.structured_search.local_search.search import LocalSearch\n",
    "from graphrag.vector_stores.lancedb import LanceDBVectorStore"
   ]
  },
  {
   "cell_type": "code",
   "execution_count": 160,
   "id": "ee86c4fe",
   "metadata": {},
   "outputs": [],
   "source": [
    "# Loading tables to dataframes\n",
    "INPUT_DIR = r\"C:\\Users\\shant\\OneDrive\\Desktop\\GraphRAGresume\\input\"\n",
    "LANCEDB_URI = r'C:\\Users\\shant\\OneDrive\\Desktop\\GraphRAGresume\\output\\lancedb'\n",
    "\n",
    "COMMUNITY_REPORT_TABLE = \"community_reports\"\n",
    "ENTITY_TABLE = \"entities\"\n",
    "COMMUNITY_TABLE = \"communities\"\n",
    "RELATIONSHIP_TABLE = \"relationships\"\n",
    "COVARIATE_TABLE = \"covariates\"\n",
    "TEXT_UNIT_TABLE = \"text_units\"\n",
    "COMMUNITY_LEVEL = 2"
   ]
  },
  {
   "cell_type": "code",
   "execution_count": 161,
   "id": "c875ff3b",
   "metadata": {},
   "outputs": [
    {
     "name": "stdout",
     "output_type": "stream",
     "text": [
      "Entity count: 186\n"
     ]
    },
    {
     "data": {
      "text/html": [
       "<div>\n",
       "<style scoped>\n",
       "    .dataframe tbody tr th:only-of-type {\n",
       "        vertical-align: middle;\n",
       "    }\n",
       "\n",
       "    .dataframe tbody tr th {\n",
       "        vertical-align: top;\n",
       "    }\n",
       "\n",
       "    .dataframe thead th {\n",
       "        text-align: right;\n",
       "    }\n",
       "</style>\n",
       "<table border=\"1\" class=\"dataframe\">\n",
       "  <thead>\n",
       "    <tr style=\"text-align: right;\">\n",
       "      <th></th>\n",
       "      <th>id</th>\n",
       "      <th>human_readable_id</th>\n",
       "      <th>title</th>\n",
       "      <th>type</th>\n",
       "      <th>description</th>\n",
       "      <th>text_unit_ids</th>\n",
       "      <th>frequency</th>\n",
       "      <th>degree</th>\n",
       "      <th>x</th>\n",
       "      <th>y</th>\n",
       "    </tr>\n",
       "  </thead>\n",
       "  <tbody>\n",
       "    <tr>\n",
       "      <th>0</th>\n",
       "      <td>bba7b7ba-7ec8-41c9-a502-792b9c8ed189</td>\n",
       "      <td>0</td>\n",
       "      <td>NIRAV GANDHI</td>\n",
       "      <td>PERSONAL DETAIL</td>\n",
       "      <td>Nirav Gandhi is an accomplished professional w...</td>\n",
       "      <td>[af16e1630a5910964a6625f67207c6f9fa5b9107ef2d5...</td>\n",
       "      <td>3</td>\n",
       "      <td>9</td>\n",
       "      <td>-0.095694</td>\n",
       "      <td>13.538926</td>\n",
       "    </tr>\n",
       "    <tr>\n",
       "      <th>1</th>\n",
       "      <td>4dbbb16f-f177-427b-ab76-e6b59e85203c</td>\n",
       "      <td>1</td>\n",
       "      <td>AI MANAGER</td>\n",
       "      <td>ROLE</td>\n",
       "      <td>A position held by Nirav Gandhi, specializing ...</td>\n",
       "      <td>[af16e1630a5910964a6625f67207c6f9fa5b9107ef2d5...</td>\n",
       "      <td>1</td>\n",
       "      <td>1</td>\n",
       "      <td>-0.377320</td>\n",
       "      <td>12.851553</td>\n",
       "    </tr>\n",
       "    <tr>\n",
       "      <th>2</th>\n",
       "      <td>a372d4a0-c10c-4d3f-897d-b914fff612ce</td>\n",
       "      <td>2</td>\n",
       "      <td>SENIOR DATA SCIENTIST</td>\n",
       "      <td>ROLE</td>\n",
       "      <td>The \"SENIOR DATA SCIENTIST\" position is held b...</td>\n",
       "      <td>[af16e1630a5910964a6625f67207c6f9fa5b9107ef2d5...</td>\n",
       "      <td>2</td>\n",
       "      <td>4</td>\n",
       "      <td>-11.811598</td>\n",
       "      <td>-8.795559</td>\n",
       "    </tr>\n",
       "    <tr>\n",
       "      <th>3</th>\n",
       "      <td>8111e3b5-3a42-40f8-bbfb-396d72a0e878</td>\n",
       "      <td>3</td>\n",
       "      <td>VOIS</td>\n",
       "      <td>ORGANIZATION</td>\n",
       "      <td>VOIS is an organization where Nirav Gandhi has...</td>\n",
       "      <td>[af16e1630a5910964a6625f67207c6f9fa5b9107ef2d5...</td>\n",
       "      <td>2</td>\n",
       "      <td>4</td>\n",
       "      <td>0.302781</td>\n",
       "      <td>13.517496</td>\n",
       "    </tr>\n",
       "    <tr>\n",
       "      <th>4</th>\n",
       "      <td>1766537e-823c-4630-9348-35828c36ae37</td>\n",
       "      <td>4</td>\n",
       "      <td>ACCENTURE</td>\n",
       "      <td>ORGANIZATION</td>\n",
       "      <td>ACCENTURE is a company known for its collabora...</td>\n",
       "      <td>[af16e1630a5910964a6625f67207c6f9fa5b9107ef2d5...</td>\n",
       "      <td>3</td>\n",
       "      <td>8</td>\n",
       "      <td>1.177900</td>\n",
       "      <td>13.653461</td>\n",
       "    </tr>\n",
       "  </tbody>\n",
       "</table>\n",
       "</div>"
      ],
      "text/plain": [
       "                                     id  human_readable_id  \\\n",
       "0  bba7b7ba-7ec8-41c9-a502-792b9c8ed189                  0   \n",
       "1  4dbbb16f-f177-427b-ab76-e6b59e85203c                  1   \n",
       "2  a372d4a0-c10c-4d3f-897d-b914fff612ce                  2   \n",
       "3  8111e3b5-3a42-40f8-bbfb-396d72a0e878                  3   \n",
       "4  1766537e-823c-4630-9348-35828c36ae37                  4   \n",
       "\n",
       "                   title             type  \\\n",
       "0           NIRAV GANDHI  PERSONAL DETAIL   \n",
       "1             AI MANAGER             ROLE   \n",
       "2  SENIOR DATA SCIENTIST             ROLE   \n",
       "3                   VOIS     ORGANIZATION   \n",
       "4              ACCENTURE     ORGANIZATION   \n",
       "\n",
       "                                         description  \\\n",
       "0  Nirav Gandhi is an accomplished professional w...   \n",
       "1  A position held by Nirav Gandhi, specializing ...   \n",
       "2  The \"SENIOR DATA SCIENTIST\" position is held b...   \n",
       "3  VOIS is an organization where Nirav Gandhi has...   \n",
       "4  ACCENTURE is a company known for its collabora...   \n",
       "\n",
       "                                       text_unit_ids  frequency  degree  \\\n",
       "0  [af16e1630a5910964a6625f67207c6f9fa5b9107ef2d5...          3       9   \n",
       "1  [af16e1630a5910964a6625f67207c6f9fa5b9107ef2d5...          1       1   \n",
       "2  [af16e1630a5910964a6625f67207c6f9fa5b9107ef2d5...          2       4   \n",
       "3  [af16e1630a5910964a6625f67207c6f9fa5b9107ef2d5...          2       4   \n",
       "4  [af16e1630a5910964a6625f67207c6f9fa5b9107ef2d5...          3       8   \n",
       "\n",
       "           x          y  \n",
       "0  -0.095694  13.538926  \n",
       "1  -0.377320  12.851553  \n",
       "2 -11.811598  -8.795559  \n",
       "3   0.302781  13.517496  \n",
       "4   1.177900  13.653461  "
      ]
     },
     "execution_count": 161,
     "metadata": {},
     "output_type": "execute_result"
    }
   ],
   "source": [
    "#reading entities\n",
    "\n",
    "entity_df = pd.read_parquet(r\"C:\\Users\\shant\\OneDrive\\Desktop\\GraphRAGresume\\output\\entities.parquet\")\n",
    "community_df = pd.read_parquet(r\"C:\\Users\\shant\\OneDrive\\Desktop\\GraphRAGresume\\output\\communities.parquet\")\n",
    "\n",
    "entities = read_indexer_entities(entity_df, community_df, COMMUNITY_LEVEL)\n",
    "\n",
    "#loading description embeddings to an in-memory lancedb vectorstore\n",
    "description_embedding_store = LanceDBVectorStore(\n",
    "    collection_name=\"default-entity-description\",\n",
    ")\n",
    "description_embedding_store.connect(db_uri = LANCEDB_URI)\n",
    "print(f\"Entity count: {len(entity_df)}\")\n",
    "entity_df.head()\n"
   ]
  },
  {
   "cell_type": "code",
   "execution_count": 162,
   "id": "838bcdc8",
   "metadata": {},
   "outputs": [
    {
     "name": "stdout",
     "output_type": "stream",
     "text": [
      "Relationship count: 173\n"
     ]
    },
    {
     "data": {
      "text/html": [
       "<div>\n",
       "<style scoped>\n",
       "    .dataframe tbody tr th:only-of-type {\n",
       "        vertical-align: middle;\n",
       "    }\n",
       "\n",
       "    .dataframe tbody tr th {\n",
       "        vertical-align: top;\n",
       "    }\n",
       "\n",
       "    .dataframe thead th {\n",
       "        text-align: right;\n",
       "    }\n",
       "</style>\n",
       "<table border=\"1\" class=\"dataframe\">\n",
       "  <thead>\n",
       "    <tr style=\"text-align: right;\">\n",
       "      <th></th>\n",
       "      <th>id</th>\n",
       "      <th>human_readable_id</th>\n",
       "      <th>source</th>\n",
       "      <th>target</th>\n",
       "      <th>description</th>\n",
       "      <th>weight</th>\n",
       "      <th>combined_degree</th>\n",
       "      <th>text_unit_ids</th>\n",
       "    </tr>\n",
       "  </thead>\n",
       "  <tbody>\n",
       "    <tr>\n",
       "      <th>0</th>\n",
       "      <td>da7b74ce-a9a8-4b08-bf14-157f2b073709</td>\n",
       "      <td>0</td>\n",
       "      <td>NIRAV GANDHI</td>\n",
       "      <td>AI MANAGER</td>\n",
       "      <td>Nirav Gandhi holds the role of AI Manager</td>\n",
       "      <td>9.0</td>\n",
       "      <td>10</td>\n",
       "      <td>[af16e1630a5910964a6625f67207c6f9fa5b9107ef2d5...</td>\n",
       "    </tr>\n",
       "    <tr>\n",
       "      <th>1</th>\n",
       "      <td>f0279d3c-069e-424b-8da7-58c0388bbc48</td>\n",
       "      <td>1</td>\n",
       "      <td>NIRAV GANDHI</td>\n",
       "      <td>SENIOR DATA SCIENTIST</td>\n",
       "      <td>Nirav Gandhi holds the role of Senior Data Sci...</td>\n",
       "      <td>9.0</td>\n",
       "      <td>13</td>\n",
       "      <td>[af16e1630a5910964a6625f67207c6f9fa5b9107ef2d5...</td>\n",
       "    </tr>\n",
       "    <tr>\n",
       "      <th>2</th>\n",
       "      <td>a71a2e81-4568-4521-ac36-53af88da3c69</td>\n",
       "      <td>2</td>\n",
       "      <td>NIRAV GANDHI</td>\n",
       "      <td>VOIS</td>\n",
       "      <td>Nirav Gandhi works at VOIS</td>\n",
       "      <td>9.0</td>\n",
       "      <td>13</td>\n",
       "      <td>[af16e1630a5910964a6625f67207c6f9fa5b9107ef2d5...</td>\n",
       "    </tr>\n",
       "    <tr>\n",
       "      <th>3</th>\n",
       "      <td>55040f7f-83fe-43e7-a5f7-d12ddb597323</td>\n",
       "      <td>3</td>\n",
       "      <td>VOIS</td>\n",
       "      <td>ACCENTURE</td>\n",
       "      <td>VOIS collaborates with Accenture to incubate i...</td>\n",
       "      <td>8.0</td>\n",
       "      <td>12</td>\n",
       "      <td>[af16e1630a5910964a6625f67207c6f9fa5b9107ef2d5...</td>\n",
       "    </tr>\n",
       "    <tr>\n",
       "      <th>4</th>\n",
       "      <td>052b026f-2568-49f9-8068-8b3d07ff9e78</td>\n",
       "      <td>4</td>\n",
       "      <td>VOIS</td>\n",
       "      <td>DIGITAL JOURNEY OPTIMIZATION</td>\n",
       "      <td>The project was delivered during Nirav Gandhi'...</td>\n",
       "      <td>1.0</td>\n",
       "      <td>9</td>\n",
       "      <td>[af16e1630a5910964a6625f67207c6f9fa5b9107ef2d5...</td>\n",
       "    </tr>\n",
       "  </tbody>\n",
       "</table>\n",
       "</div>"
      ],
      "text/plain": [
       "                                     id  human_readable_id        source  \\\n",
       "0  da7b74ce-a9a8-4b08-bf14-157f2b073709                  0  NIRAV GANDHI   \n",
       "1  f0279d3c-069e-424b-8da7-58c0388bbc48                  1  NIRAV GANDHI   \n",
       "2  a71a2e81-4568-4521-ac36-53af88da3c69                  2  NIRAV GANDHI   \n",
       "3  55040f7f-83fe-43e7-a5f7-d12ddb597323                  3          VOIS   \n",
       "4  052b026f-2568-49f9-8068-8b3d07ff9e78                  4          VOIS   \n",
       "\n",
       "                         target  \\\n",
       "0                    AI MANAGER   \n",
       "1         SENIOR DATA SCIENTIST   \n",
       "2                          VOIS   \n",
       "3                     ACCENTURE   \n",
       "4  DIGITAL JOURNEY OPTIMIZATION   \n",
       "\n",
       "                                         description  weight  combined_degree  \\\n",
       "0          Nirav Gandhi holds the role of AI Manager     9.0               10   \n",
       "1  Nirav Gandhi holds the role of Senior Data Sci...     9.0               13   \n",
       "2                         Nirav Gandhi works at VOIS     9.0               13   \n",
       "3  VOIS collaborates with Accenture to incubate i...     8.0               12   \n",
       "4  The project was delivered during Nirav Gandhi'...     1.0                9   \n",
       "\n",
       "                                       text_unit_ids  \n",
       "0  [af16e1630a5910964a6625f67207c6f9fa5b9107ef2d5...  \n",
       "1  [af16e1630a5910964a6625f67207c6f9fa5b9107ef2d5...  \n",
       "2  [af16e1630a5910964a6625f67207c6f9fa5b9107ef2d5...  \n",
       "3  [af16e1630a5910964a6625f67207c6f9fa5b9107ef2d5...  \n",
       "4  [af16e1630a5910964a6625f67207c6f9fa5b9107ef2d5...  "
      ]
     },
     "execution_count": 162,
     "metadata": {},
     "output_type": "execute_result"
    }
   ],
   "source": [
    "#reading relationships\n",
    "relationship_df = pd.read_parquet(r\"C:\\Users\\shant\\OneDrive\\Desktop\\GraphRAGresume\\output\\relationships.parquet\")\n",
    "relationships = read_indexer_relationships(relationship_df)\n",
    "\n",
    "print(f\"Relationship count: {len(relationship_df)}\")\n",
    "relationship_df.head()"
   ]
  },
  {
   "cell_type": "code",
   "execution_count": 163,
   "id": "0f4d058e",
   "metadata": {},
   "outputs": [
    {
     "name": "stdout",
     "output_type": "stream",
     "text": [
      "Claim records: 38\n"
     ]
    }
   ],
   "source": [
    "#reading claims (covariates)\n",
    "\n",
    "covariate_df = pd.read_parquet(r\"C:\\Users\\shant\\OneDrive\\Desktop\\GraphRAGresume\\output\\covariates.parquet\")\n",
    "claims = read_indexer_covariates(covariate_df)\n",
    "\n",
    "print(f\"Claim records: {len(claims)}\")\n",
    "covariates = {\"claims\": claims}"
   ]
  },
  {
   "cell_type": "code",
   "execution_count": 164,
   "id": "be18389d",
   "metadata": {},
   "outputs": [
    {
     "name": "stdout",
     "output_type": "stream",
     "text": [
      "Report records: 30\n"
     ]
    },
    {
     "data": {
      "text/html": [
       "<div>\n",
       "<style scoped>\n",
       "    .dataframe tbody tr th:only-of-type {\n",
       "        vertical-align: middle;\n",
       "    }\n",
       "\n",
       "    .dataframe tbody tr th {\n",
       "        vertical-align: top;\n",
       "    }\n",
       "\n",
       "    .dataframe thead th {\n",
       "        text-align: right;\n",
       "    }\n",
       "</style>\n",
       "<table border=\"1\" class=\"dataframe\">\n",
       "  <thead>\n",
       "    <tr style=\"text-align: right;\">\n",
       "      <th></th>\n",
       "      <th>id</th>\n",
       "      <th>human_readable_id</th>\n",
       "      <th>community</th>\n",
       "      <th>level</th>\n",
       "      <th>parent</th>\n",
       "      <th>children</th>\n",
       "      <th>title</th>\n",
       "      <th>summary</th>\n",
       "      <th>full_content</th>\n",
       "      <th>rank</th>\n",
       "      <th>rating_explanation</th>\n",
       "      <th>findings</th>\n",
       "      <th>full_content_json</th>\n",
       "      <th>period</th>\n",
       "      <th>size</th>\n",
       "    </tr>\n",
       "  </thead>\n",
       "  <tbody>\n",
       "    <tr>\n",
       "      <th>0</th>\n",
       "      <td>a6e4c63b9e704d45b100d630666b7bc9</td>\n",
       "      <td>11</td>\n",
       "      <td>11</td>\n",
       "      <td>1</td>\n",
       "      <td>0</td>\n",
       "      <td>[]</td>\n",
       "      <td>Accenture and Technological Innovation</td>\n",
       "      <td>The community is centered around Accenture, a ...</td>\n",
       "      <td># Accenture and Technological Innovation\\n\\nTh...</td>\n",
       "      <td>8.5</td>\n",
       "      <td>The impact severity rating is high due to Acce...</td>\n",
       "      <td>[{'explanation': 'Accenture is a pivotal entit...</td>\n",
       "      <td>{\\n    \"title\": \"Accenture and Technological I...</td>\n",
       "      <td>2025-08-10</td>\n",
       "      <td>5</td>\n",
       "    </tr>\n",
       "    <tr>\n",
       "      <th>1</th>\n",
       "      <td>bd3d1af013a74648a567ca0637a40391</td>\n",
       "      <td>12</td>\n",
       "      <td>12</td>\n",
       "      <td>1</td>\n",
       "      <td>0</td>\n",
       "      <td>[]</td>\n",
       "      <td>Accenture and Recommendation Product Technologies</td>\n",
       "      <td>The community is centered around the Recommend...</td>\n",
       "      <td># Accenture and Recommendation Product Technol...</td>\n",
       "      <td>8.5</td>\n",
       "      <td>The impact severity rating is high due to the ...</td>\n",
       "      <td>[{'explanation': 'Accenture is a central entit...</td>\n",
       "      <td>{\\n    \"title\": \"Accenture and Recommendation ...</td>\n",
       "      <td>2025-08-10</td>\n",
       "      <td>4</td>\n",
       "    </tr>\n",
       "    <tr>\n",
       "      <th>2</th>\n",
       "      <td>560cb9108b064324ac2785c7b18e960d</td>\n",
       "      <td>13</td>\n",
       "      <td>13</td>\n",
       "      <td>1</td>\n",
       "      <td>0</td>\n",
       "      <td>[]</td>\n",
       "      <td>Digital Journey Optimization and ANN</td>\n",
       "      <td>The community centers around the Digital Journ...</td>\n",
       "      <td># Digital Journey Optimization and ANN\\n\\nThe ...</td>\n",
       "      <td>8.5</td>\n",
       "      <td>The impact severity rating is high due to the ...</td>\n",
       "      <td>[{'explanation': 'Digital Journey Optimization...</td>\n",
       "      <td>{\\n    \"title\": \"Digital Journey Optimization ...</td>\n",
       "      <td>2025-08-10</td>\n",
       "      <td>2</td>\n",
       "    </tr>\n",
       "    <tr>\n",
       "      <th>3</th>\n",
       "      <td>274d548e63a143fdaef918ff7e0cad6a</td>\n",
       "      <td>14</td>\n",
       "      <td>14</td>\n",
       "      <td>1</td>\n",
       "      <td>3</td>\n",
       "      <td>[]</td>\n",
       "      <td>Aishwarya Gaba's Professional Network</td>\n",
       "      <td>The community centers around Aishwarya Gaba, a...</td>\n",
       "      <td># Aishwarya Gaba's Professional Network\\n\\nThe...</td>\n",
       "      <td>7.5</td>\n",
       "      <td>The impact severity rating is high due to the ...</td>\n",
       "      <td>[{'explanation': 'Aishwarya Gaba is the centra...</td>\n",
       "      <td>{\\n    \"title\": \"Aishwarya Gaba's Professional...</td>\n",
       "      <td>2025-08-10</td>\n",
       "      <td>4</td>\n",
       "    </tr>\n",
       "    <tr>\n",
       "      <th>4</th>\n",
       "      <td>94b820ac5e724ef2ba886f5301e66037</td>\n",
       "      <td>15</td>\n",
       "      <td>15</td>\n",
       "      <td>1</td>\n",
       "      <td>3</td>\n",
       "      <td>[]</td>\n",
       "      <td>Data Scientist Role and Recommendation Validat...</td>\n",
       "      <td>The community is centered around the role of a...</td>\n",
       "      <td># Data Scientist Role and Recommendation Valid...</td>\n",
       "      <td>8.5</td>\n",
       "      <td>The impact severity rating is high due to the ...</td>\n",
       "      <td>[{'explanation': 'The Data Scientist role is a...</td>\n",
       "      <td>{\\n    \"title\": \"Data Scientist Role and Recom...</td>\n",
       "      <td>2025-08-10</td>\n",
       "      <td>5</td>\n",
       "    </tr>\n",
       "  </tbody>\n",
       "</table>\n",
       "</div>"
      ],
      "text/plain": [
       "                                 id  human_readable_id  community  level  \\\n",
       "0  a6e4c63b9e704d45b100d630666b7bc9                 11         11      1   \n",
       "1  bd3d1af013a74648a567ca0637a40391                 12         12      1   \n",
       "2  560cb9108b064324ac2785c7b18e960d                 13         13      1   \n",
       "3  274d548e63a143fdaef918ff7e0cad6a                 14         14      1   \n",
       "4  94b820ac5e724ef2ba886f5301e66037                 15         15      1   \n",
       "\n",
       "   parent children                                              title  \\\n",
       "0       0       []             Accenture and Technological Innovation   \n",
       "1       0       []  Accenture and Recommendation Product Technologies   \n",
       "2       0       []               Digital Journey Optimization and ANN   \n",
       "3       3       []              Aishwarya Gaba's Professional Network   \n",
       "4       3       []  Data Scientist Role and Recommendation Validat...   \n",
       "\n",
       "                                             summary  \\\n",
       "0  The community is centered around Accenture, a ...   \n",
       "1  The community is centered around the Recommend...   \n",
       "2  The community centers around the Digital Journ...   \n",
       "3  The community centers around Aishwarya Gaba, a...   \n",
       "4  The community is centered around the role of a...   \n",
       "\n",
       "                                        full_content  rank  \\\n",
       "0  # Accenture and Technological Innovation\\n\\nTh...   8.5   \n",
       "1  # Accenture and Recommendation Product Technol...   8.5   \n",
       "2  # Digital Journey Optimization and ANN\\n\\nThe ...   8.5   \n",
       "3  # Aishwarya Gaba's Professional Network\\n\\nThe...   7.5   \n",
       "4  # Data Scientist Role and Recommendation Valid...   8.5   \n",
       "\n",
       "                                  rating_explanation  \\\n",
       "0  The impact severity rating is high due to Acce...   \n",
       "1  The impact severity rating is high due to the ...   \n",
       "2  The impact severity rating is high due to the ...   \n",
       "3  The impact severity rating is high due to the ...   \n",
       "4  The impact severity rating is high due to the ...   \n",
       "\n",
       "                                            findings  \\\n",
       "0  [{'explanation': 'Accenture is a pivotal entit...   \n",
       "1  [{'explanation': 'Accenture is a central entit...   \n",
       "2  [{'explanation': 'Digital Journey Optimization...   \n",
       "3  [{'explanation': 'Aishwarya Gaba is the centra...   \n",
       "4  [{'explanation': 'The Data Scientist role is a...   \n",
       "\n",
       "                                   full_content_json      period  size  \n",
       "0  {\\n    \"title\": \"Accenture and Technological I...  2025-08-10     5  \n",
       "1  {\\n    \"title\": \"Accenture and Recommendation ...  2025-08-10     4  \n",
       "2  {\\n    \"title\": \"Digital Journey Optimization ...  2025-08-10     2  \n",
       "3  {\\n    \"title\": \"Aishwarya Gaba's Professional...  2025-08-10     4  \n",
       "4  {\\n    \"title\": \"Data Scientist Role and Recom...  2025-08-10     5  "
      ]
     },
     "execution_count": 164,
     "metadata": {},
     "output_type": "execute_result"
    }
   ],
   "source": [
    "report_df = pd.read_parquet(r'C:\\Users\\shant\\OneDrive\\Desktop\\GraphRAGresume\\output\\community_reports.parquet')\n",
    "reports = read_indexer_reports(report_df, community_df, COMMUNITY_LEVEL)\n",
    "\n",
    "print(f\"Report records: {len(report_df)}\")\n",
    "report_df.head()"
   ]
  },
  {
   "cell_type": "code",
   "execution_count": 165,
   "id": "1dcfaba6",
   "metadata": {},
   "outputs": [
    {
     "name": "stdout",
     "output_type": "stream",
     "text": [
      "Text unit records: 10\n"
     ]
    },
    {
     "data": {
      "text/html": [
       "<div>\n",
       "<style scoped>\n",
       "    .dataframe tbody tr th:only-of-type {\n",
       "        vertical-align: middle;\n",
       "    }\n",
       "\n",
       "    .dataframe tbody tr th {\n",
       "        vertical-align: top;\n",
       "    }\n",
       "\n",
       "    .dataframe thead th {\n",
       "        text-align: right;\n",
       "    }\n",
       "</style>\n",
       "<table border=\"1\" class=\"dataframe\">\n",
       "  <thead>\n",
       "    <tr style=\"text-align: right;\">\n",
       "      <th></th>\n",
       "      <th>id</th>\n",
       "      <th>human_readable_id</th>\n",
       "      <th>text</th>\n",
       "      <th>n_tokens</th>\n",
       "      <th>document_ids</th>\n",
       "      <th>entity_ids</th>\n",
       "      <th>relationship_ids</th>\n",
       "      <th>covariate_ids</th>\n",
       "    </tr>\n",
       "  </thead>\n",
       "  <tbody>\n",
       "    <tr>\n",
       "      <th>0</th>\n",
       "      <td>af16e1630a5910964a6625f67207c6f9fa5b9107ef2d55...</td>\n",
       "      <td>1</td>\n",
       "      <td>C2 GeneralNIRAV GANDHI\\nAI Manager\\nPROFILE\\n•...</td>\n",
       "      <td>600</td>\n",
       "      <td>[14c6a4dd01b4dbf65a4d8f105a539f4e14715b4fccf9a...</td>\n",
       "      <td>[bba7b7ba-7ec8-41c9-a502-792b9c8ed189, 4dbbb16...</td>\n",
       "      <td>[da7b74ce-a9a8-4b08-bf14-157f2b073709, f0279d3...</td>\n",
       "      <td>[95f62f00-7662-4b9d-b19e-47ab5733257e, 1e98d1d...</td>\n",
       "    </tr>\n",
       "    <tr>\n",
       "      <th>1</th>\n",
       "      <td>0efa6a8097ecc06199b6e1bbd72ca7de95fef7d39a67e4...</td>\n",
       "      <td>2</td>\n",
       "      <td>•Unified Data Platform &amp; Feature Store : Desig...</td>\n",
       "      <td>600</td>\n",
       "      <td>[14c6a4dd01b4dbf65a4d8f105a539f4e14715b4fccf9a...</td>\n",
       "      <td>[bba7b7ba-7ec8-41c9-a502-792b9c8ed189, 1766537...</td>\n",
       "      <td>[49b174a5-add4-4d94-8384-38693d394fff, eaf4e4e...</td>\n",
       "      <td>[bb79ed5c-4f16-4e0f-9d12-e87b63a3bb77, a1b4e76...</td>\n",
       "    </tr>\n",
       "    <tr>\n",
       "      <th>2</th>\n",
       "      <td>6cbe124c1781a368fdf7fabc5cdf6e46c08dd2f66d7439...</td>\n",
       "      <td>3</td>\n",
       "      <td>Analyst Consultant\\nTata Consultancy Service ...</td>\n",
       "      <td>550</td>\n",
       "      <td>[14c6a4dd01b4dbf65a4d8f105a539f4e14715b4fccf9a...</td>\n",
       "      <td>[bba7b7ba-7ec8-41c9-a502-792b9c8ed189, 8111e3b...</td>\n",
       "      <td>[d32eedb4-be03-49e5-a84e-abdb646d80e6, 0ac2234...</td>\n",
       "      <td>[2c766623-896c-4e22-b88a-421c658c9734, f562bb1...</td>\n",
       "    </tr>\n",
       "    <tr>\n",
       "      <th>3</th>\n",
       "      <td>611f5dfd2a5ec417c0e33ab853f937bc1debf4b834e62e...</td>\n",
       "      <td>4</td>\n",
       "      <td>Mamta Shinde   \\n+91-8999946751  | shindemamta...</td>\n",
       "      <td>600</td>\n",
       "      <td>[581fe65ba9c7f6ddbe362b58b9a350224e0ba26501e55...</td>\n",
       "      <td>[ea8405a3-a897-4d68-a94c-1158b4deac9d, 058749e...</td>\n",
       "      <td>[6d6ce96b-3fa5-4a9e-8ade-b07daaffc31b, 664cf4f...</td>\n",
       "      <td>[de81b611-10da-44f3-8713-c2ff404459a1, 7f0f682...</td>\n",
       "    </tr>\n",
       "    <tr>\n",
       "      <th>4</th>\n",
       "      <td>a32a6a9a1dc9a5996ef6a1342de9884bee8bdc0d672546...</td>\n",
       "      <td>5</td>\n",
       "      <td>o Refined NLP Metrics:  Leveraged NLP methodol...</td>\n",
       "      <td>600</td>\n",
       "      <td>[581fe65ba9c7f6ddbe362b58b9a350224e0ba26501e55...</td>\n",
       "      <td>[72693e3a-3b6c-40cb-9b56-44aa57c559ea, 600946f...</td>\n",
       "      <td>[eb036f76-e747-4df5-b3af-d95e644b976f, 10c4d05...</td>\n",
       "      <td>[5ffe0269-a258-4aaf-9505-0c92e3b9f421, c1c32a8...</td>\n",
       "    </tr>\n",
       "  </tbody>\n",
       "</table>\n",
       "</div>"
      ],
      "text/plain": [
       "                                                  id  human_readable_id  \\\n",
       "0  af16e1630a5910964a6625f67207c6f9fa5b9107ef2d55...                  1   \n",
       "1  0efa6a8097ecc06199b6e1bbd72ca7de95fef7d39a67e4...                  2   \n",
       "2  6cbe124c1781a368fdf7fabc5cdf6e46c08dd2f66d7439...                  3   \n",
       "3  611f5dfd2a5ec417c0e33ab853f937bc1debf4b834e62e...                  4   \n",
       "4  a32a6a9a1dc9a5996ef6a1342de9884bee8bdc0d672546...                  5   \n",
       "\n",
       "                                                text  n_tokens  \\\n",
       "0  C2 GeneralNIRAV GANDHI\\nAI Manager\\nPROFILE\\n•...       600   \n",
       "1  •Unified Data Platform & Feature Store : Desig...       600   \n",
       "2   Analyst Consultant\\nTata Consultancy Service ...       550   \n",
       "3  Mamta Shinde   \\n+91-8999946751  | shindemamta...       600   \n",
       "4  o Refined NLP Metrics:  Leveraged NLP methodol...       600   \n",
       "\n",
       "                                        document_ids  \\\n",
       "0  [14c6a4dd01b4dbf65a4d8f105a539f4e14715b4fccf9a...   \n",
       "1  [14c6a4dd01b4dbf65a4d8f105a539f4e14715b4fccf9a...   \n",
       "2  [14c6a4dd01b4dbf65a4d8f105a539f4e14715b4fccf9a...   \n",
       "3  [581fe65ba9c7f6ddbe362b58b9a350224e0ba26501e55...   \n",
       "4  [581fe65ba9c7f6ddbe362b58b9a350224e0ba26501e55...   \n",
       "\n",
       "                                          entity_ids  \\\n",
       "0  [bba7b7ba-7ec8-41c9-a502-792b9c8ed189, 4dbbb16...   \n",
       "1  [bba7b7ba-7ec8-41c9-a502-792b9c8ed189, 1766537...   \n",
       "2  [bba7b7ba-7ec8-41c9-a502-792b9c8ed189, 8111e3b...   \n",
       "3  [ea8405a3-a897-4d68-a94c-1158b4deac9d, 058749e...   \n",
       "4  [72693e3a-3b6c-40cb-9b56-44aa57c559ea, 600946f...   \n",
       "\n",
       "                                    relationship_ids  \\\n",
       "0  [da7b74ce-a9a8-4b08-bf14-157f2b073709, f0279d3...   \n",
       "1  [49b174a5-add4-4d94-8384-38693d394fff, eaf4e4e...   \n",
       "2  [d32eedb4-be03-49e5-a84e-abdb646d80e6, 0ac2234...   \n",
       "3  [6d6ce96b-3fa5-4a9e-8ade-b07daaffc31b, 664cf4f...   \n",
       "4  [eb036f76-e747-4df5-b3af-d95e644b976f, 10c4d05...   \n",
       "\n",
       "                                       covariate_ids  \n",
       "0  [95f62f00-7662-4b9d-b19e-47ab5733257e, 1e98d1d...  \n",
       "1  [bb79ed5c-4f16-4e0f-9d12-e87b63a3bb77, a1b4e76...  \n",
       "2  [2c766623-896c-4e22-b88a-421c658c9734, f562bb1...  \n",
       "3  [de81b611-10da-44f3-8713-c2ff404459a1, 7f0f682...  \n",
       "4  [5ffe0269-a258-4aaf-9505-0c92e3b9f421, c1c32a8...  "
      ]
     },
     "execution_count": 165,
     "metadata": {},
     "output_type": "execute_result"
    }
   ],
   "source": [
    "#reading text unit chunks\n",
    "text_unit_df = pd.read_parquet(r\"C:\\Users\\shant\\OneDrive\\Desktop\\GraphRAGresume\\output\\text_units.parquet\")\n",
    "text_units = read_indexer_text_units(text_unit_df)\n",
    "\n",
    "print(f\"Text unit records: {len(text_unit_df)}\")\n",
    "text_unit_df.head()\n"
   ]
  },
  {
   "cell_type": "code",
   "execution_count": 166,
   "id": "2ea30af1",
   "metadata": {},
   "outputs": [],
   "source": [
    "from graphrag.config.enums import ModelType\n",
    "from graphrag.config.models.language_model_config import LanguageModelConfig\n",
    "from graphrag.language_model.manager import ModelManager\n",
    "\n",
    "api_key = 'BmaiYil8P7o3Dgv0JzIEIA4JYd3AHl7Jh6SzBdjkwXfF4DNxCzC3JQQJ99BGACYeBjFXJ3w3AAABACOGZkhi'\n",
    "llm_model = 'gpt-4o'\n",
    "embedding_model ='text-embedding-3-large'\n",
    "\n",
    "chat_config = LanguageModelConfig(\n",
    "    api_key='BmaiYil8P7o3Dgv0JzIEIA4JYd3AHl7Jh6SzBdjkwXfF4DNxCzC3JQQJ99BGACYeBjFXJ3w3AAABACOGZkhi',\n",
    "    type=ModelType.AzureOpenAIChat.value, \n",
    "    model='gpt-4o',                      \n",
    "    deployment_name='gpt-4o-08-06',\n",
    "    max_retries=20,\n",
    "    api_base=\"https://gpt-4o-intern.openai.azure.com/\",\n",
    "    api_version=\"2024-12-01-preview\"\n",
    ")\n",
    "chat_model = ModelManager().get_or_create_chat_model(\n",
    "    name=\"local_search_chat\", \n",
    "    model_type=ModelType.AzureOpenAIChat,\n",
    "    config=chat_config,\n",
    ")\n",
    "token_encoder = tiktoken.encoding_for_model(llm_model)\n",
    "embedding_config = LanguageModelConfig(\n",
    "    api_key='BmaiYil8P7o3Dgv0JzIEIA4JYd3AHl7Jh6SzBdjkwXfF4DNxCzC3JQQJ99BGACYeBjFXJ3w3AAABACOGZkhi',\n",
    "    type=ModelType.AzureOpenAIEmbedding.value, \n",
    "    model='text-embedding-3-large',                      \n",
    "    deployment_name='text-embedding-3-large',\n",
    "    max_retries=20,\n",
    "    api_base=\"https://gpt-4o-intern.openai.azure.com/\",\n",
    "    api_version=\"2024-12-01-preview\"\n",
    ")\n",
    "\n",
    "text_embedder = ModelManager().get_or_create_embedding_model(\n",
    "    name=\"local_search_embedding\", \n",
    "    model_type=ModelType.AzureOpenAIEmbedding,\n",
    "    config=embedding_config,\n",
    ")"
   ]
  },
  {
   "cell_type": "code",
   "execution_count": 167,
   "id": "ae329421",
   "metadata": {},
   "outputs": [],
   "source": [
    "#creating local search context builder\n",
    "context_builder = LocalSearchMixedContext(\n",
    "    community_reports=reports,\n",
    "    text_units=text_units,\n",
    "    entities=entities,\n",
    "    relationships=relationships,\n",
    "\n",
    "    covariates=covariates,\n",
    "    entity_text_embeddings=description_embedding_store,\n",
    "    embedding_vectorstore_key=EntityVectorStoreKey.ID, \n",
    "    text_embedder=text_embedder,\n",
    "    token_encoder=token_encoder,\n",
    ")"
   ]
  },
  {
   "cell_type": "code",
   "execution_count": 168,
   "id": "9c266e3a",
   "metadata": {},
   "outputs": [],
   "source": [
    "#creating local search engine\n",
    "# text_unit_prop: proportion of context window dedicated to related text units\n",
    "# community_prop: proportion of context window dedicated to community reports.\n",
    "# The remaining proportion is dedicated to entities and relationships. Sum of text_unit_prop and community_prop should be <= 1\n",
    "# conversation_history_max_turns: maximum number of turns to include in the conversation history.\n",
    "# conversation_history_user_turns_only: if True, only include user queries in the conversation history.\n",
    "# top_k_mapped_entities: number of related entities to retrieve from the entity description embedding store.\n",
    "# top_k_relationships: control the number of out-of-network relationships to pull into the context window.\n",
    "# include_entity_rank: if True, include the entity rank in the entity table in the context window. Default entity rank = node degree.\n",
    "# include_relationship_weight: if True, include the relationship weight in the context window.\n",
    "# include_community_rank: if True, include the community rank in the context window.\n",
    "# return_candidate_context: if True, return a set of dataframes containing all candidate entity/relationship/covariate records that\n",
    "# could be relevant. Note that not all of these records will be included in the context window. The \"in_context\" column in these\n",
    "# dataframes indicates whether the record is included in the context window.\n",
    "# max_tokens: maximum number of tokens to use for the context window.\n",
    "\n",
    "\n",
    "local_context_params = {\n",
    "    \"text_unit_prop\": 0.5,\n",
    "    \"community_prop\": 0.1,\n",
    "    \"conversation_history_max_turns\": 0,\n",
    "    \"conversation_history_user_turns_only\": False,\n",
    "    \"top_k_mapped_entities\": 3,\n",
    "    \"top_k_relationships\": 8,\n",
    "    \"include_entity_rank\": True,\n",
    "    \"include_relationship_weight\": True,\n",
    "    \"include_community_rank\": False,\n",
    "    \"return_candidate_context\": False,\n",
    "    \"embedding_vectorstore_key\": EntityVectorStoreKey.ID, \n",
    "    \"max_tokens\": 12_000, \n",
    "}\n",
    "\n",
    "model_params = {\n",
    "    \"max_tokens\": 2_000, \n",
    "    \"temperature\": 0.0,\n",
    "}\n"
   ]
  },
  {
   "cell_type": "code",
   "execution_count": 169,
   "id": "b727aaa0",
   "metadata": {},
   "outputs": [],
   "source": [
    "search_engine = LocalSearch(\n",
    "    model=chat_model,\n",
    "    context_builder=context_builder,\n",
    "    token_encoder=token_encoder,\n",
    "    model_params=model_params,\n",
    "    context_builder_params=local_context_params,\n",
    "    response_type='answer_only',\n",
    "    #allow_general_knowledge=False \n",
    ")"
   ]
  },
  {
   "cell_type": "markdown",
   "id": "6ee2b0ce",
   "metadata": {},
   "source": [
    "## Query 1 Local flow"
   ]
  },
  {
   "cell_type": "code",
   "execution_count": 174,
   "id": "fb4243cb",
   "metadata": {},
   "outputs": [
    {
     "name": "stdout",
     "output_type": "stream",
     "text": [
      "Based on the available data, the following candidates are suitable for GenAI roles:\n",
      "\n",
      "1. **Nirav Gandhi**: He holds the position of AI Manager and has expertise in AI, GenAI, IT Strategy, Machine Learning, and MLOps. His experience includes building AI/ML/GenAI-powered products and solutions for Fortune 500 companies, and he has been involved in projects like GenAI Contract Intelligence and RMA Wise-Variance [Data: Reports (22); Entities (1, 44); Sources (0)].\n",
      "\n",
      "2. **Aishwarya Gaba**: She has skills in GenAI & NLP, including Retrieval-Augmented Generation, Prompt Engineering, Transformers, LangChain, LLM-based Summarization, Text Generation, and Vector Databases. Her work experience includes leading a Generative AI-driven system for Competitor SKU Analysis at LG Electronics [Data: Entities (106); Sources (6)].\n",
      "\n",
      "These candidates have demonstrated relevant skills and experience in GenAI, making them suitable for roles in this field.\n"
     ]
    }
   ],
   "source": [
    "result = await search_engine.search(\"Which candidates are suitable for GenAI roles?\")\n",
    "print(result.response)"
   ]
  },
  {
   "cell_type": "code",
   "execution_count": 120,
   "id": "c28bfa85",
   "metadata": {},
   "outputs": [
    {
     "data": {
      "text/html": [
       "<div>\n",
       "<style scoped>\n",
       "    .dataframe tbody tr th:only-of-type {\n",
       "        vertical-align: middle;\n",
       "    }\n",
       "\n",
       "    .dataframe tbody tr th {\n",
       "        vertical-align: top;\n",
       "    }\n",
       "\n",
       "    .dataframe thead th {\n",
       "        text-align: right;\n",
       "    }\n",
       "</style>\n",
       "<table border=\"1\" class=\"dataframe\">\n",
       "  <thead>\n",
       "    <tr style=\"text-align: right;\">\n",
       "      <th></th>\n",
       "      <th>id</th>\n",
       "      <th>text</th>\n",
       "      <th>vector</th>\n",
       "      <th>attributes</th>\n",
       "    </tr>\n",
       "  </thead>\n",
       "  <tbody>\n",
       "    <tr>\n",
       "      <th>0</th>\n",
       "      <td>286a74de-058c-4ec8-8b3d-27fadadd0cdc</td>\n",
       "      <td>AISHWARYA GABA:Aishwarya Gaba is a professiona...</td>\n",
       "      <td>[-0.016647981, 0.027439961, -0.014070464, 0.01...</td>\n",
       "      <td>{\"title\": \"AISHWARYA GABA:Aishwarya Gaba is a ...</td>\n",
       "    </tr>\n",
       "    <tr>\n",
       "      <th>1</th>\n",
       "      <td>d7132a9f-6a5d-4d23-81bc-ec7e6bfa7bd6</td>\n",
       "      <td>AISHGABA24@GMAIL.COM:Email contact for Aishwar...</td>\n",
       "      <td>[-0.012030283, 0.01362794, -0.0010509932, 0.01...</td>\n",
       "      <td>{\"title\": \"AISHGABA24@GMAIL.COM:Email contact ...</td>\n",
       "    </tr>\n",
       "    <tr>\n",
       "      <th>2</th>\n",
       "      <td>f1868e76-592a-4b89-84b3-49b9da096a86</td>\n",
       "      <td>+91 8447490080:Phone number contact for Aishwa...</td>\n",
       "      <td>[-0.025558084, 0.007935049, 0.00096846407, 0.0...</td>\n",
       "      <td>{\"title\": \"+91 8447490080:Phone number contact...</td>\n",
       "    </tr>\n",
       "    <tr>\n",
       "      <th>3</th>\n",
       "      <td>99332a52-332d-4b9a-bbf6-a664f8772b60</td>\n",
       "      <td>BACHELOR OF SCIENCE IN DATA SCIENCE AND APPLIC...</td>\n",
       "      <td>[-0.003801469, 0.022899326, -0.003420029, 0.03...</td>\n",
       "      <td>{\"title\": \"BACHELOR OF SCIENCE IN DATA SCIENCE...</td>\n",
       "    </tr>\n",
       "    <tr>\n",
       "      <th>4</th>\n",
       "      <td>c66143af-e3bd-4c4a-abd1-f3efe1db076e</td>\n",
       "      <td>IIT MADRAS:Indian Institute of Technology Madr...</td>\n",
       "      <td>[-0.00477936, 0.038314205, -0.0143711325, 0.02...</td>\n",
       "      <td>{\"title\": \"IIT MADRAS:Indian Institute of Tech...</td>\n",
       "    </tr>\n",
       "  </tbody>\n",
       "</table>\n",
       "</div>"
      ],
      "text/plain": [
       "                                     id  \\\n",
       "0  286a74de-058c-4ec8-8b3d-27fadadd0cdc   \n",
       "1  d7132a9f-6a5d-4d23-81bc-ec7e6bfa7bd6   \n",
       "2  f1868e76-592a-4b89-84b3-49b9da096a86   \n",
       "3  99332a52-332d-4b9a-bbf6-a664f8772b60   \n",
       "4  c66143af-e3bd-4c4a-abd1-f3efe1db076e   \n",
       "\n",
       "                                                text  \\\n",
       "0  AISHWARYA GABA:Aishwarya Gaba is a professiona...   \n",
       "1  AISHGABA24@GMAIL.COM:Email contact for Aishwar...   \n",
       "2  +91 8447490080:Phone number contact for Aishwa...   \n",
       "3  BACHELOR OF SCIENCE IN DATA SCIENCE AND APPLIC...   \n",
       "4  IIT MADRAS:Indian Institute of Technology Madr...   \n",
       "\n",
       "                                              vector  \\\n",
       "0  [-0.016647981, 0.027439961, -0.014070464, 0.01...   \n",
       "1  [-0.012030283, 0.01362794, -0.0010509932, 0.01...   \n",
       "2  [-0.025558084, 0.007935049, 0.00096846407, 0.0...   \n",
       "3  [-0.003801469, 0.022899326, -0.003420029, 0.03...   \n",
       "4  [-0.00477936, 0.038314205, -0.0143711325, 0.02...   \n",
       "\n",
       "                                          attributes  \n",
       "0  {\"title\": \"AISHWARYA GABA:Aishwarya Gaba is a ...  \n",
       "1  {\"title\": \"AISHGABA24@GMAIL.COM:Email contact ...  \n",
       "2  {\"title\": \"+91 8447490080:Phone number contact...  \n",
       "3  {\"title\": \"BACHELOR OF SCIENCE IN DATA SCIENCE...  \n",
       "4  {\"title\": \"IIT MADRAS:Indian Institute of Tech...  "
      ]
     },
     "execution_count": 120,
     "metadata": {},
     "output_type": "execute_result"
    }
   ],
   "source": [
    "df2.head()"
   ]
  },
  {
   "cell_type": "code",
   "execution_count": 160,
   "id": "a54106ae",
   "metadata": {},
   "outputs": [
    {
     "name": "stdout",
     "output_type": "stream",
     "text": [
      "    similarity                                    id  \\\n",
      "62    0.309226  c120c2ab-46b1-4db0-b7a8-cb519ff1ef0e   \n",
      "64    0.220177  a69404e0-d090-4eb7-a474-3d42792f46ed   \n",
      "21    0.197661  dce23806-8b30-45a2-af4c-e05abf24de23   \n",
      "60    0.197427  e26490fe-4f87-4d56-ae25-15e6c97fc16c   \n",
      "22    0.195225  864fef76-4457-4ef1-a165-f29ab540c558   \n",
      "..         ...                                   ...   \n",
      "1     0.084274  66cb5c1d-a074-4258-8f06-d49412dee12b   \n",
      "50    0.074779  9c5eeb7c-b76f-4c6a-8023-63d9e83b5d20   \n",
      "13    0.074027  b09ca7e3-afe4-4956-8c59-d6e230ef73dc   \n",
      "35    0.068733  69d29c3a-25cb-45de-8a21-33982818d3e0   \n",
      "27    0.067010  9a57226b-06bf-4055-838e-e0dad4738c4e   \n",
      "\n",
      "                                                 text  \\\n",
      "62  BE IN ELECTRICAL ENGINEERING:Degree completed ...   \n",
      "64                               JSPM, WAGHOLI, PUNE:   \n",
      "21  UPGRAD:India's top edtech startup where Nirav ...   \n",
      "60  TRAINING & PLACEMENTS COORDINATOR:A position h...   \n",
      "22  SYMBIOSIS SKILLS AND PROFESSIONAL UNIVERSITY, ...   \n",
      "..                                                ...   \n",
      "1   AI MANAGER:Role held by Nirav Gandhi, focusing...   \n",
      "50  FACTUALITY EVALS:A research initiative aimed a...   \n",
      "13  EXPLAINABLE AI FRAMEWORK:Project developed by ...   \n",
      "35  AUTOMATED ML & ETL PIPELINES:Project engineere...   \n",
      "27  SQL:SQL is a technology utilized by both Mamta...   \n",
      "\n",
      "                                           attributes  similarity  \n",
      "62  {\"title\": \"BE IN ELECTRICAL ENGINEERING:Degree...    0.309226  \n",
      "64                  {\"title\": \"JSPM, WAGHOLI, PUNE:\"}    0.220177  \n",
      "21  {\"title\": \"UPGRAD:India's top edtech startup w...    0.197661  \n",
      "60  {\"title\": \"TRAINING & PLACEMENTS COORDINATOR:A...    0.197427  \n",
      "22  {\"title\": \"SYMBIOSIS SKILLS AND PROFESSIONAL U...    0.195225  \n",
      "..                                                ...         ...  \n",
      "1   {\"title\": \"AI MANAGER:Role held by Nirav Gandh...    0.084274  \n",
      "50  {\"title\": \"FACTUALITY EVALS:A research initiat...    0.074779  \n",
      "13  {\"title\": \"EXPLAINABLE AI FRAMEWORK:Project de...    0.074027  \n",
      "35  {\"title\": \"AUTOMATED ML & ETL PIPELINES:Projec...    0.068733  \n",
      "27  {\"title\": \"SQL:SQL is a technology utilized by...    0.067010  \n",
      "\n",
      "[65 rows x 5 columns]\n"
     ]
    }
   ],
   "source": [
    "import pandas as pd\n",
    "import numpy as np\n",
    "from sklearn.metrics.pairwise import cosine_similarity\n",
    "from openai import AzureOpenAI\n",
    "\n",
    "# 1. Set up Azure OpenAI Client\n",
    "client = AzureOpenAI(\n",
    "    api_key=\"BmaiYil8P7o3Dgv0JzIEIA4JYd3AHl7Jh6SzBdjkwXfF4DNxCzC3JQQJ99BGACYeBjFXJ3w3AAABACOGZkhi\",\n",
    "    api_version=\"2024-12-01-preview\",  # or your deployed version\n",
    "    azure_endpoint=\"https://gpt-4o-intern.openai.azure.com\"\n",
    ")\n",
    "\n",
    "# 2. Define embedding deployment name (this is your Azure deployment name, NOT model name)\n",
    "embedding_deployment_name = \"text-embedding-3-large\"\n",
    "\n",
    "# 3. Function to get embeddings using AzureOpenAI client\n",
    "def get_azure_embedding(text: str):\n",
    "    response = client.embeddings.create(\n",
    "        input=[text],\n",
    "        model=embedding_deployment_name\n",
    "    )\n",
    "    return response.data[0].embedding\n",
    "\n",
    "# 4. User query\n",
    "user_query = \"CGPA in bachelor's degree\"\n",
    "query_embedding = get_azure_embedding(user_query)\n",
    "\n",
    "# 5. Assuming df2[\"contains vector\"] contains list-like numeric vectors\n",
    "df2['vector'] = df2['vector'].apply(lambda x: np.array(x))\n",
    "\n",
    "# 6. Compute similarity\n",
    "df2['similarity'] = df2['vector'].apply(\n",
    "    lambda vec: cosine_similarity([query_embedding], [vec])[0][0]\n",
    ")\n",
    "\n",
    "# 7. Sort in descending order\n",
    "df2_sorted = df2.sort_values(by='similarity', ascending=False)\n",
    "\n",
    "# 8. Display results (you can exclude 'contains vector' if too large)\n",
    "print(df2_sorted[['similarity'] + [col for col in df2.columns if col != 'vector']])\n"
   ]
  },
  {
   "cell_type": "code",
   "execution_count": 42,
   "id": "079ffdab",
   "metadata": {},
   "outputs": [],
   "source": [
    "df2['vector_2'] = df2['text'].apply(get_azure_embedding)"
   ]
  },
  {
   "cell_type": "code",
   "execution_count": 77,
   "id": "e0aeea70",
   "metadata": {},
   "outputs": [
    {
     "data": {
      "text/html": [
       "<div>\n",
       "<style scoped>\n",
       "    .dataframe tbody tr th:only-of-type {\n",
       "        vertical-align: middle;\n",
       "    }\n",
       "\n",
       "    .dataframe tbody tr th {\n",
       "        vertical-align: top;\n",
       "    }\n",
       "\n",
       "    .dataframe thead th {\n",
       "        text-align: right;\n",
       "    }\n",
       "</style>\n",
       "<table border=\"1\" class=\"dataframe\">\n",
       "  <thead>\n",
       "    <tr style=\"text-align: right;\">\n",
       "      <th></th>\n",
       "      <th>id</th>\n",
       "      <th>text</th>\n",
       "      <th>vector</th>\n",
       "      <th>attributes</th>\n",
       "    </tr>\n",
       "  </thead>\n",
       "  <tbody>\n",
       "    <tr>\n",
       "      <th>0</th>\n",
       "      <td>78aa2555-ee62-4aae-8d1f-61bf87ae6132</td>\n",
       "      <td>AISHWARYA GABA:Aishwarya Gaba is an individual...</td>\n",
       "      <td>[-0.016035676, 0.025642635, -0.013637547, 0.01...</td>\n",
       "      <td>{\"title\": \"AISHWARYA GABA:Aishwarya Gaba is an...</td>\n",
       "    </tr>\n",
       "    <tr>\n",
       "      <th>1</th>\n",
       "      <td>bdce4bd9-9359-462c-bc0c-f2066e0d0487</td>\n",
       "      <td>DATA SCIENTIST:A Data Scientist is a professio...</td>\n",
       "      <td>[-0.014495026, -0.0046923766, -0.009522062, 0....</td>\n",
       "      <td>{\"title\": \"DATA SCIENTIST:A Data Scientist is ...</td>\n",
       "    </tr>\n",
       "    <tr>\n",
       "      <th>2</th>\n",
       "      <td>d136abcd-8dab-4b3d-ae51-6f01951a0a50</td>\n",
       "      <td>GENAI &amp; NLP:Aishwarya Gaba possesses skills in...</td>\n",
       "      <td>[-0.020568844, 0.019518204, -0.021989426, 0.00...</td>\n",
       "      <td>{\"title\": \"GENAI &amp; NLP:Aishwarya Gaba possesse...</td>\n",
       "    </tr>\n",
       "    <tr>\n",
       "      <th>3</th>\n",
       "      <td>7af1c657-df1f-43be-9edc-ed2db2419cb5</td>\n",
       "      <td>PROGRAMMING &amp; TOOLS:Aishwarya Gaba is skilled ...</td>\n",
       "      <td>[-0.023755066, 0.005931462, -0.020555584, 0.02...</td>\n",
       "      <td>{\"title\": \"PROGRAMMING &amp; TOOLS:Aishwarya Gaba ...</td>\n",
       "    </tr>\n",
       "    <tr>\n",
       "      <th>4</th>\n",
       "      <td>59ce7924-2da1-4173-bb6d-ba0d701f3d5b</td>\n",
       "      <td>DATABASES:Aishwarya Gaba has expertise in data...</td>\n",
       "      <td>[-0.0014025889, 0.028100563, -0.018103248, 0.0...</td>\n",
       "      <td>{\"title\": \"DATABASES:Aishwarya Gaba has expert...</td>\n",
       "    </tr>\n",
       "  </tbody>\n",
       "</table>\n",
       "</div>"
      ],
      "text/plain": [
       "                                     id  \\\n",
       "0  78aa2555-ee62-4aae-8d1f-61bf87ae6132   \n",
       "1  bdce4bd9-9359-462c-bc0c-f2066e0d0487   \n",
       "2  d136abcd-8dab-4b3d-ae51-6f01951a0a50   \n",
       "3  7af1c657-df1f-43be-9edc-ed2db2419cb5   \n",
       "4  59ce7924-2da1-4173-bb6d-ba0d701f3d5b   \n",
       "\n",
       "                                                text  \\\n",
       "0  AISHWARYA GABA:Aishwarya Gaba is an individual...   \n",
       "1  DATA SCIENTIST:A Data Scientist is a professio...   \n",
       "2  GENAI & NLP:Aishwarya Gaba possesses skills in...   \n",
       "3  PROGRAMMING & TOOLS:Aishwarya Gaba is skilled ...   \n",
       "4  DATABASES:Aishwarya Gaba has expertise in data...   \n",
       "\n",
       "                                              vector  \\\n",
       "0  [-0.016035676, 0.025642635, -0.013637547, 0.01...   \n",
       "1  [-0.014495026, -0.0046923766, -0.009522062, 0....   \n",
       "2  [-0.020568844, 0.019518204, -0.021989426, 0.00...   \n",
       "3  [-0.023755066, 0.005931462, -0.020555584, 0.02...   \n",
       "4  [-0.0014025889, 0.028100563, -0.018103248, 0.0...   \n",
       "\n",
       "                                          attributes  \n",
       "0  {\"title\": \"AISHWARYA GABA:Aishwarya Gaba is an...  \n",
       "1  {\"title\": \"DATA SCIENTIST:A Data Scientist is ...  \n",
       "2  {\"title\": \"GENAI & NLP:Aishwarya Gaba possesse...  \n",
       "3  {\"title\": \"PROGRAMMING & TOOLS:Aishwarya Gaba ...  \n",
       "4  {\"title\": \"DATABASES:Aishwarya Gaba has expert...  "
      ]
     },
     "execution_count": 77,
     "metadata": {},
     "output_type": "execute_result"
    }
   ],
   "source": [
    "df2.head()"
   ]
  },
  {
   "cell_type": "code",
   "execution_count": 78,
   "id": "4c3c38c4",
   "metadata": {},
   "outputs": [
    {
     "data": {
      "text/html": [
       "<div>\n",
       "<style scoped>\n",
       "    .dataframe tbody tr th:only-of-type {\n",
       "        vertical-align: middle;\n",
       "    }\n",
       "\n",
       "    .dataframe tbody tr th {\n",
       "        vertical-align: top;\n",
       "    }\n",
       "\n",
       "    .dataframe thead th {\n",
       "        text-align: right;\n",
       "    }\n",
       "</style>\n",
       "<table border=\"1\" class=\"dataframe\">\n",
       "  <thead>\n",
       "    <tr style=\"text-align: right;\">\n",
       "      <th></th>\n",
       "      <th>id</th>\n",
       "      <th>text</th>\n",
       "      <th>vector</th>\n",
       "      <th>attributes</th>\n",
       "      <th>similarity</th>\n",
       "    </tr>\n",
       "  </thead>\n",
       "  <tbody>\n",
       "    <tr>\n",
       "      <th>0</th>\n",
       "      <td>95476de9-aca8-4cec-9a55-1bd93bc73349</td>\n",
       "      <td>AISHWARYA GABA:Aishwarya Gaba is a data scient...</td>\n",
       "      <td>[-0.019954586, 0.012737123, -0.012310867, 0.01...</td>\n",
       "      <td>{\"title\": \"AISHWARYA GABA:Aishwarya Gaba is a ...</td>\n",
       "      <td>0.278076</td>\n",
       "    </tr>\n",
       "    <tr>\n",
       "      <th>1</th>\n",
       "      <td>f39e853b-4b55-4d7c-93e2-ac2b75005d31</td>\n",
       "      <td>DATA SCIENTIST:A professional role focused on ...</td>\n",
       "      <td>[-0.021667827, -0.001932603, -0.012024297, 0.0...</td>\n",
       "      <td>{\"title\": \"DATA SCIENTIST:A professional role ...</td>\n",
       "      <td>0.158442</td>\n",
       "    </tr>\n",
       "    <tr>\n",
       "      <th>3</th>\n",
       "      <td>ee20d191-f935-40d0-982d-6b8ba917e9e5</td>\n",
       "      <td>PROGRAMMING &amp; TOOLS:Skills in programming lang...</td>\n",
       "      <td>[-0.005891392, -0.0010424703, -0.03228789, 0.0...</td>\n",
       "      <td>{\"title\": \"PROGRAMMING &amp; TOOLS:Skills in progr...</td>\n",
       "      <td>0.153156</td>\n",
       "    </tr>\n",
       "    <tr>\n",
       "      <th>8</th>\n",
       "      <td>49e28d74-3642-4d8a-96bc-00b89373bca5</td>\n",
       "      <td>CLOUDBLOOM SYSTEMS:Cloudbloom Systems is a com...</td>\n",
       "      <td>[-0.04344364, 0.03245533, -0.017533522, -0.021...</td>\n",
       "      <td>{\"title\": \"CLOUDBLOOM SYSTEMS:Cloudbloom Syste...</td>\n",
       "      <td>0.144882</td>\n",
       "    </tr>\n",
       "    <tr>\n",
       "      <th>5</th>\n",
       "      <td>cc7f441e-f5f5-4ed6-8f31-b50d08a14d4c</td>\n",
       "      <td>CLOUD &amp; BIG DATA:Skills in cloud computing and...</td>\n",
       "      <td>[-0.024381697, 0.0033777426, -0.021121955, -0....</td>\n",
       "      <td>{\"title\": \"CLOUD &amp; BIG DATA:Skills in cloud co...</td>\n",
       "      <td>0.130052</td>\n",
       "    </tr>\n",
       "    <tr>\n",
       "      <th>15</th>\n",
       "      <td>bac776df-927b-47dd-8e2e-77ad22861917</td>\n",
       "      <td>DEEPLEARNING.AI:DEEPLEARNING.AI is an educatio...</td>\n",
       "      <td>[-0.04349883, 0.005313132, -0.025312796, 0.019...</td>\n",
       "      <td>{\"title\": \"DEEPLEARNING.AI:DEEPLEARNING.AI is ...</td>\n",
       "      <td>0.128254</td>\n",
       "    </tr>\n",
       "  </tbody>\n",
       "</table>\n",
       "</div>"
      ],
      "text/plain": [
       "                                      id  \\\n",
       "0   95476de9-aca8-4cec-9a55-1bd93bc73349   \n",
       "1   f39e853b-4b55-4d7c-93e2-ac2b75005d31   \n",
       "3   ee20d191-f935-40d0-982d-6b8ba917e9e5   \n",
       "8   49e28d74-3642-4d8a-96bc-00b89373bca5   \n",
       "5   cc7f441e-f5f5-4ed6-8f31-b50d08a14d4c   \n",
       "15  bac776df-927b-47dd-8e2e-77ad22861917   \n",
       "\n",
       "                                                 text  \\\n",
       "0   AISHWARYA GABA:Aishwarya Gaba is a data scient...   \n",
       "1   DATA SCIENTIST:A professional role focused on ...   \n",
       "3   PROGRAMMING & TOOLS:Skills in programming lang...   \n",
       "8   CLOUDBLOOM SYSTEMS:Cloudbloom Systems is a com...   \n",
       "5   CLOUD & BIG DATA:Skills in cloud computing and...   \n",
       "15  DEEPLEARNING.AI:DEEPLEARNING.AI is an educatio...   \n",
       "\n",
       "                                               vector  \\\n",
       "0   [-0.019954586, 0.012737123, -0.012310867, 0.01...   \n",
       "1   [-0.021667827, -0.001932603, -0.012024297, 0.0...   \n",
       "3   [-0.005891392, -0.0010424703, -0.03228789, 0.0...   \n",
       "8   [-0.04344364, 0.03245533, -0.017533522, -0.021...   \n",
       "5   [-0.024381697, 0.0033777426, -0.021121955, -0....   \n",
       "15  [-0.04349883, 0.005313132, -0.025312796, 0.019...   \n",
       "\n",
       "                                           attributes  similarity  \n",
       "0   {\"title\": \"AISHWARYA GABA:Aishwarya Gaba is a ...    0.278076  \n",
       "1   {\"title\": \"DATA SCIENTIST:A professional role ...    0.158442  \n",
       "3   {\"title\": \"PROGRAMMING & TOOLS:Skills in progr...    0.153156  \n",
       "8   {\"title\": \"CLOUDBLOOM SYSTEMS:Cloudbloom Syste...    0.144882  \n",
       "5   {\"title\": \"CLOUD & BIG DATA:Skills in cloud co...    0.130052  \n",
       "15  {\"title\": \"DEEPLEARNING.AI:DEEPLEARNING.AI is ...    0.128254  "
      ]
     },
     "execution_count": 78,
     "metadata": {},
     "output_type": "execute_result"
    }
   ],
   "source": [
    "df2_sorted.head(6)"
   ]
  },
  {
   "cell_type": "code",
   "execution_count": 79,
   "id": "1e6d2d42",
   "metadata": {},
   "outputs": [
    {
     "data": {
      "text/html": [
       "<div>\n",
       "<style scoped>\n",
       "    .dataframe tbody tr th:only-of-type {\n",
       "        vertical-align: middle;\n",
       "    }\n",
       "\n",
       "    .dataframe tbody tr th {\n",
       "        vertical-align: top;\n",
       "    }\n",
       "\n",
       "    .dataframe thead th {\n",
       "        text-align: right;\n",
       "    }\n",
       "</style>\n",
       "<table border=\"1\" class=\"dataframe\">\n",
       "  <thead>\n",
       "    <tr style=\"text-align: right;\">\n",
       "      <th></th>\n",
       "      <th>id</th>\n",
       "      <th>entity</th>\n",
       "      <th>description</th>\n",
       "      <th>number of relationships</th>\n",
       "      <th>in_context</th>\n",
       "    </tr>\n",
       "  </thead>\n",
       "  <tbody>\n",
       "    <tr>\n",
       "      <th>0</th>\n",
       "      <td>0</td>\n",
       "      <td>AISHWARYA GABA</td>\n",
       "      <td>Aishwarya Gaba is an individual with a backgro...</td>\n",
       "      <td>36</td>\n",
       "      <td>True</td>\n",
       "    </tr>\n",
       "    <tr>\n",
       "      <th>1</th>\n",
       "      <td>28</td>\n",
       "      <td>PCA</td>\n",
       "      <td>Principal Component Analysis, a technique for ...</td>\n",
       "      <td>1</td>\n",
       "      <td>True</td>\n",
       "    </tr>\n",
       "    <tr>\n",
       "      <th>2</th>\n",
       "      <td>3</td>\n",
       "      <td>PROGRAMMING &amp; TOOLS</td>\n",
       "      <td>Aishwarya Gaba is skilled in programming and t...</td>\n",
       "      <td>1</td>\n",
       "      <td>True</td>\n",
       "    </tr>\n",
       "    <tr>\n",
       "      <th>3</th>\n",
       "      <td>7</td>\n",
       "      <td>ANALYTICS</td>\n",
       "      <td>Aishwarya Gaba has skills in analytics, includ...</td>\n",
       "      <td>1</td>\n",
       "      <td>True</td>\n",
       "    </tr>\n",
       "    <tr>\n",
       "      <th>4</th>\n",
       "      <td>20</td>\n",
       "      <td>MS EXCEL</td>\n",
       "      <td>A spreadsheet program used for data analysis, ...</td>\n",
       "      <td>1</td>\n",
       "      <td>True</td>\n",
       "    </tr>\n",
       "    <tr>\n",
       "      <th>5</th>\n",
       "      <td>15</td>\n",
       "      <td>R</td>\n",
       "      <td>A programming language used for statistical co...</td>\n",
       "      <td>1</td>\n",
       "      <td>True</td>\n",
       "    </tr>\n",
       "  </tbody>\n",
       "</table>\n",
       "</div>"
      ],
      "text/plain": [
       "   id               entity                                        description  \\\n",
       "0   0       AISHWARYA GABA  Aishwarya Gaba is an individual with a backgro...   \n",
       "1  28                  PCA  Principal Component Analysis, a technique for ...   \n",
       "2   3  PROGRAMMING & TOOLS  Aishwarya Gaba is skilled in programming and t...   \n",
       "3   7            ANALYTICS  Aishwarya Gaba has skills in analytics, includ...   \n",
       "4  20             MS EXCEL  A spreadsheet program used for data analysis, ...   \n",
       "5  15                    R  A programming language used for statistical co...   \n",
       "\n",
       "  number of relationships  in_context  \n",
       "0                      36        True  \n",
       "1                       1        True  \n",
       "2                       1        True  \n",
       "3                       1        True  \n",
       "4                       1        True  \n",
       "5                       1        True  "
      ]
     },
     "execution_count": 79,
     "metadata": {},
     "output_type": "execute_result"
    }
   ],
   "source": [
    "result.context_data['entities']"
   ]
  },
  {
   "cell_type": "code",
   "execution_count": 80,
   "id": "945f879c",
   "metadata": {},
   "outputs": [
    {
     "data": {
      "text/html": [
       "<div>\n",
       "<style scoped>\n",
       "    .dataframe tbody tr th:only-of-type {\n",
       "        vertical-align: middle;\n",
       "    }\n",
       "\n",
       "    .dataframe tbody tr th {\n",
       "        vertical-align: top;\n",
       "    }\n",
       "\n",
       "    .dataframe thead th {\n",
       "        text-align: right;\n",
       "    }\n",
       "</style>\n",
       "<table border=\"1\" class=\"dataframe\">\n",
       "  <thead>\n",
       "    <tr style=\"text-align: right;\">\n",
       "      <th></th>\n",
       "      <th>id</th>\n",
       "      <th>source</th>\n",
       "      <th>target</th>\n",
       "      <th>description</th>\n",
       "      <th>weight</th>\n",
       "      <th>links</th>\n",
       "      <th>in_context</th>\n",
       "    </tr>\n",
       "  </thead>\n",
       "  <tbody>\n",
       "    <tr>\n",
       "      <th>0</th>\n",
       "      <td>2</td>\n",
       "      <td>AISHWARYA GABA</td>\n",
       "      <td>PROGRAMMING &amp; TOOLS</td>\n",
       "      <td>Aishwarya Gaba is skilled in various programmi...</td>\n",
       "      <td>8.0</td>\n",
       "      <td>1</td>\n",
       "      <td>True</td>\n",
       "    </tr>\n",
       "    <tr>\n",
       "      <th>1</th>\n",
       "      <td>6</td>\n",
       "      <td>AISHWARYA GABA</td>\n",
       "      <td>ANALYTICS</td>\n",
       "      <td>Aishwarya Gaba has skills in analytics</td>\n",
       "      <td>1.0</td>\n",
       "      <td>1</td>\n",
       "      <td>True</td>\n",
       "    </tr>\n",
       "    <tr>\n",
       "      <th>2</th>\n",
       "      <td>15</td>\n",
       "      <td>AISHWARYA GABA</td>\n",
       "      <td>R</td>\n",
       "      <td>Aishwarya Gaba is proficient in R</td>\n",
       "      <td>8.0</td>\n",
       "      <td>1</td>\n",
       "      <td>True</td>\n",
       "    </tr>\n",
       "    <tr>\n",
       "      <th>3</th>\n",
       "      <td>20</td>\n",
       "      <td>AISHWARYA GABA</td>\n",
       "      <td>MS EXCEL</td>\n",
       "      <td>Aishwarya Gaba is skilled in using MS Excel</td>\n",
       "      <td>8.0</td>\n",
       "      <td>1</td>\n",
       "      <td>True</td>\n",
       "    </tr>\n",
       "    <tr>\n",
       "      <th>4</th>\n",
       "      <td>28</td>\n",
       "      <td>AISHWARYA GABA</td>\n",
       "      <td>PCA</td>\n",
       "      <td>Aishwarya Gaba is skilled in PCA</td>\n",
       "      <td>8.0</td>\n",
       "      <td>1</td>\n",
       "      <td>True</td>\n",
       "    </tr>\n",
       "    <tr>\n",
       "      <th>5</th>\n",
       "      <td>0</td>\n",
       "      <td>AISHWARYA GABA</td>\n",
       "      <td>DATA SCIENTIST</td>\n",
       "      <td>Aishwarya Gaba is employed as a Data Scientist...</td>\n",
       "      <td>9.0</td>\n",
       "      <td>1</td>\n",
       "      <td>True</td>\n",
       "    </tr>\n",
       "    <tr>\n",
       "      <th>6</th>\n",
       "      <td>14</td>\n",
       "      <td>AISHWARYA GABA</td>\n",
       "      <td>PYTHON</td>\n",
       "      <td>Aishwarya Gaba is proficient in Python</td>\n",
       "      <td>8.0</td>\n",
       "      <td>1</td>\n",
       "      <td>True</td>\n",
       "    </tr>\n",
       "    <tr>\n",
       "      <th>7</th>\n",
       "      <td>18</td>\n",
       "      <td>AISHWARYA GABA</td>\n",
       "      <td>POWER BI</td>\n",
       "      <td>Aishwarya Gaba is skilled in using Power BI</td>\n",
       "      <td>8.0</td>\n",
       "      <td>1</td>\n",
       "      <td>True</td>\n",
       "    </tr>\n",
       "    <tr>\n",
       "      <th>8</th>\n",
       "      <td>5</td>\n",
       "      <td>AISHWARYA GABA</td>\n",
       "      <td>MACHINE LEARNING</td>\n",
       "      <td>Aishwarya Gaba is skilled in machine learning ...</td>\n",
       "      <td>8.0</td>\n",
       "      <td>1</td>\n",
       "      <td>True</td>\n",
       "    </tr>\n",
       "    <tr>\n",
       "      <th>9</th>\n",
       "      <td>33</td>\n",
       "      <td>AISHWARYA GABA</td>\n",
       "      <td>FEATURE ENGINEERING</td>\n",
       "      <td>Aishwarya Gaba is skilled in Feature Engineering</td>\n",
       "      <td>8.0</td>\n",
       "      <td>1</td>\n",
       "      <td>True</td>\n",
       "    </tr>\n",
       "    <tr>\n",
       "      <th>10</th>\n",
       "      <td>10</td>\n",
       "      <td>AISHWARYA GABA</td>\n",
       "      <td>LANGCHAIN</td>\n",
       "      <td>Aishwarya Gaba is skilled in using LangChain</td>\n",
       "      <td>8.0</td>\n",
       "      <td>1</td>\n",
       "      <td>True</td>\n",
       "    </tr>\n",
       "    <tr>\n",
       "      <th>11</th>\n",
       "      <td>16</td>\n",
       "      <td>AISHWARYA GABA</td>\n",
       "      <td>PANDAS</td>\n",
       "      <td>Aishwarya Gaba is skilled in using Pandas</td>\n",
       "      <td>8.0</td>\n",
       "      <td>1</td>\n",
       "      <td>True</td>\n",
       "    </tr>\n",
       "    <tr>\n",
       "      <th>12</th>\n",
       "      <td>17</td>\n",
       "      <td>AISHWARYA GABA</td>\n",
       "      <td>NUMPY</td>\n",
       "      <td>Aishwarya Gaba is skilled in using NumPy</td>\n",
       "      <td>8.0</td>\n",
       "      <td>1</td>\n",
       "      <td>True</td>\n",
       "    </tr>\n",
       "    <tr>\n",
       "      <th>13</th>\n",
       "      <td>30</td>\n",
       "      <td>AISHWARYA GABA</td>\n",
       "      <td>KNN</td>\n",
       "      <td>Aishwarya Gaba is skilled in KNN</td>\n",
       "      <td>8.0</td>\n",
       "      <td>1</td>\n",
       "      <td>True</td>\n",
       "    </tr>\n",
       "    <tr>\n",
       "      <th>14</th>\n",
       "      <td>31</td>\n",
       "      <td>AISHWARYA GABA</td>\n",
       "      <td>RANDOM FOREST</td>\n",
       "      <td>Aishwarya Gaba is skilled in Random Forest</td>\n",
       "      <td>8.0</td>\n",
       "      <td>1</td>\n",
       "      <td>True</td>\n",
       "    </tr>\n",
       "    <tr>\n",
       "      <th>15</th>\n",
       "      <td>32</td>\n",
       "      <td>AISHWARYA GABA</td>\n",
       "      <td>DATA CLEANING</td>\n",
       "      <td>Aishwarya Gaba is skilled in Data Cleaning</td>\n",
       "      <td>8.0</td>\n",
       "      <td>1</td>\n",
       "      <td>True</td>\n",
       "    </tr>\n",
       "    <tr>\n",
       "      <th>16</th>\n",
       "      <td>34</td>\n",
       "      <td>AISHWARYA GABA</td>\n",
       "      <td>DATA MODELING</td>\n",
       "      <td>Aishwarya Gaba is skilled in Data Modeling</td>\n",
       "      <td>8.0</td>\n",
       "      <td>1</td>\n",
       "      <td>True</td>\n",
       "    </tr>\n",
       "    <tr>\n",
       "      <th>17</th>\n",
       "      <td>35</td>\n",
       "      <td>AISHWARYA GABA</td>\n",
       "      <td>TIME SERIES FORECASTING</td>\n",
       "      <td>Aishwarya Gaba is skilled in Time Series Forec...</td>\n",
       "      <td>1.0</td>\n",
       "      <td>1</td>\n",
       "      <td>True</td>\n",
       "    </tr>\n",
       "    <tr>\n",
       "      <th>18</th>\n",
       "      <td>1</td>\n",
       "      <td>AISHWARYA GABA</td>\n",
       "      <td>GENAI &amp; NLP</td>\n",
       "      <td>Aishwarya Gaba has expertise in GenAI &amp; NLP</td>\n",
       "      <td>8.0</td>\n",
       "      <td>1</td>\n",
       "      <td>True</td>\n",
       "    </tr>\n",
       "    <tr>\n",
       "      <th>19</th>\n",
       "      <td>3</td>\n",
       "      <td>AISHWARYA GABA</td>\n",
       "      <td>DATABASES</td>\n",
       "      <td>Aishwarya Gaba has expertise in working with d...</td>\n",
       "      <td>8.0</td>\n",
       "      <td>1</td>\n",
       "      <td>True</td>\n",
       "    </tr>\n",
       "    <tr>\n",
       "      <th>20</th>\n",
       "      <td>4</td>\n",
       "      <td>AISHWARYA GABA</td>\n",
       "      <td>CLOUD &amp; BIG DATA</td>\n",
       "      <td>Aishwarya Gaba is knowledgeable in cloud and b...</td>\n",
       "      <td>8.0</td>\n",
       "      <td>1</td>\n",
       "      <td>True</td>\n",
       "    </tr>\n",
       "    <tr>\n",
       "      <th>21</th>\n",
       "      <td>7</td>\n",
       "      <td>AISHWARYA GABA</td>\n",
       "      <td>RETRIEVAL-AUGMENTED GENERATION</td>\n",
       "      <td>Aishwarya Gaba is skilled in Retrieval-Augment...</td>\n",
       "      <td>8.0</td>\n",
       "      <td>1</td>\n",
       "      <td>True</td>\n",
       "    </tr>\n",
       "    <tr>\n",
       "      <th>22</th>\n",
       "      <td>8</td>\n",
       "      <td>AISHWARYA GABA</td>\n",
       "      <td>PROMPT ENGINEERING</td>\n",
       "      <td>Aishwarya Gaba is skilled in Prompt Engineering</td>\n",
       "      <td>8.0</td>\n",
       "      <td>1</td>\n",
       "      <td>True</td>\n",
       "    </tr>\n",
       "    <tr>\n",
       "      <th>23</th>\n",
       "      <td>9</td>\n",
       "      <td>AISHWARYA GABA</td>\n",
       "      <td>TRANSFORMERS</td>\n",
       "      <td>Aishwarya Gaba is skilled in using Transformers</td>\n",
       "      <td>8.0</td>\n",
       "      <td>1</td>\n",
       "      <td>True</td>\n",
       "    </tr>\n",
       "    <tr>\n",
       "      <th>24</th>\n",
       "      <td>11</td>\n",
       "      <td>AISHWARYA GABA</td>\n",
       "      <td>LLM-BASED SUMMARIZATION</td>\n",
       "      <td>Aishwarya Gaba is skilled in LLM-based Summari...</td>\n",
       "      <td>8.0</td>\n",
       "      <td>1</td>\n",
       "      <td>True</td>\n",
       "    </tr>\n",
       "    <tr>\n",
       "      <th>25</th>\n",
       "      <td>12</td>\n",
       "      <td>AISHWARYA GABA</td>\n",
       "      <td>TEXT GENERATION</td>\n",
       "      <td>Aishwarya Gaba is skilled in Text Generation</td>\n",
       "      <td>8.0</td>\n",
       "      <td>1</td>\n",
       "      <td>True</td>\n",
       "    </tr>\n",
       "    <tr>\n",
       "      <th>26</th>\n",
       "      <td>13</td>\n",
       "      <td>AISHWARYA GABA</td>\n",
       "      <td>VECTOR DATABASES</td>\n",
       "      <td>Aishwarya Gaba is skilled in using Vector Data...</td>\n",
       "      <td>8.0</td>\n",
       "      <td>1</td>\n",
       "      <td>True</td>\n",
       "    </tr>\n",
       "    <tr>\n",
       "      <th>27</th>\n",
       "      <td>19</td>\n",
       "      <td>AISHWARYA GABA</td>\n",
       "      <td>TABLEAU</td>\n",
       "      <td>Aishwarya Gaba is skilled in using Tableau</td>\n",
       "      <td>8.0</td>\n",
       "      <td>1</td>\n",
       "      <td>True</td>\n",
       "    </tr>\n",
       "    <tr>\n",
       "      <th>28</th>\n",
       "      <td>21</td>\n",
       "      <td>AISHWARYA GABA</td>\n",
       "      <td>SQL</td>\n",
       "      <td>Aishwarya Gaba is skilled in using SQL</td>\n",
       "      <td>8.0</td>\n",
       "      <td>1</td>\n",
       "      <td>True</td>\n",
       "    </tr>\n",
       "    <tr>\n",
       "      <th>29</th>\n",
       "      <td>22</td>\n",
       "      <td>AISHWARYA GABA</td>\n",
       "      <td>NOSQL</td>\n",
       "      <td>Aishwarya Gaba is skilled in using NoSQL</td>\n",
       "      <td>8.0</td>\n",
       "      <td>1</td>\n",
       "      <td>True</td>\n",
       "    </tr>\n",
       "    <tr>\n",
       "      <th>30</th>\n",
       "      <td>23</td>\n",
       "      <td>AISHWARYA GABA</td>\n",
       "      <td>MICROSOFT AZURE</td>\n",
       "      <td>Aishwarya Gaba is skilled in using Microsoft A...</td>\n",
       "      <td>8.0</td>\n",
       "      <td>1</td>\n",
       "      <td>True</td>\n",
       "    </tr>\n",
       "    <tr>\n",
       "      <th>31</th>\n",
       "      <td>24</td>\n",
       "      <td>AISHWARYA GABA</td>\n",
       "      <td>HADOOP</td>\n",
       "      <td>Aishwarya Gaba is skilled in using Hadoop</td>\n",
       "      <td>8.0</td>\n",
       "      <td>1</td>\n",
       "      <td>True</td>\n",
       "    </tr>\n",
       "    <tr>\n",
       "      <th>32</th>\n",
       "      <td>25</td>\n",
       "      <td>AISHWARYA GABA</td>\n",
       "      <td>REGRESSION</td>\n",
       "      <td>Aishwarya Gaba is skilled in Regression</td>\n",
       "      <td>8.0</td>\n",
       "      <td>1</td>\n",
       "      <td>True</td>\n",
       "    </tr>\n",
       "    <tr>\n",
       "      <th>33</th>\n",
       "      <td>26</td>\n",
       "      <td>AISHWARYA GABA</td>\n",
       "      <td>CLASSIFICATION</td>\n",
       "      <td>Aishwarya Gaba is skilled in Classification</td>\n",
       "      <td>8.0</td>\n",
       "      <td>1</td>\n",
       "      <td>True</td>\n",
       "    </tr>\n",
       "    <tr>\n",
       "      <th>34</th>\n",
       "      <td>27</td>\n",
       "      <td>AISHWARYA GABA</td>\n",
       "      <td>CLUSTERING</td>\n",
       "      <td>Aishwarya Gaba is skilled in Clustering</td>\n",
       "      <td>8.0</td>\n",
       "      <td>1</td>\n",
       "      <td>True</td>\n",
       "    </tr>\n",
       "    <tr>\n",
       "      <th>35</th>\n",
       "      <td>29</td>\n",
       "      <td>AISHWARYA GABA</td>\n",
       "      <td>SVM</td>\n",
       "      <td>Aishwarya Gaba is skilled in SVM</td>\n",
       "      <td>8.0</td>\n",
       "      <td>1</td>\n",
       "      <td>True</td>\n",
       "    </tr>\n",
       "  </tbody>\n",
       "</table>\n",
       "</div>"
      ],
      "text/plain": [
       "    id          source                          target  \\\n",
       "0    2  AISHWARYA GABA             PROGRAMMING & TOOLS   \n",
       "1    6  AISHWARYA GABA                       ANALYTICS   \n",
       "2   15  AISHWARYA GABA                               R   \n",
       "3   20  AISHWARYA GABA                        MS EXCEL   \n",
       "4   28  AISHWARYA GABA                             PCA   \n",
       "5    0  AISHWARYA GABA                  DATA SCIENTIST   \n",
       "6   14  AISHWARYA GABA                          PYTHON   \n",
       "7   18  AISHWARYA GABA                        POWER BI   \n",
       "8    5  AISHWARYA GABA                MACHINE LEARNING   \n",
       "9   33  AISHWARYA GABA             FEATURE ENGINEERING   \n",
       "10  10  AISHWARYA GABA                       LANGCHAIN   \n",
       "11  16  AISHWARYA GABA                          PANDAS   \n",
       "12  17  AISHWARYA GABA                           NUMPY   \n",
       "13  30  AISHWARYA GABA                             KNN   \n",
       "14  31  AISHWARYA GABA                   RANDOM FOREST   \n",
       "15  32  AISHWARYA GABA                   DATA CLEANING   \n",
       "16  34  AISHWARYA GABA                   DATA MODELING   \n",
       "17  35  AISHWARYA GABA         TIME SERIES FORECASTING   \n",
       "18   1  AISHWARYA GABA                     GENAI & NLP   \n",
       "19   3  AISHWARYA GABA                       DATABASES   \n",
       "20   4  AISHWARYA GABA                CLOUD & BIG DATA   \n",
       "21   7  AISHWARYA GABA  RETRIEVAL-AUGMENTED GENERATION   \n",
       "22   8  AISHWARYA GABA              PROMPT ENGINEERING   \n",
       "23   9  AISHWARYA GABA                    TRANSFORMERS   \n",
       "24  11  AISHWARYA GABA         LLM-BASED SUMMARIZATION   \n",
       "25  12  AISHWARYA GABA                 TEXT GENERATION   \n",
       "26  13  AISHWARYA GABA                VECTOR DATABASES   \n",
       "27  19  AISHWARYA GABA                         TABLEAU   \n",
       "28  21  AISHWARYA GABA                             SQL   \n",
       "29  22  AISHWARYA GABA                           NOSQL   \n",
       "30  23  AISHWARYA GABA                 MICROSOFT AZURE   \n",
       "31  24  AISHWARYA GABA                          HADOOP   \n",
       "32  25  AISHWARYA GABA                      REGRESSION   \n",
       "33  26  AISHWARYA GABA                  CLASSIFICATION   \n",
       "34  27  AISHWARYA GABA                      CLUSTERING   \n",
       "35  29  AISHWARYA GABA                             SVM   \n",
       "\n",
       "                                          description weight links  in_context  \n",
       "0   Aishwarya Gaba is skilled in various programmi...    8.0     1        True  \n",
       "1              Aishwarya Gaba has skills in analytics    1.0     1        True  \n",
       "2                   Aishwarya Gaba is proficient in R    8.0     1        True  \n",
       "3         Aishwarya Gaba is skilled in using MS Excel    8.0     1        True  \n",
       "4                    Aishwarya Gaba is skilled in PCA    8.0     1        True  \n",
       "5   Aishwarya Gaba is employed as a Data Scientist...    9.0     1        True  \n",
       "6              Aishwarya Gaba is proficient in Python    8.0     1        True  \n",
       "7         Aishwarya Gaba is skilled in using Power BI    8.0     1        True  \n",
       "8   Aishwarya Gaba is skilled in machine learning ...    8.0     1        True  \n",
       "9    Aishwarya Gaba is skilled in Feature Engineering    8.0     1        True  \n",
       "10       Aishwarya Gaba is skilled in using LangChain    8.0     1        True  \n",
       "11          Aishwarya Gaba is skilled in using Pandas    8.0     1        True  \n",
       "12           Aishwarya Gaba is skilled in using NumPy    8.0     1        True  \n",
       "13                   Aishwarya Gaba is skilled in KNN    8.0     1        True  \n",
       "14         Aishwarya Gaba is skilled in Random Forest    8.0     1        True  \n",
       "15         Aishwarya Gaba is skilled in Data Cleaning    8.0     1        True  \n",
       "16         Aishwarya Gaba is skilled in Data Modeling    8.0     1        True  \n",
       "17  Aishwarya Gaba is skilled in Time Series Forec...    1.0     1        True  \n",
       "18        Aishwarya Gaba has expertise in GenAI & NLP    8.0     1        True  \n",
       "19  Aishwarya Gaba has expertise in working with d...    8.0     1        True  \n",
       "20  Aishwarya Gaba is knowledgeable in cloud and b...    8.0     1        True  \n",
       "21  Aishwarya Gaba is skilled in Retrieval-Augment...    8.0     1        True  \n",
       "22    Aishwarya Gaba is skilled in Prompt Engineering    8.0     1        True  \n",
       "23    Aishwarya Gaba is skilled in using Transformers    8.0     1        True  \n",
       "24  Aishwarya Gaba is skilled in LLM-based Summari...    8.0     1        True  \n",
       "25       Aishwarya Gaba is skilled in Text Generation    8.0     1        True  \n",
       "26  Aishwarya Gaba is skilled in using Vector Data...    8.0     1        True  \n",
       "27         Aishwarya Gaba is skilled in using Tableau    8.0     1        True  \n",
       "28             Aishwarya Gaba is skilled in using SQL    8.0     1        True  \n",
       "29           Aishwarya Gaba is skilled in using NoSQL    8.0     1        True  \n",
       "30  Aishwarya Gaba is skilled in using Microsoft A...    8.0     1        True  \n",
       "31          Aishwarya Gaba is skilled in using Hadoop    8.0     1        True  \n",
       "32            Aishwarya Gaba is skilled in Regression    8.0     1        True  \n",
       "33        Aishwarya Gaba is skilled in Classification    8.0     1        True  \n",
       "34            Aishwarya Gaba is skilled in Clustering    8.0     1        True  \n",
       "35                   Aishwarya Gaba is skilled in SVM    8.0     1        True  "
      ]
     },
     "execution_count": 80,
     "metadata": {},
     "output_type": "execute_result"
    }
   ],
   "source": [
    "result.context_data['relationships']"
   ]
  },
  {
   "cell_type": "code",
   "execution_count": null,
   "id": "764c4066",
   "metadata": {},
   "outputs": [],
   "source": []
  },
  {
   "cell_type": "code",
   "execution_count": 81,
   "id": "7ce07c8c",
   "metadata": {},
   "outputs": [
    {
     "data": {
      "text/html": [
       "<div>\n",
       "<style scoped>\n",
       "    .dataframe tbody tr th:only-of-type {\n",
       "        vertical-align: middle;\n",
       "    }\n",
       "\n",
       "    .dataframe tbody tr th {\n",
       "        vertical-align: top;\n",
       "    }\n",
       "\n",
       "    .dataframe thead th {\n",
       "        text-align: right;\n",
       "    }\n",
       "</style>\n",
       "<table border=\"1\" class=\"dataframe\">\n",
       "  <thead>\n",
       "    <tr style=\"text-align: right;\">\n",
       "      <th></th>\n",
       "      <th>id</th>\n",
       "      <th>title</th>\n",
       "      <th>content</th>\n",
       "    </tr>\n",
       "  </thead>\n",
       "  <tbody>\n",
       "    <tr>\n",
       "      <th>0</th>\n",
       "      <td>0</td>\n",
       "      <td>Aishwarya Gaba and Her Technical Proficiencies</td>\n",
       "      <td># Aishwarya Gaba and Her Technical Proficienci...</td>\n",
       "    </tr>\n",
       "  </tbody>\n",
       "</table>\n",
       "</div>"
      ],
      "text/plain": [
       "  id                                           title  \\\n",
       "0  0  Aishwarya Gaba and Her Technical Proficiencies   \n",
       "\n",
       "                                             content  \n",
       "0  # Aishwarya Gaba and Her Technical Proficienci...  "
      ]
     },
     "execution_count": 81,
     "metadata": {},
     "output_type": "execute_result"
    }
   ],
   "source": [
    "result.context_data['reports']"
   ]
  },
  {
   "cell_type": "code",
   "execution_count": 82,
   "id": "ada52b0a",
   "metadata": {},
   "outputs": [
    {
     "name": "stdout",
     "output_type": "stream",
     "text": [
      "('# Aishwarya Gaba and Her Technical Proficiencies\\n'\n",
      " '\\n'\n",
      " 'The community centers around Aishwarya Gaba, a data scientist with extensive '\n",
      " 'skills in data science, programming, and analytics. Her expertise spans '\n",
      " 'across various domains including GenAI & NLP, cloud computing, and big data '\n",
      " \"technologies. Aishwarya's proficiency in tools like NumPy, SQL, and \"\n",
      " 'Microsoft Azure highlights her capability in handling complex data-driven '\n",
      " 'tasks, making her a significant entity in the field of data science.\\n'\n",
      " '\\n'\n",
      " \"## Aishwarya Gaba's Role as a Data Scientist\\n\"\n",
      " '\\n'\n",
      " 'Aishwarya Gaba is employed as a Data Scientist at LG Electronics, which '\n",
      " 'positions her at the forefront of data-driven decision-making processes '\n",
      " 'within the company. Her role likely involves leveraging her extensive skill '\n",
      " 'set to analyze and interpret complex data, contributing to strategic '\n",
      " 'business insights and innovations. This employment underscores her practical '\n",
      " 'application of data science skills in a corporate environment, enhancing her '\n",
      " 'impact in the field [Data: Relationships (0)].\\n'\n",
      " '\\n'\n",
      " '## Proficiency in GenAI & NLP\\n'\n",
      " '\\n'\n",
      " 'Aishwarya Gaba possesses significant expertise in GenAI & NLP, including '\n",
      " 'skills in Retrieval-Augmented Generation, Prompt Engineering, and '\n",
      " 'Transformers. These skills are crucial for developing advanced AI models '\n",
      " 'that can understand and generate human language, making her a valuable asset '\n",
      " 'in projects involving natural language processing and AI-driven text '\n",
      " 'analysis. Her proficiency in these areas indicates her ability to contribute '\n",
      " 'to cutting-edge AI research and applications [Data: Entities (2); '\n",
      " 'Relationships (1, 7, 8, 9)].\\n'\n",
      " '\\n'\n",
      " '## Expertise in Programming and Analytical Tools\\n'\n",
      " '\\n'\n",
      " 'Aishwarya is skilled in a variety of programming languages and tools, '\n",
      " 'including Python, R, Pandas, and Tableau. These tools are essential for data '\n",
      " 'manipulation, statistical analysis, and data visualization, enabling her to '\n",
      " 'handle large datasets efficiently and derive meaningful insights. Her '\n",
      " 'ability to use these tools effectively highlights her technical versatility '\n",
      " 'and capability in executing complex data analysis tasks [Data: Entities (3, '\n",
      " '15, 19); Relationships (2, 15, 19)].\\n'\n",
      " '\\n'\n",
      " '## Advanced Skills in Cloud and Big Data Technologies\\n'\n",
      " '\\n'\n",
      " \"Aishwarya's knowledge in cloud computing and big data technologies, such as \"\n",
      " 'Microsoft Azure and Hadoop, equips her to manage and analyze vast amounts of '\n",
      " 'data in distributed computing environments. These skills are particularly '\n",
      " \"valuable in today's data-driven world, where the ability to process and \"\n",
      " 'analyze big data is crucial for gaining competitive advantages. Her '\n",
      " 'expertise in these technologies suggests her potential to lead and innovate '\n",
      " 'in large-scale data projects [Data: Entities (5, 23, 24); Relationships (4, '\n",
      " '23, 24)].\\n'\n",
      " '\\n'\n",
      " '## Comprehensive Database Management Skills\\n'\n",
      " '\\n'\n",
      " 'Aishwarya Gaba has expertise in both SQL and NoSQL databases, which are '\n",
      " 'fundamental for storing, retrieving, and managing data efficiently. Her '\n",
      " 'skills in MySQL, PostgreSQL, and NoSQL databases like MongoDB enable her to '\n",
      " 'work with diverse data storage solutions, ensuring data integrity and '\n",
      " 'accessibility. This proficiency is critical for any data-driven '\n",
      " 'organization, as it supports robust data management and analysis '\n",
      " 'capabilities [Data: Entities (4, 21, 22); Relationships (3, 21, 22)].\\n'\n",
      " '\\n'\n",
      " '## Strong Foundation in Machine Learning Techniques\\n'\n",
      " '\\n'\n",
      " 'Aishwarya is skilled in various machine learning techniques, including '\n",
      " 'Regression, Classification, Clustering, PCA, and SVM. These techniques are '\n",
      " 'essential for building predictive models and uncovering patterns in data, '\n",
      " 'which are key components of data science. Her ability to apply these methods '\n",
      " 'effectively demonstrates her competence in developing sophisticated '\n",
      " 'analytical models that can drive data-driven decision-making [Data: Entities '\n",
      " '(25, 26, 27, 28, 29); Relationships (25, 26, 27, 28, 29)].')\n"
     ]
    }
   ],
   "source": [
    "pprint(result.context_data['reports'].at[0,'content'])"
   ]
  },
  {
   "cell_type": "code",
   "execution_count": 88,
   "id": "c7eba8b8",
   "metadata": {},
   "outputs": [
    {
     "data": {
      "text/html": [
       "<div>\n",
       "<style scoped>\n",
       "    .dataframe tbody tr th:only-of-type {\n",
       "        vertical-align: middle;\n",
       "    }\n",
       "\n",
       "    .dataframe tbody tr th {\n",
       "        vertical-align: top;\n",
       "    }\n",
       "\n",
       "    .dataframe thead th {\n",
       "        text-align: right;\n",
       "    }\n",
       "</style>\n",
       "<table border=\"1\" class=\"dataframe\">\n",
       "  <thead>\n",
       "    <tr style=\"text-align: right;\">\n",
       "      <th></th>\n",
       "      <th>id</th>\n",
       "      <th>text</th>\n",
       "    </tr>\n",
       "  </thead>\n",
       "  <tbody>\n",
       "    <tr>\n",
       "      <th>0</th>\n",
       "      <td>0</td>\n",
       "      <td>﻿AISHWARYA GABA \\n\\n aishgaba24@gmail.com | +9...</td>\n",
       "    </tr>\n",
       "  </tbody>\n",
       "</table>\n",
       "</div>"
      ],
      "text/plain": [
       "  id                                               text\n",
       "0  0  ﻿AISHWARYA GABA \\n\\n aishgaba24@gmail.com | +9..."
      ]
     },
     "execution_count": 88,
     "metadata": {},
     "output_type": "execute_result"
    }
   ],
   "source": [
    "result.context_data['sources']"
   ]
  },
  {
   "cell_type": "code",
   "execution_count": 92,
   "id": "cd8f0bb1",
   "metadata": {},
   "outputs": [
    {
     "name": "stdout",
     "output_type": "stream",
     "text": [
      "AISHWARYA GABA \n",
      "\n",
      " aishgaba24@gmail.com | +91 8447490080 |   LinkedIn \n",
      "\n",
      "Education  \n",
      "Bachelor of Science in Data Science and Applications (CGPA: 8.63) Jan’23-Present \n",
      "IIT Madras \n",
      "\n",
      "Bachelor of Science in Statistics (CGPA: 8.37) Nov’20-May’23 \n",
      "University of Delhi \n",
      " \n",
      "Skills \n",
      "\n",
      "• GenAI & NLP: Retrieval-Augmented Generation (RAG), Prompt Engineering, Transformers (Hugging Face), \n",
      "LangChain, LLM-based Summarization, Text Generation, Vector Databases (FAISS, ChromaDB) \n",
      "• Programming & Tools: Python, R, Pandas, NumPy, Power BI, Tableau, MS Excel \n",
      "• Databases: SQL (MySQL, PostgreSQL), NoSQL \n",
      "• Cloud & Big Data: Microsoft Azure, Hadoop \n",
      "• Machine Learning: Regression, Classification, Clustering, PCA, SVM, KNN, Random Forest \n",
      "• Analytics: Data Cleaning, Feature Engineering, Data Modeling, Time Series Forecasting \n",
      "\n",
      " \n",
      "Work Experience \n",
      "\n",
      "Data Scientist – LG Electronics | Noida | Nov 2024 – Present \n",
      "Project: Competitor SKU Analysis\n"
     ]
    }
   ],
   "source": [
    "print(result.context_data['sources'].at[0,'text'])"
   ]
  },
  {
   "cell_type": "code",
   "execution_count": 83,
   "id": "2a8d9054",
   "metadata": {},
   "outputs": [
    {
     "data": {
      "text/plain": [
       "{'reports':   id                                           title  \\\n",
       " 0  0  Aishwarya Gaba and Her Technical Proficiencies   \n",
       " \n",
       "                                              content  \n",
       " 0  # Aishwarya Gaba and Her Technical Proficienci...  ,\n",
       " 'relationships':     id          source                          target  \\\n",
       " 0    2  AISHWARYA GABA             PROGRAMMING & TOOLS   \n",
       " 1    6  AISHWARYA GABA                       ANALYTICS   \n",
       " 2   15  AISHWARYA GABA                               R   \n",
       " 3   20  AISHWARYA GABA                        MS EXCEL   \n",
       " 4   28  AISHWARYA GABA                             PCA   \n",
       " 5    0  AISHWARYA GABA                  DATA SCIENTIST   \n",
       " 6   14  AISHWARYA GABA                          PYTHON   \n",
       " 7   18  AISHWARYA GABA                        POWER BI   \n",
       " 8    5  AISHWARYA GABA                MACHINE LEARNING   \n",
       " 9   33  AISHWARYA GABA             FEATURE ENGINEERING   \n",
       " 10  10  AISHWARYA GABA                       LANGCHAIN   \n",
       " 11  16  AISHWARYA GABA                          PANDAS   \n",
       " 12  17  AISHWARYA GABA                           NUMPY   \n",
       " 13  30  AISHWARYA GABA                             KNN   \n",
       " 14  31  AISHWARYA GABA                   RANDOM FOREST   \n",
       " 15  32  AISHWARYA GABA                   DATA CLEANING   \n",
       " 16  34  AISHWARYA GABA                   DATA MODELING   \n",
       " 17  35  AISHWARYA GABA         TIME SERIES FORECASTING   \n",
       " 18   1  AISHWARYA GABA                     GENAI & NLP   \n",
       " 19   3  AISHWARYA GABA                       DATABASES   \n",
       " 20   4  AISHWARYA GABA                CLOUD & BIG DATA   \n",
       " 21   7  AISHWARYA GABA  RETRIEVAL-AUGMENTED GENERATION   \n",
       " 22   8  AISHWARYA GABA              PROMPT ENGINEERING   \n",
       " 23   9  AISHWARYA GABA                    TRANSFORMERS   \n",
       " 24  11  AISHWARYA GABA         LLM-BASED SUMMARIZATION   \n",
       " 25  12  AISHWARYA GABA                 TEXT GENERATION   \n",
       " 26  13  AISHWARYA GABA                VECTOR DATABASES   \n",
       " 27  19  AISHWARYA GABA                         TABLEAU   \n",
       " 28  21  AISHWARYA GABA                             SQL   \n",
       " 29  22  AISHWARYA GABA                           NOSQL   \n",
       " 30  23  AISHWARYA GABA                 MICROSOFT AZURE   \n",
       " 31  24  AISHWARYA GABA                          HADOOP   \n",
       " 32  25  AISHWARYA GABA                      REGRESSION   \n",
       " 33  26  AISHWARYA GABA                  CLASSIFICATION   \n",
       " 34  27  AISHWARYA GABA                      CLUSTERING   \n",
       " 35  29  AISHWARYA GABA                             SVM   \n",
       " \n",
       "                                           description weight links  in_context  \n",
       " 0   Aishwarya Gaba is skilled in various programmi...    8.0     1        True  \n",
       " 1              Aishwarya Gaba has skills in analytics    1.0     1        True  \n",
       " 2                   Aishwarya Gaba is proficient in R    8.0     1        True  \n",
       " 3         Aishwarya Gaba is skilled in using MS Excel    8.0     1        True  \n",
       " 4                    Aishwarya Gaba is skilled in PCA    8.0     1        True  \n",
       " 5   Aishwarya Gaba is employed as a Data Scientist...    9.0     1        True  \n",
       " 6              Aishwarya Gaba is proficient in Python    8.0     1        True  \n",
       " 7         Aishwarya Gaba is skilled in using Power BI    8.0     1        True  \n",
       " 8   Aishwarya Gaba is skilled in machine learning ...    8.0     1        True  \n",
       " 9    Aishwarya Gaba is skilled in Feature Engineering    8.0     1        True  \n",
       " 10       Aishwarya Gaba is skilled in using LangChain    8.0     1        True  \n",
       " 11          Aishwarya Gaba is skilled in using Pandas    8.0     1        True  \n",
       " 12           Aishwarya Gaba is skilled in using NumPy    8.0     1        True  \n",
       " 13                   Aishwarya Gaba is skilled in KNN    8.0     1        True  \n",
       " 14         Aishwarya Gaba is skilled in Random Forest    8.0     1        True  \n",
       " 15         Aishwarya Gaba is skilled in Data Cleaning    8.0     1        True  \n",
       " 16         Aishwarya Gaba is skilled in Data Modeling    8.0     1        True  \n",
       " 17  Aishwarya Gaba is skilled in Time Series Forec...    1.0     1        True  \n",
       " 18        Aishwarya Gaba has expertise in GenAI & NLP    8.0     1        True  \n",
       " 19  Aishwarya Gaba has expertise in working with d...    8.0     1        True  \n",
       " 20  Aishwarya Gaba is knowledgeable in cloud and b...    8.0     1        True  \n",
       " 21  Aishwarya Gaba is skilled in Retrieval-Augment...    8.0     1        True  \n",
       " 22    Aishwarya Gaba is skilled in Prompt Engineering    8.0     1        True  \n",
       " 23    Aishwarya Gaba is skilled in using Transformers    8.0     1        True  \n",
       " 24  Aishwarya Gaba is skilled in LLM-based Summari...    8.0     1        True  \n",
       " 25       Aishwarya Gaba is skilled in Text Generation    8.0     1        True  \n",
       " 26  Aishwarya Gaba is skilled in using Vector Data...    8.0     1        True  \n",
       " 27         Aishwarya Gaba is skilled in using Tableau    8.0     1        True  \n",
       " 28             Aishwarya Gaba is skilled in using SQL    8.0     1        True  \n",
       " 29           Aishwarya Gaba is skilled in using NoSQL    8.0     1        True  \n",
       " 30  Aishwarya Gaba is skilled in using Microsoft A...    8.0     1        True  \n",
       " 31          Aishwarya Gaba is skilled in using Hadoop    8.0     1        True  \n",
       " 32            Aishwarya Gaba is skilled in Regression    8.0     1        True  \n",
       " 33        Aishwarya Gaba is skilled in Classification    8.0     1        True  \n",
       " 34            Aishwarya Gaba is skilled in Clustering    8.0     1        True  \n",
       " 35                   Aishwarya Gaba is skilled in SVM    8.0     1        True  ,\n",
       " 'claims': Empty DataFrame\n",
       " Columns: [in_context]\n",
       " Index: [],\n",
       " 'entities':    id               entity                                        description  \\\n",
       " 0   0       AISHWARYA GABA  Aishwarya Gaba is an individual with a backgro...   \n",
       " 1  28                  PCA  Principal Component Analysis, a technique for ...   \n",
       " 2   3  PROGRAMMING & TOOLS  Aishwarya Gaba is skilled in programming and t...   \n",
       " 3   7            ANALYTICS  Aishwarya Gaba has skills in analytics, includ...   \n",
       " 4  20             MS EXCEL  A spreadsheet program used for data analysis, ...   \n",
       " 5  15                    R  A programming language used for statistical co...   \n",
       " \n",
       "   number of relationships  in_context  \n",
       " 0                      36        True  \n",
       " 1                       1        True  \n",
       " 2                       1        True  \n",
       " 3                       1        True  \n",
       " 4                       1        True  \n",
       " 5                       1        True  ,\n",
       " 'sources':   id                                               text\n",
       " 0  0  ﻿AISHWARYA GABA \\n\\n aishgaba24@gmail.com | +9...}"
      ]
     },
     "execution_count": 83,
     "metadata": {},
     "output_type": "execute_result"
    }
   ],
   "source": [
    "result.context_data"
   ]
  },
  {
   "cell_type": "markdown",
   "id": "06dd1930",
   "metadata": {},
   "source": [
    "## Query 2 Local flow"
   ]
  },
  {
   "cell_type": "code",
   "execution_count": 27,
   "id": "c30576ef",
   "metadata": {},
   "outputs": [
    {
     "name": "stdout",
     "output_type": "stream",
     "text": [
      "I'm sorry, but the provided data does not contain any information regarding situations that lead to loss of pay.\n"
     ]
    }
   ],
   "source": [
    "result = await search_engine.search(\"When does it lead to loss of pay?\")\n",
    "print(result.response)"
   ]
  },
  {
   "cell_type": "code",
   "execution_count": 28,
   "id": "da2c9021",
   "metadata": {},
   "outputs": [
    {
     "ename": "ValueError",
     "evalue": "Incompatible dimension for X and Y matrices: X.shape[1] == 1536 while Y.shape[1] == 3072",
     "output_type": "error",
     "traceback": [
      "\u001b[31m---------------------------------------------------------------------------\u001b[39m",
      "\u001b[31mValueError\u001b[39m                                Traceback (most recent call last)",
      "\u001b[36mCell\u001b[39m\u001b[36m \u001b[39m\u001b[32mIn[28]\u001b[39m\u001b[32m, line 32\u001b[39m\n\u001b[32m     29\u001b[39m df2[\u001b[33m'\u001b[39m\u001b[33mvector\u001b[39m\u001b[33m'\u001b[39m] = df2[\u001b[33m'\u001b[39m\u001b[33mvector\u001b[39m\u001b[33m'\u001b[39m].apply(\u001b[38;5;28;01mlambda\u001b[39;00m x: np.array(x))\n\u001b[32m     31\u001b[39m \u001b[38;5;66;03m# 6. Compute similarity\u001b[39;00m\n\u001b[32m---> \u001b[39m\u001b[32m32\u001b[39m df2[\u001b[33m'\u001b[39m\u001b[33msimilarity\u001b[39m\u001b[33m'\u001b[39m] = \u001b[43mdf2\u001b[49m\u001b[43m[\u001b[49m\u001b[33;43m'\u001b[39;49m\u001b[33;43mvector\u001b[39;49m\u001b[33;43m'\u001b[39;49m\u001b[43m]\u001b[49m\u001b[43m.\u001b[49m\u001b[43mapply\u001b[49m\u001b[43m(\u001b[49m\n\u001b[32m     33\u001b[39m \u001b[43m    \u001b[49m\u001b[38;5;28;43;01mlambda\u001b[39;49;00m\u001b[43m \u001b[49m\u001b[43mvec\u001b[49m\u001b[43m:\u001b[49m\u001b[43m \u001b[49m\u001b[43mcosine_similarity\u001b[49m\u001b[43m(\u001b[49m\u001b[43m[\u001b[49m\u001b[43mquery_embedding\u001b[49m\u001b[43m]\u001b[49m\u001b[43m,\u001b[49m\u001b[43m \u001b[49m\u001b[43m[\u001b[49m\u001b[43mvec\u001b[49m\u001b[43m]\u001b[49m\u001b[43m)\u001b[49m\u001b[43m[\u001b[49m\u001b[32;43m0\u001b[39;49m\u001b[43m]\u001b[49m\u001b[43m[\u001b[49m\u001b[32;43m0\u001b[39;49m\u001b[43m]\u001b[49m\n\u001b[32m     34\u001b[39m \u001b[43m)\u001b[49m\n\u001b[32m     36\u001b[39m \u001b[38;5;66;03m# 7. Sort in descending order\u001b[39;00m\n\u001b[32m     37\u001b[39m df2_sorted = df2.sort_values(by=\u001b[33m'\u001b[39m\u001b[33msimilarity\u001b[39m\u001b[33m'\u001b[39m, ascending=\u001b[38;5;28;01mFalse\u001b[39;00m)\n",
      "\u001b[36mFile \u001b[39m\u001b[32mc:\\Users\\husai\\Desktop\\Affine\\GraphRAG\\Resume_GraphRAG_testing\\Resume_GraphRAG_testing\\.venv\\Lib\\site-packages\\pandas\\core\\series.py:4935\u001b[39m, in \u001b[36mSeries.apply\u001b[39m\u001b[34m(self, func, convert_dtype, args, by_row, **kwargs)\u001b[39m\n\u001b[32m   4800\u001b[39m \u001b[38;5;28;01mdef\u001b[39;00m\u001b[38;5;250m \u001b[39m\u001b[34mapply\u001b[39m(\n\u001b[32m   4801\u001b[39m     \u001b[38;5;28mself\u001b[39m,\n\u001b[32m   4802\u001b[39m     func: AggFuncType,\n\u001b[32m   (...)\u001b[39m\u001b[32m   4807\u001b[39m     **kwargs,\n\u001b[32m   4808\u001b[39m ) -> DataFrame | Series:\n\u001b[32m   4809\u001b[39m \u001b[38;5;250m    \u001b[39m\u001b[33;03m\"\"\"\u001b[39;00m\n\u001b[32m   4810\u001b[39m \u001b[33;03m    Invoke function on values of Series.\u001b[39;00m\n\u001b[32m   4811\u001b[39m \n\u001b[32m   (...)\u001b[39m\u001b[32m   4926\u001b[39m \u001b[33;03m    dtype: float64\u001b[39;00m\n\u001b[32m   4927\u001b[39m \u001b[33;03m    \"\"\"\u001b[39;00m\n\u001b[32m   4928\u001b[39m     \u001b[38;5;28;01mreturn\u001b[39;00m \u001b[43mSeriesApply\u001b[49m\u001b[43m(\u001b[49m\n\u001b[32m   4929\u001b[39m \u001b[43m        \u001b[49m\u001b[38;5;28;43mself\u001b[39;49m\u001b[43m,\u001b[49m\n\u001b[32m   4930\u001b[39m \u001b[43m        \u001b[49m\u001b[43mfunc\u001b[49m\u001b[43m,\u001b[49m\n\u001b[32m   4931\u001b[39m \u001b[43m        \u001b[49m\u001b[43mconvert_dtype\u001b[49m\u001b[43m=\u001b[49m\u001b[43mconvert_dtype\u001b[49m\u001b[43m,\u001b[49m\n\u001b[32m   4932\u001b[39m \u001b[43m        \u001b[49m\u001b[43mby_row\u001b[49m\u001b[43m=\u001b[49m\u001b[43mby_row\u001b[49m\u001b[43m,\u001b[49m\n\u001b[32m   4933\u001b[39m \u001b[43m        \u001b[49m\u001b[43margs\u001b[49m\u001b[43m=\u001b[49m\u001b[43margs\u001b[49m\u001b[43m,\u001b[49m\n\u001b[32m   4934\u001b[39m \u001b[43m        \u001b[49m\u001b[43mkwargs\u001b[49m\u001b[43m=\u001b[49m\u001b[43mkwargs\u001b[49m\u001b[43m,\u001b[49m\n\u001b[32m-> \u001b[39m\u001b[32m4935\u001b[39m \u001b[43m    \u001b[49m\u001b[43m)\u001b[49m\u001b[43m.\u001b[49m\u001b[43mapply\u001b[49m\u001b[43m(\u001b[49m\u001b[43m)\u001b[49m\n",
      "\u001b[36mFile \u001b[39m\u001b[32mc:\\Users\\husai\\Desktop\\Affine\\GraphRAG\\Resume_GraphRAG_testing\\Resume_GraphRAG_testing\\.venv\\Lib\\site-packages\\pandas\\core\\apply.py:1422\u001b[39m, in \u001b[36mSeriesApply.apply\u001b[39m\u001b[34m(self)\u001b[39m\n\u001b[32m   1419\u001b[39m     \u001b[38;5;28;01mreturn\u001b[39;00m \u001b[38;5;28mself\u001b[39m.apply_compat()\n\u001b[32m   1421\u001b[39m \u001b[38;5;66;03m# self.func is Callable\u001b[39;00m\n\u001b[32m-> \u001b[39m\u001b[32m1422\u001b[39m \u001b[38;5;28;01mreturn\u001b[39;00m \u001b[38;5;28;43mself\u001b[39;49m\u001b[43m.\u001b[49m\u001b[43mapply_standard\u001b[49m\u001b[43m(\u001b[49m\u001b[43m)\u001b[49m\n",
      "\u001b[36mFile \u001b[39m\u001b[32mc:\\Users\\husai\\Desktop\\Affine\\GraphRAG\\Resume_GraphRAG_testing\\Resume_GraphRAG_testing\\.venv\\Lib\\site-packages\\pandas\\core\\apply.py:1502\u001b[39m, in \u001b[36mSeriesApply.apply_standard\u001b[39m\u001b[34m(self)\u001b[39m\n\u001b[32m   1496\u001b[39m \u001b[38;5;66;03m# row-wise access\u001b[39;00m\n\u001b[32m   1497\u001b[39m \u001b[38;5;66;03m# apply doesn't have a `na_action` keyword and for backward compat reasons\u001b[39;00m\n\u001b[32m   1498\u001b[39m \u001b[38;5;66;03m# we need to give `na_action=\"ignore\"` for categorical data.\u001b[39;00m\n\u001b[32m   1499\u001b[39m \u001b[38;5;66;03m# TODO: remove the `na_action=\"ignore\"` when that default has been changed in\u001b[39;00m\n\u001b[32m   1500\u001b[39m \u001b[38;5;66;03m#  Categorical (GH51645).\u001b[39;00m\n\u001b[32m   1501\u001b[39m action = \u001b[33m\"\u001b[39m\u001b[33mignore\u001b[39m\u001b[33m\"\u001b[39m \u001b[38;5;28;01mif\u001b[39;00m \u001b[38;5;28misinstance\u001b[39m(obj.dtype, CategoricalDtype) \u001b[38;5;28;01melse\u001b[39;00m \u001b[38;5;28;01mNone\u001b[39;00m\n\u001b[32m-> \u001b[39m\u001b[32m1502\u001b[39m mapped = \u001b[43mobj\u001b[49m\u001b[43m.\u001b[49m\u001b[43m_map_values\u001b[49m\u001b[43m(\u001b[49m\n\u001b[32m   1503\u001b[39m \u001b[43m    \u001b[49m\u001b[43mmapper\u001b[49m\u001b[43m=\u001b[49m\u001b[43mcurried\u001b[49m\u001b[43m,\u001b[49m\u001b[43m \u001b[49m\u001b[43mna_action\u001b[49m\u001b[43m=\u001b[49m\u001b[43maction\u001b[49m\u001b[43m,\u001b[49m\u001b[43m \u001b[49m\u001b[43mconvert\u001b[49m\u001b[43m=\u001b[49m\u001b[38;5;28;43mself\u001b[39;49m\u001b[43m.\u001b[49m\u001b[43mconvert_dtype\u001b[49m\n\u001b[32m   1504\u001b[39m \u001b[43m\u001b[49m\u001b[43m)\u001b[49m\n\u001b[32m   1506\u001b[39m \u001b[38;5;28;01mif\u001b[39;00m \u001b[38;5;28mlen\u001b[39m(mapped) \u001b[38;5;129;01mand\u001b[39;00m \u001b[38;5;28misinstance\u001b[39m(mapped[\u001b[32m0\u001b[39m], ABCSeries):\n\u001b[32m   1507\u001b[39m     \u001b[38;5;66;03m# GH#43986 Need to do list(mapped) in order to get treated as nested\u001b[39;00m\n\u001b[32m   1508\u001b[39m     \u001b[38;5;66;03m#  See also GH#25959 regarding EA support\u001b[39;00m\n\u001b[32m   1509\u001b[39m     \u001b[38;5;28;01mreturn\u001b[39;00m obj._constructor_expanddim(\u001b[38;5;28mlist\u001b[39m(mapped), index=obj.index)\n",
      "\u001b[36mFile \u001b[39m\u001b[32mc:\\Users\\husai\\Desktop\\Affine\\GraphRAG\\Resume_GraphRAG_testing\\Resume_GraphRAG_testing\\.venv\\Lib\\site-packages\\pandas\\core\\base.py:925\u001b[39m, in \u001b[36mIndexOpsMixin._map_values\u001b[39m\u001b[34m(self, mapper, na_action, convert)\u001b[39m\n\u001b[32m    922\u001b[39m \u001b[38;5;28;01mif\u001b[39;00m \u001b[38;5;28misinstance\u001b[39m(arr, ExtensionArray):\n\u001b[32m    923\u001b[39m     \u001b[38;5;28;01mreturn\u001b[39;00m arr.map(mapper, na_action=na_action)\n\u001b[32m--> \u001b[39m\u001b[32m925\u001b[39m \u001b[38;5;28;01mreturn\u001b[39;00m \u001b[43malgorithms\u001b[49m\u001b[43m.\u001b[49m\u001b[43mmap_array\u001b[49m\u001b[43m(\u001b[49m\u001b[43marr\u001b[49m\u001b[43m,\u001b[49m\u001b[43m \u001b[49m\u001b[43mmapper\u001b[49m\u001b[43m,\u001b[49m\u001b[43m \u001b[49m\u001b[43mna_action\u001b[49m\u001b[43m=\u001b[49m\u001b[43mna_action\u001b[49m\u001b[43m,\u001b[49m\u001b[43m \u001b[49m\u001b[43mconvert\u001b[49m\u001b[43m=\u001b[49m\u001b[43mconvert\u001b[49m\u001b[43m)\u001b[49m\n",
      "\u001b[36mFile \u001b[39m\u001b[32mc:\\Users\\husai\\Desktop\\Affine\\GraphRAG\\Resume_GraphRAG_testing\\Resume_GraphRAG_testing\\.venv\\Lib\\site-packages\\pandas\\core\\algorithms.py:1743\u001b[39m, in \u001b[36mmap_array\u001b[39m\u001b[34m(arr, mapper, na_action, convert)\u001b[39m\n\u001b[32m   1741\u001b[39m values = arr.astype(\u001b[38;5;28mobject\u001b[39m, copy=\u001b[38;5;28;01mFalse\u001b[39;00m)\n\u001b[32m   1742\u001b[39m \u001b[38;5;28;01mif\u001b[39;00m na_action \u001b[38;5;129;01mis\u001b[39;00m \u001b[38;5;28;01mNone\u001b[39;00m:\n\u001b[32m-> \u001b[39m\u001b[32m1743\u001b[39m     \u001b[38;5;28;01mreturn\u001b[39;00m \u001b[43mlib\u001b[49m\u001b[43m.\u001b[49m\u001b[43mmap_infer\u001b[49m\u001b[43m(\u001b[49m\u001b[43mvalues\u001b[49m\u001b[43m,\u001b[49m\u001b[43m \u001b[49m\u001b[43mmapper\u001b[49m\u001b[43m,\u001b[49m\u001b[43m \u001b[49m\u001b[43mconvert\u001b[49m\u001b[43m=\u001b[49m\u001b[43mconvert\u001b[49m\u001b[43m)\u001b[49m\n\u001b[32m   1744\u001b[39m \u001b[38;5;28;01melse\u001b[39;00m:\n\u001b[32m   1745\u001b[39m     \u001b[38;5;28;01mreturn\u001b[39;00m lib.map_infer_mask(\n\u001b[32m   1746\u001b[39m         values, mapper, mask=isna(values).view(np.uint8), convert=convert\n\u001b[32m   1747\u001b[39m     )\n",
      "\u001b[36mFile \u001b[39m\u001b[32mpandas/_libs/lib.pyx:2999\u001b[39m, in \u001b[36mpandas._libs.lib.map_infer\u001b[39m\u001b[34m()\u001b[39m\n",
      "\u001b[36mCell\u001b[39m\u001b[36m \u001b[39m\u001b[32mIn[28]\u001b[39m\u001b[32m, line 33\u001b[39m, in \u001b[36m<lambda>\u001b[39m\u001b[34m(vec)\u001b[39m\n\u001b[32m     29\u001b[39m df2[\u001b[33m'\u001b[39m\u001b[33mvector\u001b[39m\u001b[33m'\u001b[39m] = df2[\u001b[33m'\u001b[39m\u001b[33mvector\u001b[39m\u001b[33m'\u001b[39m].apply(\u001b[38;5;28;01mlambda\u001b[39;00m x: np.array(x))\n\u001b[32m     31\u001b[39m \u001b[38;5;66;03m# 6. Compute similarity\u001b[39;00m\n\u001b[32m     32\u001b[39m df2[\u001b[33m'\u001b[39m\u001b[33msimilarity\u001b[39m\u001b[33m'\u001b[39m] = df2[\u001b[33m'\u001b[39m\u001b[33mvector\u001b[39m\u001b[33m'\u001b[39m].apply(\n\u001b[32m---> \u001b[39m\u001b[32m33\u001b[39m     \u001b[38;5;28;01mlambda\u001b[39;00m vec: \u001b[43mcosine_similarity\u001b[49m\u001b[43m(\u001b[49m\u001b[43m[\u001b[49m\u001b[43mquery_embedding\u001b[49m\u001b[43m]\u001b[49m\u001b[43m,\u001b[49m\u001b[43m \u001b[49m\u001b[43m[\u001b[49m\u001b[43mvec\u001b[49m\u001b[43m]\u001b[49m\u001b[43m)\u001b[49m[\u001b[32m0\u001b[39m][\u001b[32m0\u001b[39m]\n\u001b[32m     34\u001b[39m )\n\u001b[32m     36\u001b[39m \u001b[38;5;66;03m# 7. Sort in descending order\u001b[39;00m\n\u001b[32m     37\u001b[39m df2_sorted = df2.sort_values(by=\u001b[33m'\u001b[39m\u001b[33msimilarity\u001b[39m\u001b[33m'\u001b[39m, ascending=\u001b[38;5;28;01mFalse\u001b[39;00m)\n",
      "\u001b[36mFile \u001b[39m\u001b[32mc:\\Users\\husai\\Desktop\\Affine\\GraphRAG\\Resume_GraphRAG_testing\\Resume_GraphRAG_testing\\.venv\\Lib\\site-packages\\sklearn\\utils\\_param_validation.py:218\u001b[39m, in \u001b[36mvalidate_params.<locals>.decorator.<locals>.wrapper\u001b[39m\u001b[34m(*args, **kwargs)\u001b[39m\n\u001b[32m    212\u001b[39m \u001b[38;5;28;01mtry\u001b[39;00m:\n\u001b[32m    213\u001b[39m     \u001b[38;5;28;01mwith\u001b[39;00m config_context(\n\u001b[32m    214\u001b[39m         skip_parameter_validation=(\n\u001b[32m    215\u001b[39m             prefer_skip_nested_validation \u001b[38;5;129;01mor\u001b[39;00m global_skip_validation\n\u001b[32m    216\u001b[39m         )\n\u001b[32m    217\u001b[39m     ):\n\u001b[32m--> \u001b[39m\u001b[32m218\u001b[39m         \u001b[38;5;28;01mreturn\u001b[39;00m \u001b[43mfunc\u001b[49m\u001b[43m(\u001b[49m\u001b[43m*\u001b[49m\u001b[43margs\u001b[49m\u001b[43m,\u001b[49m\u001b[43m \u001b[49m\u001b[43m*\u001b[49m\u001b[43m*\u001b[49m\u001b[43mkwargs\u001b[49m\u001b[43m)\u001b[49m\n\u001b[32m    219\u001b[39m \u001b[38;5;28;01mexcept\u001b[39;00m InvalidParameterError \u001b[38;5;28;01mas\u001b[39;00m e:\n\u001b[32m    220\u001b[39m     \u001b[38;5;66;03m# When the function is just a wrapper around an estimator, we allow\u001b[39;00m\n\u001b[32m    221\u001b[39m     \u001b[38;5;66;03m# the function to delegate validation to the estimator, but we replace\u001b[39;00m\n\u001b[32m    222\u001b[39m     \u001b[38;5;66;03m# the name of the estimator by the name of the function in the error\u001b[39;00m\n\u001b[32m    223\u001b[39m     \u001b[38;5;66;03m# message to avoid confusion.\u001b[39;00m\n\u001b[32m    224\u001b[39m     msg = re.sub(\n\u001b[32m    225\u001b[39m         \u001b[33mr\u001b[39m\u001b[33m\"\u001b[39m\u001b[33mparameter of \u001b[39m\u001b[33m\\\u001b[39m\u001b[33mw+ must be\u001b[39m\u001b[33m\"\u001b[39m,\n\u001b[32m    226\u001b[39m         \u001b[33mf\u001b[39m\u001b[33m\"\u001b[39m\u001b[33mparameter of \u001b[39m\u001b[38;5;132;01m{\u001b[39;00mfunc.\u001b[34m__qualname__\u001b[39m\u001b[38;5;132;01m}\u001b[39;00m\u001b[33m must be\u001b[39m\u001b[33m\"\u001b[39m,\n\u001b[32m    227\u001b[39m         \u001b[38;5;28mstr\u001b[39m(e),\n\u001b[32m    228\u001b[39m     )\n",
      "\u001b[36mFile \u001b[39m\u001b[32mc:\\Users\\husai\\Desktop\\Affine\\GraphRAG\\Resume_GraphRAG_testing\\Resume_GraphRAG_testing\\.venv\\Lib\\site-packages\\sklearn\\metrics\\pairwise.py:1728\u001b[39m, in \u001b[36mcosine_similarity\u001b[39m\u001b[34m(X, Y, dense_output)\u001b[39m\n\u001b[32m   1675\u001b[39m \u001b[38;5;129m@validate_params\u001b[39m(\n\u001b[32m   1676\u001b[39m     {\n\u001b[32m   1677\u001b[39m         \u001b[33m\"\u001b[39m\u001b[33mX\u001b[39m\u001b[33m\"\u001b[39m: [\u001b[33m\"\u001b[39m\u001b[33marray-like\u001b[39m\u001b[33m\"\u001b[39m, \u001b[33m\"\u001b[39m\u001b[33msparse matrix\u001b[39m\u001b[33m\"\u001b[39m],\n\u001b[32m   (...)\u001b[39m\u001b[32m   1682\u001b[39m )\n\u001b[32m   1683\u001b[39m \u001b[38;5;28;01mdef\u001b[39;00m\u001b[38;5;250m \u001b[39m\u001b[34mcosine_similarity\u001b[39m(X, Y=\u001b[38;5;28;01mNone\u001b[39;00m, dense_output=\u001b[38;5;28;01mTrue\u001b[39;00m):\n\u001b[32m   1684\u001b[39m \u001b[38;5;250m    \u001b[39m\u001b[33;03m\"\"\"Compute cosine similarity between samples in X and Y.\u001b[39;00m\n\u001b[32m   1685\u001b[39m \n\u001b[32m   1686\u001b[39m \u001b[33;03m    Cosine similarity, or the cosine kernel, computes similarity as the\u001b[39;00m\n\u001b[32m   (...)\u001b[39m\u001b[32m   1726\u001b[39m \u001b[33;03m           [0.577, 0.816]])\u001b[39;00m\n\u001b[32m   1727\u001b[39m \u001b[33;03m    \"\"\"\u001b[39;00m\n\u001b[32m-> \u001b[39m\u001b[32m1728\u001b[39m     X, Y = \u001b[43mcheck_pairwise_arrays\u001b[49m\u001b[43m(\u001b[49m\u001b[43mX\u001b[49m\u001b[43m,\u001b[49m\u001b[43m \u001b[49m\u001b[43mY\u001b[49m\u001b[43m)\u001b[49m\n\u001b[32m   1730\u001b[39m     X_normalized = normalize(X, copy=\u001b[38;5;28;01mTrue\u001b[39;00m)\n\u001b[32m   1731\u001b[39m     \u001b[38;5;28;01mif\u001b[39;00m X \u001b[38;5;129;01mis\u001b[39;00m Y:\n",
      "\u001b[36mFile \u001b[39m\u001b[32mc:\\Users\\husai\\Desktop\\Affine\\GraphRAG\\Resume_GraphRAG_testing\\Resume_GraphRAG_testing\\.venv\\Lib\\site-packages\\sklearn\\metrics\\pairwise.py:229\u001b[39m, in \u001b[36mcheck_pairwise_arrays\u001b[39m\u001b[34m(X, Y, precomputed, dtype, accept_sparse, force_all_finite, ensure_all_finite, ensure_2d, copy)\u001b[39m\n\u001b[32m    221\u001b[39m         \u001b[38;5;28;01mraise\u001b[39;00m \u001b[38;5;167;01mValueError\u001b[39;00m(\n\u001b[32m    222\u001b[39m             \u001b[33m\"\u001b[39m\u001b[33mPrecomputed metric requires shape \u001b[39m\u001b[33m\"\u001b[39m\n\u001b[32m    223\u001b[39m             \u001b[33m\"\u001b[39m\u001b[33m(n_queries, n_indexed). Got (\u001b[39m\u001b[38;5;132;01m%d\u001b[39;00m\u001b[33m, \u001b[39m\u001b[38;5;132;01m%d\u001b[39;00m\u001b[33m) \u001b[39m\u001b[33m\"\u001b[39m\n\u001b[32m    224\u001b[39m             \u001b[33m\"\u001b[39m\u001b[33mfor \u001b[39m\u001b[38;5;132;01m%d\u001b[39;00m\u001b[33m indexed.\u001b[39m\u001b[33m\"\u001b[39m % (X.shape[\u001b[32m0\u001b[39m], X.shape[\u001b[32m1\u001b[39m], Y.shape[\u001b[32m0\u001b[39m])\n\u001b[32m    225\u001b[39m         )\n\u001b[32m    226\u001b[39m \u001b[38;5;28;01melif\u001b[39;00m ensure_2d \u001b[38;5;129;01mand\u001b[39;00m X.shape[\u001b[32m1\u001b[39m] != Y.shape[\u001b[32m1\u001b[39m]:\n\u001b[32m    227\u001b[39m     \u001b[38;5;66;03m# Only check the number of features if 2d arrays are enforced. Otherwise,\u001b[39;00m\n\u001b[32m    228\u001b[39m     \u001b[38;5;66;03m# validation is left to the user for custom metrics.\u001b[39;00m\n\u001b[32m--> \u001b[39m\u001b[32m229\u001b[39m     \u001b[38;5;28;01mraise\u001b[39;00m \u001b[38;5;167;01mValueError\u001b[39;00m(\n\u001b[32m    230\u001b[39m         \u001b[33m\"\u001b[39m\u001b[33mIncompatible dimension for X and Y matrices: \u001b[39m\u001b[33m\"\u001b[39m\n\u001b[32m    231\u001b[39m         \u001b[33m\"\u001b[39m\u001b[33mX.shape[1] == \u001b[39m\u001b[38;5;132;01m%d\u001b[39;00m\u001b[33m while Y.shape[1] == \u001b[39m\u001b[38;5;132;01m%d\u001b[39;00m\u001b[33m\"\u001b[39m % (X.shape[\u001b[32m1\u001b[39m], Y.shape[\u001b[32m1\u001b[39m])\n\u001b[32m    232\u001b[39m     )\n\u001b[32m    234\u001b[39m \u001b[38;5;28;01mreturn\u001b[39;00m X, Y\n",
      "\u001b[31mValueError\u001b[39m: Incompatible dimension for X and Y matrices: X.shape[1] == 1536 while Y.shape[1] == 3072"
     ]
    }
   ],
   "source": [
    "import pandas as pd\n",
    "import numpy as np\n",
    "from sklearn.metrics.pairwise import cosine_similarity\n",
    "from openai import AzureOpenAI\n",
    "\n",
    "# 1. Set up Azure OpenAI Client\n",
    "client = AzureOpenAI(\n",
    "    api_key=\"DUKmDaDROVFeQJb8aXCtZigUHBPCX9NNAeSrBSlKohUgtwhYx7I3JQQJ99BGACYeBjFXJ3w3AAABACOGyclG\",\n",
    "    api_version=\"2024-12-01-preview\",  # or your deployed version\n",
    "    azure_endpoint=\"https://azuregraphrag.openai.azure.com\"\n",
    ")\n",
    "\n",
    "# 2. Define embedding deployment name (this is your Azure deployment name, NOT model name)\n",
    "embedding_deployment_name = \"text-embedding-3-small\"\n",
    "\n",
    "# 3. Function to get embeddings using AzureOpenAI client\n",
    "def get_azure_embedding(text: str):\n",
    "    response = client.embeddings.create(\n",
    "        input=[text],\n",
    "        model=embedding_deployment_name\n",
    "    )\n",
    "    return response.data[0].embedding\n",
    "\n",
    "# 4. User query\n",
    "user_query = \"When does it lead to loss of pay?\"\n",
    "query_embedding = get_azure_embedding(user_query)\n",
    "\n",
    "# 5. Assuming df2[\"contains vector\"] contains list-like numeric vectors\n",
    "df2['vector'] = df2['vector'].apply(lambda x: np.array(x))\n",
    "\n",
    "# 6. Compute similarity\n",
    "df2['similarity'] = df2['vector'].apply(\n",
    "    lambda vec: cosine_similarity([query_embedding], [vec])[0][0]\n",
    ")\n",
    "\n",
    "# 7. Sort in descending order\n",
    "df2_sorted = df2.sort_values(by='similarity', ascending=False)\n",
    "\n",
    "# 8. Display results (you can exclude 'contains vector' if too large)\n",
    "print(df2_sorted[['similarity'] + [col for col in df2.columns if col != 'vector']])\n"
   ]
  },
  {
   "cell_type": "code",
   "execution_count": null,
   "id": "b5355834",
   "metadata": {},
   "outputs": [
    {
     "data": {
      "text/html": [
       "<div>\n",
       "<style scoped>\n",
       "    .dataframe tbody tr th:only-of-type {\n",
       "        vertical-align: middle;\n",
       "    }\n",
       "\n",
       "    .dataframe tbody tr th {\n",
       "        vertical-align: top;\n",
       "    }\n",
       "\n",
       "    .dataframe thead th {\n",
       "        text-align: right;\n",
       "    }\n",
       "</style>\n",
       "<table border=\"1\" class=\"dataframe\">\n",
       "  <thead>\n",
       "    <tr style=\"text-align: right;\">\n",
       "      <th></th>\n",
       "      <th>id</th>\n",
       "      <th>text</th>\n",
       "      <th>vector</th>\n",
       "      <th>attributes</th>\n",
       "      <th>similarity</th>\n",
       "      <th>vector_2</th>\n",
       "    </tr>\n",
       "  </thead>\n",
       "  <tbody>\n",
       "    <tr>\n",
       "      <th>31</th>\n",
       "      <td>d9079a31-e37e-4db2-97fe-6b5d28c74ebf</td>\n",
       "      <td>EARNED LEAVE:</td>\n",
       "      <td>[0.022470184, 0.030181844, 0.0098855505, 0.022...</td>\n",
       "      <td>{\"title\": \"EARNED LEAVE:\"}</td>\n",
       "      <td>0.450812</td>\n",
       "      <td>[0.02247689850628376, 0.030199594795703888, 0....</td>\n",
       "    </tr>\n",
       "    <tr>\n",
       "      <th>59</th>\n",
       "      <td>b1a0e6f3-926d-4ef8-85bb-9ecda1999fc9</td>\n",
       "      <td>MATERNITY/PATERNITY LEAVE:</td>\n",
       "      <td>[0.023731858, 0.060820848, 0.038643926, 0.0371...</td>\n",
       "      <td>{\"title\": \"MATERNITY/PATERNITY LEAVE:\"}</td>\n",
       "      <td>0.416246</td>\n",
       "      <td>[0.023721041157841682, 0.06082579866051674, 0....</td>\n",
       "    </tr>\n",
       "    <tr>\n",
       "      <th>48</th>\n",
       "      <td>d60ec7eb-582c-4a1a-803b-8dc7a6b2f362</td>\n",
       "      <td>LONG LEAVE:\"Long leave\" is a leave policy at A...</td>\n",
       "      <td>[-0.01776305, 0.036266226, 0.032437984, -0.000...</td>\n",
       "      <td>{\"title\": \"LONG LEAVE:\\\"Long leave\\\" is a leav...</td>\n",
       "      <td>0.384960</td>\n",
       "      <td>[-0.0177630502730608, 0.036266226321458817, 0....</td>\n",
       "    </tr>\n",
       "    <tr>\n",
       "      <th>29</th>\n",
       "      <td>d7613a3f-9ee1-4a0c-b3e5-b5e80f9427e4</td>\n",
       "      <td>SICK/CASUAL LEAVES:Sick/Casual Leaves are a ca...</td>\n",
       "      <td>[-0.0011499143, 0.058429584, 0.02592534, 0.054...</td>\n",
       "      <td>{\"title\": \"SICK/CASUAL LEAVES:Sick/Casual Leav...</td>\n",
       "      <td>0.354725</td>\n",
       "      <td>[-0.001112198457121849, 0.05841611325740814, 0...</td>\n",
       "    </tr>\n",
       "    <tr>\n",
       "      <th>45</th>\n",
       "      <td>2171689d-90c2-4ec6-b692-22030cab16bd</td>\n",
       "      <td>LONG LEAVE POLICY:The Long Leave Policy at Aff...</td>\n",
       "      <td>[-0.0235967, 0.01957138, 0.023672411, 0.009987...</td>\n",
       "      <td>{\"title\": \"LONG LEAVE POLICY:The Long Leave Po...</td>\n",
       "      <td>0.351833</td>\n",
       "      <td>[-0.023475751280784607, 0.019596818834543228, ...</td>\n",
       "    </tr>\n",
       "  </tbody>\n",
       "</table>\n",
       "</div>"
      ],
      "text/plain": [
       "                                      id  \\\n",
       "31  d9079a31-e37e-4db2-97fe-6b5d28c74ebf   \n",
       "59  b1a0e6f3-926d-4ef8-85bb-9ecda1999fc9   \n",
       "48  d60ec7eb-582c-4a1a-803b-8dc7a6b2f362   \n",
       "29  d7613a3f-9ee1-4a0c-b3e5-b5e80f9427e4   \n",
       "45  2171689d-90c2-4ec6-b692-22030cab16bd   \n",
       "\n",
       "                                                 text  \\\n",
       "31                                      EARNED LEAVE:   \n",
       "59                         MATERNITY/PATERNITY LEAVE:   \n",
       "48  LONG LEAVE:\"Long leave\" is a leave policy at A...   \n",
       "29  SICK/CASUAL LEAVES:Sick/Casual Leaves are a ca...   \n",
       "45  LONG LEAVE POLICY:The Long Leave Policy at Aff...   \n",
       "\n",
       "                                               vector  \\\n",
       "31  [0.022470184, 0.030181844, 0.0098855505, 0.022...   \n",
       "59  [0.023731858, 0.060820848, 0.038643926, 0.0371...   \n",
       "48  [-0.01776305, 0.036266226, 0.032437984, -0.000...   \n",
       "29  [-0.0011499143, 0.058429584, 0.02592534, 0.054...   \n",
       "45  [-0.0235967, 0.01957138, 0.023672411, 0.009987...   \n",
       "\n",
       "                                           attributes  similarity  \\\n",
       "31                         {\"title\": \"EARNED LEAVE:\"}    0.450812   \n",
       "59            {\"title\": \"MATERNITY/PATERNITY LEAVE:\"}    0.416246   \n",
       "48  {\"title\": \"LONG LEAVE:\\\"Long leave\\\" is a leav...    0.384960   \n",
       "29  {\"title\": \"SICK/CASUAL LEAVES:Sick/Casual Leav...    0.354725   \n",
       "45  {\"title\": \"LONG LEAVE POLICY:The Long Leave Po...    0.351833   \n",
       "\n",
       "                                             vector_2  \n",
       "31  [0.02247689850628376, 0.030199594795703888, 0....  \n",
       "59  [0.023721041157841682, 0.06082579866051674, 0....  \n",
       "48  [-0.0177630502730608, 0.036266226321458817, 0....  \n",
       "29  [-0.001112198457121849, 0.05841611325740814, 0...  \n",
       "45  [-0.023475751280784607, 0.019596818834543228, ...  "
      ]
     },
     "execution_count": 58,
     "metadata": {},
     "output_type": "execute_result"
    }
   ],
   "source": [
    "df2_sorted.head()"
   ]
  },
  {
   "cell_type": "code",
   "execution_count": null,
   "id": "81099c46",
   "metadata": {},
   "outputs": [
    {
     "data": {
      "text/html": [
       "<div>\n",
       "<style scoped>\n",
       "    .dataframe tbody tr th:only-of-type {\n",
       "        vertical-align: middle;\n",
       "    }\n",
       "\n",
       "    .dataframe tbody tr th {\n",
       "        vertical-align: top;\n",
       "    }\n",
       "\n",
       "    .dataframe thead th {\n",
       "        text-align: right;\n",
       "    }\n",
       "</style>\n",
       "<table border=\"1\" class=\"dataframe\">\n",
       "  <thead>\n",
       "    <tr style=\"text-align: right;\">\n",
       "      <th></th>\n",
       "      <th>id</th>\n",
       "      <th>entity</th>\n",
       "      <th>description</th>\n",
       "      <th>number of relationships</th>\n",
       "      <th>in_context</th>\n",
       "    </tr>\n",
       "  </thead>\n",
       "  <tbody>\n",
       "    <tr>\n",
       "      <th>0</th>\n",
       "      <td>31</td>\n",
       "      <td>EARNED LEAVE</td>\n",
       "      <td></td>\n",
       "      <td>3</td>\n",
       "      <td>True</td>\n",
       "    </tr>\n",
       "    <tr>\n",
       "      <th>1</th>\n",
       "      <td>59</td>\n",
       "      <td>MATERNITY/PATERNITY LEAVE</td>\n",
       "      <td></td>\n",
       "      <td>2</td>\n",
       "      <td>True</td>\n",
       "    </tr>\n",
       "    <tr>\n",
       "      <th>2</th>\n",
       "      <td>48</td>\n",
       "      <td>LONG LEAVE</td>\n",
       "      <td>\"Long leave\" is a leave policy at Affine Inc. ...</td>\n",
       "      <td>6</td>\n",
       "      <td>True</td>\n",
       "    </tr>\n",
       "    <tr>\n",
       "      <th>3</th>\n",
       "      <td>29</td>\n",
       "      <td>SICK/CASUAL LEAVES</td>\n",
       "      <td>Sick/Casual Leaves are a category of leave ava...</td>\n",
       "      <td>1</td>\n",
       "      <td>True</td>\n",
       "    </tr>\n",
       "    <tr>\n",
       "      <th>4</th>\n",
       "      <td>45</td>\n",
       "      <td>LONG LEAVE POLICY</td>\n",
       "      <td>The Long Leave Policy at Affine allows employe...</td>\n",
       "      <td>2</td>\n",
       "      <td>True</td>\n",
       "    </tr>\n",
       "    <tr>\n",
       "      <th>5</th>\n",
       "      <td>43</td>\n",
       "      <td>MATERNITY LEAVE</td>\n",
       "      <td>Maternity leave is a type of leave for employe...</td>\n",
       "      <td>3</td>\n",
       "      <td>True</td>\n",
       "    </tr>\n",
       "  </tbody>\n",
       "</table>\n",
       "</div>"
      ],
      "text/plain": [
       "   id                     entity  \\\n",
       "0  31               EARNED LEAVE   \n",
       "1  59  MATERNITY/PATERNITY LEAVE   \n",
       "2  48                 LONG LEAVE   \n",
       "3  29         SICK/CASUAL LEAVES   \n",
       "4  45          LONG LEAVE POLICY   \n",
       "5  43            MATERNITY LEAVE   \n",
       "\n",
       "                                         description number of relationships  \\\n",
       "0                                                                          3   \n",
       "1                                                                          2   \n",
       "2  \"Long leave\" is a leave policy at Affine Inc. ...                       6   \n",
       "3  Sick/Casual Leaves are a category of leave ava...                       1   \n",
       "4  The Long Leave Policy at Affine allows employe...                       2   \n",
       "5  Maternity leave is a type of leave for employe...                       3   \n",
       "\n",
       "   in_context  \n",
       "0        True  \n",
       "1        True  \n",
       "2        True  \n",
       "3        True  \n",
       "4        True  \n",
       "5        True  "
      ]
     },
     "execution_count": 59,
     "metadata": {},
     "output_type": "execute_result"
    }
   ],
   "source": [
    "result.context_data['entities']"
   ]
  },
  {
   "cell_type": "code",
   "execution_count": null,
   "id": "0a548ab1",
   "metadata": {},
   "outputs": [
    {
     "data": {
      "text/html": [
       "<div>\n",
       "<style scoped>\n",
       "    .dataframe tbody tr th:only-of-type {\n",
       "        vertical-align: middle;\n",
       "    }\n",
       "\n",
       "    .dataframe tbody tr th {\n",
       "        vertical-align: top;\n",
       "    }\n",
       "\n",
       "    .dataframe thead th {\n",
       "        text-align: right;\n",
       "    }\n",
       "</style>\n",
       "<table border=\"1\" class=\"dataframe\">\n",
       "  <thead>\n",
       "    <tr style=\"text-align: right;\">\n",
       "      <th></th>\n",
       "      <th>id</th>\n",
       "      <th>text</th>\n",
       "    </tr>\n",
       "  </thead>\n",
       "  <tbody>\n",
       "    <tr>\n",
       "      <th>0</th>\n",
       "      <td>11</td>\n",
       "      <td>﻿Leave Policy \\n\\nLeaves in Affine are calcula...</td>\n",
       "    </tr>\n",
       "    <tr>\n",
       "      <th>1</th>\n",
       "      <td>32</td>\n",
       "      <td>the company may decide to grant it, subject t...</td>\n",
       "    </tr>\n",
       "    <tr>\n",
       "      <th>2</th>\n",
       "      <td>25</td>\n",
       "      <td>discuss and take a written approval from the ...</td>\n",
       "    </tr>\n",
       "    <tr>\n",
       "      <th>3</th>\n",
       "      <td>27</td>\n",
       "      <td>leave will not impact the experience letter\\n...</td>\n",
       "    </tr>\n",
       "    <tr>\n",
       "      <th>4</th>\n",
       "      <td>28</td>\n",
       "      <td>\\n\\n• However, Affine cannot guarantee that th...</td>\n",
       "    </tr>\n",
       "    <tr>\n",
       "      <th>5</th>\n",
       "      <td>24</td>\n",
       "      <td>individual decides not to return to work, the...</td>\n",
       "    </tr>\n",
       "    <tr>\n",
       "      <th>6</th>\n",
       "      <td>22</td>\n",
       "      <td>leave will not be adjusted against Sabbatical...</td>\n",
       "    </tr>\n",
       "  </tbody>\n",
       "</table>\n",
       "</div>"
      ],
      "text/plain": [
       "   id                                               text\n",
       "0  11  ﻿Leave Policy \\n\\nLeaves in Affine are calcula...\n",
       "1  32   the company may decide to grant it, subject t...\n",
       "2  25   discuss and take a written approval from the ...\n",
       "3  27   leave will not impact the experience letter\\n...\n",
       "4  28  \\n\\n• However, Affine cannot guarantee that th...\n",
       "5  24   individual decides not to return to work, the...\n",
       "6  22   leave will not be adjusted against Sabbatical..."
      ]
     },
     "execution_count": 60,
     "metadata": {},
     "output_type": "execute_result"
    }
   ],
   "source": [
    "result.context_data['sources']"
   ]
  },
  {
   "cell_type": "code",
   "execution_count": null,
   "id": "55b9b12c",
   "metadata": {},
   "outputs": [
    {
     "name": "stdout",
     "output_type": "stream",
     "text": [
      "(' the company may decide to grant it, subject to\\n'\n",
      " '\\n'\n",
      " 'approval from Reporting Manager and HR. However, such leave will be treated '\n",
      " 'as “Leave without pay”\\n'\n",
      " '\\n'\n",
      " 'Guidelines for Maternity / Paternity Leave Period\\n'\n",
      " '• For leaves with duration beyond 4 weeks, Affine properties such as '\n",
      " 'laptop/disk drives/ books\\n'\n",
      " '\\n'\n",
      " 'etc. should be handed over prior to the planned leave\\n'\n",
      " '• During the leave tenure, the employee is still bound by the terms of '\n",
      " 'confidentiality and other\\n'\n",
      " '\\n'\n",
      " 'conduct policies of Affine\\n'\n",
      " '• During the leave period, the employee is not expected to pursue employment '\n",
      " 'with other\\n'\n",
      " '\\n'\n",
      " 'organizations. Violation of this condition could lead to the employee '\n",
      " 'forfeiting her/his claim to\\n'\n",
      " 'maternity/paternity benefit and could also lead to termination of employment '\n",
      " 'with Affine. During\\n'\n",
      " 'the maternity/paternity leave period, there will be no accrual of Leaves '\n",
      " '(EL/ SL)\\n'\n",
      " '\\n'\n",
      " '• Maternity/paternity leaves may be combined with accrued Earned leave with '\n",
      " 'prior approval The\\n'\n",
      " 'extended leave above and beyond the entitled maternity/paternity leave '\n",
      " 'cannot exceed 12 weeks. It\\n'\n",
      " 'is the responsibility of the employee to intimate the manager and the HR on '\n",
      " 'the intended return\\n'\n",
      " 'date at least 2 weeks prior to resuming work\\n'\n",
      " '\\n'\n",
      " '• An employee will not')\n"
     ]
    }
   ],
   "source": [
    "pprint(result.context_data['sources'].at[1,'text'])"
   ]
  },
  {
   "cell_type": "markdown",
   "id": "3e330755",
   "metadata": {},
   "source": [
    "## Global Query"
   ]
  },
  {
   "cell_type": "code",
   "execution_count": null,
   "id": "5f4d6062",
   "metadata": {},
   "outputs": [],
   "source": [
    "import os\n",
    "\n",
    "import pandas as pd\n",
    "import tiktoken\n",
    "\n",
    "from graphrag.config.enums import ModelType\n",
    "from graphrag.config.models.language_model_config import LanguageModelConfig\n",
    "from graphrag.language_model.manager import ModelManager\n",
    "from graphrag.query.indexer_adapters import (\n",
    "    read_indexer_communities,\n",
    "    read_indexer_entities,\n",
    "    read_indexer_reports,\n",
    ")\n",
    "from graphrag.query.structured_search.global_search.community_context import (\n",
    "    GlobalCommunityContext,\n",
    ")\n",
    "from graphrag.query.structured_search.global_search.search import GlobalSearch"
   ]
  },
  {
   "cell_type": "code",
   "execution_count": null,
   "id": "657e7813",
   "metadata": {},
   "outputs": [],
   "source": [
    "llm_model = \"gpt-4o\"\n",
    "config = LanguageModelConfig(\n",
    "    api_key='DUKmDaDROVFeQJb8aXCtZigUHBPCX9NNAeSrBSlKohUgtwhYx7I3JQQJ99BGACYeBjFXJ3w3AAABACOGyclG',\n",
    "    type=ModelType.AzureOpenAIChat,\n",
    "    model=llm_model,                      \n",
    "    deployment_name=llm_model,\n",
    "    max_retries=20,\n",
    "    api_base=\"https://azuregraphrag.openai.azure.com/\",\n",
    "    api_version=\"2024-12-01-preview\"\n",
    ")\n",
    "model = ModelManager().get_or_create_chat_model(\n",
    "    name=\"global_search\",\n",
    "    model_type=ModelType.AzureOpenAIChat,\n",
    "    config=config,\n",
    ")\n",
    "\n",
    "token_encoder = tiktoken.encoding_for_model(llm_model)"
   ]
  },
  {
   "cell_type": "code",
   "execution_count": null,
   "id": "3cbacf02",
   "metadata": {},
   "outputs": [
    {
     "name": "stdout",
     "output_type": "stream",
     "text": [
      "Total report count: 12\n",
      "Report count after filtering by community level 2: 12\n"
     ]
    },
    {
     "data": {
      "text/html": [
       "<div>\n",
       "<style scoped>\n",
       "    .dataframe tbody tr th:only-of-type {\n",
       "        vertical-align: middle;\n",
       "    }\n",
       "\n",
       "    .dataframe tbody tr th {\n",
       "        vertical-align: top;\n",
       "    }\n",
       "\n",
       "    .dataframe thead th {\n",
       "        text-align: right;\n",
       "    }\n",
       "</style>\n",
       "<table border=\"1\" class=\"dataframe\">\n",
       "  <thead>\n",
       "    <tr style=\"text-align: right;\">\n",
       "      <th></th>\n",
       "      <th>id</th>\n",
       "      <th>human_readable_id</th>\n",
       "      <th>community</th>\n",
       "      <th>level</th>\n",
       "      <th>parent</th>\n",
       "      <th>children</th>\n",
       "      <th>title</th>\n",
       "      <th>summary</th>\n",
       "      <th>full_content</th>\n",
       "      <th>rank</th>\n",
       "      <th>rating_explanation</th>\n",
       "      <th>findings</th>\n",
       "      <th>full_content_json</th>\n",
       "      <th>period</th>\n",
       "      <th>size</th>\n",
       "    </tr>\n",
       "  </thead>\n",
       "  <tbody>\n",
       "    <tr>\n",
       "      <th>0</th>\n",
       "      <td>1e420d26dd8449c893d51d7b3bf2ba43</td>\n",
       "      <td>6</td>\n",
       "      <td>6</td>\n",
       "      <td>1</td>\n",
       "      <td>3</td>\n",
       "      <td>[]</td>\n",
       "      <td>Affine Employee Leave Policies</td>\n",
       "      <td>The community centers around Affine, a company...</td>\n",
       "      <td># Affine Employee Leave Policies\\n\\nThe commun...</td>\n",
       "      <td>6.5</td>\n",
       "      <td>The impact severity rating is moderate due to ...</td>\n",
       "      <td>[{'explanation': 'Affine offers a wide range o...</td>\n",
       "      <td>{\\n    \"title\": \"Affine Employee Leave Policie...</td>\n",
       "      <td>2025-07-28</td>\n",
       "      <td>7</td>\n",
       "    </tr>\n",
       "    <tr>\n",
       "      <th>1</th>\n",
       "      <td>2ec6587c87d8415691eacd54494887fd</td>\n",
       "      <td>7</td>\n",
       "      <td>7</td>\n",
       "      <td>1</td>\n",
       "      <td>3</td>\n",
       "      <td>[]</td>\n",
       "      <td>Affine's Long Leave Policy and Sabbatical Stru...</td>\n",
       "      <td>The community is centered around Affine's Long...</td>\n",
       "      <td># Affine's Long Leave Policy and Sabbatical St...</td>\n",
       "      <td>4.5</td>\n",
       "      <td>The impact severity rating is moderate due to ...</td>\n",
       "      <td>[{'explanation': 'Affine's Long Leave Policy i...</td>\n",
       "      <td>{\\n    \"title\": \"Affine's Long Leave Policy an...</td>\n",
       "      <td>2025-07-28</td>\n",
       "      <td>3</td>\n",
       "    </tr>\n",
       "    <tr>\n",
       "      <th>2</th>\n",
       "      <td>41fb1bcc24934e30ac1487a33a795fc5</td>\n",
       "      <td>8</td>\n",
       "      <td>8</td>\n",
       "      <td>1</td>\n",
       "      <td>3</td>\n",
       "      <td>[]</td>\n",
       "      <td>Affine Leave Management and Policy Structure</td>\n",
       "      <td>The community centers around Affine's leave ma...</td>\n",
       "      <td># Affine Leave Management and Policy Structure...</td>\n",
       "      <td>7.5</td>\n",
       "      <td>The impact severity rating is high due to the ...</td>\n",
       "      <td>[{'explanation': 'The Caregiver Leave policy a...</td>\n",
       "      <td>{\\n    \"title\": \"Affine Leave Management and P...</td>\n",
       "      <td>2025-07-28</td>\n",
       "      <td>5</td>\n",
       "    </tr>\n",
       "    <tr>\n",
       "      <th>3</th>\n",
       "      <td>21722383bebc4f838831cc21162e63a7</td>\n",
       "      <td>9</td>\n",
       "      <td>9</td>\n",
       "      <td>1</td>\n",
       "      <td>5</td>\n",
       "      <td>[]</td>\n",
       "      <td>Affine Inc. and Employee Leave Policies</td>\n",
       "      <td>Affine Inc., located in Bellevue, Washington, ...</td>\n",
       "      <td># Affine Inc. and Employee Leave Policies\\n\\nA...</td>\n",
       "      <td>6.5</td>\n",
       "      <td>The impact severity rating is moderate due to ...</td>\n",
       "      <td>[{'explanation': 'Affine Inc. offers a wide ra...</td>\n",
       "      <td>{\\n    \"title\": \"Affine Inc. and Employee Leav...</td>\n",
       "      <td>2025-07-28</td>\n",
       "      <td>10</td>\n",
       "    </tr>\n",
       "    <tr>\n",
       "      <th>4</th>\n",
       "      <td>4ad6ff858ac542bda74f4454732fbe48</td>\n",
       "      <td>10</td>\n",
       "      <td>10</td>\n",
       "      <td>1</td>\n",
       "      <td>5</td>\n",
       "      <td>[]</td>\n",
       "      <td>Affine Inc. Leave Policies and Employee Manage...</td>\n",
       "      <td>The community centers around Affine Inc.'s lea...</td>\n",
       "      <td># Affine Inc. Leave Policies and Employee Mana...</td>\n",
       "      <td>6.5</td>\n",
       "      <td>The impact severity rating is moderate to high...</td>\n",
       "      <td>[{'explanation': 'Affine Inc. structures its l...</td>\n",
       "      <td>{\\n    \"title\": \"Affine Inc. Leave Policies an...</td>\n",
       "      <td>2025-07-28</td>\n",
       "      <td>3</td>\n",
       "    </tr>\n",
       "  </tbody>\n",
       "</table>\n",
       "</div>"
      ],
      "text/plain": [
       "                                 id  human_readable_id  community  level  \\\n",
       "0  1e420d26dd8449c893d51d7b3bf2ba43                  6          6      1   \n",
       "1  2ec6587c87d8415691eacd54494887fd                  7          7      1   \n",
       "2  41fb1bcc24934e30ac1487a33a795fc5                  8          8      1   \n",
       "3  21722383bebc4f838831cc21162e63a7                  9          9      1   \n",
       "4  4ad6ff858ac542bda74f4454732fbe48                 10         10      1   \n",
       "\n",
       "   parent children                                              title  \\\n",
       "0       3       []                     Affine Employee Leave Policies   \n",
       "1       3       []  Affine's Long Leave Policy and Sabbatical Stru...   \n",
       "2       3       []       Affine Leave Management and Policy Structure   \n",
       "3       5       []            Affine Inc. and Employee Leave Policies   \n",
       "4       5       []  Affine Inc. Leave Policies and Employee Manage...   \n",
       "\n",
       "                                             summary  \\\n",
       "0  The community centers around Affine, a company...   \n",
       "1  The community is centered around Affine's Long...   \n",
       "2  The community centers around Affine's leave ma...   \n",
       "3  Affine Inc., located in Bellevue, Washington, ...   \n",
       "4  The community centers around Affine Inc.'s lea...   \n",
       "\n",
       "                                        full_content  rank  \\\n",
       "0  # Affine Employee Leave Policies\\n\\nThe commun...   6.5   \n",
       "1  # Affine's Long Leave Policy and Sabbatical St...   4.5   \n",
       "2  # Affine Leave Management and Policy Structure...   7.5   \n",
       "3  # Affine Inc. and Employee Leave Policies\\n\\nA...   6.5   \n",
       "4  # Affine Inc. Leave Policies and Employee Mana...   6.5   \n",
       "\n",
       "                                  rating_explanation  \\\n",
       "0  The impact severity rating is moderate due to ...   \n",
       "1  The impact severity rating is moderate due to ...   \n",
       "2  The impact severity rating is high due to the ...   \n",
       "3  The impact severity rating is moderate due to ...   \n",
       "4  The impact severity rating is moderate to high...   \n",
       "\n",
       "                                            findings  \\\n",
       "0  [{'explanation': 'Affine offers a wide range o...   \n",
       "1  [{'explanation': 'Affine's Long Leave Policy i...   \n",
       "2  [{'explanation': 'The Caregiver Leave policy a...   \n",
       "3  [{'explanation': 'Affine Inc. offers a wide ra...   \n",
       "4  [{'explanation': 'Affine Inc. structures its l...   \n",
       "\n",
       "                                   full_content_json      period  size  \n",
       "0  {\\n    \"title\": \"Affine Employee Leave Policie...  2025-07-28     7  \n",
       "1  {\\n    \"title\": \"Affine's Long Leave Policy an...  2025-07-28     3  \n",
       "2  {\\n    \"title\": \"Affine Leave Management and P...  2025-07-28     5  \n",
       "3  {\\n    \"title\": \"Affine Inc. and Employee Leav...  2025-07-28    10  \n",
       "4  {\\n    \"title\": \"Affine Inc. Leave Policies an...  2025-07-28     3  "
      ]
     },
     "execution_count": 9,
     "metadata": {},
     "output_type": "execute_result"
    }
   ],
   "source": [
    "# parquet files generated from indexing pipeline\n",
    "INPUT_DIR = r\"C:\\Users\\v-chandanap\\Desktop\\GraphRAGAPI\\input\"\n",
    "\n",
    "\n",
    "COMMUNITY_REPORT_TABLE = \"community_reports\"\n",
    "ENTITY_TABLE = \"entities\"\n",
    "COMMUNITY_TABLE = \"communities\"\n",
    "\n",
    "COMMUNITY_LEVEL = 2\n",
    "entity_df = pd.read_parquet(r'C:\\Users\\v-chandanap\\Desktop\\GraphRAGAPI\\output\\entities.parquet')\n",
    "community_df = pd.read_parquet(r'C:\\Users\\v-chandanap\\Desktop\\GraphRAGAPI\\output\\communities.parquet')\n",
    "report_df = pd.read_parquet(r'C:\\Users\\v-chandanap\\Desktop\\GraphRAGAPI\\output\\community_reports.parquet')\n",
    "communities = read_indexer_communities(community_df, report_df)\n",
    "reports = read_indexer_reports(report_df, community_df, COMMUNITY_LEVEL)\n",
    "entities = read_indexer_entities(entity_df, community_df, COMMUNITY_LEVEL)\n",
    "print(f\"Total report count: {len(report_df)}\")\n",
    "print(\n",
    "    f\"Report count after filtering by community level {COMMUNITY_LEVEL}: {len(reports)}\"\n",
    ")\n",
    "\n",
    "report_df.head()"
   ]
  },
  {
   "cell_type": "code",
   "execution_count": null,
   "id": "67e2f39b",
   "metadata": {},
   "outputs": [],
   "source": [
    "context_builder = GlobalCommunityContext(\n",
    "    community_reports=reports,\n",
    "    communities=communities,\n",
    "    entities=entities,  \n",
    "    token_encoder=token_encoder,\n",
    ")"
   ]
  },
  {
   "cell_type": "code",
   "execution_count": null,
   "id": "b316c5a3",
   "metadata": {},
   "outputs": [],
   "source": [
    "context_builder_params = {\n",
    "    \"use_community_summary\": False,  # False means using full community reports. True means using community short summaries.\n",
    "    \"shuffle_data\": True,\n",
    "    \"include_community_rank\": True,\n",
    "    \"min_community_rank\": 0,\n",
    "    \"community_rank_name\": \"rank\",\n",
    "    \"include_community_weight\": True,\n",
    "    \"community_weight_name\": \"occurrence weight\",\n",
    "    \"normalize_community_weight\": True,\n",
    "    \"max_tokens\": 12_000,  # change this based on the token limit you have on your model (if you are using a model with 8k limit, a good setting could be 5000)\n",
    "    \"context_name\": \"Reports\",\n",
    "}\n",
    "\n",
    "map_llm_params = {\n",
    "    \"max_tokens\": 1000,\n",
    "    \"temperature\": 0.0,\n",
    "    \"response_format\": {\"type\": \"json_object\"},\n",
    "}\n",
    "\n",
    "reduce_llm_params = {\n",
    "    \"max_tokens\": 2000,  # change this based on the token limit you have on your model (if you are using a model with 8k limit, a good setting could be 1000-1500)\n",
    "    \"temperature\": 0.0,\n",
    "}"
   ]
  },
  {
   "cell_type": "code",
   "execution_count": null,
   "id": "d797366f",
   "metadata": {},
   "outputs": [],
   "source": [
    "search_engine = GlobalSearch(\n",
    "    model=model,\n",
    "    context_builder=context_builder,\n",
    "    token_encoder=token_encoder,\n",
    "    max_data_tokens=12_000,  # change this based on the token limit you have on your model (if you are using a model with 8k limit, a good setting could be 5000)\n",
    "    map_llm_params=map_llm_params,\n",
    "    reduce_llm_params=reduce_llm_params,\n",
    "    allow_general_knowledge=False,  # set this to True will add instruction to encourage the LLM to incorporate general knowledge in the response, which may increase hallucinations, but could be useful in some use cases.\n",
    "    json_mode=True,  # set this to False if your LLM model does not support JSON mode.\n",
    "    context_builder_params=context_builder_params,\n",
    "    concurrent_coroutines=32,\n",
    "    response_type=\"multiple paragraphs\",  # free form text describing the response type and format, can be anything, e.g. prioritized list, single paragraph, multiple paragraphs, multiple-page report\n",
    ")"
   ]
  },
  {
   "cell_type": "code",
   "execution_count": null,
   "id": "df60da35",
   "metadata": {},
   "outputs": [
    {
     "name": "stdout",
     "output_type": "stream",
     "text": [
      "2025-07-29 11:21:47.0770 - ERROR - graphrag.query.structured_search.global_search.search - Exception in _map_response_single_batch\n",
      "Traceback (most recent call last):\n",
      "  File \"c:\\Users\\v-chandanap\\AppData\\Local\\anaconda3\\Lib\\site-packages\\graphrag\\query\\structured_search\\global_search\\search.py\", line 227, in _map_response_single_batch\n",
      "    model_response = await self.model.achat(\n",
      "                     ^^^^^^^^^^^^^^^^^^^^^^^\n",
      "  File \"c:\\Users\\v-chandanap\\AppData\\Local\\anaconda3\\Lib\\site-packages\\graphrag\\language_model\\providers\\fnllm\\models.py\", line 286, in achat\n",
      "    response = await self.model(prompt, history=history, **kwargs)\n",
      "               ^^^^^^^^^^^^^^^^^^^^^^^^^^^^^^^^^^^^^^^^^^^^^^^^^^^\n",
      "  File \"c:\\Users\\v-chandanap\\AppData\\Local\\anaconda3\\Lib\\site-packages\\fnllm\\openai\\llm\\openai_chat_llm.py\", line 94, in __call__\n",
      "    return await self._text_chat_llm(prompt, **kwargs)\n",
      "           ^^^^^^^^^^^^^^^^^^^^^^^^^^^^^^^^^^^^^^^^^^^\n",
      "  File \"c:\\Users\\v-chandanap\\AppData\\Local\\anaconda3\\Lib\\site-packages\\fnllm\\openai\\services\\openai_tools_parsing.py\", line 130, in __call__\n",
      "    return await self._delegate(prompt, **kwargs)\n",
      "           ^^^^^^^^^^^^^^^^^^^^^^^^^^^^^^^^^^^^^^\n",
      "  File \"c:\\Users\\v-chandanap\\AppData\\Local\\anaconda3\\Lib\\site-packages\\fnllm\\base\\base_llm.py\", line 144, in __call__\n",
      "    return await self._decorated_target(prompt, **kwargs)\n",
      "           ^^^^^^^^^^^^^^^^^^^^^^^^^^^^^^^^^^^^^^^^^^^^^^\n",
      "  File \"c:\\Users\\v-chandanap\\AppData\\Local\\anaconda3\\Lib\\site-packages\\fnllm\\base\\services\\json.py\", line 77, in invoke\n",
      "    return await this.invoke_json(delegate, prompt, kwargs)\n",
      "           ^^^^^^^^^^^^^^^^^^^^^^^^^^^^^^^^^^^^^^^^^^^^^^^^\n",
      "  File \"c:\\Users\\v-chandanap\\AppData\\Local\\anaconda3\\Lib\\site-packages\\fnllm\\base\\services\\json.py\", line 96, in invoke_json\n",
      "    return await self.try_receive_json(delegate, prompt, kwargs)\n",
      "           ^^^^^^^^^^^^^^^^^^^^^^^^^^^^^^^^^^^^^^^^^^^^^^^^^^^^^\n",
      "  File \"c:\\Users\\v-chandanap\\AppData\\Local\\anaconda3\\Lib\\site-packages\\fnllm\\base\\services\\json.py\", line 162, in try_receive_json\n",
      "    result = await delegate(prompt, **kwargs)\n",
      "             ^^^^^^^^^^^^^^^^^^^^^^^^^^^^^^^^\n",
      "  File \"c:\\Users\\v-chandanap\\AppData\\Local\\anaconda3\\Lib\\site-packages\\fnllm\\base\\services\\rate_limiter.py\", line 75, in invoke\n",
      "    result = await delegate(prompt, **args)\n",
      "             ^^^^^^^^^^^^^^^^^^^^^^^^^^^^^^\n",
      "  File \"c:\\Users\\v-chandanap\\AppData\\Local\\anaconda3\\Lib\\site-packages\\fnllm\\base\\base_llm.py\", line 126, in _decorator_target\n",
      "    output = await self._execute_llm(prompt, kwargs)\n",
      "             ^^^^^^^^^^^^^^^^^^^^^^^^^^^^^^^^^^^^^^^\n",
      "  File \"c:\\Users\\v-chandanap\\AppData\\Local\\anaconda3\\Lib\\site-packages\\fnllm\\openai\\llm\\openai_text_chat_llm.py\", line 166, in _execute_llm\n",
      "    raw_response = await self._client.chat.completions.with_raw_response.create(\n",
      "                   ^^^^^^^^^^^^^^^^^^^^^^^^^^^^^^^^^^^^^^^^^^^^^^^^^^^^^^^^^^^^^\n",
      "  File \"c:\\Users\\v-chandanap\\AppData\\Local\\anaconda3\\Lib\\site-packages\\openai\\_legacy_response.py\", line 381, in wrapped\n",
      "    return cast(LegacyAPIResponse[R], await func(*args, **kwargs))\n",
      "                                      ^^^^^^^^^^^^^^^^^^^^^^^^^^^\n",
      "  File \"c:\\Users\\v-chandanap\\AppData\\Local\\anaconda3\\Lib\\site-packages\\openai\\resources\\chat\\completions\\completions.py\", line 2454, in create\n",
      "    return await self._post(\n",
      "           ^^^^^^^^^^^^^^^^^\n",
      "  File \"c:\\Users\\v-chandanap\\AppData\\Local\\anaconda3\\Lib\\site-packages\\openai\\_base_client.py\", line 1784, in post\n",
      "    return await self.request(cast_to, opts, stream=stream, stream_cls=stream_cls)\n",
      "           ^^^^^^^^^^^^^^^^^^^^^^^^^^^^^^^^^^^^^^^^^^^^^^^^^^^^^^^^^^^^^^^^^^^^^^^\n",
      "  File \"c:\\Users\\v-chandanap\\AppData\\Local\\anaconda3\\Lib\\site-packages\\openai\\_base_client.py\", line 1584, in request\n",
      "    raise self._make_status_error_from_response(err.response) from None\n",
      "openai.NotFoundError: Error code: 404 - {'error': {'code': '404', 'message': 'Resource not found'}}\n",
      "2025-07-29 11:21:47.0780 - WARNING - graphrag.query.structured_search.global_search.search - Warning: All map responses have score 0 (i.e., no relevant information found from the dataset), returning a canned 'I do not know' answer. You can try enabling `allow_general_knowledge` to encourage the LLM to incorporate relevant general knowledge, at the risk of increasing hallucinations.\n"
     ]
    }
   ],
   "source": [
    "result = await search_engine.search(\"which are the major policies of Affine?\")"
   ]
  },
  {
   "cell_type": "code",
   "execution_count": null,
   "id": "c10cc2b5",
   "metadata": {},
   "outputs": [
    {
     "name": "stdout",
     "output_type": "stream",
     "text": [
      "Oncolytic bacteria are bacterial strains that have been engineered with therapeutic payloads to enhance antitumor activity. They have been used in preclinical pharmacologic and toxicologic studies to support their use in clinical studies. Properly attenuated live bacteria have satisfactory safety profiles in both healthy and tumor-bearing animals. These bacteria, when administered intravenously, are cleared from the circulation and clearance organs, such as the liver and spleen, within hours to several days. An example of a current cancer therapy based on an attenuated microbe is the treatment of superficial bladder cancer with the Bacillus Calmette-Guerin (BCG) vaccine, which functions by nonspecific stimulation of immune responses against the tumor.\n"
     ]
    }
   ],
   "source": [
    "# escaping Hallucination\n",
    "from openai import AzureOpenAI\n",
    "\n",
    "client = AzureOpenAI(\n",
    "    api_key=\"BXIHudNGwrwruRBOaFy4iK56cRsPaV4Q4Xr8YBcMRYgzsCTAnqD7JQQJ99ALACYeBjFXJ3w3AAABACOGKVGW\",\n",
    "    api_version=\"2024-02-15-preview\",\n",
    "    azure_endpoint=\"https://gpt-4o-intern.openai.azure.com/\",\n",
    ")\n",
    "\n",
    "query = \"What is oncolytic bacteria?\"\n",
    "context = result.context_text\n",
    "\n",
    "\n",
    "strict_prompt = f\"\"\"\n",
    "You are a domain-specific assistant with access to a limited context. Your task is to search within the provided context and answer the user's question based solely on that information.\n",
    "\n",
    " Strict Instructions:\n",
    "- Do NOT use general knowledge.\n",
    "- Do NOT guess or fabricate facts.\n",
    "- Answer only if the context clearly supports or implies the answer.\n",
    "- You may infer answers from semantically related text, paraphrased information, or indirect evidence **within the context**.\n",
    "\n",
    "\n",
    "Your goal is to **search and reason through** the context like a researcher would.\n",
    "\n",
    "---\n",
    "\n",
    "📘 Context:\n",
    "\\\"\\\"\\\"{result.context_text}\\\"\\\"\\\"\n",
    "\n",
    "🔍 User Question:\n",
    "{query}\n",
    "\n",
    "🧠 Answer (based strictly on the context above):\n",
    "\"\"\"\n",
    "\n",
    "\n",
    "\n",
    "# Azure OpenAI LLM call\n",
    "response = client.chat.completions.create(\n",
    "    model=\"gpt-4o-08-06\",  # Or your deployed deployment name\n",
    "    messages=[\n",
    "        {\"role\": \"user\", \"content\": strict_prompt}\n",
    "    ],\n",
    "    temperature=0.0,\n",
    "    max_tokens=500,\n",
    ")\n",
    "\n",
    "\n",
    "print(response.choices[0].message.content)"
   ]
  }
 ],
 "metadata": {
  "kernelspec": {
   "display_name": "venv (3.12.10)",
   "language": "python",
   "name": "python3"
  },
  "language_info": {
   "codemirror_mode": {
    "name": "ipython",
    "version": 3
   },
   "file_extension": ".py",
   "mimetype": "text/x-python",
   "name": "python",
   "nbconvert_exporter": "python",
   "pygments_lexer": "ipython3",
   "version": "3.12.10"
  }
 },
 "nbformat": 4,
 "nbformat_minor": 5
}
